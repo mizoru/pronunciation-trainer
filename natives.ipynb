{
 "cells": [
  {
   "cell_type": "code",
   "execution_count": 7,
   "id": "ee59dab6-a577-4b4d-864e-97be36d40711",
   "metadata": {},
   "outputs": [],
   "source": [
    "import pandas as pd\n",
    "import glob\n",
    "import os\n",
    "\n",
    "from collections import defaultdict"
   ]
  },
  {
   "cell_type": "code",
   "execution_count": 8,
   "id": "90719552-36a9-4b29-9198-6f742f21366e",
   "metadata": {},
   "outputs": [],
   "source": [
    "PATH_DIR = '.\\\\natives'"
   ]
  },
  {
   "cell_type": "code",
   "execution_count": 9,
   "id": "8ad0d893-d854-47ca-9d42-cbea58c48070",
   "metadata": {},
   "outputs": [],
   "source": [
    "natives = defaultdict(list)"
   ]
  },
  {
   "cell_type": "code",
   "execution_count": 10,
   "id": "423708c2-242c-4f1e-90a8-1b5fd9967d84",
   "metadata": {},
   "outputs": [],
   "source": [
    "filepaths = glob.glob(os.path.join(PATH_DIR, '*', '*'))"
   ]
  },
  {
   "cell_type": "code",
   "execution_count": 11,
   "id": "594dd74c-572e-40d7-ba33-6f95d1849eab",
   "metadata": {},
   "outputs": [],
   "source": [
    "for filepath in filepaths:\n",
    "    isp_name = filepath.split('\\\\')[-2]\n",
    "    replica = filepath.split('\\\\')[-1].split('.')[0]\n",
    "    \n",
    "    natives['artist'].append(isp_name)\n",
    "    natives['replica'].append(replica)\n",
    "    natives['path'].append(filepath)"
   ]
  },
  {
   "cell_type": "code",
   "execution_count": 14,
   "id": "76871f2e-5400-423f-9c59-9f41daec5ed2",
   "metadata": {},
   "outputs": [
    {
     "ename": "SyntaxError",
     "evalue": "invalid syntax (Temp/ipykernel_6696/3958444091.py, line 2)",
     "output_type": "error",
     "traceback": [
      "\u001b[1;36m  File \u001b[1;32m\"C:\\Users\\pkath\\AppData\\Local\\Temp/ipykernel_6696/3958444091.py\"\u001b[1;36m, line \u001b[1;32m2\u001b[0m\n\u001b[1;33m    df = df.[df.replica.str.split().str.len() == 1]\u001b[0m\n\u001b[1;37m            ^\u001b[0m\n\u001b[1;31mSyntaxError\u001b[0m\u001b[1;31m:\u001b[0m invalid syntax\n"
     ]
    }
   ],
   "source": [
    "df = pd.DataFrame(data)\n",
    "df[df.replica.str.split().str.len() == 1]\n",
    "df"
   ]
  },
  {
   "cell_type": "code",
   "execution_count": 13,
   "id": "5b4b12ef-b679-4429-bc23-712c492d19aa",
   "metadata": {},
   "outputs": [],
   "source": [
    "df.to_csv('natives.csv', sep = '.')"
   ]
  },
  {
   "cell_type": "code",
   "execution_count": null,
   "id": "2879e4d3",
   "metadata": {},
   "outputs": [],
   "source": []
  },
  {
   "cell_type": "code",
   "execution_count": null,
   "id": "23323d1a",
   "metadata": {},
   "outputs": [],
   "source": []
  }
 ],
 "metadata": {
  "kernelspec": {
   "display_name": "Python 3 (ipykernel)",
   "language": "python",
   "name": "python3"
  },
  "language_info": {
   "codemirror_mode": {
    "name": "ipython",
    "version": 3
   },
   "file_extension": ".py",
   "mimetype": "text/x-python",
   "name": "python",
   "nbconvert_exporter": "python",
   "pygments_lexer": "ipython3",
   "version": "3.9.7"
  }
 },
 "nbformat": 4,
 "nbformat_minor": 5
}
