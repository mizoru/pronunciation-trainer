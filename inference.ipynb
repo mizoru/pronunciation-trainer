{
 "cells": [
  {
   "cell_type": "code",
   "execution_count": null,
   "id": "478cd491-7bc0-4987-8da1-df6ff58eda22",
   "metadata": {},
   "outputs": [],
   "source": [
    "import torch\n",
    "import pandas as pd\n",
    "from pathlib import Path\n",
    "from thunder.data.dataset import AudioFileLoader"
   ]
  },
  {
   "cell_type": "code",
   "execution_count": null,
   "id": "c62013cd-2ef3-4111-b3fa-1845b8ad5d35",
   "metadata": {},
   "outputs": [],
   "source": [
    "natives = pd.read_csv('pronunciation-trainer/natives.csv')"
   ]
  },
  {
   "cell_type": "code",
   "execution_count": null,
   "id": "c900f546-e3d4-496e-b8e0-fbf9550f7261",
   "metadata": {},
   "outputs": [],
   "source": [
    "subset = [\"thin\", \"thing\", \"think\", \"fit\", \"feet\", \"bald\", \"bold\",\n",
    "          \"food\", \"foot\", \"death\", \"deaf\", \"worm\", \"warm\"]\n",
    "natives = natives[natives.replica.isin(subset)]"
   ]
  },
  {
   "cell_type": "code",
   "execution_count": null,
   "id": "8eaa8d07-1b5d-449a-8341-c8ae4c119ccd",
   "metadata": {},
   "outputs": [],
   "source": [
    "natives"
   ]
  },
  {
   "cell_type": "code",
   "execution_count": null,
   "id": "e7c05841-8971-4251-95f7-3e1b98c236e9",
   "metadata": {},
   "outputs": [],
   "source": [
    "loader = AudioFileLoader(sample_rate=16000)\n",
    "model = torch.jit.load(\"QuartzNet_thunderspeech_1.pt\")"
   ]
  },
  {
   "cell_type": "code",
   "execution_count": null,
   "id": "d58289ba-bc22-42ab-8423-552362bb3219",
   "metadata": {},
   "outputs": [],
   "source": [
    "predicts = []\n",
    "for i in range(len(natives)):\n",
    "  path = str(Path('Q22-eng-English') / '/'.join(natives.path.iloc[i].split('/')[2:]))\n",
    "  print(path)\n",
    "  audio = loader(path)\n",
    "  predicts.append(model.predict(audio))\n",
    "  print(predicts[-1])"
   ]
  }
 ],
 "metadata": {
  "kernelspec": {
   "display_name": "default:Python",
   "language": "python",
   "name": "conda-env-default-py"
  },
  "language_info": {
   "codemirror_mode": {
    "name": "ipython",
    "version": 3
   },
   "file_extension": ".py",
   "mimetype": "text/x-python",
   "name": "python",
   "nbconvert_exporter": "python",
   "pygments_lexer": "ipython3",
   "version": "3.9.7"
  }
 },
 "nbformat": 4,
 "nbformat_minor": 5
}
