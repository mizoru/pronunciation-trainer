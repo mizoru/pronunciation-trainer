{
 "cells": [
  {
   "cell_type": "code",
   "execution_count": 1,
   "id": "10af8b28",
   "metadata": {
    "scrolled": true
   },
   "outputs": [
    {
     "name": "stdout",
     "output_type": "stream",
     "text": [
      "Текущая деректория: C:\\Users\\artem\\Documents\n"
     ]
    }
   ],
   "source": [
    "import zipfile\n",
    "import pandas as pd\n",
    "import os\n",
    "\n",
    "# вывести текущую директорию\n",
    "print(\"Текущая деректория:\", os.getcwd())\n",
    "z = zipfile.ZipFile('C:/Users/artem/Downloads/archive.zip')"
   ]
  },
  {
   "cell_type": "code",
   "execution_count": 2,
   "id": "72007598",
   "metadata": {},
   "outputs": [],
   "source": [
    "vector = []\n",
    "i = 0\n",
    "for dirpath, dirnames, filenames in os.walk(\".\"):\n",
    "    for filename in filenames:\n",
    "        if filename.endswith('.PHN'):\n",
    "            sentence = []\n",
    "            filename = str(filename)\n",
    "            vector.append([])\n",
    "            sound_file = str(os.path.join(dirpath, filename))\n",
    "            vector[i].append(sound_file.replace(\".PHN\", \".WAV.wav\"))\n",
    "            f = open(os.path.join(dirpath, filename), \"r\")\n",
    "            while True:\n",
    "                # считываем строку\n",
    "                line = f.readline()\n",
    "                # прерываем цикл, если строка пустая\n",
    "                if not line:\n",
    "                    break\n",
    "                # выводим строку\n",
    "                s = line.strip()\n",
    "                spl = s.split()[2]\n",
    "                sentence.append(spl)\n",
    "            v = ''\n",
    "            for j in range(len(sentence)):\n",
    "                v = v + sentence[j] + '.'\n",
    "            vector[i].append(v)\n",
    "            # закрываем файл\n",
    "            f.close\n",
    "            i+=1\n",
    "data = pd.DataFrame(vector, columns = ['Path', 'Transcription'])"
   ]
  },
  {
   "cell_type": "code",
   "execution_count": 3,
   "id": "a1f36042",
   "metadata": {},
   "outputs": [],
   "source": [
    "data.to_csv('dataDS.csv')"
   ]
  }
 ],
 "metadata": {
  "kernelspec": {
   "display_name": "Python 3 (ipykernel)",
   "language": "python",
   "name": "python3"
  },
  "language_info": {
   "codemirror_mode": {
    "name": "ipython",
    "version": 3
   },
   "file_extension": ".py",
   "mimetype": "text/x-python",
   "name": "python",
   "nbconvert_exporter": "python",
   "pygments_lexer": "ipython3",
   "version": "3.9.7"
  }
 },
 "nbformat": 4,
 "nbformat_minor": 5
}
