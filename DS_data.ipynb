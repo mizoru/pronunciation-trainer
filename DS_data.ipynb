{
 "cells": [
  {
   "cell_type": "code",
   "execution_count": 3,
   "id": "10af8b28",
   "metadata": {
    "scrolled": true
   },
   "outputs": [
    {
     "name": "stdout",
     "output_type": "stream",
     "text": [
      "Текущая деректория: C:\\Users\\artem\\Documents\n"
     ]
    }
   ],
   "source": [
    "import zipfile\n",
    "import pandas as pd\n",
    "import os\n",
    "\n",
    "# вывести текущую директорию\n",
    "print(\"Текущая деректория:\", os.getcwd())\n",
    "z = zipfile.ZipFile('C:/Users/artem/Downloads/archive.zip')"
   ]
  },
  {
   "cell_type": "code",
   "execution_count": 10,
   "id": "72007598",
   "metadata": {},
   "outputs": [
    {
     "data": {
      "text/html": [
       "<div>\n",
       "<style scoped>\n",
       "    .dataframe tbody tr th:only-of-type {\n",
       "        vertical-align: middle;\n",
       "    }\n",
       "\n",
       "    .dataframe tbody tr th {\n",
       "        vertical-align: top;\n",
       "    }\n",
       "\n",
       "    .dataframe thead th {\n",
       "        text-align: right;\n",
       "    }\n",
       "</style>\n",
       "<table border=\"1\" class=\"dataframe\">\n",
       "  <thead>\n",
       "    <tr style=\"text-align: right;\">\n",
       "      <th></th>\n",
       "      <th>Path</th>\n",
       "      <th>Transcription</th>\n",
       "    </tr>\n",
       "  </thead>\n",
       "  <tbody>\n",
       "    <tr>\n",
       "      <th>0</th>\n",
       "      <td>.\\data\\TEST\\DR1\\FAKS0\\SA1.PHN</td>\n",
       "      <td>h#shiyhvaedcldyerdcldaarkclksuwdxihnggclgriysi...</td>\n",
       "    </tr>\n",
       "    <tr>\n",
       "      <th>1</th>\n",
       "      <td>.\\data\\TEST\\DR1\\FAKS0\\SA2.PHN</td>\n",
       "      <td>h#downaesepimiytcltixkclkehriyixnoyliyraegclgl...</td>\n",
       "    </tr>\n",
       "    <tr>\n",
       "      <th>2</th>\n",
       "      <td>.\\data\\TEST\\DR1\\FAKS0\\SI1573.PHN</td>\n",
       "      <td>h#hhihzkclkaepcltixnwaxsthihnaenhvaegclgerdcld...</td>\n",
       "    </tr>\n",
       "    <tr>\n",
       "      <th>3</th>\n",
       "      <td>.\\data\\TEST\\DR1\\FAKS0\\SI2203.PHN</td>\n",
       "      <td>h#dhixriyzaxnzfaxrdhihsdcldayvsiymdcldfuwlixsh...</td>\n",
       "    </tr>\n",
       "    <tr>\n",
       "      <th>4</th>\n",
       "      <td>.\\data\\TEST\\DR1\\FAKS0\\SI943.PHN</td>\n",
       "      <td>h#paxrdcldahkclkshixnmeyfaolfaarbclbaxlowaxkcl...</td>\n",
       "    </tr>\n",
       "    <tr>\n",
       "      <th>...</th>\n",
       "      <td>...</td>\n",
       "      <td>...</td>\n",
       "    </tr>\n",
       "    <tr>\n",
       "      <th>6295</th>\n",
       "      <td>.\\data\\TRAIN\\DR8\\MTCS0\\SX172.PHN</td>\n",
       "      <td>h#dhaxtcltrayahmfaxnqwoyerixgclgzihbclbixtclti...</td>\n",
       "    </tr>\n",
       "    <tr>\n",
       "      <th>6296</th>\n",
       "      <td>.\\data\\TRAIN\\DR8\\MTCS0\\SX262.PHN</td>\n",
       "      <td>h#kehndhiyeydcljhihnsiyowvaxrthroweyliyixnfaor...</td>\n",
       "    </tr>\n",
       "    <tr>\n",
       "      <th>6297</th>\n",
       "      <td>.\\data\\TRAIN\\DR8\\MTCS0\\SX352.PHN</td>\n",
       "      <td>h#axkclkaordxihndxaxmayentclterpclpaxrtclteysh...</td>\n",
       "    </tr>\n",
       "    <tr>\n",
       "      <th>6298</th>\n",
       "      <td>.\\data\\TRAIN\\DR8\\MTCS0\\SX442.PHN</td>\n",
       "      <td>h#saxbclberbclaxrnhvawsepiwayvzqaoftcltixnsahf...</td>\n",
       "    </tr>\n",
       "    <tr>\n",
       "      <th>6299</th>\n",
       "      <td>.\\data\\TRAIN\\DR8\\MTCS0\\SX82.PHN</td>\n",
       "      <td>h#guhdcldservihshihdclbiyrixwaordxihdclbaybclb...</td>\n",
       "    </tr>\n",
       "  </tbody>\n",
       "</table>\n",
       "<p>6300 rows × 2 columns</p>\n",
       "</div>"
      ],
      "text/plain": [
       "                                  Path  \\\n",
       "0        .\\data\\TEST\\DR1\\FAKS0\\SA1.PHN   \n",
       "1        .\\data\\TEST\\DR1\\FAKS0\\SA2.PHN   \n",
       "2     .\\data\\TEST\\DR1\\FAKS0\\SI1573.PHN   \n",
       "3     .\\data\\TEST\\DR1\\FAKS0\\SI2203.PHN   \n",
       "4      .\\data\\TEST\\DR1\\FAKS0\\SI943.PHN   \n",
       "...                                ...   \n",
       "6295  .\\data\\TRAIN\\DR8\\MTCS0\\SX172.PHN   \n",
       "6296  .\\data\\TRAIN\\DR8\\MTCS0\\SX262.PHN   \n",
       "6297  .\\data\\TRAIN\\DR8\\MTCS0\\SX352.PHN   \n",
       "6298  .\\data\\TRAIN\\DR8\\MTCS0\\SX442.PHN   \n",
       "6299   .\\data\\TRAIN\\DR8\\MTCS0\\SX82.PHN   \n",
       "\n",
       "                                          Transcription  \n",
       "0     h#shiyhvaedcldyerdcldaarkclksuwdxihnggclgriysi...  \n",
       "1     h#downaesepimiytcltixkclkehriyixnoyliyraegclgl...  \n",
       "2     h#hhihzkclkaepcltixnwaxsthihnaenhvaegclgerdcld...  \n",
       "3     h#dhixriyzaxnzfaxrdhihsdcldayvsiymdcldfuwlixsh...  \n",
       "4     h#paxrdcldahkclkshixnmeyfaolfaarbclbaxlowaxkcl...  \n",
       "...                                                 ...  \n",
       "6295  h#dhaxtcltrayahmfaxnqwoyerixgclgzihbclbixtclti...  \n",
       "6296  h#kehndhiyeydcljhihnsiyowvaxrthroweyliyixnfaor...  \n",
       "6297  h#axkclkaordxihndxaxmayentclterpclpaxrtclteysh...  \n",
       "6298  h#saxbclberbclaxrnhvawsepiwayvzqaoftcltixnsahf...  \n",
       "6299  h#guhdcldservihshihdclbiyrixwaordxihdclbaybclb...  \n",
       "\n",
       "[6300 rows x 2 columns]"
      ]
     },
     "execution_count": 10,
     "metadata": {},
     "output_type": "execute_result"
    }
   ],
   "source": [
    "vector = []\n",
    "i = 0\n",
    "for dirpath, dirnames, filenames in os.walk(\".\"):\n",
    "    for filename in filenames:\n",
    "        if filename.endswith('.PHN'):\n",
    "            sentence = []\n",
    "            filename = str(filename)\n",
    "            vector.append([])\n",
    "            vector[i].append(str(os.path.join(dirpath, filename)))\n",
    "            f = open(os.path.join(dirpath, filename), \"r\")\n",
    "            while True:\n",
    "                # считываем строку\n",
    "                line = f.readline()\n",
    "                # прерываем цикл, если строка пустая\n",
    "                if not line:\n",
    "                    break\n",
    "                # выводим строку\n",
    "                s = line.strip()\n",
    "                spl = s.split()[2]\n",
    "                sentence.append(spl)\n",
    "            v = ''\n",
    "            for j in range(len(sentence)):\n",
    "                v = v + sentence[j]\n",
    "            vector[i].append(v)\n",
    "            # закрываем файл\n",
    "            f.close\n",
    "            i+=1\n",
    "data = pd.DataFrame(vector, columns = ['Path', 'Transcription'])"
   ]
  },
  {
   "cell_type": "code",
   "execution_count": 11,
   "id": "a1f36042",
   "metadata": {},
   "outputs": [],
   "source": [
    "data.to_csv('dataDS.csv')"
   ]
  }
 ],
 "metadata": {
  "kernelspec": {
   "display_name": "Python 3 (ipykernel)",
   "language": "python",
   "name": "python3"
  },
  "language_info": {
   "codemirror_mode": {
    "name": "ipython",
    "version": 3
   },
   "file_extension": ".py",
   "mimetype": "text/x-python",
   "name": "python",
   "nbconvert_exporter": "python",
   "pygments_lexer": "ipython3",
   "version": "3.9.7"
  }
 },
 "nbformat": 4,
 "nbformat_minor": 5
}
