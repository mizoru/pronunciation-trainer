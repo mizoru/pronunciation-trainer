{
 "cells": [
  {
   "cell_type": "code",
   "execution_count": 1,
   "id": "098c0166-a598-4bac-9ee6-01acfbb9c67e",
   "metadata": {},
   "outputs": [
    {
     "name": "stderr",
     "output_type": "stream",
     "text": [
      "/home/studio-lab-user/.conda/envs/default/lib/python3.9/site-packages/torchaudio/backend/utils.py:46: UserWarning: \"torchaudio.USE_SOUNDFILE_LEGACY_INTERFACE\" flag is deprecated and will be removed in 0.9.0. Please remove the use of flag.\n",
      "  warnings.warn(\n"
     ]
    }
   ],
   "source": [
    "from fastai.vision.all import *\n",
    "from fastaudio.all import *\n",
    "from fastai.text.all import *"
   ]
  },
  {
   "cell_type": "code",
   "execution_count": 2,
   "id": "1db5644f-ebac-4d84-8bb0-9a494d4444b3",
   "metadata": {},
   "outputs": [],
   "source": [
    "import editdistance\n",
    "from fastai.callback.wandb import *"
   ]
  },
  {
   "cell_type": "code",
   "execution_count": 3,
   "id": "d264c8a6-fe76-4483-8c50-0491a6cd5e11",
   "metadata": {},
   "outputs": [],
   "source": [
    "path = Path('data/')"
   ]
  },
  {
   "cell_type": "code",
   "execution_count": 4,
   "id": "796cf041-6a31-4379-9334-7fd98288fc28",
   "metadata": {},
   "outputs": [],
   "source": [
    "labels = pd.read_csv('./dataDS.csv', index_col=0)"
   ]
  },
  {
   "cell_type": "code",
   "execution_count": 5,
   "id": "43dbdbad-8ded-42b9-8cdd-55426ff797e9",
   "metadata": {},
   "outputs": [
    {
     "data": {
      "text/html": [
       "<div>\n",
       "<style scoped>\n",
       "    .dataframe tbody tr th:only-of-type {\n",
       "        vertical-align: middle;\n",
       "    }\n",
       "\n",
       "    .dataframe tbody tr th {\n",
       "        vertical-align: top;\n",
       "    }\n",
       "\n",
       "    .dataframe thead th {\n",
       "        text-align: right;\n",
       "    }\n",
       "</style>\n",
       "<table border=\"1\" class=\"dataframe\">\n",
       "  <thead>\n",
       "    <tr style=\"text-align: right;\">\n",
       "      <th></th>\n",
       "      <th>Path</th>\n",
       "      <th>Transcription</th>\n",
       "    </tr>\n",
       "  </thead>\n",
       "  <tbody>\n",
       "    <tr>\n",
       "      <th>0</th>\n",
       "      <td>.\\data\\TEST\\DR1\\FAKS0\\SA1.WAV.wav</td>\n",
       "      <td>h#.sh.iy.hv.ae.dcl.d.y.er.dcl.d.aa.r.kcl.k.s.uw.dx.ih.ng.gcl.g.r.iy.s.iy.w.aa.sh.epi.w.aa.dx.er.q.ao.l.y.iy.axr.h#.</td>\n",
       "    </tr>\n",
       "    <tr>\n",
       "      <th>1</th>\n",
       "      <td>.\\data\\TEST\\DR1\\FAKS0\\SA2.WAV.wav</td>\n",
       "      <td>h#.d.ow.n.ae.s.epi.m.iy.tcl.t.ix.kcl.k.eh.r.iy.ix.n.oy.l.iy.r.ae.gcl.g.l.ay.kcl.k.dh.ae.tcl.h#.</td>\n",
       "    </tr>\n",
       "    <tr>\n",
       "      <th>2</th>\n",
       "      <td>.\\data\\TEST\\DR1\\FAKS0\\SI1573.WAV.wav</td>\n",
       "      <td>h#.hh.ih.z.kcl.k.ae.pcl.t.ix.n.w.ax.s.th.ih.n.ae.n.hv.ae.gcl.g.er.dcl.d.ix.n.ih.z.bcl.b.y.ux.dx.ux.f.el.bcl.b.uw.tcl.t.s.epi.w.axr.w.ao.r.n.ix.n.epi.sh.ae.bcl.b.iy.h#.</td>\n",
       "    </tr>\n",
       "    <tr>\n",
       "      <th>3</th>\n",
       "      <td>.\\data\\TEST\\DR1\\FAKS0\\SI2203.WAV.wav</td>\n",
       "      <td>h#.dh.ix.r.iy.z.ax.n.z.f.axr.dh.ih.s.dcl.d.ay.v.s.iy.m.dcl.d.f.uw.l.ix.sh.epi.n.aw.h#.</td>\n",
       "    </tr>\n",
       "    <tr>\n",
       "      <th>4</th>\n",
       "      <td>.\\data\\TEST\\DR1\\FAKS0\\SI943.WAV.wav</td>\n",
       "      <td>h#.p.axr.dcl.d.ah.kcl.k.sh.ix.n.m.ey.f.ao.l.f.aa.r.bcl.b.ax.l.ow.ax.kcl.k.s.pcl.p.ix.kcl.t.ey.sh.en.tcl.s.h#.</td>\n",
       "    </tr>\n",
       "    <tr>\n",
       "      <th>...</th>\n",
       "      <td>...</td>\n",
       "      <td>...</td>\n",
       "    </tr>\n",
       "    <tr>\n",
       "      <th>6295</th>\n",
       "      <td>.\\data\\TRAIN\\DR8\\MTCS0\\SX172.WAV.wav</td>\n",
       "      <td>h#.dh.ax.tcl.t.r.ay.ah.m.f.ax.n.q.w.oy.er.ix.gcl.g.z.ih.bcl.b.ix.tcl.t.ih.dcl.n.ay.iy.v.hv.eh.r.ow.ih.z.ax.m.h#.</td>\n",
       "    </tr>\n",
       "    <tr>\n",
       "      <th>6296</th>\n",
       "      <td>.\\data\\TRAIN\\DR8\\MTCS0\\SX262.WAV.wav</td>\n",
       "      <td>h#.k.eh.n.dh.iy.ey.dcl.jh.ih.n.s.iy.ow.v.axr.th.r.ow.ey.l.iy.ix.n.f.ao.r.s.ax.s.h#.</td>\n",
       "    </tr>\n",
       "    <tr>\n",
       "      <th>6297</th>\n",
       "      <td>.\\data\\TRAIN\\DR8\\MTCS0\\SX352.WAV.wav</td>\n",
       "      <td>h#.ax.kcl.k.ao.r.dx.ih.n.dx.ax.m.ay.en.tcl.t.er.pcl.p.axr.tcl.t.ey.sh.en.ax.dh.ax-h.pcl.p.r.aa.bcl.b.em.pau.t.ux.l.ay.n.z.epi.m.ah.s.bcl.b.iy.pcl.p.er.pcl.p.ix.n.dcl.d.ih.kcl.k.ix.l.axr.h#.</td>\n",
       "    </tr>\n",
       "    <tr>\n",
       "      <th>6298</th>\n",
       "      <td>.\\data\\TRAIN\\DR8\\MTCS0\\SX442.WAV.wav</td>\n",
       "      <td>h#.s.ax.bcl.b.er.bcl.axr.n.hv.aw.s.epi.w.ay.v.z.q.ao.f.tcl.t.ix.n.s.ah.f.axr.f.r.ax.m.dh.ix.gcl.g.ae.bcl.b.hv.ae.bcl.b.ix.tcl.t.h#.</td>\n",
       "    </tr>\n",
       "    <tr>\n",
       "      <th>6299</th>\n",
       "      <td>.\\data\\TRAIN\\DR8\\MTCS0\\SX82.WAV.wav</td>\n",
       "      <td>h#.g.uh.dcl.d.s.er.v.ih.sh.ih.dcl.b.iy.r.ix.w.ao.r.dx.ih.dcl.b.ay.bcl.b.ih.gcl.t.ih.pcl.p.s.h#.</td>\n",
       "    </tr>\n",
       "  </tbody>\n",
       "</table>\n",
       "<p>6300 rows × 2 columns</p>\n",
       "</div>"
      ],
      "text/plain": [
       "                                      Path  \\\n",
       "0        .\\data\\TEST\\DR1\\FAKS0\\SA1.WAV.wav   \n",
       "1        .\\data\\TEST\\DR1\\FAKS0\\SA2.WAV.wav   \n",
       "2     .\\data\\TEST\\DR1\\FAKS0\\SI1573.WAV.wav   \n",
       "3     .\\data\\TEST\\DR1\\FAKS0\\SI2203.WAV.wav   \n",
       "4      .\\data\\TEST\\DR1\\FAKS0\\SI943.WAV.wav   \n",
       "...                                    ...   \n",
       "6295  .\\data\\TRAIN\\DR8\\MTCS0\\SX172.WAV.wav   \n",
       "6296  .\\data\\TRAIN\\DR8\\MTCS0\\SX262.WAV.wav   \n",
       "6297  .\\data\\TRAIN\\DR8\\MTCS0\\SX352.WAV.wav   \n",
       "6298  .\\data\\TRAIN\\DR8\\MTCS0\\SX442.WAV.wav   \n",
       "6299   .\\data\\TRAIN\\DR8\\MTCS0\\SX82.WAV.wav   \n",
       "\n",
       "                                                                                                                                                                                      Transcription  \n",
       "0                                                                               h#.sh.iy.hv.ae.dcl.d.y.er.dcl.d.aa.r.kcl.k.s.uw.dx.ih.ng.gcl.g.r.iy.s.iy.w.aa.sh.epi.w.aa.dx.er.q.ao.l.y.iy.axr.h#.  \n",
       "1                                                                                                   h#.d.ow.n.ae.s.epi.m.iy.tcl.t.ix.kcl.k.eh.r.iy.ix.n.oy.l.iy.r.ae.gcl.g.l.ay.kcl.k.dh.ae.tcl.h#.  \n",
       "2                           h#.hh.ih.z.kcl.k.ae.pcl.t.ix.n.w.ax.s.th.ih.n.ae.n.hv.ae.gcl.g.er.dcl.d.ix.n.ih.z.bcl.b.y.ux.dx.ux.f.el.bcl.b.uw.tcl.t.s.epi.w.axr.w.ao.r.n.ix.n.epi.sh.ae.bcl.b.iy.h#.  \n",
       "3                                                                                                            h#.dh.ix.r.iy.z.ax.n.z.f.axr.dh.ih.s.dcl.d.ay.v.s.iy.m.dcl.d.f.uw.l.ix.sh.epi.n.aw.h#.  \n",
       "4                                                                                     h#.p.axr.dcl.d.ah.kcl.k.sh.ix.n.m.ey.f.ao.l.f.aa.r.bcl.b.ax.l.ow.ax.kcl.k.s.pcl.p.ix.kcl.t.ey.sh.en.tcl.s.h#.  \n",
       "...                                                                                                                                                                                             ...  \n",
       "6295                                                                               h#.dh.ax.tcl.t.r.ay.ah.m.f.ax.n.q.w.oy.er.ix.gcl.g.z.ih.bcl.b.ix.tcl.t.ih.dcl.n.ay.iy.v.hv.eh.r.ow.ih.z.ax.m.h#.  \n",
       "6296                                                                                                            h#.k.eh.n.dh.iy.ey.dcl.jh.ih.n.s.iy.ow.v.axr.th.r.ow.ey.l.iy.ix.n.f.ao.r.s.ax.s.h#.  \n",
       "6297  h#.ax.kcl.k.ao.r.dx.ih.n.dx.ax.m.ay.en.tcl.t.er.pcl.p.axr.tcl.t.ey.sh.en.ax.dh.ax-h.pcl.p.r.aa.bcl.b.em.pau.t.ux.l.ay.n.z.epi.m.ah.s.bcl.b.iy.pcl.p.er.pcl.p.ix.n.dcl.d.ih.kcl.k.ix.l.axr.h#.  \n",
       "6298                                                            h#.s.ax.bcl.b.er.bcl.axr.n.hv.aw.s.epi.w.ay.v.z.q.ao.f.tcl.t.ix.n.s.ah.f.axr.f.r.ax.m.dh.ix.gcl.g.ae.bcl.b.hv.ae.bcl.b.ix.tcl.t.h#.  \n",
       "6299                                                                                                h#.g.uh.dcl.d.s.er.v.ih.sh.ih.dcl.b.iy.r.ix.w.ao.r.dx.ih.dcl.b.ay.bcl.b.ih.gcl.t.ih.pcl.p.s.h#.  \n",
       "\n",
       "[6300 rows x 2 columns]"
      ]
     },
     "execution_count": 5,
     "metadata": {},
     "output_type": "execute_result"
    }
   ],
   "source": [
    "labels"
   ]
  },
  {
   "cell_type": "code",
   "execution_count": 6,
   "id": "564acf31-3ffc-48e2-baad-8fa3ef7ea366",
   "metadata": {},
   "outputs": [
    {
     "data": {
      "text/plain": [
       "Path('.\\\\data\\\\TEST\\\\DR1\\\\FAKS0\\\\SA1.WAV.wav')"
      ]
     },
     "execution_count": 6,
     "metadata": {},
     "output_type": "execute_result"
    }
   ],
   "source": [
    "Path(labels.Path[0])"
   ]
  },
  {
   "cell_type": "code",
   "execution_count": 7,
   "id": "66534a13-ca25-40ea-8095-7845a51c7001",
   "metadata": {},
   "outputs": [
    {
     "data": {
      "text/plain": [
       "'./data/TEST/DR1/FAKS0/SA1.WAV.wav'"
      ]
     },
     "execution_count": 7,
     "metadata": {},
     "output_type": "execute_result"
    }
   ],
   "source": [
    "str.replace(labels.Path[0], '\\\\', '/')"
   ]
  },
  {
   "cell_type": "code",
   "execution_count": 8,
   "id": "8181d149-f62d-4c15-a465-04084710565b",
   "metadata": {},
   "outputs": [],
   "source": [
    "def replace_slashes(s:str):\n",
    "    return s.replace('\\\\', '/')"
   ]
  },
  {
   "cell_type": "code",
   "execution_count": 9,
   "id": "c787ad6a-0673-4f92-ae9d-d10ba344280b",
   "metadata": {},
   "outputs": [
    {
     "data": {
      "text/plain": [
       "'./data/TEST/DR1/FAKS0/SA1.WAV.wav'"
      ]
     },
     "execution_count": 9,
     "metadata": {},
     "output_type": "execute_result"
    }
   ],
   "source": [
    "replace_slashes('./data/TEST/DR1/FAKS0/SA1.WAV.wav')"
   ]
  },
  {
   "cell_type": "code",
   "execution_count": 10,
   "id": "df3b7235-6545-4e59-87f2-6075701bdc82",
   "metadata": {},
   "outputs": [],
   "source": [
    "labels.Path = labels.Path.map(replace_slashes)"
   ]
  },
  {
   "cell_type": "code",
   "execution_count": 11,
   "id": "f563cf0e-a129-458c-8336-6176a65ddb9f",
   "metadata": {},
   "outputs": [
    {
     "data": {
      "text/plain": [
       "True"
      ]
     },
     "execution_count": 11,
     "metadata": {},
     "output_type": "execute_result"
    }
   ],
   "source": [
    "Path(path/labels.Path[0]).is_file()"
   ]
  },
  {
   "cell_type": "code",
   "execution_count": 12,
   "id": "11f0d672-2267-45cf-9568-da2c1e7dfbb2",
   "metadata": {},
   "outputs": [],
   "source": [
    "transcripts = L(labels.Transcription.values.tolist())"
   ]
  },
  {
   "cell_type": "code",
   "execution_count": 13,
   "id": "f289af95-8a94-4d43-a040-f7bdfdb76397",
   "metadata": {},
   "outputs": [
    {
     "data": {
      "text/plain": [
       "(#6300) ['h#.sh.iy.hv.ae.dcl.d.y.er.dcl.d.aa.r.kcl.k.s.uw.dx.ih.ng.gcl.g.r.iy.s.iy.w.aa.sh.epi.w.aa.dx.er.q.ao.l.y.iy.axr.h#.','h#.d.ow.n.ae.s.epi.m.iy.tcl.t.ix.kcl.k.eh.r.iy.ix.n.oy.l.iy.r.ae.gcl.g.l.ay.kcl.k.dh.ae.tcl.h#.','h#.hh.ih.z.kcl.k.ae.pcl.t.ix.n.w.ax.s.th.ih.n.ae.n.hv.ae.gcl.g.er.dcl.d.ix.n.ih.z.bcl.b.y.ux.dx.ux.f.el.bcl.b.uw.tcl.t.s.epi.w.axr.w.ao.r.n.ix.n.epi.sh.ae.bcl.b.iy.h#.','h#.dh.ix.r.iy.z.ax.n.z.f.axr.dh.ih.s.dcl.d.ay.v.s.iy.m.dcl.d.f.uw.l.ix.sh.epi.n.aw.h#.','h#.p.axr.dcl.d.ah.kcl.k.sh.ix.n.m.ey.f.ao.l.f.aa.r.bcl.b.ax.l.ow.ax.kcl.k.s.pcl.p.ix.kcl.t.ey.sh.en.tcl.s.h#.','h#.p.iy.tcl.s.axr.r.iy.ix.z.aa.r.kcl.k.ix.n.v.iy.n.y.ix.n.tcl.f.er.ix.kcl.k.w.ih.kcl.k.l.ah.n.tcl.ch.h#.','h#.p.uh.tcl.dh.ax.bcl.b.uh.tcl.ch.axr.bcl.b.l.aa.kcl.t.ey.bcl.b.el.ax.n.dh.ix.gcl.g.er.aa.sh.h#.','h#.d.r.aa.pcl.f.ay.v.f.ao.r.m.z.ax.n.dh.ax.bcl.b.aa.kcl.k.s.bcl.b.ax.f.ao.r.y.ix.gcl.g.ow.aw.tcl.h#.','h#.hh.er.w.ao.r.dcl.d.r.ow.bcl.k.en.s.ih.s.ax.v.ow.n.l.iy.s.kcl.k.er.tcl.t.s.ax.n.bcl.b.l.aw.s.ix.q.s.h#.','h#.q.eh.l.dcl.d.er.l.iy.pcl.p.iy.pcl.p.el.er.aa.f.ix.n.ix.q.kcl.k.s.kcl.k.l.ux.dcl.d.ix.dcl.d.h#.'...]"
      ]
     },
     "execution_count": 13,
     "metadata": {},
     "output_type": "execute_result"
    }
   ],
   "source": [
    "transcripts"
   ]
  },
  {
   "cell_type": "code",
   "execution_count": 14,
   "id": "3a97c456-9f24-47b5-9928-68ea2d40e178",
   "metadata": {},
   "outputs": [],
   "source": [
    "whole = ''.join([t for t in transcripts])"
   ]
  },
  {
   "cell_type": "code",
   "execution_count": 15,
   "id": "9446e298-1efb-44f1-a2dd-509daf3b5612",
   "metadata": {
    "tags": []
   },
   "outputs": [
    {
     "data": {
      "text/plain": [
       "'h#.sh.iy.hv.ae.dcl.d.y.er.dcl.d.aa.r.kcl.k.s.uw.dx.ih.ng.gcl.g.r.iy.s.iy.w.aa.sh.epi.w.aa.dx.er.q.ao'"
      ]
     },
     "execution_count": 15,
     "metadata": {},
     "output_type": "execute_result"
    }
   ],
   "source": [
    "whole[:100]"
   ]
  },
  {
   "cell_type": "code",
   "execution_count": 16,
   "id": "4241cf1a-3e52-4e12-86e8-5c570e7a7875",
   "metadata": {},
   "outputs": [],
   "source": [
    "vocab = L('',*list(whole.split('.')))"
   ]
  },
  {
   "cell_type": "code",
   "execution_count": 17,
   "id": "f5ec31f4-1566-47e7-b6e4-c89da2f0398f",
   "metadata": {},
   "outputs": [],
   "source": [
    "vocab = vocab.unique()"
   ]
  },
  {
   "cell_type": "code",
   "execution_count": 18,
   "id": "038ce5af-d6ce-4b0b-97e2-f2b316c37ef1",
   "metadata": {},
   "outputs": [
    {
     "data": {
      "text/plain": [
       "(#62) ['','h#','sh','iy','hv','ae','dcl','d','y','er'...]"
      ]
     },
     "execution_count": 18,
     "metadata": {},
     "output_type": "execute_result"
    }
   ],
   "source": [
    "vocab"
   ]
  },
  {
   "cell_type": "code",
   "execution_count": 19,
   "id": "ee9947e0-ec53-48c1-8ec6-2649eefb8679",
   "metadata": {},
   "outputs": [],
   "source": [
    "letter2idx = {letter:idx for (idx,letter) in enumerate(vocab)}"
   ]
  },
  {
   "cell_type": "code",
   "execution_count": 20,
   "id": "dee67135-2898-4da6-b5c5-20e4fd2a1c6a",
   "metadata": {
    "tags": []
   },
   "outputs": [
    {
     "data": {
      "text/plain": [
       "{'': 0,\n",
       " 'h#': 1,\n",
       " 'sh': 2,\n",
       " 'iy': 3,\n",
       " 'hv': 4,\n",
       " 'ae': 5,\n",
       " 'dcl': 6,\n",
       " 'd': 7,\n",
       " 'y': 8,\n",
       " 'er': 9,\n",
       " 'aa': 10,\n",
       " 'r': 11,\n",
       " 'kcl': 12,\n",
       " 'k': 13,\n",
       " 's': 14,\n",
       " 'uw': 15,\n",
       " 'dx': 16,\n",
       " 'ih': 17,\n",
       " 'ng': 18,\n",
       " 'gcl': 19,\n",
       " 'g': 20,\n",
       " 'w': 21,\n",
       " 'epi': 22,\n",
       " 'q': 23,\n",
       " 'ao': 24,\n",
       " 'l': 25,\n",
       " 'axr': 26,\n",
       " 'ow': 27,\n",
       " 'n': 28,\n",
       " 'm': 29,\n",
       " 'tcl': 30,\n",
       " 't': 31,\n",
       " 'ix': 32,\n",
       " 'eh': 33,\n",
       " 'oy': 34,\n",
       " 'ay': 35,\n",
       " 'dh': 36,\n",
       " 'hh': 37,\n",
       " 'z': 38,\n",
       " 'pcl': 39,\n",
       " 'ax': 40,\n",
       " 'th': 41,\n",
       " 'bcl': 42,\n",
       " 'b': 43,\n",
       " 'ux': 44,\n",
       " 'f': 45,\n",
       " 'el': 46,\n",
       " 'v': 47,\n",
       " 'aw': 48,\n",
       " 'p': 49,\n",
       " 'ah': 50,\n",
       " 'ey': 51,\n",
       " 'en': 52,\n",
       " 'ch': 53,\n",
       " 'uh': 54,\n",
       " 'pau': 55,\n",
       " 'jh': 56,\n",
       " 'nx': 57,\n",
       " 'ax-h': 58,\n",
       " 'zh': 59,\n",
       " 'em': 60,\n",
       " 'eng': 61}"
      ]
     },
     "execution_count": 20,
     "metadata": {},
     "output_type": "execute_result"
    }
   ],
   "source": [
    "letter2idx"
   ]
  },
  {
   "cell_type": "code",
   "execution_count": 21,
   "id": "dec6bf87-8bcf-4c56-a4f0-2b41daa2e89c",
   "metadata": {},
   "outputs": [],
   "source": [
    "def gggparent_eq(p, gggp = \"TEST\"):\n",
    "    return Path(p).parent.parent.parent.name == gggp"
   ]
  },
  {
   "cell_type": "code",
   "execution_count": 22,
   "id": "ebea4f09-bf19-4b9e-b85d-c1f23f11ed97",
   "metadata": {},
   "outputs": [],
   "source": [
    "labels[\"is_valid\"] = labels.Path.map(gggparent_eq)"
   ]
  },
  {
   "cell_type": "code",
   "execution_count": 23,
   "id": "c02b2876-8489-4633-a049-c51307be9080",
   "metadata": {
    "tags": []
   },
   "outputs": [
    {
     "data": {
      "text/html": [
       "<div>\n",
       "<style scoped>\n",
       "    .dataframe tbody tr th:only-of-type {\n",
       "        vertical-align: middle;\n",
       "    }\n",
       "\n",
       "    .dataframe tbody tr th {\n",
       "        vertical-align: top;\n",
       "    }\n",
       "\n",
       "    .dataframe thead th {\n",
       "        text-align: right;\n",
       "    }\n",
       "</style>\n",
       "<table border=\"1\" class=\"dataframe\">\n",
       "  <thead>\n",
       "    <tr style=\"text-align: right;\">\n",
       "      <th></th>\n",
       "      <th>Path</th>\n",
       "      <th>Transcription</th>\n",
       "      <th>is_valid</th>\n",
       "    </tr>\n",
       "  </thead>\n",
       "  <tbody>\n",
       "    <tr>\n",
       "      <th>0</th>\n",
       "      <td>./data/TEST/DR1/FAKS0/SA1.WAV.wav</td>\n",
       "      <td>h#.sh.iy.hv.ae.dcl.d.y.er.dcl.d.aa.r.kcl.k.s.uw.dx.ih.ng.gcl.g.r.iy.s.iy.w.aa.sh.epi.w.aa.dx.er.q.ao.l.y.iy.axr.h#.</td>\n",
       "      <td>True</td>\n",
       "    </tr>\n",
       "    <tr>\n",
       "      <th>1</th>\n",
       "      <td>./data/TEST/DR1/FAKS0/SA2.WAV.wav</td>\n",
       "      <td>h#.d.ow.n.ae.s.epi.m.iy.tcl.t.ix.kcl.k.eh.r.iy.ix.n.oy.l.iy.r.ae.gcl.g.l.ay.kcl.k.dh.ae.tcl.h#.</td>\n",
       "      <td>True</td>\n",
       "    </tr>\n",
       "    <tr>\n",
       "      <th>2</th>\n",
       "      <td>./data/TEST/DR1/FAKS0/SI1573.WAV.wav</td>\n",
       "      <td>h#.hh.ih.z.kcl.k.ae.pcl.t.ix.n.w.ax.s.th.ih.n.ae.n.hv.ae.gcl.g.er.dcl.d.ix.n.ih.z.bcl.b.y.ux.dx.ux.f.el.bcl.b.uw.tcl.t.s.epi.w.axr.w.ao.r.n.ix.n.epi.sh.ae.bcl.b.iy.h#.</td>\n",
       "      <td>True</td>\n",
       "    </tr>\n",
       "    <tr>\n",
       "      <th>3</th>\n",
       "      <td>./data/TEST/DR1/FAKS0/SI2203.WAV.wav</td>\n",
       "      <td>h#.dh.ix.r.iy.z.ax.n.z.f.axr.dh.ih.s.dcl.d.ay.v.s.iy.m.dcl.d.f.uw.l.ix.sh.epi.n.aw.h#.</td>\n",
       "      <td>True</td>\n",
       "    </tr>\n",
       "    <tr>\n",
       "      <th>4</th>\n",
       "      <td>./data/TEST/DR1/FAKS0/SI943.WAV.wav</td>\n",
       "      <td>h#.p.axr.dcl.d.ah.kcl.k.sh.ix.n.m.ey.f.ao.l.f.aa.r.bcl.b.ax.l.ow.ax.kcl.k.s.pcl.p.ix.kcl.t.ey.sh.en.tcl.s.h#.</td>\n",
       "      <td>True</td>\n",
       "    </tr>\n",
       "    <tr>\n",
       "      <th>...</th>\n",
       "      <td>...</td>\n",
       "      <td>...</td>\n",
       "      <td>...</td>\n",
       "    </tr>\n",
       "    <tr>\n",
       "      <th>6295</th>\n",
       "      <td>./data/TRAIN/DR8/MTCS0/SX172.WAV.wav</td>\n",
       "      <td>h#.dh.ax.tcl.t.r.ay.ah.m.f.ax.n.q.w.oy.er.ix.gcl.g.z.ih.bcl.b.ix.tcl.t.ih.dcl.n.ay.iy.v.hv.eh.r.ow.ih.z.ax.m.h#.</td>\n",
       "      <td>False</td>\n",
       "    </tr>\n",
       "    <tr>\n",
       "      <th>6296</th>\n",
       "      <td>./data/TRAIN/DR8/MTCS0/SX262.WAV.wav</td>\n",
       "      <td>h#.k.eh.n.dh.iy.ey.dcl.jh.ih.n.s.iy.ow.v.axr.th.r.ow.ey.l.iy.ix.n.f.ao.r.s.ax.s.h#.</td>\n",
       "      <td>False</td>\n",
       "    </tr>\n",
       "    <tr>\n",
       "      <th>6297</th>\n",
       "      <td>./data/TRAIN/DR8/MTCS0/SX352.WAV.wav</td>\n",
       "      <td>h#.ax.kcl.k.ao.r.dx.ih.n.dx.ax.m.ay.en.tcl.t.er.pcl.p.axr.tcl.t.ey.sh.en.ax.dh.ax-h.pcl.p.r.aa.bcl.b.em.pau.t.ux.l.ay.n.z.epi.m.ah.s.bcl.b.iy.pcl.p.er.pcl.p.ix.n.dcl.d.ih.kcl.k.ix.l.axr.h#.</td>\n",
       "      <td>False</td>\n",
       "    </tr>\n",
       "    <tr>\n",
       "      <th>6298</th>\n",
       "      <td>./data/TRAIN/DR8/MTCS0/SX442.WAV.wav</td>\n",
       "      <td>h#.s.ax.bcl.b.er.bcl.axr.n.hv.aw.s.epi.w.ay.v.z.q.ao.f.tcl.t.ix.n.s.ah.f.axr.f.r.ax.m.dh.ix.gcl.g.ae.bcl.b.hv.ae.bcl.b.ix.tcl.t.h#.</td>\n",
       "      <td>False</td>\n",
       "    </tr>\n",
       "    <tr>\n",
       "      <th>6299</th>\n",
       "      <td>./data/TRAIN/DR8/MTCS0/SX82.WAV.wav</td>\n",
       "      <td>h#.g.uh.dcl.d.s.er.v.ih.sh.ih.dcl.b.iy.r.ix.w.ao.r.dx.ih.dcl.b.ay.bcl.b.ih.gcl.t.ih.pcl.p.s.h#.</td>\n",
       "      <td>False</td>\n",
       "    </tr>\n",
       "  </tbody>\n",
       "</table>\n",
       "<p>6300 rows × 3 columns</p>\n",
       "</div>"
      ],
      "text/plain": [
       "                                      Path  \\\n",
       "0        ./data/TEST/DR1/FAKS0/SA1.WAV.wav   \n",
       "1        ./data/TEST/DR1/FAKS0/SA2.WAV.wav   \n",
       "2     ./data/TEST/DR1/FAKS0/SI1573.WAV.wav   \n",
       "3     ./data/TEST/DR1/FAKS0/SI2203.WAV.wav   \n",
       "4      ./data/TEST/DR1/FAKS0/SI943.WAV.wav   \n",
       "...                                    ...   \n",
       "6295  ./data/TRAIN/DR8/MTCS0/SX172.WAV.wav   \n",
       "6296  ./data/TRAIN/DR8/MTCS0/SX262.WAV.wav   \n",
       "6297  ./data/TRAIN/DR8/MTCS0/SX352.WAV.wav   \n",
       "6298  ./data/TRAIN/DR8/MTCS0/SX442.WAV.wav   \n",
       "6299   ./data/TRAIN/DR8/MTCS0/SX82.WAV.wav   \n",
       "\n",
       "                                                                                                                                                                                      Transcription  \\\n",
       "0                                                                               h#.sh.iy.hv.ae.dcl.d.y.er.dcl.d.aa.r.kcl.k.s.uw.dx.ih.ng.gcl.g.r.iy.s.iy.w.aa.sh.epi.w.aa.dx.er.q.ao.l.y.iy.axr.h#.   \n",
       "1                                                                                                   h#.d.ow.n.ae.s.epi.m.iy.tcl.t.ix.kcl.k.eh.r.iy.ix.n.oy.l.iy.r.ae.gcl.g.l.ay.kcl.k.dh.ae.tcl.h#.   \n",
       "2                           h#.hh.ih.z.kcl.k.ae.pcl.t.ix.n.w.ax.s.th.ih.n.ae.n.hv.ae.gcl.g.er.dcl.d.ix.n.ih.z.bcl.b.y.ux.dx.ux.f.el.bcl.b.uw.tcl.t.s.epi.w.axr.w.ao.r.n.ix.n.epi.sh.ae.bcl.b.iy.h#.   \n",
       "3                                                                                                            h#.dh.ix.r.iy.z.ax.n.z.f.axr.dh.ih.s.dcl.d.ay.v.s.iy.m.dcl.d.f.uw.l.ix.sh.epi.n.aw.h#.   \n",
       "4                                                                                     h#.p.axr.dcl.d.ah.kcl.k.sh.ix.n.m.ey.f.ao.l.f.aa.r.bcl.b.ax.l.ow.ax.kcl.k.s.pcl.p.ix.kcl.t.ey.sh.en.tcl.s.h#.   \n",
       "...                                                                                                                                                                                             ...   \n",
       "6295                                                                               h#.dh.ax.tcl.t.r.ay.ah.m.f.ax.n.q.w.oy.er.ix.gcl.g.z.ih.bcl.b.ix.tcl.t.ih.dcl.n.ay.iy.v.hv.eh.r.ow.ih.z.ax.m.h#.   \n",
       "6296                                                                                                            h#.k.eh.n.dh.iy.ey.dcl.jh.ih.n.s.iy.ow.v.axr.th.r.ow.ey.l.iy.ix.n.f.ao.r.s.ax.s.h#.   \n",
       "6297  h#.ax.kcl.k.ao.r.dx.ih.n.dx.ax.m.ay.en.tcl.t.er.pcl.p.axr.tcl.t.ey.sh.en.ax.dh.ax-h.pcl.p.r.aa.bcl.b.em.pau.t.ux.l.ay.n.z.epi.m.ah.s.bcl.b.iy.pcl.p.er.pcl.p.ix.n.dcl.d.ih.kcl.k.ix.l.axr.h#.   \n",
       "6298                                                            h#.s.ax.bcl.b.er.bcl.axr.n.hv.aw.s.epi.w.ay.v.z.q.ao.f.tcl.t.ix.n.s.ah.f.axr.f.r.ax.m.dh.ix.gcl.g.ae.bcl.b.hv.ae.bcl.b.ix.tcl.t.h#.   \n",
       "6299                                                                                                h#.g.uh.dcl.d.s.er.v.ih.sh.ih.dcl.b.iy.r.ix.w.ao.r.dx.ih.dcl.b.ay.bcl.b.ih.gcl.t.ih.pcl.p.s.h#.   \n",
       "\n",
       "      is_valid  \n",
       "0         True  \n",
       "1         True  \n",
       "2         True  \n",
       "3         True  \n",
       "4         True  \n",
       "...        ...  \n",
       "6295     False  \n",
       "6296     False  \n",
       "6297     False  \n",
       "6298     False  \n",
       "6299     False  \n",
       "\n",
       "[6300 rows x 3 columns]"
      ]
     },
     "execution_count": 23,
     "metadata": {},
     "output_type": "execute_result"
    }
   ],
   "source": [
    "labels"
   ]
  },
  {
   "cell_type": "code",
   "execution_count": 24,
   "id": "8b7e48e9-f1ca-4c92-8ca5-136d936cd5df",
   "metadata": {},
   "outputs": [],
   "source": [
    "splits = ColSplitter()(labels)\n",
    "aud2spec = AudioToSpec.from_cfg(AudioConfig.Voice(f_min=0, n_mels=80))"
   ]
  },
  {
   "cell_type": "code",
   "execution_count": 25,
   "id": "edd1a43c-017d-4bef-b8ee-4ca7e5e5b29d",
   "metadata": {},
   "outputs": [],
   "source": [
    "# labels.to_csv('../pitch_accent/training.csv')"
   ]
  },
  {
   "cell_type": "code",
   "execution_count": 26,
   "id": "c49d97b1-f653-4bd6-ae09-bee98c2928ed",
   "metadata": {},
   "outputs": [],
   "source": [
    "class Pad_Audio_Chunk(DisplayedTransform):\n",
    "    \"Pad `samples` by adding padding by chunks of size `seq_len`\"\n",
    "    def __init__(self, pad_idx=1, pad_first=True, seq_len=72,decode=True,**kwargs):\n",
    "        store_attr('pad_idx, pad_first, seq_len,seq_len')\n",
    "        super().__init__(**kwargs)\n",
    "    def before_call(self, b):\n",
    "        \"Set `self.max_len` before encodes\"\n",
    "        self.max_len = max([x.shape[0] for xs in b for x in xs if isinstance(x,AudioTensor)])\n",
    "    def __call__(self, b, **kwargs):\n",
    "        self.before_call(b)\n",
    "        return super().__call__(tuple(b), **kwargs)\n",
    "    def encodes(self, x:AudioTensor):\n",
    "        return pad_chunk(x,pad_idx=self.pad_idx, pad_first=self.pad_first, seq_len=self.seq_len, pad_len=self.max_len)\n",
    "    def decodes(self, o:AudioTensor):\n",
    "        return o[o != self.pad_idx] if self.decode else o"
   ]
  },
  {
   "cell_type": "code",
   "execution_count": 27,
   "id": "1953533f-88b3-4004-9d30-3dc2cccde542",
   "metadata": {},
   "outputs": [],
   "source": [
    "class SqueezeAud(Transform):\n",
    "    def encodes(self, x:AudioTensor): return x.squeeze()#.cuda()"
   ]
  },
  {
   "cell_type": "code",
   "execution_count": 28,
   "id": "3df492b9-8b5d-4680-ac8d-6d0949b6a551",
   "metadata": {
    "tags": []
   },
   "outputs": [
    {
     "data": {
      "text/plain": [
       "(#32) [(AudioTensor([ 0.0043,  0.0074, -0.0009,  ...,  0.0019,  0.0019,  0.0016]), TensorText([ 1,  2,  3,  4,  5,  6,  7,  8,  9,  6,  7, 10, 11, 12, 13, 14, 15, 16,\n",
       "        17, 18, 19, 20, 11,  3, 14,  3, 21, 10,  2, 22, 21, 10, 16,  9, 23, 24,\n",
       "        25,  8,  3, 26,  1,  0])),(AudioTensor([3.0518e-05, 0.0000e+00, 3.0518e-05,  ..., 6.1035e-05, 2.4414e-04,\n",
       "        1.2207e-04]), TensorText([ 1,  7, 27, 28,  5, 14, 22, 29,  3, 30, 31, 32, 12, 13, 33, 11,  3, 32,\n",
       "        28, 34, 25,  3, 11,  5, 19, 20, 25, 35, 12, 13, 36,  5, 30,  1,  0])),(AudioTensor([ 0.0000e+00, -9.1553e-05,  3.0518e-05,  ...,  5.4016e-03,\n",
       "         6.4392e-03,  3.0518e-03]), TensorText([ 1, 37, 17, 38, 12, 13,  5, 39, 31, 32, 28, 21, 40, 14, 41, 17, 28,  5,\n",
       "        28,  4,  5, 19, 20,  9,  6,  7, 32, 28, 17, 38, 42, 43,  8, 44, 16, 44,\n",
       "        45, 46, 42, 43, 15, 30, 31, 14, 22, 21, 26, 21, 24, 11, 28, 32, 28, 22,\n",
       "         2,  5, 42, 43,  3,  1,  0])),(AudioTensor([ 0.0001,  0.0001,  0.0002,  ..., -0.0018, -0.0018, -0.0015]), TensorText([ 1, 36, 32, 11,  3, 38, 40, 28, 38, 45, 26, 36, 17, 14,  6,  7, 35, 47,\n",
       "        14,  3, 29,  6,  7, 45, 15, 25, 32,  2, 22, 28, 48,  1,  0])),(AudioTensor([1.5259e-04, 6.1035e-05, 9.1553e-05,  ..., 2.4414e-04, 3.3569e-04,\n",
       "        2.7466e-04]), TensorText([ 1, 49, 26,  6,  7, 50, 12, 13,  2, 32, 28, 29, 51, 45, 24, 25, 45, 10,\n",
       "        11, 42, 43, 40, 25, 27, 40, 12, 13, 14, 39, 49, 32, 12, 31, 51,  2, 52,\n",
       "        30, 14,  1,  0])),(AudioTensor([ 6.1035e-05,  0.0000e+00,  0.0000e+00,  ...,  1.5259e-04,\n",
       "         6.1035e-05, -1.8311e-04]), TensorText([ 1, 49,  3, 30, 14, 26, 11,  3, 32, 38, 10, 11, 12, 13, 32, 28, 47,  3,\n",
       "        28,  8, 32, 28, 30, 45,  9, 32, 12, 13, 21, 17, 12, 13, 25, 50, 28, 30,\n",
       "        53,  1,  0])),(AudioTensor([ 0.0000e+00,  6.1035e-05,  3.0518e-05,  ..., -2.7466e-04,\n",
       "        -7.3242e-04, -7.6294e-04]), TensorText([ 1, 49, 54, 30, 36, 40, 42, 43, 54, 30, 53, 26, 42, 43, 25, 10, 12, 31,\n",
       "        51, 42, 43, 46, 40, 28, 36, 32, 19, 20,  9, 10,  2,  1,  0])),(AudioTensor([1.5259e-04, 6.1035e-05, 1.5259e-04,  ..., 1.5259e-04, 1.5259e-04,\n",
       "        1.5259e-04]), TensorText([ 1,  7, 11, 10, 39, 45, 35, 47, 45, 24, 11, 29, 38, 40, 28, 36, 40, 42,\n",
       "        43, 10, 12, 13, 14, 42, 43, 40, 45, 24, 11,  8, 32, 19, 20, 27, 48, 30,\n",
       "         1,  0])),(AudioTensor([-9.4604e-04, -1.2207e-03, -1.0071e-03,  ...,  2.1362e-04,\n",
       "         9.1553e-05,  1.5259e-04]), TensorText([ 1, 37,  9, 21, 24, 11,  6,  7, 11, 27, 42, 13, 52, 14, 17, 14, 40, 47,\n",
       "        27, 28, 25,  3, 14, 12, 13,  9, 30, 31, 14, 40, 28, 42, 43, 25, 48, 14,\n",
       "        32, 23, 14,  1,  0])),(AudioTensor([ 1.5259e-04,  6.1035e-05,  9.1553e-05,  ..., -6.7139e-04,\n",
       "        -6.7139e-04, -6.7139e-04]), TensorText([ 1, 23, 33, 25,  6,  7,  9, 25,  3, 39, 49,  3, 39, 49, 46,  9, 10, 45,\n",
       "        32, 28, 32, 23, 12, 13, 14, 12, 13, 25, 44,  6,  7, 32,  6,  7,  1,  0]))...]"
      ]
     },
     "execution_count": 28,
     "metadata": {},
     "output_type": "execute_result"
    }
   ],
   "source": [
    "x_tfms = [lambda x: path/x['Path'], AudioTensor.create,\n",
    "          Resample(16_000), RemoveSilence(), SqueezeAud()]#, Pad_Audio_Chunk(0, pad_first=False)]\n",
    "y_tfms = [lambda y: y[\"Transcription\"], lambda y1: TensorText([letter2idx[i] for i in y1.split('.')])]\n",
    "dsets = Datasets(labels[:32], [x_tfms, y_tfms])#, splits = splits)\n",
    "dsets"
   ]
  },
  {
   "cell_type": "code",
   "execution_count": 29,
   "id": "2c5a1951-6126-469f-8fa1-d415c2534a67",
   "metadata": {},
   "outputs": [],
   "source": [
    "class SqueezeSpec(Transform):\n",
    "    def encodes(self, x:AudioSpectrogram): return x.squeeze()#.cuda()"
   ]
  },
  {
   "cell_type": "code",
   "execution_count": 66,
   "id": "70a74771-f897-446d-8fb7-237bb020f3cd",
   "metadata": {
    "tags": []
   },
   "outputs": [],
   "source": [
    "dls = dsets.dataloaders(before_batch = [Pad_Chunk(0, pad_first=False),Pad_Audio_Chunk(0, pad_first=False)],\n",
    "                        after_batch=[aud2spec, SqueezeSpec()], bs=32)\n",
    "b = dls.one_batch()"
   ]
  },
  {
   "cell_type": "code",
   "execution_count": 31,
   "id": "710c4b1c-7611-4870-89d5-961002358f6c",
   "metadata": {},
   "outputs": [
    {
     "data": {
      "text/plain": [
       "(96, None)"
      ]
     },
     "execution_count": 31,
     "metadata": {},
     "output_type": "execute_result"
    }
   ],
   "source": [
    "import gc\n",
    "gc.collect(), torch.cuda.empty_cache()"
   ]
  },
  {
   "cell_type": "code",
   "execution_count": 32,
   "id": "6c203296-bff9-42bd-aac4-6599ebf87457",
   "metadata": {
    "tags": []
   },
   "outputs": [],
   "source": [
    "class NonSeparableQuartzSubblock(Module):\n",
    "    r\"A basic building sub-block of Quartznet with non-separable Conv layers\"\n",
    "    \n",
    "    def __init__(self, in_channels, out_channels, kernel, stride, drop = 0, **kwargs):\n",
    "        self.conv = nn.Conv1d(in_channels, out_channels, kernel, stride, (kernel-1)//2, **kwargs)\n",
    "        self.norm = nn.BatchNorm1d(out_channels)\n",
    "        self.act = nn.ReLU()\n",
    "        self.drop = nn.Dropout(drop)\n",
    "        \n",
    "    def forward(self, x, res = 0):\n",
    "        x = self.conv(x)\n",
    "        x = self.norm(x)\n",
    "        if not isinstance(res, int): x += res\n",
    "        x = self.act(x)\n",
    "        return self.drop(x)\n",
    "    \n",
    "    \n",
    "class QuartzSubblock(Module):\n",
    "    r\"A basic building sub-block of QuartzNet with separable convolutions\"\n",
    "    \n",
    "    def __init__(self, in_channels, out_channels, kernel, stride, drop = 0, **kwargs):\n",
    "        self.conv = nn.Sequential(nn.Conv1d(in_channels, in_channels, kernel, stride, (kernel-1)//2, groups=in_channels, **kwargs),\n",
    "                                 nn.Conv1d(in_channels, out_channels, 1, 1))\n",
    "        self.norm = nn.BatchNorm1d(out_channels)\n",
    "        self.act = nn.ReLU()\n",
    "        self.drop = nn.Dropout(drop)\n",
    "        \n",
    "    def forward(self, x, res = 0):\n",
    "        x = self.conv(x)\n",
    "        x = self.norm(x)\n",
    "        if not isinstance(res, int): x += res\n",
    "        x = self.act(x)\n",
    "        return self.drop(x)\n",
    "    \n",
    "class QuartzBlock(Module):\n",
    "    \n",
    "    def __init__(self, in_channels, out_channels, kernel, num_subblocks=3, drop = 0):\n",
    "        self.subblocks = nn.Sequential(*[QuartzSubblock(in_channels, out_channels, kernel, 1, drop = 0)] \\\n",
    "        + [QuartzSubblock(out_channels, out_channels, kernel, 1, drop = 0.) for i in range(num_subblocks-2)])\n",
    "        self.res_subblock = QuartzSubblock(out_channels, out_channels, kernel, 1, drop = 0)\n",
    "        self.res_conv = nn.Conv1d(in_channels, out_channels, 1)\n",
    "        self.res_norm = nn.BatchNorm1d(out_channels)\n",
    "        \n",
    "    def forward(self, x):\n",
    "        x, res = self.subblocks(x), self.res_conv(x)\n",
    "        x = self.res_subblock(x, self.res_norm(x))\n",
    "        return x\n",
    "    \n",
    "class QuartzNet(Module):\n",
    "    \n",
    "    def __init__(self, n_mels, n_vocab, num_blocks_factor=2, num_subblocks = 5):\n",
    "        KERNELS = [33, 39, 51, 63, 75]\n",
    "        OUTS = [256, 256, 512, 512, 512, 256]\n",
    "        # DROPS = [0.2]*3 + [0.3]*2\n",
    "        DROPS = [0.] * 5\n",
    "        self.model = nn.Sequential(*[NonSeparableQuartzSubblock(n_mels, 256, 33, 2)] \\\n",
    "        + [QuartzBlock((OUTS[i], OUTS[i-1])[j==0], OUTS[i], KERNELS[i], num_subblocks, DROPS[i])\n",
    "           for i in range(5) for j in range(num_blocks_factor)] \\\n",
    "        + [NonSeparableQuartzSubblock(OUTS[-2], 512, 87, 1, 0.4)],\n",
    "          NonSeparableQuartzSubblock(512, 1024, 1, 1, 0.4, dilation=2),\n",
    "        nn.Conv1d(1024, n_vocab, 1),\n",
    "                                   nn.LogSoftmax(1)\n",
    "        )\n",
    "        \n",
    "    def forward(self, x):\n",
    "        return self.model(x)"
   ]
  },
  {
   "cell_type": "code",
   "execution_count": 80,
   "id": "686661a9-1570-4377-bae8-c9f0b983eeeb",
   "metadata": {},
   "outputs": [],
   "source": [
    "model = QuartzNet(b[0].shape[1], len(vocab), 1).cuda()"
   ]
  },
  {
   "cell_type": "code",
   "execution_count": 34,
   "id": "cc04878f-ebfd-41ba-92e9-ce28c43950b9",
   "metadata": {
    "collapsed": true,
    "jupyter": {
     "outputs_hidden": true
    },
    "tags": []
   },
   "outputs": [
    {
     "data": {
      "text/plain": [
       "QuartzNet(\n",
       "  (model): Sequential(\n",
       "    (0): NonSeparableQuartzSubblock(\n",
       "      (conv): Conv1d(80, 256, kernel_size=(33,), stride=(2,), padding=(16,))\n",
       "      (norm): BatchNorm1d(256, eps=1e-05, momentum=0.1, affine=True, track_running_stats=True)\n",
       "      (act): ReLU()\n",
       "      (drop): Dropout(p=0, inplace=False)\n",
       "    )\n",
       "    (1): QuartzBlock(\n",
       "      (subblocks): Sequential(\n",
       "        (0): QuartzSubblock(\n",
       "          (conv): Sequential(\n",
       "            (0): Conv1d(256, 256, kernel_size=(33,), stride=(1,), padding=(16,), groups=256)\n",
       "            (1): Conv1d(256, 256, kernel_size=(1,), stride=(1,))\n",
       "          )\n",
       "          (norm): BatchNorm1d(256, eps=1e-05, momentum=0.1, affine=True, track_running_stats=True)\n",
       "          (act): ReLU()\n",
       "          (drop): Dropout(p=0, inplace=False)\n",
       "        )\n",
       "        (1): QuartzSubblock(\n",
       "          (conv): Sequential(\n",
       "            (0): Conv1d(256, 256, kernel_size=(33,), stride=(1,), padding=(16,), groups=256)\n",
       "            (1): Conv1d(256, 256, kernel_size=(1,), stride=(1,))\n",
       "          )\n",
       "          (norm): BatchNorm1d(256, eps=1e-05, momentum=0.1, affine=True, track_running_stats=True)\n",
       "          (act): ReLU()\n",
       "          (drop): Dropout(p=0.0, inplace=False)\n",
       "        )\n",
       "        (2): QuartzSubblock(\n",
       "          (conv): Sequential(\n",
       "            (0): Conv1d(256, 256, kernel_size=(33,), stride=(1,), padding=(16,), groups=256)\n",
       "            (1): Conv1d(256, 256, kernel_size=(1,), stride=(1,))\n",
       "          )\n",
       "          (norm): BatchNorm1d(256, eps=1e-05, momentum=0.1, affine=True, track_running_stats=True)\n",
       "          (act): ReLU()\n",
       "          (drop): Dropout(p=0.0, inplace=False)\n",
       "        )\n",
       "        (3): QuartzSubblock(\n",
       "          (conv): Sequential(\n",
       "            (0): Conv1d(256, 256, kernel_size=(33,), stride=(1,), padding=(16,), groups=256)\n",
       "            (1): Conv1d(256, 256, kernel_size=(1,), stride=(1,))\n",
       "          )\n",
       "          (norm): BatchNorm1d(256, eps=1e-05, momentum=0.1, affine=True, track_running_stats=True)\n",
       "          (act): ReLU()\n",
       "          (drop): Dropout(p=0.0, inplace=False)\n",
       "        )\n",
       "      )\n",
       "      (res_subblock): QuartzSubblock(\n",
       "        (conv): Sequential(\n",
       "          (0): Conv1d(256, 256, kernel_size=(33,), stride=(1,), padding=(16,), groups=256)\n",
       "          (1): Conv1d(256, 256, kernel_size=(1,), stride=(1,))\n",
       "        )\n",
       "        (norm): BatchNorm1d(256, eps=1e-05, momentum=0.1, affine=True, track_running_stats=True)\n",
       "        (act): ReLU()\n",
       "        (drop): Dropout(p=0, inplace=False)\n",
       "      )\n",
       "      (res_conv): Conv1d(256, 256, kernel_size=(1,), stride=(1,))\n",
       "      (res_norm): BatchNorm1d(256, eps=1e-05, momentum=0.1, affine=True, track_running_stats=True)\n",
       "    )\n",
       "    (2): QuartzBlock(\n",
       "      (subblocks): Sequential(\n",
       "        (0): QuartzSubblock(\n",
       "          (conv): Sequential(\n",
       "            (0): Conv1d(256, 256, kernel_size=(33,), stride=(1,), padding=(16,), groups=256)\n",
       "            (1): Conv1d(256, 256, kernel_size=(1,), stride=(1,))\n",
       "          )\n",
       "          (norm): BatchNorm1d(256, eps=1e-05, momentum=0.1, affine=True, track_running_stats=True)\n",
       "          (act): ReLU()\n",
       "          (drop): Dropout(p=0, inplace=False)\n",
       "        )\n",
       "        (1): QuartzSubblock(\n",
       "          (conv): Sequential(\n",
       "            (0): Conv1d(256, 256, kernel_size=(33,), stride=(1,), padding=(16,), groups=256)\n",
       "            (1): Conv1d(256, 256, kernel_size=(1,), stride=(1,))\n",
       "          )\n",
       "          (norm): BatchNorm1d(256, eps=1e-05, momentum=0.1, affine=True, track_running_stats=True)\n",
       "          (act): ReLU()\n",
       "          (drop): Dropout(p=0.0, inplace=False)\n",
       "        )\n",
       "        (2): QuartzSubblock(\n",
       "          (conv): Sequential(\n",
       "            (0): Conv1d(256, 256, kernel_size=(33,), stride=(1,), padding=(16,), groups=256)\n",
       "            (1): Conv1d(256, 256, kernel_size=(1,), stride=(1,))\n",
       "          )\n",
       "          (norm): BatchNorm1d(256, eps=1e-05, momentum=0.1, affine=True, track_running_stats=True)\n",
       "          (act): ReLU()\n",
       "          (drop): Dropout(p=0.0, inplace=False)\n",
       "        )\n",
       "        (3): QuartzSubblock(\n",
       "          (conv): Sequential(\n",
       "            (0): Conv1d(256, 256, kernel_size=(33,), stride=(1,), padding=(16,), groups=256)\n",
       "            (1): Conv1d(256, 256, kernel_size=(1,), stride=(1,))\n",
       "          )\n",
       "          (norm): BatchNorm1d(256, eps=1e-05, momentum=0.1, affine=True, track_running_stats=True)\n",
       "          (act): ReLU()\n",
       "          (drop): Dropout(p=0.0, inplace=False)\n",
       "        )\n",
       "      )\n",
       "      (res_subblock): QuartzSubblock(\n",
       "        (conv): Sequential(\n",
       "          (0): Conv1d(256, 256, kernel_size=(33,), stride=(1,), padding=(16,), groups=256)\n",
       "          (1): Conv1d(256, 256, kernel_size=(1,), stride=(1,))\n",
       "        )\n",
       "        (norm): BatchNorm1d(256, eps=1e-05, momentum=0.1, affine=True, track_running_stats=True)\n",
       "        (act): ReLU()\n",
       "        (drop): Dropout(p=0, inplace=False)\n",
       "      )\n",
       "      (res_conv): Conv1d(256, 256, kernel_size=(1,), stride=(1,))\n",
       "      (res_norm): BatchNorm1d(256, eps=1e-05, momentum=0.1, affine=True, track_running_stats=True)\n",
       "    )\n",
       "    (3): QuartzBlock(\n",
       "      (subblocks): Sequential(\n",
       "        (0): QuartzSubblock(\n",
       "          (conv): Sequential(\n",
       "            (0): Conv1d(256, 256, kernel_size=(33,), stride=(1,), padding=(16,), groups=256)\n",
       "            (1): Conv1d(256, 256, kernel_size=(1,), stride=(1,))\n",
       "          )\n",
       "          (norm): BatchNorm1d(256, eps=1e-05, momentum=0.1, affine=True, track_running_stats=True)\n",
       "          (act): ReLU()\n",
       "          (drop): Dropout(p=0, inplace=False)\n",
       "        )\n",
       "        (1): QuartzSubblock(\n",
       "          (conv): Sequential(\n",
       "            (0): Conv1d(256, 256, kernel_size=(33,), stride=(1,), padding=(16,), groups=256)\n",
       "            (1): Conv1d(256, 256, kernel_size=(1,), stride=(1,))\n",
       "          )\n",
       "          (norm): BatchNorm1d(256, eps=1e-05, momentum=0.1, affine=True, track_running_stats=True)\n",
       "          (act): ReLU()\n",
       "          (drop): Dropout(p=0.0, inplace=False)\n",
       "        )\n",
       "        (2): QuartzSubblock(\n",
       "          (conv): Sequential(\n",
       "            (0): Conv1d(256, 256, kernel_size=(33,), stride=(1,), padding=(16,), groups=256)\n",
       "            (1): Conv1d(256, 256, kernel_size=(1,), stride=(1,))\n",
       "          )\n",
       "          (norm): BatchNorm1d(256, eps=1e-05, momentum=0.1, affine=True, track_running_stats=True)\n",
       "          (act): ReLU()\n",
       "          (drop): Dropout(p=0.0, inplace=False)\n",
       "        )\n",
       "        (3): QuartzSubblock(\n",
       "          (conv): Sequential(\n",
       "            (0): Conv1d(256, 256, kernel_size=(33,), stride=(1,), padding=(16,), groups=256)\n",
       "            (1): Conv1d(256, 256, kernel_size=(1,), stride=(1,))\n",
       "          )\n",
       "          (norm): BatchNorm1d(256, eps=1e-05, momentum=0.1, affine=True, track_running_stats=True)\n",
       "          (act): ReLU()\n",
       "          (drop): Dropout(p=0.0, inplace=False)\n",
       "        )\n",
       "      )\n",
       "      (res_subblock): QuartzSubblock(\n",
       "        (conv): Sequential(\n",
       "          (0): Conv1d(256, 256, kernel_size=(33,), stride=(1,), padding=(16,), groups=256)\n",
       "          (1): Conv1d(256, 256, kernel_size=(1,), stride=(1,))\n",
       "        )\n",
       "        (norm): BatchNorm1d(256, eps=1e-05, momentum=0.1, affine=True, track_running_stats=True)\n",
       "        (act): ReLU()\n",
       "        (drop): Dropout(p=0, inplace=False)\n",
       "      )\n",
       "      (res_conv): Conv1d(256, 256, kernel_size=(1,), stride=(1,))\n",
       "      (res_norm): BatchNorm1d(256, eps=1e-05, momentum=0.1, affine=True, track_running_stats=True)\n",
       "    )\n",
       "    (4): QuartzBlock(\n",
       "      (subblocks): Sequential(\n",
       "        (0): QuartzSubblock(\n",
       "          (conv): Sequential(\n",
       "            (0): Conv1d(256, 256, kernel_size=(39,), stride=(1,), padding=(19,), groups=256)\n",
       "            (1): Conv1d(256, 256, kernel_size=(1,), stride=(1,))\n",
       "          )\n",
       "          (norm): BatchNorm1d(256, eps=1e-05, momentum=0.1, affine=True, track_running_stats=True)\n",
       "          (act): ReLU()\n",
       "          (drop): Dropout(p=0, inplace=False)\n",
       "        )\n",
       "        (1): QuartzSubblock(\n",
       "          (conv): Sequential(\n",
       "            (0): Conv1d(256, 256, kernel_size=(39,), stride=(1,), padding=(19,), groups=256)\n",
       "            (1): Conv1d(256, 256, kernel_size=(1,), stride=(1,))\n",
       "          )\n",
       "          (norm): BatchNorm1d(256, eps=1e-05, momentum=0.1, affine=True, track_running_stats=True)\n",
       "          (act): ReLU()\n",
       "          (drop): Dropout(p=0.0, inplace=False)\n",
       "        )\n",
       "        (2): QuartzSubblock(\n",
       "          (conv): Sequential(\n",
       "            (0): Conv1d(256, 256, kernel_size=(39,), stride=(1,), padding=(19,), groups=256)\n",
       "            (1): Conv1d(256, 256, kernel_size=(1,), stride=(1,))\n",
       "          )\n",
       "          (norm): BatchNorm1d(256, eps=1e-05, momentum=0.1, affine=True, track_running_stats=True)\n",
       "          (act): ReLU()\n",
       "          (drop): Dropout(p=0.0, inplace=False)\n",
       "        )\n",
       "        (3): QuartzSubblock(\n",
       "          (conv): Sequential(\n",
       "            (0): Conv1d(256, 256, kernel_size=(39,), stride=(1,), padding=(19,), groups=256)\n",
       "            (1): Conv1d(256, 256, kernel_size=(1,), stride=(1,))\n",
       "          )\n",
       "          (norm): BatchNorm1d(256, eps=1e-05, momentum=0.1, affine=True, track_running_stats=True)\n",
       "          (act): ReLU()\n",
       "          (drop): Dropout(p=0.0, inplace=False)\n",
       "        )\n",
       "      )\n",
       "      (res_subblock): QuartzSubblock(\n",
       "        (conv): Sequential(\n",
       "          (0): Conv1d(256, 256, kernel_size=(39,), stride=(1,), padding=(19,), groups=256)\n",
       "          (1): Conv1d(256, 256, kernel_size=(1,), stride=(1,))\n",
       "        )\n",
       "        (norm): BatchNorm1d(256, eps=1e-05, momentum=0.1, affine=True, track_running_stats=True)\n",
       "        (act): ReLU()\n",
       "        (drop): Dropout(p=0, inplace=False)\n",
       "      )\n",
       "      (res_conv): Conv1d(256, 256, kernel_size=(1,), stride=(1,))\n",
       "      (res_norm): BatchNorm1d(256, eps=1e-05, momentum=0.1, affine=True, track_running_stats=True)\n",
       "    )\n",
       "    (5): QuartzBlock(\n",
       "      (subblocks): Sequential(\n",
       "        (0): QuartzSubblock(\n",
       "          (conv): Sequential(\n",
       "            (0): Conv1d(256, 256, kernel_size=(39,), stride=(1,), padding=(19,), groups=256)\n",
       "            (1): Conv1d(256, 256, kernel_size=(1,), stride=(1,))\n",
       "          )\n",
       "          (norm): BatchNorm1d(256, eps=1e-05, momentum=0.1, affine=True, track_running_stats=True)\n",
       "          (act): ReLU()\n",
       "          (drop): Dropout(p=0, inplace=False)\n",
       "        )\n",
       "        (1): QuartzSubblock(\n",
       "          (conv): Sequential(\n",
       "            (0): Conv1d(256, 256, kernel_size=(39,), stride=(1,), padding=(19,), groups=256)\n",
       "            (1): Conv1d(256, 256, kernel_size=(1,), stride=(1,))\n",
       "          )\n",
       "          (norm): BatchNorm1d(256, eps=1e-05, momentum=0.1, affine=True, track_running_stats=True)\n",
       "          (act): ReLU()\n",
       "          (drop): Dropout(p=0.0, inplace=False)\n",
       "        )\n",
       "        (2): QuartzSubblock(\n",
       "          (conv): Sequential(\n",
       "            (0): Conv1d(256, 256, kernel_size=(39,), stride=(1,), padding=(19,), groups=256)\n",
       "            (1): Conv1d(256, 256, kernel_size=(1,), stride=(1,))\n",
       "          )\n",
       "          (norm): BatchNorm1d(256, eps=1e-05, momentum=0.1, affine=True, track_running_stats=True)\n",
       "          (act): ReLU()\n",
       "          (drop): Dropout(p=0.0, inplace=False)\n",
       "        )\n",
       "        (3): QuartzSubblock(\n",
       "          (conv): Sequential(\n",
       "            (0): Conv1d(256, 256, kernel_size=(39,), stride=(1,), padding=(19,), groups=256)\n",
       "            (1): Conv1d(256, 256, kernel_size=(1,), stride=(1,))\n",
       "          )\n",
       "          (norm): BatchNorm1d(256, eps=1e-05, momentum=0.1, affine=True, track_running_stats=True)\n",
       "          (act): ReLU()\n",
       "          (drop): Dropout(p=0.0, inplace=False)\n",
       "        )\n",
       "      )\n",
       "      (res_subblock): QuartzSubblock(\n",
       "        (conv): Sequential(\n",
       "          (0): Conv1d(256, 256, kernel_size=(39,), stride=(1,), padding=(19,), groups=256)\n",
       "          (1): Conv1d(256, 256, kernel_size=(1,), stride=(1,))\n",
       "        )\n",
       "        (norm): BatchNorm1d(256, eps=1e-05, momentum=0.1, affine=True, track_running_stats=True)\n",
       "        (act): ReLU()\n",
       "        (drop): Dropout(p=0, inplace=False)\n",
       "      )\n",
       "      (res_conv): Conv1d(256, 256, kernel_size=(1,), stride=(1,))\n",
       "      (res_norm): BatchNorm1d(256, eps=1e-05, momentum=0.1, affine=True, track_running_stats=True)\n",
       "    )\n",
       "    (6): QuartzBlock(\n",
       "      (subblocks): Sequential(\n",
       "        (0): QuartzSubblock(\n",
       "          (conv): Sequential(\n",
       "            (0): Conv1d(256, 256, kernel_size=(39,), stride=(1,), padding=(19,), groups=256)\n",
       "            (1): Conv1d(256, 256, kernel_size=(1,), stride=(1,))\n",
       "          )\n",
       "          (norm): BatchNorm1d(256, eps=1e-05, momentum=0.1, affine=True, track_running_stats=True)\n",
       "          (act): ReLU()\n",
       "          (drop): Dropout(p=0, inplace=False)\n",
       "        )\n",
       "        (1): QuartzSubblock(\n",
       "          (conv): Sequential(\n",
       "            (0): Conv1d(256, 256, kernel_size=(39,), stride=(1,), padding=(19,), groups=256)\n",
       "            (1): Conv1d(256, 256, kernel_size=(1,), stride=(1,))\n",
       "          )\n",
       "          (norm): BatchNorm1d(256, eps=1e-05, momentum=0.1, affine=True, track_running_stats=True)\n",
       "          (act): ReLU()\n",
       "          (drop): Dropout(p=0.0, inplace=False)\n",
       "        )\n",
       "        (2): QuartzSubblock(\n",
       "          (conv): Sequential(\n",
       "            (0): Conv1d(256, 256, kernel_size=(39,), stride=(1,), padding=(19,), groups=256)\n",
       "            (1): Conv1d(256, 256, kernel_size=(1,), stride=(1,))\n",
       "          )\n",
       "          (norm): BatchNorm1d(256, eps=1e-05, momentum=0.1, affine=True, track_running_stats=True)\n",
       "          (act): ReLU()\n",
       "          (drop): Dropout(p=0.0, inplace=False)\n",
       "        )\n",
       "        (3): QuartzSubblock(\n",
       "          (conv): Sequential(\n",
       "            (0): Conv1d(256, 256, kernel_size=(39,), stride=(1,), padding=(19,), groups=256)\n",
       "            (1): Conv1d(256, 256, kernel_size=(1,), stride=(1,))\n",
       "          )\n",
       "          (norm): BatchNorm1d(256, eps=1e-05, momentum=0.1, affine=True, track_running_stats=True)\n",
       "          (act): ReLU()\n",
       "          (drop): Dropout(p=0.0, inplace=False)\n",
       "        )\n",
       "      )\n",
       "      (res_subblock): QuartzSubblock(\n",
       "        (conv): Sequential(\n",
       "          (0): Conv1d(256, 256, kernel_size=(39,), stride=(1,), padding=(19,), groups=256)\n",
       "          (1): Conv1d(256, 256, kernel_size=(1,), stride=(1,))\n",
       "        )\n",
       "        (norm): BatchNorm1d(256, eps=1e-05, momentum=0.1, affine=True, track_running_stats=True)\n",
       "        (act): ReLU()\n",
       "        (drop): Dropout(p=0, inplace=False)\n",
       "      )\n",
       "      (res_conv): Conv1d(256, 256, kernel_size=(1,), stride=(1,))\n",
       "      (res_norm): BatchNorm1d(256, eps=1e-05, momentum=0.1, affine=True, track_running_stats=True)\n",
       "    )\n",
       "    (7): QuartzBlock(\n",
       "      (subblocks): Sequential(\n",
       "        (0): QuartzSubblock(\n",
       "          (conv): Sequential(\n",
       "            (0): Conv1d(256, 256, kernel_size=(51,), stride=(1,), padding=(25,), groups=256)\n",
       "            (1): Conv1d(256, 512, kernel_size=(1,), stride=(1,))\n",
       "          )\n",
       "          (norm): BatchNorm1d(512, eps=1e-05, momentum=0.1, affine=True, track_running_stats=True)\n",
       "          (act): ReLU()\n",
       "          (drop): Dropout(p=0, inplace=False)\n",
       "        )\n",
       "        (1): QuartzSubblock(\n",
       "          (conv): Sequential(\n",
       "            (0): Conv1d(512, 512, kernel_size=(51,), stride=(1,), padding=(25,), groups=512)\n",
       "            (1): Conv1d(512, 512, kernel_size=(1,), stride=(1,))\n",
       "          )\n",
       "          (norm): BatchNorm1d(512, eps=1e-05, momentum=0.1, affine=True, track_running_stats=True)\n",
       "          (act): ReLU()\n",
       "          (drop): Dropout(p=0.0, inplace=False)\n",
       "        )\n",
       "        (2): QuartzSubblock(\n",
       "          (conv): Sequential(\n",
       "            (0): Conv1d(512, 512, kernel_size=(51,), stride=(1,), padding=(25,), groups=512)\n",
       "            (1): Conv1d(512, 512, kernel_size=(1,), stride=(1,))\n",
       "          )\n",
       "          (norm): BatchNorm1d(512, eps=1e-05, momentum=0.1, affine=True, track_running_stats=True)\n",
       "          (act): ReLU()\n",
       "          (drop): Dropout(p=0.0, inplace=False)\n",
       "        )\n",
       "        (3): QuartzSubblock(\n",
       "          (conv): Sequential(\n",
       "            (0): Conv1d(512, 512, kernel_size=(51,), stride=(1,), padding=(25,), groups=512)\n",
       "            (1): Conv1d(512, 512, kernel_size=(1,), stride=(1,))\n",
       "          )\n",
       "          (norm): BatchNorm1d(512, eps=1e-05, momentum=0.1, affine=True, track_running_stats=True)\n",
       "          (act): ReLU()\n",
       "          (drop): Dropout(p=0.0, inplace=False)\n",
       "        )\n",
       "      )\n",
       "      (res_subblock): QuartzSubblock(\n",
       "        (conv): Sequential(\n",
       "          (0): Conv1d(512, 512, kernel_size=(51,), stride=(1,), padding=(25,), groups=512)\n",
       "          (1): Conv1d(512, 512, kernel_size=(1,), stride=(1,))\n",
       "        )\n",
       "        (norm): BatchNorm1d(512, eps=1e-05, momentum=0.1, affine=True, track_running_stats=True)\n",
       "        (act): ReLU()\n",
       "        (drop): Dropout(p=0, inplace=False)\n",
       "      )\n",
       "      (res_conv): Conv1d(256, 512, kernel_size=(1,), stride=(1,))\n",
       "      (res_norm): BatchNorm1d(512, eps=1e-05, momentum=0.1, affine=True, track_running_stats=True)\n",
       "    )\n",
       "    (8): QuartzBlock(\n",
       "      (subblocks): Sequential(\n",
       "        (0): QuartzSubblock(\n",
       "          (conv): Sequential(\n",
       "            (0): Conv1d(512, 512, kernel_size=(51,), stride=(1,), padding=(25,), groups=512)\n",
       "            (1): Conv1d(512, 512, kernel_size=(1,), stride=(1,))\n",
       "          )\n",
       "          (norm): BatchNorm1d(512, eps=1e-05, momentum=0.1, affine=True, track_running_stats=True)\n",
       "          (act): ReLU()\n",
       "          (drop): Dropout(p=0, inplace=False)\n",
       "        )\n",
       "        (1): QuartzSubblock(\n",
       "          (conv): Sequential(\n",
       "            (0): Conv1d(512, 512, kernel_size=(51,), stride=(1,), padding=(25,), groups=512)\n",
       "            (1): Conv1d(512, 512, kernel_size=(1,), stride=(1,))\n",
       "          )\n",
       "          (norm): BatchNorm1d(512, eps=1e-05, momentum=0.1, affine=True, track_running_stats=True)\n",
       "          (act): ReLU()\n",
       "          (drop): Dropout(p=0.0, inplace=False)\n",
       "        )\n",
       "        (2): QuartzSubblock(\n",
       "          (conv): Sequential(\n",
       "            (0): Conv1d(512, 512, kernel_size=(51,), stride=(1,), padding=(25,), groups=512)\n",
       "            (1): Conv1d(512, 512, kernel_size=(1,), stride=(1,))\n",
       "          )\n",
       "          (norm): BatchNorm1d(512, eps=1e-05, momentum=0.1, affine=True, track_running_stats=True)\n",
       "          (act): ReLU()\n",
       "          (drop): Dropout(p=0.0, inplace=False)\n",
       "        )\n",
       "        (3): QuartzSubblock(\n",
       "          (conv): Sequential(\n",
       "            (0): Conv1d(512, 512, kernel_size=(51,), stride=(1,), padding=(25,), groups=512)\n",
       "            (1): Conv1d(512, 512, kernel_size=(1,), stride=(1,))\n",
       "          )\n",
       "          (norm): BatchNorm1d(512, eps=1e-05, momentum=0.1, affine=True, track_running_stats=True)\n",
       "          (act): ReLU()\n",
       "          (drop): Dropout(p=0.0, inplace=False)\n",
       "        )\n",
       "      )\n",
       "      (res_subblock): QuartzSubblock(\n",
       "        (conv): Sequential(\n",
       "          (0): Conv1d(512, 512, kernel_size=(51,), stride=(1,), padding=(25,), groups=512)\n",
       "          (1): Conv1d(512, 512, kernel_size=(1,), stride=(1,))\n",
       "        )\n",
       "        (norm): BatchNorm1d(512, eps=1e-05, momentum=0.1, affine=True, track_running_stats=True)\n",
       "        (act): ReLU()\n",
       "        (drop): Dropout(p=0, inplace=False)\n",
       "      )\n",
       "      (res_conv): Conv1d(512, 512, kernel_size=(1,), stride=(1,))\n",
       "      (res_norm): BatchNorm1d(512, eps=1e-05, momentum=0.1, affine=True, track_running_stats=True)\n",
       "    )\n",
       "    (9): QuartzBlock(\n",
       "      (subblocks): Sequential(\n",
       "        (0): QuartzSubblock(\n",
       "          (conv): Sequential(\n",
       "            (0): Conv1d(512, 512, kernel_size=(51,), stride=(1,), padding=(25,), groups=512)\n",
       "            (1): Conv1d(512, 512, kernel_size=(1,), stride=(1,))\n",
       "          )\n",
       "          (norm): BatchNorm1d(512, eps=1e-05, momentum=0.1, affine=True, track_running_stats=True)\n",
       "          (act): ReLU()\n",
       "          (drop): Dropout(p=0, inplace=False)\n",
       "        )\n",
       "        (1): QuartzSubblock(\n",
       "          (conv): Sequential(\n",
       "            (0): Conv1d(512, 512, kernel_size=(51,), stride=(1,), padding=(25,), groups=512)\n",
       "            (1): Conv1d(512, 512, kernel_size=(1,), stride=(1,))\n",
       "          )\n",
       "          (norm): BatchNorm1d(512, eps=1e-05, momentum=0.1, affine=True, track_running_stats=True)\n",
       "          (act): ReLU()\n",
       "          (drop): Dropout(p=0.0, inplace=False)\n",
       "        )\n",
       "        (2): QuartzSubblock(\n",
       "          (conv): Sequential(\n",
       "            (0): Conv1d(512, 512, kernel_size=(51,), stride=(1,), padding=(25,), groups=512)\n",
       "            (1): Conv1d(512, 512, kernel_size=(1,), stride=(1,))\n",
       "          )\n",
       "          (norm): BatchNorm1d(512, eps=1e-05, momentum=0.1, affine=True, track_running_stats=True)\n",
       "          (act): ReLU()\n",
       "          (drop): Dropout(p=0.0, inplace=False)\n",
       "        )\n",
       "        (3): QuartzSubblock(\n",
       "          (conv): Sequential(\n",
       "            (0): Conv1d(512, 512, kernel_size=(51,), stride=(1,), padding=(25,), groups=512)\n",
       "            (1): Conv1d(512, 512, kernel_size=(1,), stride=(1,))\n",
       "          )\n",
       "          (norm): BatchNorm1d(512, eps=1e-05, momentum=0.1, affine=True, track_running_stats=True)\n",
       "          (act): ReLU()\n",
       "          (drop): Dropout(p=0.0, inplace=False)\n",
       "        )\n",
       "      )\n",
       "      (res_subblock): QuartzSubblock(\n",
       "        (conv): Sequential(\n",
       "          (0): Conv1d(512, 512, kernel_size=(51,), stride=(1,), padding=(25,), groups=512)\n",
       "          (1): Conv1d(512, 512, kernel_size=(1,), stride=(1,))\n",
       "        )\n",
       "        (norm): BatchNorm1d(512, eps=1e-05, momentum=0.1, affine=True, track_running_stats=True)\n",
       "        (act): ReLU()\n",
       "        (drop): Dropout(p=0, inplace=False)\n",
       "      )\n",
       "      (res_conv): Conv1d(512, 512, kernel_size=(1,), stride=(1,))\n",
       "      (res_norm): BatchNorm1d(512, eps=1e-05, momentum=0.1, affine=True, track_running_stats=True)\n",
       "    )\n",
       "    (10): QuartzBlock(\n",
       "      (subblocks): Sequential(\n",
       "        (0): QuartzSubblock(\n",
       "          (conv): Sequential(\n",
       "            (0): Conv1d(512, 512, kernel_size=(63,), stride=(1,), padding=(31,), groups=512)\n",
       "            (1): Conv1d(512, 512, kernel_size=(1,), stride=(1,))\n",
       "          )\n",
       "          (norm): BatchNorm1d(512, eps=1e-05, momentum=0.1, affine=True, track_running_stats=True)\n",
       "          (act): ReLU()\n",
       "          (drop): Dropout(p=0, inplace=False)\n",
       "        )\n",
       "        (1): QuartzSubblock(\n",
       "          (conv): Sequential(\n",
       "            (0): Conv1d(512, 512, kernel_size=(63,), stride=(1,), padding=(31,), groups=512)\n",
       "            (1): Conv1d(512, 512, kernel_size=(1,), stride=(1,))\n",
       "          )\n",
       "          (norm): BatchNorm1d(512, eps=1e-05, momentum=0.1, affine=True, track_running_stats=True)\n",
       "          (act): ReLU()\n",
       "          (drop): Dropout(p=0.0, inplace=False)\n",
       "        )\n",
       "        (2): QuartzSubblock(\n",
       "          (conv): Sequential(\n",
       "            (0): Conv1d(512, 512, kernel_size=(63,), stride=(1,), padding=(31,), groups=512)\n",
       "            (1): Conv1d(512, 512, kernel_size=(1,), stride=(1,))\n",
       "          )\n",
       "          (norm): BatchNorm1d(512, eps=1e-05, momentum=0.1, affine=True, track_running_stats=True)\n",
       "          (act): ReLU()\n",
       "          (drop): Dropout(p=0.0, inplace=False)\n",
       "        )\n",
       "        (3): QuartzSubblock(\n",
       "          (conv): Sequential(\n",
       "            (0): Conv1d(512, 512, kernel_size=(63,), stride=(1,), padding=(31,), groups=512)\n",
       "            (1): Conv1d(512, 512, kernel_size=(1,), stride=(1,))\n",
       "          )\n",
       "          (norm): BatchNorm1d(512, eps=1e-05, momentum=0.1, affine=True, track_running_stats=True)\n",
       "          (act): ReLU()\n",
       "          (drop): Dropout(p=0.0, inplace=False)\n",
       "        )\n",
       "      )\n",
       "      (res_subblock): QuartzSubblock(\n",
       "        (conv): Sequential(\n",
       "          (0): Conv1d(512, 512, kernel_size=(63,), stride=(1,), padding=(31,), groups=512)\n",
       "          (1): Conv1d(512, 512, kernel_size=(1,), stride=(1,))\n",
       "        )\n",
       "        (norm): BatchNorm1d(512, eps=1e-05, momentum=0.1, affine=True, track_running_stats=True)\n",
       "        (act): ReLU()\n",
       "        (drop): Dropout(p=0, inplace=False)\n",
       "      )\n",
       "      (res_conv): Conv1d(512, 512, kernel_size=(1,), stride=(1,))\n",
       "      (res_norm): BatchNorm1d(512, eps=1e-05, momentum=0.1, affine=True, track_running_stats=True)\n",
       "    )\n",
       "    (11): QuartzBlock(\n",
       "      (subblocks): Sequential(\n",
       "        (0): QuartzSubblock(\n",
       "          (conv): Sequential(\n",
       "            (0): Conv1d(512, 512, kernel_size=(63,), stride=(1,), padding=(31,), groups=512)\n",
       "            (1): Conv1d(512, 512, kernel_size=(1,), stride=(1,))\n",
       "          )\n",
       "          (norm): BatchNorm1d(512, eps=1e-05, momentum=0.1, affine=True, track_running_stats=True)\n",
       "          (act): ReLU()\n",
       "          (drop): Dropout(p=0, inplace=False)\n",
       "        )\n",
       "        (1): QuartzSubblock(\n",
       "          (conv): Sequential(\n",
       "            (0): Conv1d(512, 512, kernel_size=(63,), stride=(1,), padding=(31,), groups=512)\n",
       "            (1): Conv1d(512, 512, kernel_size=(1,), stride=(1,))\n",
       "          )\n",
       "          (norm): BatchNorm1d(512, eps=1e-05, momentum=0.1, affine=True, track_running_stats=True)\n",
       "          (act): ReLU()\n",
       "          (drop): Dropout(p=0.0, inplace=False)\n",
       "        )\n",
       "        (2): QuartzSubblock(\n",
       "          (conv): Sequential(\n",
       "            (0): Conv1d(512, 512, kernel_size=(63,), stride=(1,), padding=(31,), groups=512)\n",
       "            (1): Conv1d(512, 512, kernel_size=(1,), stride=(1,))\n",
       "          )\n",
       "          (norm): BatchNorm1d(512, eps=1e-05, momentum=0.1, affine=True, track_running_stats=True)\n",
       "          (act): ReLU()\n",
       "          (drop): Dropout(p=0.0, inplace=False)\n",
       "        )\n",
       "        (3): QuartzSubblock(\n",
       "          (conv): Sequential(\n",
       "            (0): Conv1d(512, 512, kernel_size=(63,), stride=(1,), padding=(31,), groups=512)\n",
       "            (1): Conv1d(512, 512, kernel_size=(1,), stride=(1,))\n",
       "          )\n",
       "          (norm): BatchNorm1d(512, eps=1e-05, momentum=0.1, affine=True, track_running_stats=True)\n",
       "          (act): ReLU()\n",
       "          (drop): Dropout(p=0.0, inplace=False)\n",
       "        )\n",
       "      )\n",
       "      (res_subblock): QuartzSubblock(\n",
       "        (conv): Sequential(\n",
       "          (0): Conv1d(512, 512, kernel_size=(63,), stride=(1,), padding=(31,), groups=512)\n",
       "          (1): Conv1d(512, 512, kernel_size=(1,), stride=(1,))\n",
       "        )\n",
       "        (norm): BatchNorm1d(512, eps=1e-05, momentum=0.1, affine=True, track_running_stats=True)\n",
       "        (act): ReLU()\n",
       "        (drop): Dropout(p=0, inplace=False)\n",
       "      )\n",
       "      (res_conv): Conv1d(512, 512, kernel_size=(1,), stride=(1,))\n",
       "      (res_norm): BatchNorm1d(512, eps=1e-05, momentum=0.1, affine=True, track_running_stats=True)\n",
       "    )\n",
       "    (12): QuartzBlock(\n",
       "      (subblocks): Sequential(\n",
       "        (0): QuartzSubblock(\n",
       "          (conv): Sequential(\n",
       "            (0): Conv1d(512, 512, kernel_size=(63,), stride=(1,), padding=(31,), groups=512)\n",
       "            (1): Conv1d(512, 512, kernel_size=(1,), stride=(1,))\n",
       "          )\n",
       "          (norm): BatchNorm1d(512, eps=1e-05, momentum=0.1, affine=True, track_running_stats=True)\n",
       "          (act): ReLU()\n",
       "          (drop): Dropout(p=0, inplace=False)\n",
       "        )\n",
       "        (1): QuartzSubblock(\n",
       "          (conv): Sequential(\n",
       "            (0): Conv1d(512, 512, kernel_size=(63,), stride=(1,), padding=(31,), groups=512)\n",
       "            (1): Conv1d(512, 512, kernel_size=(1,), stride=(1,))\n",
       "          )\n",
       "          (norm): BatchNorm1d(512, eps=1e-05, momentum=0.1, affine=True, track_running_stats=True)\n",
       "          (act): ReLU()\n",
       "          (drop): Dropout(p=0.0, inplace=False)\n",
       "        )\n",
       "        (2): QuartzSubblock(\n",
       "          (conv): Sequential(\n",
       "            (0): Conv1d(512, 512, kernel_size=(63,), stride=(1,), padding=(31,), groups=512)\n",
       "            (1): Conv1d(512, 512, kernel_size=(1,), stride=(1,))\n",
       "          )\n",
       "          (norm): BatchNorm1d(512, eps=1e-05, momentum=0.1, affine=True, track_running_stats=True)\n",
       "          (act): ReLU()\n",
       "          (drop): Dropout(p=0.0, inplace=False)\n",
       "        )\n",
       "        (3): QuartzSubblock(\n",
       "          (conv): Sequential(\n",
       "            (0): Conv1d(512, 512, kernel_size=(63,), stride=(1,), padding=(31,), groups=512)\n",
       "            (1): Conv1d(512, 512, kernel_size=(1,), stride=(1,))\n",
       "          )\n",
       "          (norm): BatchNorm1d(512, eps=1e-05, momentum=0.1, affine=True, track_running_stats=True)\n",
       "          (act): ReLU()\n",
       "          (drop): Dropout(p=0.0, inplace=False)\n",
       "        )\n",
       "      )\n",
       "      (res_subblock): QuartzSubblock(\n",
       "        (conv): Sequential(\n",
       "          (0): Conv1d(512, 512, kernel_size=(63,), stride=(1,), padding=(31,), groups=512)\n",
       "          (1): Conv1d(512, 512, kernel_size=(1,), stride=(1,))\n",
       "        )\n",
       "        (norm): BatchNorm1d(512, eps=1e-05, momentum=0.1, affine=True, track_running_stats=True)\n",
       "        (act): ReLU()\n",
       "        (drop): Dropout(p=0, inplace=False)\n",
       "      )\n",
       "      (res_conv): Conv1d(512, 512, kernel_size=(1,), stride=(1,))\n",
       "      (res_norm): BatchNorm1d(512, eps=1e-05, momentum=0.1, affine=True, track_running_stats=True)\n",
       "    )\n",
       "    (13): QuartzBlock(\n",
       "      (subblocks): Sequential(\n",
       "        (0): QuartzSubblock(\n",
       "          (conv): Sequential(\n",
       "            (0): Conv1d(512, 512, kernel_size=(75,), stride=(1,), padding=(37,), groups=512)\n",
       "            (1): Conv1d(512, 512, kernel_size=(1,), stride=(1,))\n",
       "          )\n",
       "          (norm): BatchNorm1d(512, eps=1e-05, momentum=0.1, affine=True, track_running_stats=True)\n",
       "          (act): ReLU()\n",
       "          (drop): Dropout(p=0, inplace=False)\n",
       "        )\n",
       "        (1): QuartzSubblock(\n",
       "          (conv): Sequential(\n",
       "            (0): Conv1d(512, 512, kernel_size=(75,), stride=(1,), padding=(37,), groups=512)\n",
       "            (1): Conv1d(512, 512, kernel_size=(1,), stride=(1,))\n",
       "          )\n",
       "          (norm): BatchNorm1d(512, eps=1e-05, momentum=0.1, affine=True, track_running_stats=True)\n",
       "          (act): ReLU()\n",
       "          (drop): Dropout(p=0.0, inplace=False)\n",
       "        )\n",
       "        (2): QuartzSubblock(\n",
       "          (conv): Sequential(\n",
       "            (0): Conv1d(512, 512, kernel_size=(75,), stride=(1,), padding=(37,), groups=512)\n",
       "            (1): Conv1d(512, 512, kernel_size=(1,), stride=(1,))\n",
       "          )\n",
       "          (norm): BatchNorm1d(512, eps=1e-05, momentum=0.1, affine=True, track_running_stats=True)\n",
       "          (act): ReLU()\n",
       "          (drop): Dropout(p=0.0, inplace=False)\n",
       "        )\n",
       "        (3): QuartzSubblock(\n",
       "          (conv): Sequential(\n",
       "            (0): Conv1d(512, 512, kernel_size=(75,), stride=(1,), padding=(37,), groups=512)\n",
       "            (1): Conv1d(512, 512, kernel_size=(1,), stride=(1,))\n",
       "          )\n",
       "          (norm): BatchNorm1d(512, eps=1e-05, momentum=0.1, affine=True, track_running_stats=True)\n",
       "          (act): ReLU()\n",
       "          (drop): Dropout(p=0.0, inplace=False)\n",
       "        )\n",
       "      )\n",
       "      (res_subblock): QuartzSubblock(\n",
       "        (conv): Sequential(\n",
       "          (0): Conv1d(512, 512, kernel_size=(75,), stride=(1,), padding=(37,), groups=512)\n",
       "          (1): Conv1d(512, 512, kernel_size=(1,), stride=(1,))\n",
       "        )\n",
       "        (norm): BatchNorm1d(512, eps=1e-05, momentum=0.1, affine=True, track_running_stats=True)\n",
       "        (act): ReLU()\n",
       "        (drop): Dropout(p=0, inplace=False)\n",
       "      )\n",
       "      (res_conv): Conv1d(512, 512, kernel_size=(1,), stride=(1,))\n",
       "      (res_norm): BatchNorm1d(512, eps=1e-05, momentum=0.1, affine=True, track_running_stats=True)\n",
       "    )\n",
       "    (14): QuartzBlock(\n",
       "      (subblocks): Sequential(\n",
       "        (0): QuartzSubblock(\n",
       "          (conv): Sequential(\n",
       "            (0): Conv1d(512, 512, kernel_size=(75,), stride=(1,), padding=(37,), groups=512)\n",
       "            (1): Conv1d(512, 512, kernel_size=(1,), stride=(1,))\n",
       "          )\n",
       "          (norm): BatchNorm1d(512, eps=1e-05, momentum=0.1, affine=True, track_running_stats=True)\n",
       "          (act): ReLU()\n",
       "          (drop): Dropout(p=0, inplace=False)\n",
       "        )\n",
       "        (1): QuartzSubblock(\n",
       "          (conv): Sequential(\n",
       "            (0): Conv1d(512, 512, kernel_size=(75,), stride=(1,), padding=(37,), groups=512)\n",
       "            (1): Conv1d(512, 512, kernel_size=(1,), stride=(1,))\n",
       "          )\n",
       "          (norm): BatchNorm1d(512, eps=1e-05, momentum=0.1, affine=True, track_running_stats=True)\n",
       "          (act): ReLU()\n",
       "          (drop): Dropout(p=0.0, inplace=False)\n",
       "        )\n",
       "        (2): QuartzSubblock(\n",
       "          (conv): Sequential(\n",
       "            (0): Conv1d(512, 512, kernel_size=(75,), stride=(1,), padding=(37,), groups=512)\n",
       "            (1): Conv1d(512, 512, kernel_size=(1,), stride=(1,))\n",
       "          )\n",
       "          (norm): BatchNorm1d(512, eps=1e-05, momentum=0.1, affine=True, track_running_stats=True)\n",
       "          (act): ReLU()\n",
       "          (drop): Dropout(p=0.0, inplace=False)\n",
       "        )\n",
       "        (3): QuartzSubblock(\n",
       "          (conv): Sequential(\n",
       "            (0): Conv1d(512, 512, kernel_size=(75,), stride=(1,), padding=(37,), groups=512)\n",
       "            (1): Conv1d(512, 512, kernel_size=(1,), stride=(1,))\n",
       "          )\n",
       "          (norm): BatchNorm1d(512, eps=1e-05, momentum=0.1, affine=True, track_running_stats=True)\n",
       "          (act): ReLU()\n",
       "          (drop): Dropout(p=0.0, inplace=False)\n",
       "        )\n",
       "      )\n",
       "      (res_subblock): QuartzSubblock(\n",
       "        (conv): Sequential(\n",
       "          (0): Conv1d(512, 512, kernel_size=(75,), stride=(1,), padding=(37,), groups=512)\n",
       "          (1): Conv1d(512, 512, kernel_size=(1,), stride=(1,))\n",
       "        )\n",
       "        (norm): BatchNorm1d(512, eps=1e-05, momentum=0.1, affine=True, track_running_stats=True)\n",
       "        (act): ReLU()\n",
       "        (drop): Dropout(p=0, inplace=False)\n",
       "      )\n",
       "      (res_conv): Conv1d(512, 512, kernel_size=(1,), stride=(1,))\n",
       "      (res_norm): BatchNorm1d(512, eps=1e-05, momentum=0.1, affine=True, track_running_stats=True)\n",
       "    )\n",
       "    (15): QuartzBlock(\n",
       "      (subblocks): Sequential(\n",
       "        (0): QuartzSubblock(\n",
       "          (conv): Sequential(\n",
       "            (0): Conv1d(512, 512, kernel_size=(75,), stride=(1,), padding=(37,), groups=512)\n",
       "            (1): Conv1d(512, 512, kernel_size=(1,), stride=(1,))\n",
       "          )\n",
       "          (norm): BatchNorm1d(512, eps=1e-05, momentum=0.1, affine=True, track_running_stats=True)\n",
       "          (act): ReLU()\n",
       "          (drop): Dropout(p=0, inplace=False)\n",
       "        )\n",
       "        (1): QuartzSubblock(\n",
       "          (conv): Sequential(\n",
       "            (0): Conv1d(512, 512, kernel_size=(75,), stride=(1,), padding=(37,), groups=512)\n",
       "            (1): Conv1d(512, 512, kernel_size=(1,), stride=(1,))\n",
       "          )\n",
       "          (norm): BatchNorm1d(512, eps=1e-05, momentum=0.1, affine=True, track_running_stats=True)\n",
       "          (act): ReLU()\n",
       "          (drop): Dropout(p=0.0, inplace=False)\n",
       "        )\n",
       "        (2): QuartzSubblock(\n",
       "          (conv): Sequential(\n",
       "            (0): Conv1d(512, 512, kernel_size=(75,), stride=(1,), padding=(37,), groups=512)\n",
       "            (1): Conv1d(512, 512, kernel_size=(1,), stride=(1,))\n",
       "          )\n",
       "          (norm): BatchNorm1d(512, eps=1e-05, momentum=0.1, affine=True, track_running_stats=True)\n",
       "          (act): ReLU()\n",
       "          (drop): Dropout(p=0.0, inplace=False)\n",
       "        )\n",
       "        (3): QuartzSubblock(\n",
       "          (conv): Sequential(\n",
       "            (0): Conv1d(512, 512, kernel_size=(75,), stride=(1,), padding=(37,), groups=512)\n",
       "            (1): Conv1d(512, 512, kernel_size=(1,), stride=(1,))\n",
       "          )\n",
       "          (norm): BatchNorm1d(512, eps=1e-05, momentum=0.1, affine=True, track_running_stats=True)\n",
       "          (act): ReLU()\n",
       "          (drop): Dropout(p=0.0, inplace=False)\n",
       "        )\n",
       "      )\n",
       "      (res_subblock): QuartzSubblock(\n",
       "        (conv): Sequential(\n",
       "          (0): Conv1d(512, 512, kernel_size=(75,), stride=(1,), padding=(37,), groups=512)\n",
       "          (1): Conv1d(512, 512, kernel_size=(1,), stride=(1,))\n",
       "        )\n",
       "        (norm): BatchNorm1d(512, eps=1e-05, momentum=0.1, affine=True, track_running_stats=True)\n",
       "        (act): ReLU()\n",
       "        (drop): Dropout(p=0, inplace=False)\n",
       "      )\n",
       "      (res_conv): Conv1d(512, 512, kernel_size=(1,), stride=(1,))\n",
       "      (res_norm): BatchNorm1d(512, eps=1e-05, momentum=0.1, affine=True, track_running_stats=True)\n",
       "    )\n",
       "    (16): NonSeparableQuartzSubblock(\n",
       "      (conv): Conv1d(512, 512, kernel_size=(87,), stride=(1,), padding=(43,))\n",
       "      (norm): BatchNorm1d(512, eps=1e-05, momentum=0.1, affine=True, track_running_stats=True)\n",
       "      (act): ReLU()\n",
       "      (drop): Dropout(p=0.4, inplace=False)\n",
       "    )\n",
       "    (17): NonSeparableQuartzSubblock(\n",
       "      (conv): Conv1d(512, 1024, kernel_size=(1,), stride=(1,), dilation=(2,))\n",
       "      (norm): BatchNorm1d(1024, eps=1e-05, momentum=0.1, affine=True, track_running_stats=True)\n",
       "      (act): ReLU()\n",
       "      (drop): Dropout(p=0.4, inplace=False)\n",
       "    )\n",
       "    (18): Conv1d(1024, 62, kernel_size=(1,), stride=(1,))\n",
       "    (19): LogSoftmax(dim=1)\n",
       "  )\n",
       ")"
      ]
     },
     "execution_count": 34,
     "metadata": {},
     "output_type": "execute_result"
    }
   ],
   "source": [
    "model"
   ]
  },
  {
   "cell_type": "code",
   "execution_count": 35,
   "id": "fcb82334-a564-4503-86c4-e6eddce76986",
   "metadata": {},
   "outputs": [
    {
     "data": {
      "text/plain": [
       "torch.Size([32, 80, 896])"
      ]
     },
     "execution_count": 35,
     "metadata": {},
     "output_type": "execute_result"
    }
   ],
   "source": [
    "b[0].shape"
   ]
  },
  {
   "cell_type": "code",
   "execution_count": 36,
   "id": "86b8d8d2-a90a-42e4-ac68-88af3749eae4",
   "metadata": {},
   "outputs": [],
   "source": [
    "x,y = b"
   ]
  },
  {
   "cell_type": "code",
   "execution_count": 81,
   "id": "30806568-fdbe-4d7f-bb4a-52f5ed7dcf8b",
   "metadata": {
    "tags": []
   },
   "outputs": [
    {
     "name": "stdout",
     "output_type": "stream",
     "text": [
      "torch.Size([32, 62, 448])\n"
     ]
    }
   ],
   "source": [
    "with torch.no_grad():\n",
    "    out = model(x)\n",
    "    print(out.shape)"
   ]
  },
  {
   "cell_type": "code",
   "execution_count": 38,
   "id": "dc36ab1f-b4bd-44f9-8f63-31e4110fee5d",
   "metadata": {},
   "outputs": [],
   "source": [
    "model.zero_grad()"
   ]
  },
  {
   "cell_type": "code",
   "execution_count": 39,
   "id": "0139a533-f201-4f26-9518-4fd960f673da",
   "metadata": {},
   "outputs": [],
   "source": [
    "CTC = nn.CTCLoss()\n",
    "def ctc_loss_no_lens(preds, targs):\n",
    "    # preds = Tensor(torch.einsum(\"ijk->kij\",preds).cpu())\n",
    "    preds = Tensor(preds.permute(2,0,1).cpu())\n",
    "    preds_l = torch.full(fill_value = preds.shape[0], size = (preds.shape[1],) )#.cpu()\n",
    "    # targs_l = torch.full(fill_value = targs.shape[1], size = (targs.shape[0],))#.cpu()\n",
    "    # targs_l = targs.argmin(1)\n",
    "    targs_l = torch.where(targs[:,-1]==0, targs.argmin(1), targs.shape[1])-1\n",
    "    return CTC(preds, targs, preds_l, targs_l)"
   ]
  },
  {
   "cell_type": "code",
   "execution_count": 40,
   "id": "bfdd4c71-5149-408f-be99-92c7341c7383",
   "metadata": {},
   "outputs": [
    {
     "name": "stdout",
     "output_type": "stream",
     "text": [
      "TensorText(45.7698)\n"
     ]
    }
   ],
   "source": [
    "with torch.no_grad():\n",
    "    print(ctc_loss_no_lens(out, y))"
   ]
  },
  {
   "cell_type": "code",
   "execution_count": 41,
   "id": "fe6bdef5-006a-46e8-affa-c1810988042e",
   "metadata": {},
   "outputs": [],
   "source": [
    "def unpad(text):\n",
    "    return Pad_Chunk(0).decode(text)\n",
    "\n",
    "def ctc_decode(pred, empid = 0):\n",
    "    pred = pred.argmax(0)\n",
    "    dec = [empid]\n",
    "    for i in range(len(pred)):\n",
    "        cur = int(pred[i])\n",
    "        if cur != dec[-1]: dec.append(cur)\n",
    "    return [i for i in dec if i!=0]\n",
    "\n",
    "def ids_to_str(ids):\n",
    "    return ''.join([vocab[i] for i in ids])"
   ]
  },
  {
   "cell_type": "code",
   "execution_count": 42,
   "id": "caf9bc33-089a-4e8f-9cb8-613d69f6f44a",
   "metadata": {},
   "outputs": [],
   "source": [
    "def CER(inp, targ):\n",
    "    bs = inp.shape[0]\n",
    "    cer = 0\n",
    "    for i,t in zip(inp,targ):\n",
    "        i = ids_to_str(ctc_decode(i))\n",
    "        t = ids_to_str(unpad(t))\n",
    "        cer += editdistance.eval(i,t)/len(t)\n",
    "    return cer / bs * 100"
   ]
  },
  {
   "cell_type": "code",
   "execution_count": 43,
   "id": "040ec705-2185-4b73-a5b3-83c1a4f57d1c",
   "metadata": {},
   "outputs": [],
   "source": [
    "def ctc_accuracy(inp, targ):\n",
    "    bs = inp.shape[0]\n",
    "    cer = 0\n",
    "    for i,t in zip(inp,targ):\n",
    "        i = ids_to_str(ctc_decode(i))\n",
    "        t = ids_to_str(unpad(t))\n",
    "        cer += i==t\n",
    "    return cer / bs"
   ]
  },
  {
   "cell_type": "code",
   "execution_count": 44,
   "id": "a1897f03-3d33-4608-a5cc-4ccef28e3b6c",
   "metadata": {
    "tags": []
   },
   "outputs": [
    {
     "data": {
      "text/plain": [
       "1164.0288716887235"
      ]
     },
     "execution_count": 44,
     "metadata": {},
     "output_type": "execute_result"
    }
   ],
   "source": [
    "CER(out,y)"
   ]
  },
  {
   "cell_type": "code",
   "execution_count": 45,
   "id": "af0a0a71-9e04-4173-8fd6-e35dfed4b033",
   "metadata": {},
   "outputs": [
    {
     "data": {
      "text/plain": [
       "0.0"
      ]
     },
     "execution_count": 45,
     "metadata": {},
     "output_type": "execute_result"
    }
   ],
   "source": [
    "ctc_accuracy(out,y)"
   ]
  },
  {
   "cell_type": "code",
   "execution_count": 46,
   "id": "24789338-370a-447e-83c1-424608c716fe",
   "metadata": {},
   "outputs": [],
   "source": [
    "import wandb"
   ]
  },
  {
   "cell_type": "code",
   "execution_count": 47,
   "id": "eaeb59b9-ac41-42da-b855-398def655f7f",
   "metadata": {},
   "outputs": [
    {
     "name": "stderr",
     "output_type": "stream",
     "text": [
      "Failed to detect the name of this notebook, you can set it manually with the WANDB_NOTEBOOK_NAME environment variable to enable code saving.\n",
      "\u001b[34m\u001b[1mwandb\u001b[0m: Currently logged in as: \u001b[33mmizoru\u001b[0m (use `wandb login --relogin` to force relogin)\n"
     ]
    },
    {
     "data": {
      "text/plain": [
       "True"
      ]
     },
     "execution_count": 47,
     "metadata": {},
     "output_type": "execute_result"
    }
   ],
   "source": [
    "wandb.login()"
   ]
  },
  {
   "cell_type": "code",
   "execution_count": 48,
   "id": "c679463a-2547-4459-8602-81e2c564e841",
   "metadata": {
    "collapsed": true,
    "jupyter": {
     "outputs_hidden": true
    },
    "tags": []
   },
   "outputs": [
    {
     "name": "stderr",
     "output_type": "stream",
     "text": [
      "Traceback (most recent call last):\n",
      "  File \"<frozen importlib._bootstrap>\", line 175, in _get_module_lock\n",
      "KeyError: 'hashlib'\n",
      "\n",
      "During handling of the above exception, another exception occurred:\n",
      "\n",
      "Traceback (most recent call last):\n",
      "  File \"<string>\", line 1, in <module>\n",
      "  File \"/home/studio-lab-user/.conda/envs/default/lib/python3.9/multiprocessing/spawn.py\", line 116, in spawn_main\n",
      "    exitcode = _main(fd, parent_sentinel)\n",
      "  File \"/home/studio-lab-user/.conda/envs/default/lib/python3.9/multiprocessing/spawn.py\", line 125, in _main\n",
      "    prepare(preparation_data)\n",
      "  File \"/home/studio-lab-user/.conda/envs/default/lib/python3.9/multiprocessing/spawn.py\", line 234, in prepare\n",
      "    _fixup_main_from_name(data['init_main_from_name'])\n",
      "  File \"/home/studio-lab-user/.conda/envs/default/lib/python3.9/multiprocessing/spawn.py\", line 258, in _fixup_main_from_name\n",
      "    main_content = runpy.run_module(mod_name,\n",
      "  File \"/home/studio-lab-user/.conda/envs/default/lib/python3.9/runpy.py\", line 206, in run_module\n",
      "    mod_name, mod_spec, code = _get_module_details(mod_name)\n",
      "  File \"/home/studio-lab-user/.conda/envs/default/lib/python3.9/runpy.py\", line 111, in _get_module_details\n",
      "    __import__(pkg_name)\n",
      "  File \"/home/studio-lab-user/.conda/envs/default/lib/python3.9/site-packages/wandb/__init__.py\", line 32, in <module>\n",
      "    from wandb import sdk as wandb_sdk\n",
      "  File \"/home/studio-lab-user/.conda/envs/default/lib/python3.9/site-packages/wandb/sdk/__init__.py\", line 7, in <module>\n",
      "    from . import wandb_helper as helper  # noqa: F401\n",
      "  File \"/home/studio-lab-user/.conda/envs/default/lib/python3.9/site-packages/wandb/sdk/wandb_helper.py\", line 8, in <module>\n",
      "    from .lib import config_util\n",
      "  File \"/home/studio-lab-user/.conda/envs/default/lib/python3.9/site-packages/wandb/sdk/lib/config_util.py\", line 9, in <module>\n",
      "    from wandb.util import load_yaml\n",
      "  File \"/home/studio-lab-user/.conda/envs/default/lib/python3.9/site-packages/wandb/util.py\", line 13, in <module>\n",
      "    import hashlib\n",
      "  File \"<frozen importlib._bootstrap>\", line 1004, in _find_and_load\n",
      "  File \"<frozen importlib._bootstrap>\", line 157, in __enter__\n",
      "  File \"<frozen importlib._bootstrap>\", line 175, in _get_module_lock\n",
      "KeyboardInterrupt\n"
     ]
    },
    {
     "name": "stdout",
     "output_type": "stream",
     "text": [
      "Problem at: /tmp/ipykernel_3446/3017355667.py 1 <module>\n"
     ]
    },
    {
     "ename": "KeyboardInterrupt",
     "evalue": "",
     "output_type": "error",
     "traceback": [
      "\u001b[0;31m---------------------------------------------------------------------------\u001b[0m",
      "\u001b[0;31mKeyboardInterrupt\u001b[0m                         Traceback (most recent call last)",
      "\u001b[0;32m/tmp/ipykernel_3446/3017355667.py\u001b[0m in \u001b[0;36m<module>\u001b[0;34m\u001b[0m\n\u001b[0;32m----> 1\u001b[0;31m \u001b[0mwandb\u001b[0m\u001b[0;34m.\u001b[0m\u001b[0minit\u001b[0m\u001b[0;34m(\u001b[0m\u001b[0mname\u001b[0m \u001b[0;34m=\u001b[0m \u001b[0;34m'quartz-2'\u001b[0m\u001b[0;34m)\u001b[0m\u001b[0;34m\u001b[0m\u001b[0;34m\u001b[0m\u001b[0m\n\u001b[0m",
      "\u001b[0;32m~/.conda/envs/default/lib/python3.9/site-packages/wandb/sdk/wandb_init.py\u001b[0m in \u001b[0;36minit\u001b[0;34m(job_type, dir, config, project, entity, reinit, tags, group, name, notes, magic, config_exclude_keys, config_include_keys, anonymous, mode, allow_val_change, resume, force, tensorboard, sync_tensorboard, monitor_gym, save_code, id, settings)\u001b[0m\n\u001b[1;32m    971\u001b[0m         \u001b[0;32massert\u001b[0m \u001b[0mlogger\u001b[0m\u001b[0;34m\u001b[0m\u001b[0;34m\u001b[0m\u001b[0m\n\u001b[1;32m    972\u001b[0m         \u001b[0mlogger\u001b[0m\u001b[0;34m.\u001b[0m\u001b[0mwarning\u001b[0m\u001b[0;34m(\u001b[0m\u001b[0;34m\"interrupted\"\u001b[0m\u001b[0;34m,\u001b[0m \u001b[0mexc_info\u001b[0m\u001b[0;34m=\u001b[0m\u001b[0me\u001b[0m\u001b[0;34m)\u001b[0m\u001b[0;34m\u001b[0m\u001b[0;34m\u001b[0m\u001b[0m\n\u001b[0;32m--> 973\u001b[0;31m         \u001b[0;32mraise\u001b[0m \u001b[0me\u001b[0m\u001b[0;34m\u001b[0m\u001b[0;34m\u001b[0m\u001b[0m\n\u001b[0m\u001b[1;32m    974\u001b[0m     \u001b[0;32mexcept\u001b[0m \u001b[0mException\u001b[0m \u001b[0;32mas\u001b[0m \u001b[0me\u001b[0m\u001b[0;34m:\u001b[0m\u001b[0;34m\u001b[0m\u001b[0;34m\u001b[0m\u001b[0m\n\u001b[1;32m    975\u001b[0m         \u001b[0merror_seen\u001b[0m \u001b[0;34m=\u001b[0m \u001b[0me\u001b[0m\u001b[0;34m\u001b[0m\u001b[0;34m\u001b[0m\u001b[0m\n",
      "\u001b[0;32m~/.conda/envs/default/lib/python3.9/site-packages/wandb/sdk/wandb_init.py\u001b[0m in \u001b[0;36minit\u001b[0;34m(job_type, dir, config, project, entity, reinit, tags, group, name, notes, magic, config_exclude_keys, config_include_keys, anonymous, mode, allow_val_change, resume, force, tensorboard, sync_tensorboard, monitor_gym, save_code, id, settings)\u001b[0m\n\u001b[1;32m    949\u001b[0m         \u001b[0mexcept_exit\u001b[0m \u001b[0;34m=\u001b[0m \u001b[0mwi\u001b[0m\u001b[0;34m.\u001b[0m\u001b[0msettings\u001b[0m\u001b[0;34m.\u001b[0m\u001b[0m_except_exit\u001b[0m\u001b[0;34m\u001b[0m\u001b[0;34m\u001b[0m\u001b[0m\n\u001b[1;32m    950\u001b[0m         \u001b[0;32mtry\u001b[0m\u001b[0;34m:\u001b[0m\u001b[0;34m\u001b[0m\u001b[0;34m\u001b[0m\u001b[0m\n\u001b[0;32m--> 951\u001b[0;31m             \u001b[0mrun\u001b[0m \u001b[0;34m=\u001b[0m \u001b[0mwi\u001b[0m\u001b[0;34m.\u001b[0m\u001b[0minit\u001b[0m\u001b[0;34m(\u001b[0m\u001b[0;34m)\u001b[0m\u001b[0;34m\u001b[0m\u001b[0;34m\u001b[0m\u001b[0m\n\u001b[0m\u001b[1;32m    952\u001b[0m             \u001b[0mexcept_exit\u001b[0m \u001b[0;34m=\u001b[0m \u001b[0mwi\u001b[0m\u001b[0;34m.\u001b[0m\u001b[0msettings\u001b[0m\u001b[0;34m.\u001b[0m\u001b[0m_except_exit\u001b[0m\u001b[0;34m\u001b[0m\u001b[0;34m\u001b[0m\u001b[0m\n\u001b[1;32m    953\u001b[0m         \u001b[0;32mexcept\u001b[0m \u001b[0;34m(\u001b[0m\u001b[0mKeyboardInterrupt\u001b[0m\u001b[0;34m,\u001b[0m \u001b[0mException\u001b[0m\u001b[0;34m)\u001b[0m \u001b[0;32mas\u001b[0m \u001b[0me\u001b[0m\u001b[0;34m:\u001b[0m\u001b[0;34m\u001b[0m\u001b[0;34m\u001b[0m\u001b[0m\n",
      "\u001b[0;32m~/.conda/envs/default/lib/python3.9/site-packages/wandb/sdk/wandb_init.py\u001b[0m in \u001b[0;36minit\u001b[0;34m(self)\u001b[0m\n\u001b[1;32m    580\u001b[0m         \u001b[0;32melse\u001b[0m\u001b[0;34m:\u001b[0m\u001b[0;34m\u001b[0m\u001b[0;34m\u001b[0m\u001b[0m\n\u001b[1;32m    581\u001b[0m             \u001b[0mlogger\u001b[0m\u001b[0;34m.\u001b[0m\u001b[0minfo\u001b[0m\u001b[0;34m(\u001b[0m\u001b[0;34m\"communicating current version\"\u001b[0m\u001b[0;34m)\u001b[0m\u001b[0;34m\u001b[0m\u001b[0;34m\u001b[0m\u001b[0m\n\u001b[0;32m--> 582\u001b[0;31m             check = backend.interface.communicate_check_version(\n\u001b[0m\u001b[1;32m    583\u001b[0m                 \u001b[0mcurrent_version\u001b[0m\u001b[0;34m=\u001b[0m\u001b[0mwandb\u001b[0m\u001b[0;34m.\u001b[0m\u001b[0m__version__\u001b[0m\u001b[0;34m\u001b[0m\u001b[0;34m\u001b[0m\u001b[0m\n\u001b[1;32m    584\u001b[0m             )\n",
      "\u001b[0;32m~/.conda/envs/default/lib/python3.9/site-packages/wandb/sdk/interface/interface.py\u001b[0m in \u001b[0;36mcommunicate_check_version\u001b[0;34m(self, current_version)\u001b[0m\n\u001b[1;32m     90\u001b[0m         \u001b[0;32mif\u001b[0m \u001b[0mcurrent_version\u001b[0m\u001b[0;34m:\u001b[0m\u001b[0;34m\u001b[0m\u001b[0;34m\u001b[0m\u001b[0m\n\u001b[1;32m     91\u001b[0m             \u001b[0mcheck_version\u001b[0m\u001b[0;34m.\u001b[0m\u001b[0mcurrent_version\u001b[0m \u001b[0;34m=\u001b[0m \u001b[0mcurrent_version\u001b[0m\u001b[0;34m\u001b[0m\u001b[0;34m\u001b[0m\u001b[0m\n\u001b[0;32m---> 92\u001b[0;31m         \u001b[0mret\u001b[0m \u001b[0;34m=\u001b[0m \u001b[0mself\u001b[0m\u001b[0;34m.\u001b[0m\u001b[0m_communicate_check_version\u001b[0m\u001b[0;34m(\u001b[0m\u001b[0mcheck_version\u001b[0m\u001b[0;34m)\u001b[0m\u001b[0;34m\u001b[0m\u001b[0;34m\u001b[0m\u001b[0m\n\u001b[0m\u001b[1;32m     93\u001b[0m         \u001b[0;32mreturn\u001b[0m \u001b[0mret\u001b[0m\u001b[0;34m\u001b[0m\u001b[0;34m\u001b[0m\u001b[0m\n\u001b[1;32m     94\u001b[0m \u001b[0;34m\u001b[0m\u001b[0m\n",
      "\u001b[0;32m~/.conda/envs/default/lib/python3.9/site-packages/wandb/sdk/interface/interface_shared.py\u001b[0m in \u001b[0;36m_communicate_check_version\u001b[0;34m(self, check_version)\u001b[0m\n\u001b[1;32m    411\u001b[0m     ) -> Optional[pb.CheckVersionResponse]:\n\u001b[1;32m    412\u001b[0m         \u001b[0mrec\u001b[0m \u001b[0;34m=\u001b[0m \u001b[0mself\u001b[0m\u001b[0;34m.\u001b[0m\u001b[0m_make_request\u001b[0m\u001b[0;34m(\u001b[0m\u001b[0mcheck_version\u001b[0m\u001b[0;34m=\u001b[0m\u001b[0mcheck_version\u001b[0m\u001b[0;34m)\u001b[0m\u001b[0;34m\u001b[0m\u001b[0;34m\u001b[0m\u001b[0m\n\u001b[0;32m--> 413\u001b[0;31m         \u001b[0mresult\u001b[0m \u001b[0;34m=\u001b[0m \u001b[0mself\u001b[0m\u001b[0;34m.\u001b[0m\u001b[0m_communicate\u001b[0m\u001b[0;34m(\u001b[0m\u001b[0mrec\u001b[0m\u001b[0;34m)\u001b[0m\u001b[0;34m\u001b[0m\u001b[0;34m\u001b[0m\u001b[0m\n\u001b[0m\u001b[1;32m    414\u001b[0m         \u001b[0;32mif\u001b[0m \u001b[0mresult\u001b[0m \u001b[0;32mis\u001b[0m \u001b[0;32mNone\u001b[0m\u001b[0;34m:\u001b[0m\u001b[0;34m\u001b[0m\u001b[0;34m\u001b[0m\u001b[0m\n\u001b[1;32m    415\u001b[0m             \u001b[0;31m# Note: timeouts handled by callers: wandb_init.py\u001b[0m\u001b[0;34m\u001b[0m\u001b[0;34m\u001b[0m\u001b[0m\n",
      "\u001b[0;32m~/.conda/envs/default/lib/python3.9/site-packages/wandb/sdk/interface/interface_shared.py\u001b[0m in \u001b[0;36m_communicate\u001b[0;34m(self, rec, timeout, local)\u001b[0m\n\u001b[1;32m    211\u001b[0m         \u001b[0mself\u001b[0m\u001b[0;34m,\u001b[0m \u001b[0mrec\u001b[0m\u001b[0;34m:\u001b[0m \u001b[0mpb\u001b[0m\u001b[0;34m.\u001b[0m\u001b[0mRecord\u001b[0m\u001b[0;34m,\u001b[0m \u001b[0mtimeout\u001b[0m\u001b[0;34m:\u001b[0m \u001b[0mOptional\u001b[0m\u001b[0;34m[\u001b[0m\u001b[0mint\u001b[0m\u001b[0;34m]\u001b[0m \u001b[0;34m=\u001b[0m \u001b[0;36m5\u001b[0m\u001b[0;34m,\u001b[0m \u001b[0mlocal\u001b[0m\u001b[0;34m:\u001b[0m \u001b[0mbool\u001b[0m \u001b[0;34m=\u001b[0m \u001b[0;32mNone\u001b[0m\u001b[0;34m\u001b[0m\u001b[0;34m\u001b[0m\u001b[0m\n\u001b[1;32m    212\u001b[0m     ) -> Optional[pb.Result]:\n\u001b[0;32m--> 213\u001b[0;31m         \u001b[0;32mreturn\u001b[0m \u001b[0mself\u001b[0m\u001b[0;34m.\u001b[0m\u001b[0m_communicate_async\u001b[0m\u001b[0;34m(\u001b[0m\u001b[0mrec\u001b[0m\u001b[0;34m,\u001b[0m \u001b[0mlocal\u001b[0m\u001b[0;34m=\u001b[0m\u001b[0mlocal\u001b[0m\u001b[0;34m)\u001b[0m\u001b[0;34m.\u001b[0m\u001b[0mget\u001b[0m\u001b[0;34m(\u001b[0m\u001b[0mtimeout\u001b[0m\u001b[0;34m=\u001b[0m\u001b[0mtimeout\u001b[0m\u001b[0;34m)\u001b[0m\u001b[0;34m\u001b[0m\u001b[0;34m\u001b[0m\u001b[0m\n\u001b[0m\u001b[1;32m    214\u001b[0m \u001b[0;34m\u001b[0m\u001b[0m\n\u001b[1;32m    215\u001b[0m     \u001b[0;32mdef\u001b[0m \u001b[0m_communicate_async\u001b[0m\u001b[0;34m(\u001b[0m\u001b[0mself\u001b[0m\u001b[0;34m,\u001b[0m \u001b[0mrec\u001b[0m\u001b[0;34m:\u001b[0m \u001b[0mpb\u001b[0m\u001b[0;34m.\u001b[0m\u001b[0mRecord\u001b[0m\u001b[0;34m,\u001b[0m \u001b[0mlocal\u001b[0m\u001b[0;34m:\u001b[0m \u001b[0mbool\u001b[0m \u001b[0;34m=\u001b[0m \u001b[0;32mNone\u001b[0m\u001b[0;34m)\u001b[0m \u001b[0;34m->\u001b[0m \u001b[0mMessageFuture\u001b[0m\u001b[0;34m:\u001b[0m\u001b[0;34m\u001b[0m\u001b[0;34m\u001b[0m\u001b[0m\n",
      "\u001b[0;32m~/.conda/envs/default/lib/python3.9/site-packages/wandb/sdk/interface/router.py\u001b[0m in \u001b[0;36mget\u001b[0;34m(self, timeout)\u001b[0m\n\u001b[1;32m     35\u001b[0m \u001b[0;34m\u001b[0m\u001b[0m\n\u001b[1;32m     36\u001b[0m     \u001b[0;32mdef\u001b[0m \u001b[0mget\u001b[0m\u001b[0;34m(\u001b[0m\u001b[0mself\u001b[0m\u001b[0;34m,\u001b[0m \u001b[0mtimeout\u001b[0m\u001b[0;34m:\u001b[0m \u001b[0mint\u001b[0m \u001b[0;34m=\u001b[0m \u001b[0;32mNone\u001b[0m\u001b[0;34m)\u001b[0m \u001b[0;34m->\u001b[0m \u001b[0mOptional\u001b[0m\u001b[0;34m[\u001b[0m\u001b[0;34m\"pb.Result\"\u001b[0m\u001b[0;34m]\u001b[0m\u001b[0;34m:\u001b[0m\u001b[0;34m\u001b[0m\u001b[0;34m\u001b[0m\u001b[0m\n\u001b[0;32m---> 37\u001b[0;31m         \u001b[0mis_set\u001b[0m \u001b[0;34m=\u001b[0m \u001b[0mself\u001b[0m\u001b[0;34m.\u001b[0m\u001b[0m_object_ready\u001b[0m\u001b[0;34m.\u001b[0m\u001b[0mwait\u001b[0m\u001b[0;34m(\u001b[0m\u001b[0mtimeout\u001b[0m\u001b[0;34m)\u001b[0m\u001b[0;34m\u001b[0m\u001b[0;34m\u001b[0m\u001b[0m\n\u001b[0m\u001b[1;32m     38\u001b[0m         \u001b[0;32mif\u001b[0m \u001b[0mis_set\u001b[0m \u001b[0;32mand\u001b[0m \u001b[0mself\u001b[0m\u001b[0;34m.\u001b[0m\u001b[0m_object\u001b[0m\u001b[0;34m:\u001b[0m\u001b[0;34m\u001b[0m\u001b[0;34m\u001b[0m\u001b[0m\n\u001b[1;32m     39\u001b[0m             \u001b[0;32mreturn\u001b[0m \u001b[0mself\u001b[0m\u001b[0;34m.\u001b[0m\u001b[0m_object\u001b[0m\u001b[0;34m\u001b[0m\u001b[0;34m\u001b[0m\u001b[0m\n",
      "\u001b[0;32m~/.conda/envs/default/lib/python3.9/threading.py\u001b[0m in \u001b[0;36mwait\u001b[0;34m(self, timeout)\u001b[0m\n\u001b[1;32m    572\u001b[0m             \u001b[0msignaled\u001b[0m \u001b[0;34m=\u001b[0m \u001b[0mself\u001b[0m\u001b[0;34m.\u001b[0m\u001b[0m_flag\u001b[0m\u001b[0;34m\u001b[0m\u001b[0;34m\u001b[0m\u001b[0m\n\u001b[1;32m    573\u001b[0m             \u001b[0;32mif\u001b[0m \u001b[0;32mnot\u001b[0m \u001b[0msignaled\u001b[0m\u001b[0;34m:\u001b[0m\u001b[0;34m\u001b[0m\u001b[0;34m\u001b[0m\u001b[0m\n\u001b[0;32m--> 574\u001b[0;31m                 \u001b[0msignaled\u001b[0m \u001b[0;34m=\u001b[0m \u001b[0mself\u001b[0m\u001b[0;34m.\u001b[0m\u001b[0m_cond\u001b[0m\u001b[0;34m.\u001b[0m\u001b[0mwait\u001b[0m\u001b[0;34m(\u001b[0m\u001b[0mtimeout\u001b[0m\u001b[0;34m)\u001b[0m\u001b[0;34m\u001b[0m\u001b[0;34m\u001b[0m\u001b[0m\n\u001b[0m\u001b[1;32m    575\u001b[0m             \u001b[0;32mreturn\u001b[0m \u001b[0msignaled\u001b[0m\u001b[0;34m\u001b[0m\u001b[0;34m\u001b[0m\u001b[0m\n\u001b[1;32m    576\u001b[0m \u001b[0;34m\u001b[0m\u001b[0m\n",
      "\u001b[0;32m~/.conda/envs/default/lib/python3.9/threading.py\u001b[0m in \u001b[0;36mwait\u001b[0;34m(self, timeout)\u001b[0m\n\u001b[1;32m    314\u001b[0m             \u001b[0;32melse\u001b[0m\u001b[0;34m:\u001b[0m\u001b[0;34m\u001b[0m\u001b[0;34m\u001b[0m\u001b[0m\n\u001b[1;32m    315\u001b[0m                 \u001b[0;32mif\u001b[0m \u001b[0mtimeout\u001b[0m \u001b[0;34m>\u001b[0m \u001b[0;36m0\u001b[0m\u001b[0;34m:\u001b[0m\u001b[0;34m\u001b[0m\u001b[0;34m\u001b[0m\u001b[0m\n\u001b[0;32m--> 316\u001b[0;31m                     \u001b[0mgotit\u001b[0m \u001b[0;34m=\u001b[0m \u001b[0mwaiter\u001b[0m\u001b[0;34m.\u001b[0m\u001b[0macquire\u001b[0m\u001b[0;34m(\u001b[0m\u001b[0;32mTrue\u001b[0m\u001b[0;34m,\u001b[0m \u001b[0mtimeout\u001b[0m\u001b[0;34m)\u001b[0m\u001b[0;34m\u001b[0m\u001b[0;34m\u001b[0m\u001b[0m\n\u001b[0m\u001b[1;32m    317\u001b[0m                 \u001b[0;32melse\u001b[0m\u001b[0;34m:\u001b[0m\u001b[0;34m\u001b[0m\u001b[0;34m\u001b[0m\u001b[0m\n\u001b[1;32m    318\u001b[0m                     \u001b[0mgotit\u001b[0m \u001b[0;34m=\u001b[0m \u001b[0mwaiter\u001b[0m\u001b[0;34m.\u001b[0m\u001b[0macquire\u001b[0m\u001b[0;34m(\u001b[0m\u001b[0;32mFalse\u001b[0m\u001b[0;34m)\u001b[0m\u001b[0;34m\u001b[0m\u001b[0;34m\u001b[0m\u001b[0m\n",
      "\u001b[0;31mKeyboardInterrupt\u001b[0m: "
     ]
    }
   ],
   "source": [
    "wandb.init(name = 'quartz-2')"
   ]
  },
  {
   "cell_type": "code",
   "execution_count": 49,
   "id": "c93c275d-5011-4cc9-b34c-42f99a1884cc",
   "metadata": {},
   "outputs": [],
   "source": [
    "learn = Learner(dls, model, loss_func=ctc_loss_no_lens)#, metrics = [CER, ctc_accuracy])\n",
    "               # cbs=[WandbCallback(), SaveModelCallback()])"
   ]
  },
  {
   "cell_type": "code",
   "execution_count": null,
   "id": "17d4cea8-e527-4ed3-9432-08fbde101c7c",
   "metadata": {
    "tags": []
   },
   "outputs": [],
   "source": [
    "learn.lr_find()#1e-2, 10)"
   ]
  },
  {
   "cell_type": "code",
   "execution_count": 50,
   "id": "fdeca283-bea3-4347-813b-f6f6dc03afe7",
   "metadata": {
    "tags": []
   },
   "outputs": [
    {
     "data": {
      "text/html": [
       "<table border=\"1\" class=\"dataframe\">\n",
       "  <thead>\n",
       "    <tr style=\"text-align: left;\">\n",
       "      <th>epoch</th>\n",
       "      <th>train_loss</th>\n",
       "      <th>valid_loss</th>\n",
       "      <th>time</th>\n",
       "    </tr>\n",
       "  </thead>\n",
       "  <tbody>\n",
       "    <tr>\n",
       "      <td>0</td>\n",
       "      <td>45.794041</td>\n",
       "      <td>None</td>\n",
       "      <td>00:03</td>\n",
       "    </tr>\n",
       "    <tr>\n",
       "      <td>1</td>\n",
       "      <td>42.270813</td>\n",
       "      <td>None</td>\n",
       "      <td>00:01</td>\n",
       "    </tr>\n",
       "    <tr>\n",
       "      <td>2</td>\n",
       "      <td>31.618332</td>\n",
       "      <td>None</td>\n",
       "      <td>00:01</td>\n",
       "    </tr>\n",
       "    <tr>\n",
       "      <td>3</td>\n",
       "      <td>30.775858</td>\n",
       "      <td>None</td>\n",
       "      <td>00:01</td>\n",
       "    </tr>\n",
       "    <tr>\n",
       "      <td>4</td>\n",
       "      <td>26.495108</td>\n",
       "      <td>None</td>\n",
       "      <td>00:01</td>\n",
       "    </tr>\n",
       "    <tr>\n",
       "      <td>5</td>\n",
       "      <td>23.900511</td>\n",
       "      <td>None</td>\n",
       "      <td>00:01</td>\n",
       "    </tr>\n",
       "    <tr>\n",
       "      <td>6</td>\n",
       "      <td>21.511526</td>\n",
       "      <td>None</td>\n",
       "      <td>00:01</td>\n",
       "    </tr>\n",
       "    <tr>\n",
       "      <td>7</td>\n",
       "      <td>19.600885</td>\n",
       "      <td>None</td>\n",
       "      <td>00:01</td>\n",
       "    </tr>\n",
       "    <tr>\n",
       "      <td>8</td>\n",
       "      <td>18.050348</td>\n",
       "      <td>None</td>\n",
       "      <td>00:01</td>\n",
       "    </tr>\n",
       "  </tbody>\n",
       "</table>"
      ],
      "text/plain": [
       "<IPython.core.display.HTML object>"
      ]
     },
     "metadata": {},
     "output_type": "display_data"
    },
    {
     "name": "stderr",
     "output_type": "stream",
     "text": [
      "/home/studio-lab-user/.conda/envs/default/lib/python3.9/site-packages/fastprogress/fastprogress.py:74: UserWarning: Your generator is empty.\n",
      "  warn(\"Your generator is empty.\")\n"
     ]
    }
   ],
   "source": [
    "learn.fit_one_cycle(9, 1e-1)"
   ]
  },
  {
   "cell_type": "code",
   "execution_count": 52,
   "id": "c67825aa-ddfe-46bd-88b5-cb01aa39d4f9",
   "metadata": {
    "tags": []
   },
   "outputs": [
    {
     "data": {
      "text/html": [
       "<table border=\"1\" class=\"dataframe\">\n",
       "  <thead>\n",
       "    <tr style=\"text-align: left;\">\n",
       "      <th>epoch</th>\n",
       "      <th>train_loss</th>\n",
       "      <th>valid_loss</th>\n",
       "      <th>time</th>\n",
       "    </tr>\n",
       "  </thead>\n",
       "  <tbody>\n",
       "    <tr>\n",
       "      <td>0</td>\n",
       "      <td>4.398030</td>\n",
       "      <td>None</td>\n",
       "      <td>00:01</td>\n",
       "    </tr>\n",
       "    <tr>\n",
       "      <td>1</td>\n",
       "      <td>4.361251</td>\n",
       "      <td>None</td>\n",
       "      <td>00:01</td>\n",
       "    </tr>\n",
       "    <tr>\n",
       "      <td>2</td>\n",
       "      <td>4.326033</td>\n",
       "      <td>None</td>\n",
       "      <td>00:01</td>\n",
       "    </tr>\n",
       "    <tr>\n",
       "      <td>3</td>\n",
       "      <td>4.295382</td>\n",
       "      <td>None</td>\n",
       "      <td>00:01</td>\n",
       "    </tr>\n",
       "    <tr>\n",
       "      <td>4</td>\n",
       "      <td>4.269645</td>\n",
       "      <td>None</td>\n",
       "      <td>00:01</td>\n",
       "    </tr>\n",
       "    <tr>\n",
       "      <td>5</td>\n",
       "      <td>4.247984</td>\n",
       "      <td>None</td>\n",
       "      <td>00:01</td>\n",
       "    </tr>\n",
       "    <tr>\n",
       "      <td>6</td>\n",
       "      <td>4.232148</td>\n",
       "      <td>None</td>\n",
       "      <td>00:01</td>\n",
       "    </tr>\n",
       "    <tr>\n",
       "      <td>7</td>\n",
       "      <td>4.221066</td>\n",
       "      <td>None</td>\n",
       "      <td>00:01</td>\n",
       "    </tr>\n",
       "    <tr>\n",
       "      <td>8</td>\n",
       "      <td>4.214651</td>\n",
       "      <td>None</td>\n",
       "      <td>00:01</td>\n",
       "    </tr>\n",
       "    <tr>\n",
       "      <td>9</td>\n",
       "      <td>4.211399</td>\n",
       "      <td>None</td>\n",
       "      <td>00:01</td>\n",
       "    </tr>\n",
       "    <tr>\n",
       "      <td>10</td>\n",
       "      <td>4.211099</td>\n",
       "      <td>None</td>\n",
       "      <td>00:01</td>\n",
       "    </tr>\n",
       "    <tr>\n",
       "      <td>11</td>\n",
       "      <td>4.212340</td>\n",
       "      <td>None</td>\n",
       "      <td>00:01</td>\n",
       "    </tr>\n",
       "    <tr>\n",
       "      <td>12</td>\n",
       "      <td>4.213503</td>\n",
       "      <td>None</td>\n",
       "      <td>00:01</td>\n",
       "    </tr>\n",
       "    <tr>\n",
       "      <td>13</td>\n",
       "      <td>4.213769</td>\n",
       "      <td>None</td>\n",
       "      <td>00:01</td>\n",
       "    </tr>\n",
       "    <tr>\n",
       "      <td>14</td>\n",
       "      <td>4.212770</td>\n",
       "      <td>None</td>\n",
       "      <td>00:01</td>\n",
       "    </tr>\n",
       "  </tbody>\n",
       "</table>"
      ],
      "text/plain": [
       "<IPython.core.display.HTML object>"
      ]
     },
     "metadata": {},
     "output_type": "display_data"
    }
   ],
   "source": [
    "learn.fit(15,5e-3)"
   ]
  },
  {
   "cell_type": "code",
   "execution_count": 58,
   "id": "82ce6b72-8a69-408c-9bcf-4bfdb29c0258",
   "metadata": {
    "collapsed": true,
    "jupyter": {
     "outputs_hidden": true
    },
    "tags": []
   },
   "outputs": [
    {
     "data": {
      "text/plain": [
       "\u001b[0;31mType:\u001b[0m        Optimizer\n",
       "\u001b[0;31mString form:\u001b[0m <fastai.optimizer.Optimizer object at 0x7f74dad97ee0>\n",
       "\u001b[0;31mFile:\u001b[0m        ~/.conda/envs/default/lib/python3.9/site-packages/fastai/optimizer.py\n",
       "\u001b[0;31mSource:\u001b[0m     \n",
       "\u001b[0;32mclass\u001b[0m \u001b[0mOptimizer\u001b[0m\u001b[0;34m(\u001b[0m\u001b[0m_BaseOptimizer\u001b[0m\u001b[0;34m)\u001b[0m\u001b[0;34m:\u001b[0m\u001b[0;34m\u001b[0m\n",
       "\u001b[0;34m\u001b[0m    \u001b[0;34m\"Base optimizer class for the fastai library, updating `params` with `cbs`\"\u001b[0m\u001b[0;34m\u001b[0m\n",
       "\u001b[0;34m\u001b[0m    \u001b[0m_keep_on_clear\u001b[0m \u001b[0;34m=\u001b[0m \u001b[0;34m[\u001b[0m\u001b[0;34m'force_train'\u001b[0m\u001b[0;34m,\u001b[0m \u001b[0;34m'do_wd'\u001b[0m\u001b[0;34m]\u001b[0m\u001b[0;34m\u001b[0m\n",
       "\u001b[0;34m\u001b[0m    \u001b[0;32mdef\u001b[0m \u001b[0m__init__\u001b[0m\u001b[0;34m(\u001b[0m\u001b[0mself\u001b[0m\u001b[0;34m,\u001b[0m \u001b[0mparams\u001b[0m\u001b[0;34m,\u001b[0m \u001b[0mcbs\u001b[0m\u001b[0;34m,\u001b[0m \u001b[0mtrain_bn\u001b[0m\u001b[0;34m=\u001b[0m\u001b[0;32mTrue\u001b[0m\u001b[0;34m,\u001b[0m \u001b[0;34m**\u001b[0m\u001b[0mdefaults\u001b[0m\u001b[0;34m)\u001b[0m\u001b[0;34m:\u001b[0m\u001b[0;34m\u001b[0m\n",
       "\u001b[0;34m\u001b[0m        \u001b[0mparams\u001b[0m \u001b[0;34m=\u001b[0m \u001b[0mL\u001b[0m\u001b[0;34m(\u001b[0m\u001b[0mparams\u001b[0m\u001b[0;34m)\u001b[0m\u001b[0;34m\u001b[0m\n",
       "\u001b[0;34m\u001b[0m        \u001b[0mself\u001b[0m\u001b[0;34m.\u001b[0m\u001b[0mcbs\u001b[0m\u001b[0;34m,\u001b[0m\u001b[0mself\u001b[0m\u001b[0;34m.\u001b[0m\u001b[0mstate\u001b[0m\u001b[0;34m,\u001b[0m\u001b[0mself\u001b[0m\u001b[0;34m.\u001b[0m\u001b[0mtrain_bn\u001b[0m \u001b[0;34m=\u001b[0m \u001b[0mL\u001b[0m\u001b[0;34m(\u001b[0m\u001b[0mcbs\u001b[0m\u001b[0;34m)\u001b[0m\u001b[0;34m,\u001b[0m\u001b[0mdefaultdict\u001b[0m\u001b[0;34m(\u001b[0m\u001b[0mdict\u001b[0m\u001b[0;34m)\u001b[0m\u001b[0;34m,\u001b[0m\u001b[0mtrain_bn\u001b[0m\u001b[0;34m\u001b[0m\n",
       "\u001b[0;34m\u001b[0m        \u001b[0mdefaults\u001b[0m \u001b[0;34m=\u001b[0m \u001b[0mmerge\u001b[0m\u001b[0;34m(\u001b[0m\u001b[0;34m*\u001b[0m\u001b[0mself\u001b[0m\u001b[0;34m.\u001b[0m\u001b[0mcbs\u001b[0m\u001b[0;34m.\u001b[0m\u001b[0mattrgot\u001b[0m\u001b[0;34m(\u001b[0m\u001b[0;34m'defaults'\u001b[0m\u001b[0;34m)\u001b[0m\u001b[0;34m,\u001b[0m \u001b[0mdefaults\u001b[0m\u001b[0;34m)\u001b[0m\u001b[0;34m\u001b[0m\n",
       "\u001b[0;34m\u001b[0m        \u001b[0mself\u001b[0m\u001b[0;34m.\u001b[0m\u001b[0mparam_lists\u001b[0m \u001b[0;34m=\u001b[0m \u001b[0mL\u001b[0m\u001b[0;34m(\u001b[0m\u001b[0mL\u001b[0m\u001b[0;34m(\u001b[0m\u001b[0mp\u001b[0m\u001b[0;34m)\u001b[0m \u001b[0;32mfor\u001b[0m \u001b[0mp\u001b[0m \u001b[0;32min\u001b[0m \u001b[0mparams\u001b[0m\u001b[0;34m)\u001b[0m \u001b[0;32mif\u001b[0m \u001b[0misinstance\u001b[0m\u001b[0;34m(\u001b[0m\u001b[0mparams\u001b[0m\u001b[0;34m[\u001b[0m\u001b[0;36m0\u001b[0m\u001b[0;34m]\u001b[0m\u001b[0;34m,\u001b[0m \u001b[0;34m(\u001b[0m\u001b[0mL\u001b[0m\u001b[0;34m,\u001b[0m\u001b[0mlist\u001b[0m\u001b[0;34m)\u001b[0m\u001b[0;34m)\u001b[0m \u001b[0;32melse\u001b[0m \u001b[0mL\u001b[0m\u001b[0;34m(\u001b[0m\u001b[0;34m[\u001b[0m\u001b[0mparams\u001b[0m\u001b[0;34m]\u001b[0m\u001b[0;34m)\u001b[0m\u001b[0;34m\u001b[0m\n",
       "\u001b[0;34m\u001b[0m        \u001b[0mself\u001b[0m\u001b[0;34m.\u001b[0m\u001b[0mhypers\u001b[0m \u001b[0;34m=\u001b[0m \u001b[0mL\u001b[0m\u001b[0;34m(\u001b[0m\u001b[0;34m{\u001b[0m\u001b[0;34m}\u001b[0m \u001b[0;32mfor\u001b[0m \u001b[0m_\u001b[0m \u001b[0;32min\u001b[0m \u001b[0mrange_of\u001b[0m\u001b[0;34m(\u001b[0m\u001b[0mself\u001b[0m\u001b[0;34m.\u001b[0m\u001b[0mparam_lists\u001b[0m\u001b[0;34m)\u001b[0m\u001b[0;34m)\u001b[0m\u001b[0;34m\u001b[0m\n",
       "\u001b[0;34m\u001b[0m        \u001b[0mself\u001b[0m\u001b[0;34m.\u001b[0m\u001b[0mset_hypers\u001b[0m\u001b[0;34m(\u001b[0m\u001b[0;34m**\u001b[0m\u001b[0mdefaults\u001b[0m\u001b[0;34m)\u001b[0m\u001b[0;34m\u001b[0m\n",
       "\u001b[0;34m\u001b[0m        \u001b[0mself\u001b[0m\u001b[0;34m.\u001b[0m\u001b[0mfrozen_idx\u001b[0m \u001b[0;34m=\u001b[0m \u001b[0;36m0\u001b[0m\u001b[0;34m\u001b[0m\n",
       "\u001b[0;34m\u001b[0m\u001b[0;34m\u001b[0m\n",
       "\u001b[0;34m\u001b[0m    \u001b[0;32mdef\u001b[0m \u001b[0mzero_grad\u001b[0m\u001b[0;34m(\u001b[0m\u001b[0mself\u001b[0m\u001b[0;34m)\u001b[0m\u001b[0;34m:\u001b[0m\u001b[0;34m\u001b[0m\n",
       "\u001b[0;34m\u001b[0m        \u001b[0;32mfor\u001b[0m \u001b[0mp\u001b[0m\u001b[0;34m,\u001b[0m\u001b[0;34m*\u001b[0m\u001b[0m_\u001b[0m \u001b[0;32min\u001b[0m \u001b[0mself\u001b[0m\u001b[0;34m.\u001b[0m\u001b[0mall_params\u001b[0m\u001b[0;34m(\u001b[0m\u001b[0mwith_grad\u001b[0m\u001b[0;34m=\u001b[0m\u001b[0;32mTrue\u001b[0m\u001b[0;34m)\u001b[0m\u001b[0;34m:\u001b[0m\u001b[0;34m\u001b[0m\n",
       "\u001b[0;34m\u001b[0m            \u001b[0mp\u001b[0m\u001b[0;34m.\u001b[0m\u001b[0mgrad\u001b[0m\u001b[0;34m.\u001b[0m\u001b[0mdetach_\u001b[0m\u001b[0;34m(\u001b[0m\u001b[0;34m)\u001b[0m\u001b[0;34m\u001b[0m\n",
       "\u001b[0;34m\u001b[0m            \u001b[0mp\u001b[0m\u001b[0;34m.\u001b[0m\u001b[0mgrad\u001b[0m\u001b[0;34m.\u001b[0m\u001b[0mzero_\u001b[0m\u001b[0;34m(\u001b[0m\u001b[0;34m)\u001b[0m\u001b[0;34m\u001b[0m\n",
       "\u001b[0;34m\u001b[0m\u001b[0;34m\u001b[0m\n",
       "\u001b[0;34m\u001b[0m    \u001b[0;32mdef\u001b[0m \u001b[0mstep\u001b[0m\u001b[0;34m(\u001b[0m\u001b[0mself\u001b[0m\u001b[0;34m)\u001b[0m\u001b[0;34m:\u001b[0m\u001b[0;34m\u001b[0m\n",
       "\u001b[0;34m\u001b[0m        \u001b[0;32mfor\u001b[0m \u001b[0mp\u001b[0m\u001b[0;34m,\u001b[0m\u001b[0mpg\u001b[0m\u001b[0;34m,\u001b[0m\u001b[0mstate\u001b[0m\u001b[0;34m,\u001b[0m\u001b[0mhyper\u001b[0m \u001b[0;32min\u001b[0m \u001b[0mself\u001b[0m\u001b[0;34m.\u001b[0m\u001b[0mall_params\u001b[0m\u001b[0;34m(\u001b[0m\u001b[0mwith_grad\u001b[0m\u001b[0;34m=\u001b[0m\u001b[0;32mTrue\u001b[0m\u001b[0;34m)\u001b[0m\u001b[0;34m:\u001b[0m\u001b[0;34m\u001b[0m\n",
       "\u001b[0;34m\u001b[0m            \u001b[0;32mfor\u001b[0m \u001b[0mcb\u001b[0m \u001b[0;32min\u001b[0m \u001b[0mself\u001b[0m\u001b[0;34m.\u001b[0m\u001b[0mcbs\u001b[0m\u001b[0;34m:\u001b[0m \u001b[0mstate\u001b[0m \u001b[0;34m=\u001b[0m \u001b[0m_update\u001b[0m\u001b[0;34m(\u001b[0m\u001b[0mstate\u001b[0m\u001b[0;34m,\u001b[0m \u001b[0mcb\u001b[0m\u001b[0;34m(\u001b[0m\u001b[0mp\u001b[0m\u001b[0;34m,\u001b[0m \u001b[0;34m**\u001b[0m\u001b[0;34m{\u001b[0m\u001b[0;34m**\u001b[0m\u001b[0mstate\u001b[0m\u001b[0;34m,\u001b[0m \u001b[0;34m**\u001b[0m\u001b[0mhyper\u001b[0m\u001b[0;34m}\u001b[0m\u001b[0;34m)\u001b[0m\u001b[0;34m)\u001b[0m\u001b[0;34m\u001b[0m\n",
       "\u001b[0;34m\u001b[0m            \u001b[0mself\u001b[0m\u001b[0;34m.\u001b[0m\u001b[0mstate\u001b[0m\u001b[0;34m[\u001b[0m\u001b[0mp\u001b[0m\u001b[0;34m]\u001b[0m \u001b[0;34m=\u001b[0m \u001b[0mstate\u001b[0m\u001b[0;34m\u001b[0m\n",
       "\u001b[0;34m\u001b[0m\u001b[0;34m\u001b[0m\n",
       "\u001b[0;34m\u001b[0m    \u001b[0;32mdef\u001b[0m \u001b[0mclear_state\u001b[0m\u001b[0;34m(\u001b[0m\u001b[0mself\u001b[0m\u001b[0;34m)\u001b[0m\u001b[0;34m:\u001b[0m\u001b[0;34m\u001b[0m\n",
       "\u001b[0;34m\u001b[0m        \u001b[0;32mfor\u001b[0m \u001b[0mp\u001b[0m\u001b[0;34m,\u001b[0m\u001b[0mpg\u001b[0m\u001b[0;34m,\u001b[0m\u001b[0mstate\u001b[0m\u001b[0;34m,\u001b[0m\u001b[0mhyper\u001b[0m \u001b[0;32min\u001b[0m \u001b[0mself\u001b[0m\u001b[0;34m.\u001b[0m\u001b[0mall_params\u001b[0m\u001b[0;34m(\u001b[0m\u001b[0;34m)\u001b[0m\u001b[0;34m:\u001b[0m\u001b[0;34m\u001b[0m\n",
       "\u001b[0;34m\u001b[0m            \u001b[0mself\u001b[0m\u001b[0;34m.\u001b[0m\u001b[0mstate\u001b[0m\u001b[0;34m[\u001b[0m\u001b[0mp\u001b[0m\u001b[0;34m]\u001b[0m \u001b[0;34m=\u001b[0m \u001b[0;34m{\u001b[0m\u001b[0mk\u001b[0m\u001b[0;34m:\u001b[0m \u001b[0mstate\u001b[0m\u001b[0;34m[\u001b[0m\u001b[0mk\u001b[0m\u001b[0;34m]\u001b[0m \u001b[0;32mfor\u001b[0m \u001b[0mk\u001b[0m \u001b[0;32min\u001b[0m \u001b[0mself\u001b[0m\u001b[0;34m.\u001b[0m\u001b[0m_keep_on_clear\u001b[0m \u001b[0;32mif\u001b[0m \u001b[0mk\u001b[0m \u001b[0;32min\u001b[0m \u001b[0mstate\u001b[0m\u001b[0;34m}\u001b[0m\u001b[0;34m\u001b[0m\n",
       "\u001b[0;34m\u001b[0m\u001b[0;34m\u001b[0m\n",
       "\u001b[0;34m\u001b[0m    \u001b[0;32mdef\u001b[0m \u001b[0mstate_dict\u001b[0m\u001b[0;34m(\u001b[0m\u001b[0mself\u001b[0m\u001b[0;34m)\u001b[0m\u001b[0;34m:\u001b[0m\u001b[0;34m\u001b[0m\n",
       "\u001b[0;34m\u001b[0m        \u001b[0mstate\u001b[0m \u001b[0;34m=\u001b[0m \u001b[0;34m[\u001b[0m\u001b[0mself\u001b[0m\u001b[0;34m.\u001b[0m\u001b[0mstate\u001b[0m\u001b[0;34m[\u001b[0m\u001b[0mp\u001b[0m\u001b[0;34m]\u001b[0m \u001b[0;32mfor\u001b[0m \u001b[0mp\u001b[0m\u001b[0;34m,\u001b[0m\u001b[0;34m*\u001b[0m\u001b[0m_\u001b[0m \u001b[0;32min\u001b[0m \u001b[0mself\u001b[0m\u001b[0;34m.\u001b[0m\u001b[0mall_params\u001b[0m\u001b[0;34m(\u001b[0m\u001b[0;34m)\u001b[0m\u001b[0;34m]\u001b[0m\u001b[0;34m\u001b[0m\n",
       "\u001b[0;34m\u001b[0m        \u001b[0;32mreturn\u001b[0m \u001b[0;34m{\u001b[0m\u001b[0;34m'state'\u001b[0m\u001b[0;34m:\u001b[0m \u001b[0mstate\u001b[0m\u001b[0;34m,\u001b[0m \u001b[0;34m'hypers'\u001b[0m\u001b[0;34m:\u001b[0m \u001b[0mself\u001b[0m\u001b[0;34m.\u001b[0m\u001b[0mhypers\u001b[0m\u001b[0;34m}\u001b[0m\u001b[0;34m\u001b[0m\n",
       "\u001b[0;34m\u001b[0m\u001b[0;34m\u001b[0m\n",
       "\u001b[0;34m\u001b[0m    \u001b[0;32mdef\u001b[0m \u001b[0mload_state_dict\u001b[0m\u001b[0;34m(\u001b[0m\u001b[0mself\u001b[0m\u001b[0;34m,\u001b[0m \u001b[0msd\u001b[0m\u001b[0;34m)\u001b[0m\u001b[0;34m:\u001b[0m\u001b[0;34m\u001b[0m\n",
       "\u001b[0;34m\u001b[0m        \u001b[0;32massert\u001b[0m \u001b[0mlen\u001b[0m\u001b[0;34m(\u001b[0m\u001b[0msd\u001b[0m\u001b[0;34m[\u001b[0m\u001b[0;34m\"hypers\"\u001b[0m\u001b[0;34m]\u001b[0m\u001b[0;34m)\u001b[0m \u001b[0;34m==\u001b[0m \u001b[0mlen\u001b[0m\u001b[0;34m(\u001b[0m\u001b[0mself\u001b[0m\u001b[0;34m.\u001b[0m\u001b[0mparam_lists\u001b[0m\u001b[0;34m)\u001b[0m\u001b[0;34m\u001b[0m\n",
       "\u001b[0;34m\u001b[0m        \u001b[0;32massert\u001b[0m \u001b[0mlen\u001b[0m\u001b[0;34m(\u001b[0m\u001b[0msd\u001b[0m\u001b[0;34m[\u001b[0m\u001b[0;34m\"state\"\u001b[0m\u001b[0;34m]\u001b[0m\u001b[0;34m)\u001b[0m  \u001b[0;34m==\u001b[0m \u001b[0msum\u001b[0m\u001b[0;34m(\u001b[0m\u001b[0;34m[\u001b[0m\u001b[0mlen\u001b[0m\u001b[0;34m(\u001b[0m\u001b[0mpg\u001b[0m\u001b[0;34m)\u001b[0m \u001b[0;32mfor\u001b[0m \u001b[0mpg\u001b[0m \u001b[0;32min\u001b[0m \u001b[0mself\u001b[0m\u001b[0;34m.\u001b[0m\u001b[0mparam_lists\u001b[0m\u001b[0;34m]\u001b[0m\u001b[0;34m)\u001b[0m\u001b[0;34m\u001b[0m\n",
       "\u001b[0;34m\u001b[0m        \u001b[0mself\u001b[0m\u001b[0;34m.\u001b[0m\u001b[0mhypers\u001b[0m \u001b[0;34m=\u001b[0m \u001b[0msd\u001b[0m\u001b[0;34m[\u001b[0m\u001b[0;34m'hypers'\u001b[0m\u001b[0;34m]\u001b[0m\u001b[0;34m\u001b[0m\n",
       "\u001b[0;34m\u001b[0m        \u001b[0mself\u001b[0m\u001b[0;34m.\u001b[0m\u001b[0mstate\u001b[0m \u001b[0;34m=\u001b[0m \u001b[0;34m{\u001b[0m\u001b[0mp\u001b[0m\u001b[0;34m:\u001b[0m \u001b[0ms\u001b[0m \u001b[0;32mfor\u001b[0m \u001b[0mp\u001b[0m\u001b[0;34m,\u001b[0m\u001b[0ms\u001b[0m \u001b[0;32min\u001b[0m \u001b[0mzip\u001b[0m\u001b[0;34m(\u001b[0m\u001b[0mself\u001b[0m\u001b[0;34m.\u001b[0m\u001b[0mall_params\u001b[0m\u001b[0;34m(\u001b[0m\u001b[0;34m)\u001b[0m\u001b[0;34m.\u001b[0m\u001b[0mitemgot\u001b[0m\u001b[0;34m(\u001b[0m\u001b[0;36m0\u001b[0m\u001b[0;34m)\u001b[0m\u001b[0;34m,\u001b[0m \u001b[0msd\u001b[0m\u001b[0;34m[\u001b[0m\u001b[0;34m'state'\u001b[0m\u001b[0;34m]\u001b[0m\u001b[0;34m)\u001b[0m\u001b[0;34m}\u001b[0m\u001b[0;34m\u001b[0m\u001b[0;34m\u001b[0m\u001b[0m\n"
      ]
     },
     "metadata": {},
     "output_type": "display_data"
    }
   ],
   "source": [
    "learn.opt??"
   ]
  },
  {
   "cell_type": "code",
   "execution_count": 96,
   "id": "e07e97ff-48fc-4169-bc3f-7bf9875fd398",
   "metadata": {
    "tags": []
   },
   "outputs": [
    {
     "name": "stdout",
     "output_type": "stream",
     "text": [
      "TensorText(3.6041, grad_fn=<AliasBackward>)\n",
      "TensorText(3.6028, grad_fn=<AliasBackward>)\n",
      "TensorText(3.6070, grad_fn=<AliasBackward>)\n",
      "TensorText(3.6076, grad_fn=<AliasBackward>)\n",
      "TensorText(3.6065, grad_fn=<AliasBackward>)\n",
      "TensorText(3.6031, grad_fn=<AliasBackward>)\n",
      "TensorText(3.6113, grad_fn=<AliasBackward>)\n",
      "TensorText(3.6052, grad_fn=<AliasBackward>)\n",
      "TensorText(3.6034, grad_fn=<AliasBackward>)\n",
      "TensorText(3.6043, grad_fn=<AliasBackward>)\n"
     ]
    }
   ],
   "source": [
    "opt = torch.optim.Adam(model.parameters(), 1e-9, weight_decay=0.01)\n",
    "x, y = dls.one_batch()\n",
    "for i in range(10):\n",
    "    out = model(x)\n",
    "    # print(out)\n",
    "    loss = ctc_loss_no_lens(out, y)\n",
    "    print(loss)\n",
    "    loss.backward()\n",
    "    opt.step()\n",
    "    opt.zero_grad()"
   ]
  },
  {
   "cell_type": "code",
   "execution_count": null,
   "id": "5bff62ab-71ff-4dba-909d-c5fdc6c1bc7e",
   "metadata": {},
   "outputs": [],
   "source": []
  },
  {
   "cell_type": "code",
   "execution_count": 98,
   "id": "07c34372-9e3b-45a2-9161-212e5f883653",
   "metadata": {},
   "outputs": [
    {
     "name": "stdout",
     "output_type": "stream",
     "text": [
      "95.15145846336587\n"
     ]
    }
   ],
   "source": [
    "with torch.no_grad():\n",
    "    print(CER(model(x), y))"
   ]
  },
  {
   "cell_type": "code",
   "execution_count": null,
   "id": "ff05aa91-339a-4697-a6fc-8b76e2a1ad5c",
   "metadata": {
    "tags": []
   },
   "outputs": [],
   "source": [
    "wandb.finish()"
   ]
  },
  {
   "cell_type": "code",
   "execution_count": null,
   "id": "7d46708e-d7c5-4358-b062-7b61565d7a28",
   "metadata": {},
   "outputs": [],
   "source": [
    "learn.save('QuartzNet')"
   ]
  },
  {
   "cell_type": "code",
   "execution_count": null,
   "id": "f8bc7940-2083-4b09-a658-25e74f3f3c5e",
   "metadata": {},
   "outputs": [],
   "source": [
    "pred = learn.model(x)"
   ]
  },
  {
   "cell_type": "code",
   "execution_count": null,
   "id": "0b423bf2-89f2-44e1-b8cb-f7d14f7f339f",
   "metadata": {},
   "outputs": [],
   "source": [
    "pred.shape"
   ]
  },
  {
   "cell_type": "code",
   "execution_count": null,
   "id": "531347d7-5f39-4eb2-8e75-a824eb2ac63a",
   "metadata": {},
   "outputs": [],
   "source": [
    "torch.tensor"
   ]
  },
  {
   "cell_type": "code",
   "execution_count": null,
   "id": "3abd0d07-b350-4b6c-ad45-92298f312ad1",
   "metadata": {},
   "outputs": [],
   "source": [
    "CTC = nn.CTCLoss().cuda()\n",
    "def ctc_loss_no_lens(preds, targs):\n",
    "    # preds = Tensor(torch.einsum(\"ijk->kij\",preds).cpu())\n",
    "    preds = Tensor(preds.permute(2,0,1).cpu())\n",
    "    preds_l = torch.full(fill_value = preds.shape[0], size = (preds.shape[1],) )#.cpu()\n",
    "    # targs_l = torch.full(fill_value = targs.shape[1], size = (targs.shape[0],))#.cpu()\n",
    "    # targs_l = targs.argmin(1)\n",
    "    targs_l = torch.where(targs[:,-1]==0, targs.argmin(1), targs.shape[1])-1\n",
    "    return CTC(preds, targs, preds_l, targs_l)"
   ]
  },
  {
   "cell_type": "code",
   "execution_count": null,
   "id": "5f7f0416-57ae-4ad1-8f72-585c52f52769",
   "metadata": {},
   "outputs": [],
   "source": []
  },
  {
   "cell_type": "code",
   "execution_count": null,
   "id": "83aeec10-06ef-4916-a3f6-fa3c4c3a0442",
   "metadata": {
    "tags": []
   },
   "outputs": [],
   "source": [
    "out = model(x)"
   ]
  },
  {
   "cell_type": "code",
   "execution_count": null,
   "id": "bcd781e7-a86a-478f-8fb5-ca4edf72bf12",
   "metadata": {},
   "outputs": [],
   "source": [
    "ctc_loss_no_lens(out,y)"
   ]
  },
  {
   "cell_type": "code",
   "execution_count": null,
   "id": "a075b011-085f-467c-a489-a751e652ceca",
   "metadata": {},
   "outputs": [],
   "source": [
    "torch.arange(64)"
   ]
  },
  {
   "cell_type": "code",
   "execution_count": null,
   "id": "104d5035-e90e-48d9-ae1c-53c9c9e24554",
   "metadata": {
    "tags": []
   },
   "outputs": [],
   "source": [
    "y.cpu()"
   ]
  },
  {
   "cell_type": "code",
   "execution_count": null,
   "id": "d9e87a6e-c366-4447-9796-49a452cbd427",
   "metadata": {
    "tags": []
   },
   "outputs": [],
   "source": [
    "ids = y.argmin(1) "
   ]
  },
  {
   "cell_type": "code",
   "execution_count": null,
   "id": "afe9da6f-d3af-44f0-9459-00465d408334",
   "metadata": {
    "tags": []
   },
   "outputs": [],
   "source": [
    "ids = torch.where(y[:,-1]==0, ids, 19)-1"
   ]
  },
  {
   "cell_type": "code",
   "execution_count": null,
   "id": "c0568ee8-eaad-4518-8c62-779a99fd9d58",
   "metadata": {
    "tags": []
   },
   "outputs": [],
   "source": [
    "y[torch.arange(64), ids]"
   ]
  },
  {
   "cell_type": "code",
   "execution_count": null,
   "id": "d82f7994-bbd8-4965-a975-91aa907346b7",
   "metadata": {},
   "outputs": [],
   "source": [
    "ctc_loss_no_lens(out, y)"
   ]
  },
  {
   "cell_type": "code",
   "execution_count": 68,
   "id": "a39c1a1e-5654-4ff4-afc6-232929c5278b",
   "metadata": {},
   "outputs": [
    {
     "data": {
      "text/plain": [
       "AudioSpectrogram([[ 0.0000e+00,  0.0000e+00,  0.0000e+00,  ...,  0.0000e+00,\n",
       "          0.0000e+00,  0.0000e+00],\n",
       "        [-4.2245e+07, -4.4155e+07, -4.5610e+07,  ..., -1.4007e+09,\n",
       "         -1.3772e+09, -1.3474e+09],\n",
       "        [-4.3112e+07, -4.5009e+07, -4.6417e+07,  ..., -1.4711e+09,\n",
       "         -1.4464e+09, -1.4150e+09],\n",
       "        ...,\n",
       "        [-4.8572e+07, -5.0779e+07, -5.2803e+07,  ..., -1.7294e+09,\n",
       "         -1.7005e+09, -1.6636e+09],\n",
       "        [-4.3364e+07, -4.5305e+07, -4.6954e+07,  ..., -1.5017e+09,\n",
       "         -1.4766e+09, -1.4446e+09],\n",
       "        [-4.3282e+07, -4.5218e+07, -4.6848e+07,  ..., -1.5017e+09,\n",
       "         -1.4766e+09, -1.4446e+09]], device='cuda:0', grad_fn=<AliasBackward>)"
      ]
     },
     "execution_count": 68,
     "metadata": {},
     "output_type": "execute_result"
    }
   ],
   "source": [
    "pred[0]"
   ]
  },
  {
   "cell_type": "code",
   "execution_count": 61,
   "id": "d27be890-b3c6-4e10-99f5-b00e9e9bb656",
   "metadata": {
    "tags": []
   },
   "outputs": [
    {
     "data": {
      "text/plain": [
       "['',\n",
       " '',\n",
       " '',\n",
       " '',\n",
       " '',\n",
       " '',\n",
       " '',\n",
       " '',\n",
       " '',\n",
       " '',\n",
       " '',\n",
       " '',\n",
       " '',\n",
       " '',\n",
       " '',\n",
       " '',\n",
       " '',\n",
       " '',\n",
       " '',\n",
       " '',\n",
       " '',\n",
       " '',\n",
       " '',\n",
       " '',\n",
       " '',\n",
       " '',\n",
       " '',\n",
       " '',\n",
       " '',\n",
       " '',\n",
       " '',\n",
       " '',\n",
       " '',\n",
       " '',\n",
       " '',\n",
       " '',\n",
       " '',\n",
       " '',\n",
       " '',\n",
       " '',\n",
       " '',\n",
       " '',\n",
       " '',\n",
       " '',\n",
       " '',\n",
       " '',\n",
       " '',\n",
       " '',\n",
       " '',\n",
       " '',\n",
       " '',\n",
       " '',\n",
       " '',\n",
       " '',\n",
       " '',\n",
       " '',\n",
       " '',\n",
       " '',\n",
       " '',\n",
       " '',\n",
       " '',\n",
       " '',\n",
       " '',\n",
       " '']"
      ]
     },
     "execution_count": 61,
     "metadata": {},
     "output_type": "execute_result"
    }
   ],
   "source": [
    "[''.join([vocab[i] for i in pred[j].argmax(0)]) for j in range(64)]"
   ]
  },
  {
   "cell_type": "code",
   "execution_count": 82,
   "id": "d634055b-996f-4bc8-8bc8-54990bc2cc8c",
   "metadata": {},
   "outputs": [],
   "source": [
    "def unpad(text):\n",
    "    return Pad_Chunk(0).decode(text)\n",
    "\n",
    "def ctc_decode(pred, empid = 0):\n",
    "    pred = pred.argmax(0)\n",
    "    dec = [empid]\n",
    "    for i in range(len(pred)):\n",
    "        cur = int(pred[i])\n",
    "        if cur != dec[-1]: dec.append(cur)\n",
    "    return [i for i in dec if i!=0]\n",
    "\n",
    "def ids_to_str(ids):\n",
    "    return ''.join([vocab[i] for i in ids])"
   ]
  },
  {
   "cell_type": "code",
   "execution_count": null,
   "id": "64fbfe30-3661-4f0d-bb97-983b29463497",
   "metadata": {},
   "outputs": [],
   "source": [
    "ctc_decode(pred[0])"
   ]
  },
  {
   "cell_type": "code",
   "execution_count": 83,
   "id": "c85393a1-61a3-4497-9e52-dded1fb172fb",
   "metadata": {
    "tags": []
   },
   "outputs": [],
   "source": [
    "preds,targs = learn.get_preds()"
   ]
  },
  {
   "cell_type": "code",
   "execution_count": 90,
   "id": "87a82ba6-7a6e-4867-814f-603c6ab4c9ea",
   "metadata": {
    "tags": []
   },
   "outputs": [
    {
     "data": {
      "text/plain": [
       "['',\n",
       " '',\n",
       " '',\n",
       " '',\n",
       " '',\n",
       " '',\n",
       " '',\n",
       " '',\n",
       " '',\n",
       " '',\n",
       " '',\n",
       " '',\n",
       " '',\n",
       " '',\n",
       " '',\n",
       " '',\n",
       " '',\n",
       " '',\n",
       " '',\n",
       " '',\n",
       " '',\n",
       " '',\n",
       " '',\n",
       " '',\n",
       " '',\n",
       " '',\n",
       " '',\n",
       " '',\n",
       " '',\n",
       " '',\n",
       " '',\n",
       " '',\n",
       " '',\n",
       " '',\n",
       " '',\n",
       " '',\n",
       " '',\n",
       " '',\n",
       " '',\n",
       " '',\n",
       " '',\n",
       " '',\n",
       " '',\n",
       " '',\n",
       " '',\n",
       " '',\n",
       " '',\n",
       " '',\n",
       " '',\n",
       " '',\n",
       " '',\n",
       " '',\n",
       " '',\n",
       " '',\n",
       " '',\n",
       " '',\n",
       " '',\n",
       " '',\n",
       " '',\n",
       " '',\n",
       " '',\n",
       " '',\n",
       " '',\n",
       " '']"
      ]
     },
     "execution_count": 90,
     "metadata": {},
     "output_type": "execute_result"
    }
   ],
   "source": [
    "[ids_to_str(ctc_decode(preds[i])) for i in range(64,128)]"
   ]
  },
  {
   "cell_type": "code",
   "execution_count": 87,
   "id": "3fd4d5c6-d864-442b-bb78-aad35466c07a",
   "metadata": {
    "tags": []
   },
   "outputs": [
    {
     "name": "stdout",
     "output_type": "stream",
     "text": [
      "prediction\ttarget\n",
      "\n",
      "\t\tkiru\n",
      "\t\tkirimasu\n",
      "\t\tkitte\n",
      "\t\tkitta\n",
      "\t\tkiranai\n",
      "\t\tkiranakatta\n",
      "\t\tkireba\n",
      "\t\tkiraseru\n",
      "\t\tkirareru\n",
      "\t\tkire\n",
      "\t\tkireru\n",
      "\t\tkirou\n",
      "\t\terabu\n",
      "\t\terabimasu\n",
      "\t\terande\n",
      "\t\teranda\n",
      "\t\terabanai\n",
      "\t\terabanakatta\n",
      "\t\terabeba\n",
      "\t\terabaseru\n",
      "\t\terabareru\n",
      "\t\terabe\n",
      "\t\teraberu\n",
      "\t\terabou\n",
      "\t\triyousuru\n",
      "\t\triyoushimasu\n",
      "\t\triyoushite\n",
      "\t\triyoushita\n",
      "\t\triyoushinai\n",
      "\t\triyoushinakatta\n",
      "\t\triyousureba\n",
      "\t\triyousaseru\n",
      "\t\triyousareru\n",
      "\t\triyoushiro\n",
      "\t\triyoudekiru\n",
      "\t\triyoushiyou\n",
      "\t\tmotoduku\n",
      "\t\tmotodukimasu\n",
      "\t\tmotoduite\n",
      "\t\tmotoduita\n",
      "\t\tmotodukanai\n",
      "\t\tmotodukanakatta\n",
      "\t\tmotodukeba\n",
      "\t\tmotodukaseru\n",
      "\t\tmotodukareru\n",
      "\t\tmotoduke\n",
      "\t\tmotodukou\n",
      "\t\tnoberu\n",
      "\t\tnobemasu\n",
      "\t\tnobete\n",
      "\t\tnobeta\n",
      "\t\tnobenai\n",
      "\t\tnobenakatta\n",
      "\t\tnobereba\n",
      "\t\tnobesaseru\n",
      "\t\tnoberareru\n",
      "\t\tnobero\n",
      "\t\tnoberareru\n",
      "\t\tnobeyou\n",
      "\t\tkimeru\n",
      "\t\tkimemasu\n",
      "\t\tkimete\n",
      "\t\tkimeta\n",
      "\t\tkimenai\n",
      "\t\tkimenakatta\n",
      "\t\tkimereba\n",
      "\t\tkimesaseru\n",
      "\t\tkimerareru\n",
      "\t\tkimero\n",
      "\t\tkimerareru\n",
      "\t\tkimeyou\n",
      "\t\ttsudukeru\n",
      "\t\ttsudukemasu\n",
      "\t\ttsudukete\n",
      "\t\ttsuduketa\n",
      "\t\ttsudukenai\n",
      "\t\ttsudukenakatta\n",
      "\t\ttsudukereba\n",
      "\t\ttsudukesaseru\n",
      "\t\ttsudukerareru\n",
      "\t\ttsudukero\n",
      "\t\ttsudukerareru\n",
      "\t\ttsudukeyou\n",
      "\t\twakai\n",
      "\t\twakaidesu\n",
      "\t\twakakute\n",
      "\t\twakakute\n",
      "\t\twakakatta\n",
      "\t\twakakatta\n",
      "\t\twakakunai\n",
      "\t\twakakunai\n",
      "\t\twakakunakatta\n",
      "\t\twakakunakatta\n",
      "\t\twakakereba\n",
      "\t\twakakereba\n",
      "\t\twakai\n",
      "\t\twakaku\n",
      "\t\twakaku\n",
      "\t\tkuraberu\n",
      "\t\tkurabemasu\n"
     ]
    }
   ],
   "source": [
    "print('prediction', 'target', sep='\\t')\n",
    "print()\n",
    "for i in range(1000,1100):\n",
    "    print(*[ids_to_str(i) for i in (ctc_decode(preds[i]), unpad(targs[i]))], sep='\\t\\t')"
   ]
  },
  {
   "cell_type": "code",
   "execution_count": 86,
   "id": "0838994a-e3aa-4f1c-abcc-9a7505bb0c8d",
   "metadata": {},
   "outputs": [
    {
     "data": {
      "text/plain": [
       "AudioSpectrogram([-0.9940, -3.0548, -3.4349, -3.0396, -3.3838, -3.4011, -3.5963, -4.0333,\n",
       "        -5.6006, -3.0469, -2.9385, -2.9775, -3.1846, -2.8040, -3.7666, -4.9258,\n",
       "        -4.8998, -3.6197, -3.4029, -4.6347, -5.6210, -5.1322, -4.9652, -5.8269,\n",
       "        -5.7516, -6.3390, -6.6762])"
      ]
     },
     "execution_count": 86,
     "metadata": {},
     "output_type": "execute_result"
    }
   ],
   "source": [
    "preds[0, :, 3]"
   ]
  },
  {
   "cell_type": "code",
   "execution_count": 268,
   "id": "a7e6789f-a99b-4f63-b5f4-60b9d52234a4",
   "metadata": {},
   "outputs": [
    {
     "name": "stdout",
     "output_type": "stream",
     "text": [
      "Error in callback <function _WandbInit._resume_backend at 0x7f620c9edf70> (for pre_run_cell):\n"
     ]
    },
    {
     "ename": "Exception",
     "evalue": "The wandb backend process has shutdown",
     "output_type": "error",
     "traceback": [
      "\u001b[0;31m---------------------------------------------------------------------------\u001b[0m",
      "\u001b[0;31mException\u001b[0m                                 Traceback (most recent call last)",
      "\u001b[0;32m~/.conda/envs/default/lib/python3.9/site-packages/backcall/backcall.py\u001b[0m in \u001b[0;36madapted\u001b[0;34m(*args, **kwargs)\u001b[0m\n\u001b[1;32m    102\u001b[0m                 \u001b[0mkwargs\u001b[0m\u001b[0;34m.\u001b[0m\u001b[0mpop\u001b[0m\u001b[0;34m(\u001b[0m\u001b[0mname\u001b[0m\u001b[0;34m)\u001b[0m\u001b[0;34m\u001b[0m\u001b[0;34m\u001b[0m\u001b[0m\n\u001b[1;32m    103\u001b[0m \u001b[0;31m#            print(args, kwargs, unmatched_pos, cut_positional, unmatched_kw)\u001b[0m\u001b[0;34m\u001b[0m\u001b[0;34m\u001b[0m\u001b[0m\n\u001b[0;32m--> 104\u001b[0;31m             \u001b[0;32mreturn\u001b[0m \u001b[0mcallback\u001b[0m\u001b[0;34m(\u001b[0m\u001b[0;34m*\u001b[0m\u001b[0margs\u001b[0m\u001b[0;34m,\u001b[0m \u001b[0;34m**\u001b[0m\u001b[0mkwargs\u001b[0m\u001b[0;34m)\u001b[0m\u001b[0;34m\u001b[0m\u001b[0;34m\u001b[0m\u001b[0m\n\u001b[0m\u001b[1;32m    105\u001b[0m \u001b[0;34m\u001b[0m\u001b[0m\n\u001b[1;32m    106\u001b[0m         \u001b[0;32mreturn\u001b[0m \u001b[0madapted\u001b[0m\u001b[0;34m\u001b[0m\u001b[0;34m\u001b[0m\u001b[0m\n",
      "\u001b[0;32m~/.conda/envs/default/lib/python3.9/site-packages/wandb/sdk/wandb_init.py\u001b[0m in \u001b[0;36m_resume_backend\u001b[0;34m(self)\u001b[0m\n\u001b[1;32m    307\u001b[0m         \u001b[0;32mif\u001b[0m \u001b[0mself\u001b[0m\u001b[0;34m.\u001b[0m\u001b[0mbackend\u001b[0m \u001b[0;32mis\u001b[0m \u001b[0;32mnot\u001b[0m \u001b[0;32mNone\u001b[0m\u001b[0;34m:\u001b[0m\u001b[0;34m\u001b[0m\u001b[0;34m\u001b[0m\u001b[0m\n\u001b[1;32m    308\u001b[0m             \u001b[0mlogger\u001b[0m\u001b[0;34m.\u001b[0m\u001b[0minfo\u001b[0m\u001b[0;34m(\u001b[0m\u001b[0;34m\"resuming backend\"\u001b[0m\u001b[0;34m)\u001b[0m\u001b[0;34m\u001b[0m\u001b[0;34m\u001b[0m\u001b[0m\n\u001b[0;32m--> 309\u001b[0;31m             \u001b[0mself\u001b[0m\u001b[0;34m.\u001b[0m\u001b[0mbackend\u001b[0m\u001b[0;34m.\u001b[0m\u001b[0minterface\u001b[0m\u001b[0;34m.\u001b[0m\u001b[0mpublish_resume\u001b[0m\u001b[0;34m(\u001b[0m\u001b[0;34m)\u001b[0m\u001b[0;34m\u001b[0m\u001b[0;34m\u001b[0m\u001b[0m\n\u001b[0m\u001b[1;32m    310\u001b[0m \u001b[0;34m\u001b[0m\u001b[0m\n\u001b[1;32m    311\u001b[0m     \u001b[0;32mdef\u001b[0m \u001b[0m_jupyter_teardown\u001b[0m\u001b[0;34m(\u001b[0m\u001b[0mself\u001b[0m\u001b[0;34m)\u001b[0m\u001b[0;34m:\u001b[0m\u001b[0;34m\u001b[0m\u001b[0;34m\u001b[0m\u001b[0m\n",
      "\u001b[0;32m~/.conda/envs/default/lib/python3.9/site-packages/wandb/sdk/interface/interface.py\u001b[0m in \u001b[0;36mpublish_resume\u001b[0;34m(self)\u001b[0m\n\u001b[1;32m    548\u001b[0m     \u001b[0;32mdef\u001b[0m \u001b[0mpublish_resume\u001b[0m\u001b[0;34m(\u001b[0m\u001b[0mself\u001b[0m\u001b[0;34m)\u001b[0m \u001b[0;34m->\u001b[0m \u001b[0;32mNone\u001b[0m\u001b[0;34m:\u001b[0m\u001b[0;34m\u001b[0m\u001b[0;34m\u001b[0m\u001b[0m\n\u001b[1;32m    549\u001b[0m         \u001b[0mresume\u001b[0m \u001b[0;34m=\u001b[0m \u001b[0mpb\u001b[0m\u001b[0;34m.\u001b[0m\u001b[0mResumeRequest\u001b[0m\u001b[0;34m(\u001b[0m\u001b[0;34m)\u001b[0m\u001b[0;34m\u001b[0m\u001b[0;34m\u001b[0m\u001b[0m\n\u001b[0;32m--> 550\u001b[0;31m         \u001b[0mself\u001b[0m\u001b[0;34m.\u001b[0m\u001b[0m_publish_resume\u001b[0m\u001b[0;34m(\u001b[0m\u001b[0mresume\u001b[0m\u001b[0;34m)\u001b[0m\u001b[0;34m\u001b[0m\u001b[0;34m\u001b[0m\u001b[0m\n\u001b[0m\u001b[1;32m    551\u001b[0m \u001b[0;34m\u001b[0m\u001b[0m\n\u001b[1;32m    552\u001b[0m     \u001b[0;34m@\u001b[0m\u001b[0mabstractmethod\u001b[0m\u001b[0;34m\u001b[0m\u001b[0;34m\u001b[0m\u001b[0m\n",
      "\u001b[0;32m~/.conda/envs/default/lib/python3.9/site-packages/wandb/sdk/interface/interface_shared.py\u001b[0m in \u001b[0;36m_publish_resume\u001b[0;34m(self, resume)\u001b[0m\n\u001b[1;32m    268\u001b[0m     \u001b[0;32mdef\u001b[0m \u001b[0m_publish_resume\u001b[0m\u001b[0;34m(\u001b[0m\u001b[0mself\u001b[0m\u001b[0;34m,\u001b[0m \u001b[0mresume\u001b[0m\u001b[0;34m:\u001b[0m \u001b[0mpb\u001b[0m\u001b[0;34m.\u001b[0m\u001b[0mResumeRequest\u001b[0m\u001b[0;34m)\u001b[0m \u001b[0;34m->\u001b[0m \u001b[0;32mNone\u001b[0m\u001b[0;34m:\u001b[0m\u001b[0;34m\u001b[0m\u001b[0;34m\u001b[0m\u001b[0m\n\u001b[1;32m    269\u001b[0m         \u001b[0mrec\u001b[0m \u001b[0;34m=\u001b[0m \u001b[0mself\u001b[0m\u001b[0;34m.\u001b[0m\u001b[0m_make_request\u001b[0m\u001b[0;34m(\u001b[0m\u001b[0mresume\u001b[0m\u001b[0;34m=\u001b[0m\u001b[0mresume\u001b[0m\u001b[0;34m)\u001b[0m\u001b[0;34m\u001b[0m\u001b[0;34m\u001b[0m\u001b[0m\n\u001b[0;32m--> 270\u001b[0;31m         \u001b[0mself\u001b[0m\u001b[0;34m.\u001b[0m\u001b[0m_publish\u001b[0m\u001b[0;34m(\u001b[0m\u001b[0mrec\u001b[0m\u001b[0;34m)\u001b[0m\u001b[0;34m\u001b[0m\u001b[0;34m\u001b[0m\u001b[0m\n\u001b[0m\u001b[1;32m    271\u001b[0m \u001b[0;34m\u001b[0m\u001b[0m\n\u001b[1;32m    272\u001b[0m     \u001b[0;32mdef\u001b[0m \u001b[0m_publish_run\u001b[0m\u001b[0;34m(\u001b[0m\u001b[0mself\u001b[0m\u001b[0;34m,\u001b[0m \u001b[0mrun\u001b[0m\u001b[0;34m:\u001b[0m \u001b[0mpb\u001b[0m\u001b[0;34m.\u001b[0m\u001b[0mRunRecord\u001b[0m\u001b[0;34m)\u001b[0m \u001b[0;34m->\u001b[0m \u001b[0;32mNone\u001b[0m\u001b[0;34m:\u001b[0m\u001b[0;34m\u001b[0m\u001b[0;34m\u001b[0m\u001b[0m\n",
      "\u001b[0;32m~/.conda/envs/default/lib/python3.9/site-packages/wandb/sdk/interface/interface_queue.py\u001b[0m in \u001b[0;36m_publish\u001b[0;34m(self, record, local)\u001b[0m\n\u001b[1;32m     47\u001b[0m     \u001b[0;32mdef\u001b[0m \u001b[0m_publish\u001b[0m\u001b[0;34m(\u001b[0m\u001b[0mself\u001b[0m\u001b[0;34m,\u001b[0m \u001b[0mrecord\u001b[0m\u001b[0;34m:\u001b[0m \u001b[0;34m\"pb.Record\"\u001b[0m\u001b[0;34m,\u001b[0m \u001b[0mlocal\u001b[0m\u001b[0;34m:\u001b[0m \u001b[0mbool\u001b[0m \u001b[0;34m=\u001b[0m \u001b[0;32mNone\u001b[0m\u001b[0;34m)\u001b[0m \u001b[0;34m->\u001b[0m \u001b[0;32mNone\u001b[0m\u001b[0;34m:\u001b[0m\u001b[0;34m\u001b[0m\u001b[0;34m\u001b[0m\u001b[0m\n\u001b[1;32m     48\u001b[0m         \u001b[0;32mif\u001b[0m \u001b[0mself\u001b[0m\u001b[0;34m.\u001b[0m\u001b[0m_process_check\u001b[0m \u001b[0;32mand\u001b[0m \u001b[0mself\u001b[0m\u001b[0;34m.\u001b[0m\u001b[0m_process\u001b[0m \u001b[0;32mand\u001b[0m \u001b[0;32mnot\u001b[0m \u001b[0mself\u001b[0m\u001b[0;34m.\u001b[0m\u001b[0m_process\u001b[0m\u001b[0;34m.\u001b[0m\u001b[0mis_alive\u001b[0m\u001b[0;34m(\u001b[0m\u001b[0;34m)\u001b[0m\u001b[0;34m:\u001b[0m\u001b[0;34m\u001b[0m\u001b[0;34m\u001b[0m\u001b[0m\n\u001b[0;32m---> 49\u001b[0;31m             \u001b[0;32mraise\u001b[0m \u001b[0mException\u001b[0m\u001b[0;34m(\u001b[0m\u001b[0;34m\"The wandb backend process has shutdown\"\u001b[0m\u001b[0;34m)\u001b[0m\u001b[0;34m\u001b[0m\u001b[0;34m\u001b[0m\u001b[0m\n\u001b[0m\u001b[1;32m     50\u001b[0m         \u001b[0;32mif\u001b[0m \u001b[0mlocal\u001b[0m\u001b[0;34m:\u001b[0m\u001b[0;34m\u001b[0m\u001b[0;34m\u001b[0m\u001b[0m\n\u001b[1;32m     51\u001b[0m             \u001b[0mrecord\u001b[0m\u001b[0;34m.\u001b[0m\u001b[0mcontrol\u001b[0m\u001b[0;34m.\u001b[0m\u001b[0mlocal\u001b[0m \u001b[0;34m=\u001b[0m \u001b[0mlocal\u001b[0m\u001b[0;34m\u001b[0m\u001b[0;34m\u001b[0m\u001b[0m\n",
      "\u001b[0;31mException\u001b[0m: The wandb backend process has shutdown"
     ]
    },
    {
     "data": {
      "text/plain": [
       "AudioSpectrogram([[[0.0388, 0.0426, 0.0536,  ..., 0.0410, 0.0411, 0.0697],\n",
       "         [0.0289, 0.0319, 0.0428,  ..., 0.0407, 0.0467, 0.0414],\n",
       "         [0.0422, 0.0295, 0.0455,  ..., 0.0390, 0.0377, 0.0361],\n",
       "         ...,\n",
       "         [0.0510, 0.0505, 0.0312,  ..., 0.0570, 0.0590, 0.0735],\n",
       "         [0.0339, 0.0365, 0.0271,  ..., 0.0374, 0.0543, 0.0359],\n",
       "         [0.0413, 0.0429, 0.0271,  ..., 0.0395, 0.0348, 0.0300]],\n",
       "\n",
       "        [[0.0486, 0.0286, 0.0308,  ..., 0.0315, 0.0478, 0.0269],\n",
       "         [0.0568, 0.0362, 0.0392,  ..., 0.0333, 0.0468, 0.0203],\n",
       "         [0.0428, 0.0502, 0.0252,  ..., 0.0566, 0.0369, 0.0353],\n",
       "         ...,\n",
       "         [0.0302, 0.0487, 0.0319,  ..., 0.0715, 0.0452, 0.0179],\n",
       "         [0.0557, 0.0565, 0.0468,  ..., 0.0321, 0.0249, 0.0676],\n",
       "         [0.0447, 0.0256, 0.0385,  ..., 0.0255, 0.0662, 0.0268]],\n",
       "\n",
       "        [[0.0551, 0.0555, 0.0322,  ..., 0.0821, 0.0781, 0.0199],\n",
       "         [0.0716, 0.0241, 0.0227,  ..., 0.0556, 0.0304, 0.0290],\n",
       "         [0.0232, 0.0404, 0.0641,  ..., 0.0736, 0.0418, 0.0547],\n",
       "         ...,\n",
       "         [0.0324, 0.0433, 0.0346,  ..., 0.0348, 0.0248, 0.0455],\n",
       "         [0.0351, 0.0475, 0.0353,  ..., 0.0368, 0.0548, 0.0181],\n",
       "         [0.0432, 0.0587, 0.0430,  ..., 0.0171, 0.0491, 0.0489]],\n",
       "\n",
       "        ...,\n",
       "\n",
       "        [[0.0483, 0.0317, 0.0844,  ..., 0.0434, 0.0367, 0.0514],\n",
       "         [0.0189, 0.0662, 0.0551,  ..., 0.0193, 0.0472, 0.0153],\n",
       "         [0.0645, 0.0580, 0.0234,  ..., 0.0353, 0.0538, 0.0339],\n",
       "         ...,\n",
       "         [0.0708, 0.0263, 0.0492,  ..., 0.0622, 0.0626, 0.0457],\n",
       "         [0.0482, 0.0365, 0.0269,  ..., 0.0299, 0.0305, 0.0293],\n",
       "         [0.0259, 0.0382, 0.0563,  ..., 0.0351, 0.0147, 0.0708]],\n",
       "\n",
       "        [[0.0711, 0.0487, 0.0305,  ..., 0.0543, 0.0605, 0.0478],\n",
       "         [0.0600, 0.0241, 0.0448,  ..., 0.0734, 0.0483, 0.0661],\n",
       "         [0.0555, 0.0332, 0.0356,  ..., 0.0642, 0.0501, 0.0336],\n",
       "         ...,\n",
       "         [0.0274, 0.0299, 0.0545,  ..., 0.0461, 0.0339, 0.0825],\n",
       "         [0.0360, 0.0292, 0.0169,  ..., 0.0260, 0.0682, 0.0395],\n",
       "         [0.0295, 0.0695, 0.1245,  ..., 0.0225, 0.0220, 0.0315]],\n",
       "\n",
       "        [[0.0345, 0.0397, 0.0544,  ..., 0.0238, 0.0579, 0.0549],\n",
       "         [0.0596, 0.0394, 0.0380,  ..., 0.0364, 0.0430, 0.0487],\n",
       "         [0.0402, 0.0423, 0.0368,  ..., 0.0520, 0.0250, 0.0307],\n",
       "         ...,\n",
       "         [0.0447, 0.0344, 0.0475,  ..., 0.0388, 0.0411, 0.0770],\n",
       "         [0.0503, 0.0397, 0.0870,  ..., 0.0150, 0.0444, 0.0345],\n",
       "         [0.0255, 0.0427, 0.0373,  ..., 0.0198, 0.0446, 0.0599]]],\n",
       "       device='cuda:0', grad_fn=<AliasBackward>)"
      ]
     },
     "execution_count": 268,
     "metadata": {},
     "output_type": "execute_result"
    },
    {
     "name": "stdout",
     "output_type": "stream",
     "text": [
      "Error in callback <function _WandbInit._pause_backend at 0x7f620c99b4c0> (for post_run_cell):\n"
     ]
    },
    {
     "ename": "Exception",
     "evalue": "The wandb backend process has shutdown",
     "output_type": "error",
     "traceback": [
      "\u001b[0;31m---------------------------------------------------------------------------\u001b[0m",
      "\u001b[0;31mException\u001b[0m                                 Traceback (most recent call last)",
      "\u001b[0;32m~/.conda/envs/default/lib/python3.9/site-packages/backcall/backcall.py\u001b[0m in \u001b[0;36madapted\u001b[0;34m(*args, **kwargs)\u001b[0m\n\u001b[1;32m    102\u001b[0m                 \u001b[0mkwargs\u001b[0m\u001b[0;34m.\u001b[0m\u001b[0mpop\u001b[0m\u001b[0;34m(\u001b[0m\u001b[0mname\u001b[0m\u001b[0;34m)\u001b[0m\u001b[0;34m\u001b[0m\u001b[0;34m\u001b[0m\u001b[0m\n\u001b[1;32m    103\u001b[0m \u001b[0;31m#            print(args, kwargs, unmatched_pos, cut_positional, unmatched_kw)\u001b[0m\u001b[0;34m\u001b[0m\u001b[0;34m\u001b[0m\u001b[0m\n\u001b[0;32m--> 104\u001b[0;31m             \u001b[0;32mreturn\u001b[0m \u001b[0mcallback\u001b[0m\u001b[0;34m(\u001b[0m\u001b[0;34m*\u001b[0m\u001b[0margs\u001b[0m\u001b[0;34m,\u001b[0m \u001b[0;34m**\u001b[0m\u001b[0mkwargs\u001b[0m\u001b[0;34m)\u001b[0m\u001b[0;34m\u001b[0m\u001b[0;34m\u001b[0m\u001b[0m\n\u001b[0m\u001b[1;32m    105\u001b[0m \u001b[0;34m\u001b[0m\u001b[0m\n\u001b[1;32m    106\u001b[0m         \u001b[0;32mreturn\u001b[0m \u001b[0madapted\u001b[0m\u001b[0;34m\u001b[0m\u001b[0;34m\u001b[0m\u001b[0m\n",
      "\u001b[0;32m~/.conda/envs/default/lib/python3.9/site-packages/wandb/sdk/wandb_init.py\u001b[0m in \u001b[0;36m_pause_backend\u001b[0;34m(self)\u001b[0m\n\u001b[1;32m    302\u001b[0m                 \u001b[0mres\u001b[0m \u001b[0;34m=\u001b[0m \u001b[0mself\u001b[0m\u001b[0;34m.\u001b[0m\u001b[0mrun\u001b[0m\u001b[0;34m.\u001b[0m\u001b[0mlog_code\u001b[0m\u001b[0;34m(\u001b[0m\u001b[0mroot\u001b[0m\u001b[0;34m=\u001b[0m\u001b[0;32mNone\u001b[0m\u001b[0;34m)\u001b[0m\u001b[0;34m\u001b[0m\u001b[0;34m\u001b[0m\u001b[0m\n\u001b[1;32m    303\u001b[0m                 \u001b[0mlogger\u001b[0m\u001b[0;34m.\u001b[0m\u001b[0minfo\u001b[0m\u001b[0;34m(\u001b[0m\u001b[0;34m\"saved code: %s\"\u001b[0m\u001b[0;34m,\u001b[0m \u001b[0mres\u001b[0m\u001b[0;34m)\u001b[0m\u001b[0;34m\u001b[0m\u001b[0;34m\u001b[0m\u001b[0m\n\u001b[0;32m--> 304\u001b[0;31m             \u001b[0mself\u001b[0m\u001b[0;34m.\u001b[0m\u001b[0mbackend\u001b[0m\u001b[0;34m.\u001b[0m\u001b[0minterface\u001b[0m\u001b[0;34m.\u001b[0m\u001b[0mpublish_pause\u001b[0m\u001b[0;34m(\u001b[0m\u001b[0;34m)\u001b[0m\u001b[0;34m\u001b[0m\u001b[0;34m\u001b[0m\u001b[0m\n\u001b[0m\u001b[1;32m    305\u001b[0m \u001b[0;34m\u001b[0m\u001b[0m\n\u001b[1;32m    306\u001b[0m     \u001b[0;32mdef\u001b[0m \u001b[0m_resume_backend\u001b[0m\u001b[0;34m(\u001b[0m\u001b[0mself\u001b[0m\u001b[0;34m)\u001b[0m\u001b[0;34m:\u001b[0m\u001b[0;34m\u001b[0m\u001b[0;34m\u001b[0m\u001b[0m\n",
      "\u001b[0;32m~/.conda/envs/default/lib/python3.9/site-packages/wandb/sdk/interface/interface.py\u001b[0m in \u001b[0;36mpublish_pause\u001b[0;34m(self)\u001b[0m\n\u001b[1;32m    540\u001b[0m     \u001b[0;32mdef\u001b[0m \u001b[0mpublish_pause\u001b[0m\u001b[0;34m(\u001b[0m\u001b[0mself\u001b[0m\u001b[0;34m)\u001b[0m \u001b[0;34m->\u001b[0m \u001b[0;32mNone\u001b[0m\u001b[0;34m:\u001b[0m\u001b[0;34m\u001b[0m\u001b[0;34m\u001b[0m\u001b[0m\n\u001b[1;32m    541\u001b[0m         \u001b[0mpause\u001b[0m \u001b[0;34m=\u001b[0m \u001b[0mpb\u001b[0m\u001b[0;34m.\u001b[0m\u001b[0mPauseRequest\u001b[0m\u001b[0;34m(\u001b[0m\u001b[0;34m)\u001b[0m\u001b[0;34m\u001b[0m\u001b[0;34m\u001b[0m\u001b[0m\n\u001b[0;32m--> 542\u001b[0;31m         \u001b[0mself\u001b[0m\u001b[0;34m.\u001b[0m\u001b[0m_publish_pause\u001b[0m\u001b[0;34m(\u001b[0m\u001b[0mpause\u001b[0m\u001b[0;34m)\u001b[0m\u001b[0;34m\u001b[0m\u001b[0;34m\u001b[0m\u001b[0m\n\u001b[0m\u001b[1;32m    543\u001b[0m \u001b[0;34m\u001b[0m\u001b[0m\n\u001b[1;32m    544\u001b[0m     \u001b[0;34m@\u001b[0m\u001b[0mabstractmethod\u001b[0m\u001b[0;34m\u001b[0m\u001b[0;34m\u001b[0m\u001b[0m\n",
      "\u001b[0;32m~/.conda/envs/default/lib/python3.9/site-packages/wandb/sdk/interface/interface_shared.py\u001b[0m in \u001b[0;36m_publish_pause\u001b[0;34m(self, pause)\u001b[0m\n\u001b[1;32m    264\u001b[0m     \u001b[0;32mdef\u001b[0m \u001b[0m_publish_pause\u001b[0m\u001b[0;34m(\u001b[0m\u001b[0mself\u001b[0m\u001b[0;34m,\u001b[0m \u001b[0mpause\u001b[0m\u001b[0;34m:\u001b[0m \u001b[0mpb\u001b[0m\u001b[0;34m.\u001b[0m\u001b[0mPauseRequest\u001b[0m\u001b[0;34m)\u001b[0m \u001b[0;34m->\u001b[0m \u001b[0;32mNone\u001b[0m\u001b[0;34m:\u001b[0m\u001b[0;34m\u001b[0m\u001b[0;34m\u001b[0m\u001b[0m\n\u001b[1;32m    265\u001b[0m         \u001b[0mrec\u001b[0m \u001b[0;34m=\u001b[0m \u001b[0mself\u001b[0m\u001b[0;34m.\u001b[0m\u001b[0m_make_request\u001b[0m\u001b[0;34m(\u001b[0m\u001b[0mpause\u001b[0m\u001b[0;34m=\u001b[0m\u001b[0mpause\u001b[0m\u001b[0;34m)\u001b[0m\u001b[0;34m\u001b[0m\u001b[0;34m\u001b[0m\u001b[0m\n\u001b[0;32m--> 266\u001b[0;31m         \u001b[0mself\u001b[0m\u001b[0;34m.\u001b[0m\u001b[0m_publish\u001b[0m\u001b[0;34m(\u001b[0m\u001b[0mrec\u001b[0m\u001b[0;34m)\u001b[0m\u001b[0;34m\u001b[0m\u001b[0;34m\u001b[0m\u001b[0m\n\u001b[0m\u001b[1;32m    267\u001b[0m \u001b[0;34m\u001b[0m\u001b[0m\n\u001b[1;32m    268\u001b[0m     \u001b[0;32mdef\u001b[0m \u001b[0m_publish_resume\u001b[0m\u001b[0;34m(\u001b[0m\u001b[0mself\u001b[0m\u001b[0;34m,\u001b[0m \u001b[0mresume\u001b[0m\u001b[0;34m:\u001b[0m \u001b[0mpb\u001b[0m\u001b[0;34m.\u001b[0m\u001b[0mResumeRequest\u001b[0m\u001b[0;34m)\u001b[0m \u001b[0;34m->\u001b[0m \u001b[0;32mNone\u001b[0m\u001b[0;34m:\u001b[0m\u001b[0;34m\u001b[0m\u001b[0;34m\u001b[0m\u001b[0m\n",
      "\u001b[0;32m~/.conda/envs/default/lib/python3.9/site-packages/wandb/sdk/interface/interface_queue.py\u001b[0m in \u001b[0;36m_publish\u001b[0;34m(self, record, local)\u001b[0m\n\u001b[1;32m     47\u001b[0m     \u001b[0;32mdef\u001b[0m \u001b[0m_publish\u001b[0m\u001b[0;34m(\u001b[0m\u001b[0mself\u001b[0m\u001b[0;34m,\u001b[0m \u001b[0mrecord\u001b[0m\u001b[0;34m:\u001b[0m \u001b[0;34m\"pb.Record\"\u001b[0m\u001b[0;34m,\u001b[0m \u001b[0mlocal\u001b[0m\u001b[0;34m:\u001b[0m \u001b[0mbool\u001b[0m \u001b[0;34m=\u001b[0m \u001b[0;32mNone\u001b[0m\u001b[0;34m)\u001b[0m \u001b[0;34m->\u001b[0m \u001b[0;32mNone\u001b[0m\u001b[0;34m:\u001b[0m\u001b[0;34m\u001b[0m\u001b[0;34m\u001b[0m\u001b[0m\n\u001b[1;32m     48\u001b[0m         \u001b[0;32mif\u001b[0m \u001b[0mself\u001b[0m\u001b[0;34m.\u001b[0m\u001b[0m_process_check\u001b[0m \u001b[0;32mand\u001b[0m \u001b[0mself\u001b[0m\u001b[0;34m.\u001b[0m\u001b[0m_process\u001b[0m \u001b[0;32mand\u001b[0m \u001b[0;32mnot\u001b[0m \u001b[0mself\u001b[0m\u001b[0;34m.\u001b[0m\u001b[0m_process\u001b[0m\u001b[0;34m.\u001b[0m\u001b[0mis_alive\u001b[0m\u001b[0;34m(\u001b[0m\u001b[0;34m)\u001b[0m\u001b[0;34m:\u001b[0m\u001b[0;34m\u001b[0m\u001b[0;34m\u001b[0m\u001b[0m\n\u001b[0;32m---> 49\u001b[0;31m             \u001b[0;32mraise\u001b[0m \u001b[0mException\u001b[0m\u001b[0;34m(\u001b[0m\u001b[0;34m\"The wandb backend process has shutdown\"\u001b[0m\u001b[0;34m)\u001b[0m\u001b[0;34m\u001b[0m\u001b[0;34m\u001b[0m\u001b[0m\n\u001b[0m\u001b[1;32m     50\u001b[0m         \u001b[0;32mif\u001b[0m \u001b[0mlocal\u001b[0m\u001b[0;34m:\u001b[0m\u001b[0;34m\u001b[0m\u001b[0;34m\u001b[0m\u001b[0m\n\u001b[1;32m     51\u001b[0m             \u001b[0mrecord\u001b[0m\u001b[0;34m.\u001b[0m\u001b[0mcontrol\u001b[0m\u001b[0;34m.\u001b[0m\u001b[0mlocal\u001b[0m \u001b[0;34m=\u001b[0m \u001b[0mlocal\u001b[0m\u001b[0;34m\u001b[0m\u001b[0;34m\u001b[0m\u001b[0m\n",
      "\u001b[0;31mException\u001b[0m: The wandb backend process has shutdown"
     ]
    }
   ],
   "source": [
    "Jasper(128, 27).cuda()(x)"
   ]
  }
 ],
 "metadata": {
  "kernelspec": {
   "display_name": "default:Python",
   "language": "python",
   "name": "conda-env-default-py"
  },
  "language_info": {
   "codemirror_mode": {
    "name": "ipython",
    "version": 3
   },
   "file_extension": ".py",
   "mimetype": "text/x-python",
   "name": "python",
   "nbconvert_exporter": "python",
   "pygments_lexer": "ipython3",
   "version": "3.9.7"
  }
 },
 "nbformat": 4,
 "nbformat_minor": 5
}
