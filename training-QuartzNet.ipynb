{
 "cells": [
  {
   "cell_type": "code",
   "execution_count": 1,
   "id": "098c0166-a598-4bac-9ee6-01acfbb9c67e",
   "metadata": {},
   "outputs": [
    {
     "name": "stderr",
     "output_type": "stream",
     "text": [
      "/home/studio-lab-user/.conda/envs/default/lib/python3.9/site-packages/torchaudio/backend/utils.py:46: UserWarning: \"torchaudio.USE_SOUNDFILE_LEGACY_INTERFACE\" flag is deprecated and will be removed in 0.9.0. Please remove the use of flag.\n",
      "  warnings.warn(\n"
     ]
    }
   ],
   "source": [
    "from fastai.vision.all import *\n",
    "from fastaudio.all import *\n",
    "from fastai.text.all import *\n",
    "from thunder_QuartzNet import QuartzNet"
   ]
  },
  {
   "cell_type": "code",
   "execution_count": 2,
   "id": "1db5644f-ebac-4d84-8bb0-9a494d4444b3",
   "metadata": {},
   "outputs": [],
   "source": [
    "import editdistance\n",
    "from fastai.callback.wandb import *"
   ]
  },
  {
   "cell_type": "code",
   "execution_count": 3,
   "id": "d264c8a6-fe76-4483-8c50-0491a6cd5e11",
   "metadata": {},
   "outputs": [],
   "source": [
    "path = Path('data/')"
   ]
  },
  {
   "cell_type": "code",
   "execution_count": 4,
   "id": "796cf041-6a31-4379-9334-7fd98288fc28",
   "metadata": {},
   "outputs": [],
   "source": [
    "labels = pd.read_csv('./dataDS.csv', index_col=0)"
   ]
  },
  {
   "cell_type": "code",
   "execution_count": 5,
   "id": "03070d63-0991-46fc-b23e-2fa97b4857ae",
   "metadata": {
    "jupyter": {
     "source_hidden": true
    },
    "tags": []
   },
   "outputs": [],
   "source": [
    "CORR = {'h#': \"\",\n",
    " 'sh': \"ʃ\",\n",
    " 'iy': \"i\",\n",
    " 'hv': \"ɦ\",\n",
    " 'ae': \"æ\",\n",
    " 'dcl': \"d̚\",\n",
    " 'd': \"d\",\n",
    " 'y': \"j\",\n",
    " 'er': \"ɝ\",\n",
    " 'aa': \"ɑ\",\n",
    " 'r': \"r\",\n",
    " 'kcl': \"k̚\",\n",
    " 'k': \"k\",\n",
    " 's': \"s\",\n",
    " 'uw': \"u\",\n",
    " 'dx': \"ɾ\",\n",
    " 'ih': \"ɪ\",\n",
    " 'ng': \"ŋ\",\n",
    " 'gcl': \"ɡ̚\",\n",
    " 'g': \"g\",\n",
    " 'w': \"w\",\n",
    " 'epi': \"\",\n",
    " 'q': \"ʔ\",\n",
    " 'ao': \"ɔ\",\n",
    " 'l': \"l\",\n",
    " 'axr': \"ɚ\",\n",
    " 'ow': \"oʊ\",\n",
    " 'n': \"n\",\n",
    " 'm': \"m\",\n",
    " 'tcl': \"t̚\",\n",
    " 't': \"t\",\n",
    " 'ix': \"ɨ̞\",\n",
    " 'eh': \"ɛ\",\n",
    " 'oy': \"ɔɪ\",\n",
    " 'ay': \"aɪ\",\n",
    " 'dh': \"ð\",\n",
    " 'hh': \"h\",\n",
    " 'z': \"z\",\n",
    " 'pcl': \"p̚\",\n",
    " 'ax': \"ə\",\n",
    " 'th': \"θ\",\n",
    " 'bcl': \"b̚\",\n",
    " 'b': \"b\",\n",
    " 'ux': \"ʉ\",\n",
    " 'f': \"f\",\n",
    " 'el': \"l̩\",\n",
    " 'v': \"v\",\n",
    " 'aw': \"aʊ\",\n",
    " 'p': \"p\",\n",
    " 'ah': \"ʌ\",\n",
    " 'ey': \"eɪ\",\n",
    " 'en': \"n̩\",\n",
    " 'ch': \"tʃ\",\n",
    " 'uh': \"ʊ\",\n",
    " 'pau': \"\",\n",
    " 'jh': \"dʒ\",\n",
    " 'nx': \"ɾ̃\",\n",
    " 'ax-h': \"ə̥\",\n",
    " 'zh': \"ʒ\",\n",
    " 'em': \"m̩\",\n",
    " 'eng': \"ŋ̩\"}"
   ]
  },
  {
   "cell_type": "code",
   "execution_count": 6,
   "id": "43dbdbad-8ded-42b9-8cdd-55426ff797e9",
   "metadata": {},
   "outputs": [
    {
     "data": {
      "text/html": [
       "<div>\n",
       "<style scoped>\n",
       "    .dataframe tbody tr th:only-of-type {\n",
       "        vertical-align: middle;\n",
       "    }\n",
       "\n",
       "    .dataframe tbody tr th {\n",
       "        vertical-align: top;\n",
       "    }\n",
       "\n",
       "    .dataframe thead th {\n",
       "        text-align: right;\n",
       "    }\n",
       "</style>\n",
       "<table border=\"1\" class=\"dataframe\">\n",
       "  <thead>\n",
       "    <tr style=\"text-align: right;\">\n",
       "      <th></th>\n",
       "      <th>Path</th>\n",
       "      <th>Transcription</th>\n",
       "    </tr>\n",
       "  </thead>\n",
       "  <tbody>\n",
       "    <tr>\n",
       "      <th>0</th>\n",
       "      <td>.\\data\\TEST\\DR1\\FAKS0\\SA1.WAV.wav</td>\n",
       "      <td>h#.sh.iy.hv.ae.dcl.d.y.er.dcl.d.aa.r.kcl.k.s.uw.dx.ih.ng.gcl.g.r.iy.s.iy.w.aa.sh.epi.w.aa.dx.er.q.ao.l.y.iy.axr.h#.</td>\n",
       "    </tr>\n",
       "    <tr>\n",
       "      <th>1</th>\n",
       "      <td>.\\data\\TEST\\DR1\\FAKS0\\SA2.WAV.wav</td>\n",
       "      <td>h#.d.ow.n.ae.s.epi.m.iy.tcl.t.ix.kcl.k.eh.r.iy.ix.n.oy.l.iy.r.ae.gcl.g.l.ay.kcl.k.dh.ae.tcl.h#.</td>\n",
       "    </tr>\n",
       "    <tr>\n",
       "      <th>2</th>\n",
       "      <td>.\\data\\TEST\\DR1\\FAKS0\\SI1573.WAV.wav</td>\n",
       "      <td>h#.hh.ih.z.kcl.k.ae.pcl.t.ix.n.w.ax.s.th.ih.n.ae.n.hv.ae.gcl.g.er.dcl.d.ix.n.ih.z.bcl.b.y.ux.dx.ux.f.el.bcl.b.uw.tcl.t.s.epi.w.axr.w.ao.r.n.ix.n.epi.sh.ae.bcl.b.iy.h#.</td>\n",
       "    </tr>\n",
       "    <tr>\n",
       "      <th>3</th>\n",
       "      <td>.\\data\\TEST\\DR1\\FAKS0\\SI2203.WAV.wav</td>\n",
       "      <td>h#.dh.ix.r.iy.z.ax.n.z.f.axr.dh.ih.s.dcl.d.ay.v.s.iy.m.dcl.d.f.uw.l.ix.sh.epi.n.aw.h#.</td>\n",
       "    </tr>\n",
       "    <tr>\n",
       "      <th>4</th>\n",
       "      <td>.\\data\\TEST\\DR1\\FAKS0\\SI943.WAV.wav</td>\n",
       "      <td>h#.p.axr.dcl.d.ah.kcl.k.sh.ix.n.m.ey.f.ao.l.f.aa.r.bcl.b.ax.l.ow.ax.kcl.k.s.pcl.p.ix.kcl.t.ey.sh.en.tcl.s.h#.</td>\n",
       "    </tr>\n",
       "    <tr>\n",
       "      <th>...</th>\n",
       "      <td>...</td>\n",
       "      <td>...</td>\n",
       "    </tr>\n",
       "    <tr>\n",
       "      <th>6295</th>\n",
       "      <td>.\\data\\TRAIN\\DR8\\MTCS0\\SX172.WAV.wav</td>\n",
       "      <td>h#.dh.ax.tcl.t.r.ay.ah.m.f.ax.n.q.w.oy.er.ix.gcl.g.z.ih.bcl.b.ix.tcl.t.ih.dcl.n.ay.iy.v.hv.eh.r.ow.ih.z.ax.m.h#.</td>\n",
       "    </tr>\n",
       "    <tr>\n",
       "      <th>6296</th>\n",
       "      <td>.\\data\\TRAIN\\DR8\\MTCS0\\SX262.WAV.wav</td>\n",
       "      <td>h#.k.eh.n.dh.iy.ey.dcl.jh.ih.n.s.iy.ow.v.axr.th.r.ow.ey.l.iy.ix.n.f.ao.r.s.ax.s.h#.</td>\n",
       "    </tr>\n",
       "    <tr>\n",
       "      <th>6297</th>\n",
       "      <td>.\\data\\TRAIN\\DR8\\MTCS0\\SX352.WAV.wav</td>\n",
       "      <td>h#.ax.kcl.k.ao.r.dx.ih.n.dx.ax.m.ay.en.tcl.t.er.pcl.p.axr.tcl.t.ey.sh.en.ax.dh.ax-h.pcl.p.r.aa.bcl.b.em.pau.t.ux.l.ay.n.z.epi.m.ah.s.bcl.b.iy.pcl.p.er.pcl.p.ix.n.dcl.d.ih.kcl.k.ix.l.axr.h#.</td>\n",
       "    </tr>\n",
       "    <tr>\n",
       "      <th>6298</th>\n",
       "      <td>.\\data\\TRAIN\\DR8\\MTCS0\\SX442.WAV.wav</td>\n",
       "      <td>h#.s.ax.bcl.b.er.bcl.axr.n.hv.aw.s.epi.w.ay.v.z.q.ao.f.tcl.t.ix.n.s.ah.f.axr.f.r.ax.m.dh.ix.gcl.g.ae.bcl.b.hv.ae.bcl.b.ix.tcl.t.h#.</td>\n",
       "    </tr>\n",
       "    <tr>\n",
       "      <th>6299</th>\n",
       "      <td>.\\data\\TRAIN\\DR8\\MTCS0\\SX82.WAV.wav</td>\n",
       "      <td>h#.g.uh.dcl.d.s.er.v.ih.sh.ih.dcl.b.iy.r.ix.w.ao.r.dx.ih.dcl.b.ay.bcl.b.ih.gcl.t.ih.pcl.p.s.h#.</td>\n",
       "    </tr>\n",
       "  </tbody>\n",
       "</table>\n",
       "<p>6300 rows × 2 columns</p>\n",
       "</div>"
      ],
      "text/plain": [
       "                                      Path  \\\n",
       "0        .\\data\\TEST\\DR1\\FAKS0\\SA1.WAV.wav   \n",
       "1        .\\data\\TEST\\DR1\\FAKS0\\SA2.WAV.wav   \n",
       "2     .\\data\\TEST\\DR1\\FAKS0\\SI1573.WAV.wav   \n",
       "3     .\\data\\TEST\\DR1\\FAKS0\\SI2203.WAV.wav   \n",
       "4      .\\data\\TEST\\DR1\\FAKS0\\SI943.WAV.wav   \n",
       "...                                    ...   \n",
       "6295  .\\data\\TRAIN\\DR8\\MTCS0\\SX172.WAV.wav   \n",
       "6296  .\\data\\TRAIN\\DR8\\MTCS0\\SX262.WAV.wav   \n",
       "6297  .\\data\\TRAIN\\DR8\\MTCS0\\SX352.WAV.wav   \n",
       "6298  .\\data\\TRAIN\\DR8\\MTCS0\\SX442.WAV.wav   \n",
       "6299   .\\data\\TRAIN\\DR8\\MTCS0\\SX82.WAV.wav   \n",
       "\n",
       "                                                                                                                                                                                      Transcription  \n",
       "0                                                                               h#.sh.iy.hv.ae.dcl.d.y.er.dcl.d.aa.r.kcl.k.s.uw.dx.ih.ng.gcl.g.r.iy.s.iy.w.aa.sh.epi.w.aa.dx.er.q.ao.l.y.iy.axr.h#.  \n",
       "1                                                                                                   h#.d.ow.n.ae.s.epi.m.iy.tcl.t.ix.kcl.k.eh.r.iy.ix.n.oy.l.iy.r.ae.gcl.g.l.ay.kcl.k.dh.ae.tcl.h#.  \n",
       "2                           h#.hh.ih.z.kcl.k.ae.pcl.t.ix.n.w.ax.s.th.ih.n.ae.n.hv.ae.gcl.g.er.dcl.d.ix.n.ih.z.bcl.b.y.ux.dx.ux.f.el.bcl.b.uw.tcl.t.s.epi.w.axr.w.ao.r.n.ix.n.epi.sh.ae.bcl.b.iy.h#.  \n",
       "3                                                                                                            h#.dh.ix.r.iy.z.ax.n.z.f.axr.dh.ih.s.dcl.d.ay.v.s.iy.m.dcl.d.f.uw.l.ix.sh.epi.n.aw.h#.  \n",
       "4                                                                                     h#.p.axr.dcl.d.ah.kcl.k.sh.ix.n.m.ey.f.ao.l.f.aa.r.bcl.b.ax.l.ow.ax.kcl.k.s.pcl.p.ix.kcl.t.ey.sh.en.tcl.s.h#.  \n",
       "...                                                                                                                                                                                             ...  \n",
       "6295                                                                               h#.dh.ax.tcl.t.r.ay.ah.m.f.ax.n.q.w.oy.er.ix.gcl.g.z.ih.bcl.b.ix.tcl.t.ih.dcl.n.ay.iy.v.hv.eh.r.ow.ih.z.ax.m.h#.  \n",
       "6296                                                                                                            h#.k.eh.n.dh.iy.ey.dcl.jh.ih.n.s.iy.ow.v.axr.th.r.ow.ey.l.iy.ix.n.f.ao.r.s.ax.s.h#.  \n",
       "6297  h#.ax.kcl.k.ao.r.dx.ih.n.dx.ax.m.ay.en.tcl.t.er.pcl.p.axr.tcl.t.ey.sh.en.ax.dh.ax-h.pcl.p.r.aa.bcl.b.em.pau.t.ux.l.ay.n.z.epi.m.ah.s.bcl.b.iy.pcl.p.er.pcl.p.ix.n.dcl.d.ih.kcl.k.ix.l.axr.h#.  \n",
       "6298                                                            h#.s.ax.bcl.b.er.bcl.axr.n.hv.aw.s.epi.w.ay.v.z.q.ao.f.tcl.t.ix.n.s.ah.f.axr.f.r.ax.m.dh.ix.gcl.g.ae.bcl.b.hv.ae.bcl.b.ix.tcl.t.h#.  \n",
       "6299                                                                                                h#.g.uh.dcl.d.s.er.v.ih.sh.ih.dcl.b.iy.r.ix.w.ao.r.dx.ih.dcl.b.ay.bcl.b.ih.gcl.t.ih.pcl.p.s.h#.  \n",
       "\n",
       "[6300 rows x 2 columns]"
      ]
     },
     "execution_count": 6,
     "metadata": {},
     "output_type": "execute_result"
    }
   ],
   "source": [
    "labels"
   ]
  },
  {
   "cell_type": "code",
   "execution_count": 7,
   "id": "8181d149-f62d-4c15-a465-04084710565b",
   "metadata": {},
   "outputs": [],
   "source": [
    "def replace_slashes(s:str):\n",
    "    return s.replace('\\\\', '/')"
   ]
  },
  {
   "cell_type": "code",
   "execution_count": 8,
   "id": "df3b7235-6545-4e59-87f2-6075701bdc82",
   "metadata": {},
   "outputs": [],
   "source": [
    "labels.Path = labels.Path.map(replace_slashes)"
   ]
  },
  {
   "cell_type": "code",
   "execution_count": 9,
   "id": "f563cf0e-a129-458c-8336-6176a65ddb9f",
   "metadata": {},
   "outputs": [
    {
     "data": {
      "text/plain": [
       "True"
      ]
     },
     "execution_count": 9,
     "metadata": {},
     "output_type": "execute_result"
    }
   ],
   "source": [
    "Path(path/labels.Path[0]).is_file()"
   ]
  },
  {
   "cell_type": "code",
   "execution_count": 10,
   "id": "96409f66-d889-467f-a5d6-d809152c422d",
   "metadata": {},
   "outputs": [],
   "source": [
    "def replace_seqs(s:str):\n",
    "    return '.'.join([CORR[i] for i in s.split('.') if i and CORR[i]])"
   ]
  },
  {
   "cell_type": "code",
   "execution_count": 11,
   "id": "657f76ee-5b04-4b11-8f36-c6b54abd2965",
   "metadata": {},
   "outputs": [
    {
     "data": {
      "text/plain": [
       "'h.ɪ.z.k̚.k.æ.p̚.t.ɨ̞.n.w.ə.s.θ.ɪ.n.æ.n.ɦ.æ.ɡ̚.g.ɝ.d̚.d.ɨ̞.n.ɪ.z.b̚.b.j.ʉ.ɾ.ʉ.f.l̩.b̚.b.u.t̚.t.s.w.ɚ.w.ɔ.r.n.ɨ̞.n.ʃ.æ.b̚.b.i'"
      ]
     },
     "execution_count": 11,
     "metadata": {},
     "output_type": "execute_result"
    }
   ],
   "source": [
    "replace_seqs(labels.Transcription[2])"
   ]
  },
  {
   "cell_type": "code",
   "execution_count": 12,
   "id": "88fd4de2-f359-406f-b7fe-a0589eaa9d47",
   "metadata": {},
   "outputs": [],
   "source": [
    "labels.Transcription = labels.Transcription.map(replace_seqs)"
   ]
  },
  {
   "cell_type": "code",
   "execution_count": 13,
   "id": "c83127e3-7e20-41db-b857-27323dca4ee3",
   "metadata": {},
   "outputs": [
    {
     "data": {
      "text/html": [
       "<div>\n",
       "<style scoped>\n",
       "    .dataframe tbody tr th:only-of-type {\n",
       "        vertical-align: middle;\n",
       "    }\n",
       "\n",
       "    .dataframe tbody tr th {\n",
       "        vertical-align: top;\n",
       "    }\n",
       "\n",
       "    .dataframe thead th {\n",
       "        text-align: right;\n",
       "    }\n",
       "</style>\n",
       "<table border=\"1\" class=\"dataframe\">\n",
       "  <thead>\n",
       "    <tr style=\"text-align: right;\">\n",
       "      <th></th>\n",
       "      <th>Path</th>\n",
       "      <th>Transcription</th>\n",
       "    </tr>\n",
       "  </thead>\n",
       "  <tbody>\n",
       "    <tr>\n",
       "      <th>0</th>\n",
       "      <td>./data/TEST/DR1/FAKS0/SA1.WAV.wav</td>\n",
       "      <td>ʃ.i.ɦ.æ.d̚.d.j.ɝ.d̚.d.ɑ.r.k̚.k.s.u.ɾ.ɪ.ŋ.ɡ̚.g.r.i.s.i.w.ɑ.ʃ.w.ɑ.ɾ.ɝ.ʔ.ɔ.l.j.i.ɚ</td>\n",
       "    </tr>\n",
       "    <tr>\n",
       "      <th>1</th>\n",
       "      <td>./data/TEST/DR1/FAKS0/SA2.WAV.wav</td>\n",
       "      <td>d.oʊ.n.æ.s.m.i.t̚.t.ɨ̞.k̚.k.ɛ.r.i.ɨ̞.n.ɔɪ.l.i.r.æ.ɡ̚.g.l.aɪ.k̚.k.ð.æ.t̚</td>\n",
       "    </tr>\n",
       "    <tr>\n",
       "      <th>2</th>\n",
       "      <td>./data/TEST/DR1/FAKS0/SI1573.WAV.wav</td>\n",
       "      <td>h.ɪ.z.k̚.k.æ.p̚.t.ɨ̞.n.w.ə.s.θ.ɪ.n.æ.n.ɦ.æ.ɡ̚.g.ɝ.d̚.d.ɨ̞.n.ɪ.z.b̚.b.j.ʉ.ɾ.ʉ.f.l̩.b̚.b.u.t̚.t.s.w.ɚ.w.ɔ.r.n.ɨ̞.n.ʃ.æ.b̚.b.i</td>\n",
       "    </tr>\n",
       "    <tr>\n",
       "      <th>3</th>\n",
       "      <td>./data/TEST/DR1/FAKS0/SI2203.WAV.wav</td>\n",
       "      <td>ð.ɨ̞.r.i.z.ə.n.z.f.ɚ.ð.ɪ.s.d̚.d.aɪ.v.s.i.m.d̚.d.f.u.l.ɨ̞.ʃ.n.aʊ</td>\n",
       "    </tr>\n",
       "    <tr>\n",
       "      <th>4</th>\n",
       "      <td>./data/TEST/DR1/FAKS0/SI943.WAV.wav</td>\n",
       "      <td>p.ɚ.d̚.d.ʌ.k̚.k.ʃ.ɨ̞.n.m.eɪ.f.ɔ.l.f.ɑ.r.b̚.b.ə.l.oʊ.ə.k̚.k.s.p̚.p.ɨ̞.k̚.t.eɪ.ʃ.n̩.t̚.s</td>\n",
       "    </tr>\n",
       "    <tr>\n",
       "      <th>...</th>\n",
       "      <td>...</td>\n",
       "      <td>...</td>\n",
       "    </tr>\n",
       "    <tr>\n",
       "      <th>6295</th>\n",
       "      <td>./data/TRAIN/DR8/MTCS0/SX172.WAV.wav</td>\n",
       "      <td>ð.ə.t̚.t.r.aɪ.ʌ.m.f.ə.n.ʔ.w.ɔɪ.ɝ.ɨ̞.ɡ̚.g.z.ɪ.b̚.b.ɨ̞.t̚.t.ɪ.d̚.n.aɪ.i.v.ɦ.ɛ.r.oʊ.ɪ.z.ə.m</td>\n",
       "    </tr>\n",
       "    <tr>\n",
       "      <th>6296</th>\n",
       "      <td>./data/TRAIN/DR8/MTCS0/SX262.WAV.wav</td>\n",
       "      <td>k.ɛ.n.ð.i.eɪ.d̚.dʒ.ɪ.n.s.i.oʊ.v.ɚ.θ.r.oʊ.eɪ.l.i.ɨ̞.n.f.ɔ.r.s.ə.s</td>\n",
       "    </tr>\n",
       "    <tr>\n",
       "      <th>6297</th>\n",
       "      <td>./data/TRAIN/DR8/MTCS0/SX352.WAV.wav</td>\n",
       "      <td>ə.k̚.k.ɔ.r.ɾ.ɪ.n.ɾ.ə.m.aɪ.n̩.t̚.t.ɝ.p̚.p.ɚ.t̚.t.eɪ.ʃ.n̩.ə.ð.ə̥.p̚.p.r.ɑ.b̚.b.m̩.t.ʉ.l.aɪ.n.z.m.ʌ.s.b̚.b.i.p̚.p.ɝ.p̚.p.ɨ̞.n.d̚.d.ɪ.k̚.k.ɨ̞.l.ɚ</td>\n",
       "    </tr>\n",
       "    <tr>\n",
       "      <th>6298</th>\n",
       "      <td>./data/TRAIN/DR8/MTCS0/SX442.WAV.wav</td>\n",
       "      <td>s.ə.b̚.b.ɝ.b̚.ɚ.n.ɦ.aʊ.s.w.aɪ.v.z.ʔ.ɔ.f.t̚.t.ɨ̞.n.s.ʌ.f.ɚ.f.r.ə.m.ð.ɨ̞.ɡ̚.g.æ.b̚.b.ɦ.æ.b̚.b.ɨ̞.t̚.t</td>\n",
       "    </tr>\n",
       "    <tr>\n",
       "      <th>6299</th>\n",
       "      <td>./data/TRAIN/DR8/MTCS0/SX82.WAV.wav</td>\n",
       "      <td>g.ʊ.d̚.d.s.ɝ.v.ɪ.ʃ.ɪ.d̚.b.i.r.ɨ̞.w.ɔ.r.ɾ.ɪ.d̚.b.aɪ.b̚.b.ɪ.ɡ̚.t.ɪ.p̚.p.s</td>\n",
       "    </tr>\n",
       "  </tbody>\n",
       "</table>\n",
       "<p>6300 rows × 2 columns</p>\n",
       "</div>"
      ],
      "text/plain": [
       "                                      Path  \\\n",
       "0        ./data/TEST/DR1/FAKS0/SA1.WAV.wav   \n",
       "1        ./data/TEST/DR1/FAKS0/SA2.WAV.wav   \n",
       "2     ./data/TEST/DR1/FAKS0/SI1573.WAV.wav   \n",
       "3     ./data/TEST/DR1/FAKS0/SI2203.WAV.wav   \n",
       "4      ./data/TEST/DR1/FAKS0/SI943.WAV.wav   \n",
       "...                                    ...   \n",
       "6295  ./data/TRAIN/DR8/MTCS0/SX172.WAV.wav   \n",
       "6296  ./data/TRAIN/DR8/MTCS0/SX262.WAV.wav   \n",
       "6297  ./data/TRAIN/DR8/MTCS0/SX352.WAV.wav   \n",
       "6298  ./data/TRAIN/DR8/MTCS0/SX442.WAV.wav   \n",
       "6299   ./data/TRAIN/DR8/MTCS0/SX82.WAV.wav   \n",
       "\n",
       "                                                                                                                                      Transcription  \n",
       "0                                                                   ʃ.i.ɦ.æ.d̚.d.j.ɝ.d̚.d.ɑ.r.k̚.k.s.u.ɾ.ɪ.ŋ.ɡ̚.g.r.i.s.i.w.ɑ.ʃ.w.ɑ.ɾ.ɝ.ʔ.ɔ.l.j.i.ɚ  \n",
       "1                                                                           d.oʊ.n.æ.s.m.i.t̚.t.ɨ̞.k̚.k.ɛ.r.i.ɨ̞.n.ɔɪ.l.i.r.æ.ɡ̚.g.l.aɪ.k̚.k.ð.æ.t̚  \n",
       "2                       h.ɪ.z.k̚.k.æ.p̚.t.ɨ̞.n.w.ə.s.θ.ɪ.n.æ.n.ɦ.æ.ɡ̚.g.ɝ.d̚.d.ɨ̞.n.ɪ.z.b̚.b.j.ʉ.ɾ.ʉ.f.l̩.b̚.b.u.t̚.t.s.w.ɚ.w.ɔ.r.n.ɨ̞.n.ʃ.æ.b̚.b.i  \n",
       "3                                                                                   ð.ɨ̞.r.i.z.ə.n.z.f.ɚ.ð.ɪ.s.d̚.d.aɪ.v.s.i.m.d̚.d.f.u.l.ɨ̞.ʃ.n.aʊ  \n",
       "4                                                            p.ɚ.d̚.d.ʌ.k̚.k.ʃ.ɨ̞.n.m.eɪ.f.ɔ.l.f.ɑ.r.b̚.b.ə.l.oʊ.ə.k̚.k.s.p̚.p.ɨ̞.k̚.t.eɪ.ʃ.n̩.t̚.s  \n",
       "...                                                                                                                                             ...  \n",
       "6295                                                       ð.ə.t̚.t.r.aɪ.ʌ.m.f.ə.n.ʔ.w.ɔɪ.ɝ.ɨ̞.ɡ̚.g.z.ɪ.b̚.b.ɨ̞.t̚.t.ɪ.d̚.n.aɪ.i.v.ɦ.ɛ.r.oʊ.ɪ.z.ə.m  \n",
       "6296                                                                               k.ɛ.n.ð.i.eɪ.d̚.dʒ.ɪ.n.s.i.oʊ.v.ɚ.θ.r.oʊ.eɪ.l.i.ɨ̞.n.f.ɔ.r.s.ə.s  \n",
       "6297  ə.k̚.k.ɔ.r.ɾ.ɪ.n.ɾ.ə.m.aɪ.n̩.t̚.t.ɝ.p̚.p.ɚ.t̚.t.eɪ.ʃ.n̩.ə.ð.ə̥.p̚.p.r.ɑ.b̚.b.m̩.t.ʉ.l.aɪ.n.z.m.ʌ.s.b̚.b.i.p̚.p.ɝ.p̚.p.ɨ̞.n.d̚.d.ɪ.k̚.k.ɨ̞.l.ɚ  \n",
       "6298                                            s.ə.b̚.b.ɝ.b̚.ɚ.n.ɦ.aʊ.s.w.aɪ.v.z.ʔ.ɔ.f.t̚.t.ɨ̞.n.s.ʌ.f.ɚ.f.r.ə.m.ð.ɨ̞.ɡ̚.g.æ.b̚.b.ɦ.æ.b̚.b.ɨ̞.t̚.t  \n",
       "6299                                                                        g.ʊ.d̚.d.s.ɝ.v.ɪ.ʃ.ɪ.d̚.b.i.r.ɨ̞.w.ɔ.r.ɾ.ɪ.d̚.b.aɪ.b̚.b.ɪ.ɡ̚.t.ɪ.p̚.p.s  \n",
       "\n",
       "[6300 rows x 2 columns]"
      ]
     },
     "execution_count": 13,
     "metadata": {},
     "output_type": "execute_result"
    }
   ],
   "source": [
    "labels"
   ]
  },
  {
   "cell_type": "code",
   "execution_count": 14,
   "id": "11f0d672-2267-45cf-9568-da2c1e7dfbb2",
   "metadata": {},
   "outputs": [],
   "source": [
    "transcripts = L(labels.Transcription.values.tolist())"
   ]
  },
  {
   "cell_type": "code",
   "execution_count": 15,
   "id": "f289af95-8a94-4d43-a040-f7bdfdb76397",
   "metadata": {},
   "outputs": [
    {
     "data": {
      "text/plain": [
       "(#6300) ['ʃ.i.ɦ.æ.d̚.d.j.ɝ.d̚.d.ɑ.r.k̚.k.s.u.ɾ.ɪ.ŋ.ɡ̚.g.r.i.s.i.w.ɑ.ʃ.w.ɑ.ɾ.ɝ.ʔ.ɔ.l.j.i.ɚ','d.oʊ.n.æ.s.m.i.t̚.t.ɨ̞.k̚.k.ɛ.r.i.ɨ̞.n.ɔɪ.l.i.r.æ.ɡ̚.g.l.aɪ.k̚.k.ð.æ.t̚','h.ɪ.z.k̚.k.æ.p̚.t.ɨ̞.n.w.ə.s.θ.ɪ.n.æ.n.ɦ.æ.ɡ̚.g.ɝ.d̚.d.ɨ̞.n.ɪ.z.b̚.b.j.ʉ.ɾ.ʉ.f.l̩.b̚.b.u.t̚.t.s.w.ɚ.w.ɔ.r.n.ɨ̞.n.ʃ.æ.b̚.b.i','ð.ɨ̞.r.i.z.ə.n.z.f.ɚ.ð.ɪ.s.d̚.d.aɪ.v.s.i.m.d̚.d.f.u.l.ɨ̞.ʃ.n.aʊ','p.ɚ.d̚.d.ʌ.k̚.k.ʃ.ɨ̞.n.m.eɪ.f.ɔ.l.f.ɑ.r.b̚.b.ə.l.oʊ.ə.k̚.k.s.p̚.p.ɨ̞.k̚.t.eɪ.ʃ.n̩.t̚.s','p.i.t̚.s.ɚ.r.i.ɨ̞.z.ɑ.r.k̚.k.ɨ̞.n.v.i.n.j.ɨ̞.n.t̚.f.ɝ.ɨ̞.k̚.k.w.ɪ.k̚.k.l.ʌ.n.t̚.tʃ','p.ʊ.t̚.ð.ə.b̚.b.ʊ.t̚.tʃ.ɚ.b̚.b.l.ɑ.k̚.t.eɪ.b̚.b.l̩.ə.n.ð.ɨ̞.ɡ̚.g.ɝ.ɑ.ʃ','d.r.ɑ.p̚.f.aɪ.v.f.ɔ.r.m.z.ə.n.ð.ə.b̚.b.ɑ.k̚.k.s.b̚.b.ə.f.ɔ.r.j.ɨ̞.ɡ̚.g.oʊ.aʊ.t̚','h.ɝ.w.ɔ.r.d̚.d.r.oʊ.b̚.k.n̩.s.ɪ.s.ə.v.oʊ.n.l.i.s.k̚.k.ɝ.t̚.t.s.ə.n.b̚.b.l.aʊ.s.ɨ̞.ʔ.s','ʔ.ɛ.l.d̚.d.ɝ.l.i.p̚.p.i.p̚.p.l̩.ɝ.ɑ.f.ɨ̞.n.ɨ̞.ʔ.k̚.k.s.k̚.k.l.ʉ.d̚.d.ɨ̞.d̚.d'...]"
      ]
     },
     "execution_count": 15,
     "metadata": {},
     "output_type": "execute_result"
    }
   ],
   "source": [
    "transcripts"
   ]
  },
  {
   "cell_type": "code",
   "execution_count": 16,
   "id": "3a97c456-9f24-47b5-9928-68ea2d40e178",
   "metadata": {},
   "outputs": [],
   "source": [
    "whole = '.'.join([t for t in transcripts])"
   ]
  },
  {
   "cell_type": "code",
   "execution_count": 17,
   "id": "9446e298-1efb-44f1-a2dd-509daf3b5612",
   "metadata": {
    "tags": []
   },
   "outputs": [
    {
     "data": {
      "text/plain": [
       "'ʃ.i.ɦ.æ.d̚.d.j.ɝ.d̚.d.ɑ.r.k̚.k.s.u.ɾ.ɪ.ŋ.ɡ̚.g.r.i.s.i.w.ɑ.ʃ.w.ɑ.ɾ.ɝ.ʔ.ɔ.l.j.i.ɚ.d.oʊ.n.æ.s.m.i.t̚.t.'"
      ]
     },
     "execution_count": 17,
     "metadata": {},
     "output_type": "execute_result"
    }
   ],
   "source": [
    "whole[:100]"
   ]
  },
  {
   "cell_type": "code",
   "execution_count": 18,
   "id": "4241cf1a-3e52-4e12-86e8-5c570e7a7875",
   "metadata": {},
   "outputs": [],
   "source": [
    "vocab = L('',*list(whole.split('.')))"
   ]
  },
  {
   "cell_type": "code",
   "execution_count": 19,
   "id": "f5ec31f4-1566-47e7-b6e4-c89da2f0398f",
   "metadata": {},
   "outputs": [],
   "source": [
    "vocab = vocab.unique()"
   ]
  },
  {
   "cell_type": "code",
   "execution_count": 20,
   "id": "038ce5af-d6ce-4b0b-97e2-f2b316c37ef1",
   "metadata": {},
   "outputs": [
    {
     "data": {
      "text/plain": [
       "(#59) ['','ʃ','i','ɦ','æ','d̚','d','j','ɝ','ɑ'...]"
      ]
     },
     "execution_count": 20,
     "metadata": {},
     "output_type": "execute_result"
    }
   ],
   "source": [
    "vocab"
   ]
  },
  {
   "cell_type": "code",
   "execution_count": 21,
   "id": "ee9947e0-ec53-48c1-8ec6-2649eefb8679",
   "metadata": {},
   "outputs": [],
   "source": [
    "letter2idx = {letter:idx for (idx,letter) in enumerate(vocab)}"
   ]
  },
  {
   "cell_type": "code",
   "execution_count": 22,
   "id": "dee67135-2898-4da6-b5c5-20e4fd2a1c6a",
   "metadata": {
    "tags": []
   },
   "outputs": [
    {
     "data": {
      "text/plain": [
       "{'': 0,\n",
       " 'ʃ': 1,\n",
       " 'i': 2,\n",
       " 'ɦ': 3,\n",
       " 'æ': 4,\n",
       " 'd̚': 5,\n",
       " 'd': 6,\n",
       " 'j': 7,\n",
       " 'ɝ': 8,\n",
       " 'ɑ': 9,\n",
       " 'r': 10,\n",
       " 'k̚': 11,\n",
       " 'k': 12,\n",
       " 's': 13,\n",
       " 'u': 14,\n",
       " 'ɾ': 15,\n",
       " 'ɪ': 16,\n",
       " 'ŋ': 17,\n",
       " 'ɡ̚': 18,\n",
       " 'g': 19,\n",
       " 'w': 20,\n",
       " 'ʔ': 21,\n",
       " 'ɔ': 22,\n",
       " 'l': 23,\n",
       " 'ɚ': 24,\n",
       " 'oʊ': 25,\n",
       " 'n': 26,\n",
       " 'm': 27,\n",
       " 't̚': 28,\n",
       " 't': 29,\n",
       " 'ɨ̞': 30,\n",
       " 'ɛ': 31,\n",
       " 'ɔɪ': 32,\n",
       " 'aɪ': 33,\n",
       " 'ð': 34,\n",
       " 'h': 35,\n",
       " 'z': 36,\n",
       " 'p̚': 37,\n",
       " 'ə': 38,\n",
       " 'θ': 39,\n",
       " 'b̚': 40,\n",
       " 'b': 41,\n",
       " 'ʉ': 42,\n",
       " 'f': 43,\n",
       " 'l̩': 44,\n",
       " 'v': 45,\n",
       " 'aʊ': 46,\n",
       " 'p': 47,\n",
       " 'ʌ': 48,\n",
       " 'eɪ': 49,\n",
       " 'n̩': 50,\n",
       " 'tʃ': 51,\n",
       " 'ʊ': 52,\n",
       " 'dʒ': 53,\n",
       " 'ɾ̃': 54,\n",
       " 'ə̥': 55,\n",
       " 'ʒ': 56,\n",
       " 'm̩': 57,\n",
       " 'ŋ̩': 58}"
      ]
     },
     "execution_count": 22,
     "metadata": {},
     "output_type": "execute_result"
    }
   ],
   "source": [
    "letter2idx"
   ]
  },
  {
   "cell_type": "code",
   "execution_count": 23,
   "id": "dec6bf87-8bcf-4c56-a4f0-2b41daa2e89c",
   "metadata": {},
   "outputs": [],
   "source": [
    "def gggparent_eq(p, gggp = \"TEST\"):\n",
    "    return Path(p).parent.parent.parent.name == gggp"
   ]
  },
  {
   "cell_type": "code",
   "execution_count": 24,
   "id": "ebea4f09-bf19-4b9e-b85d-c1f23f11ed97",
   "metadata": {},
   "outputs": [],
   "source": [
    "labels[\"is_valid\"] = labels.Path.map(gggparent_eq)"
   ]
  },
  {
   "cell_type": "code",
   "execution_count": 25,
   "id": "40ed43bb-0437-4ff1-aa74-bdf7af2bf730",
   "metadata": {},
   "outputs": [
    {
     "data": {
      "text/html": [
       "\n",
       "                <audio  controls=\"controls\" >\n",
       "                    <source src=\"data:audio/x-wav;base64,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\" type=\"audio/x-wav\" />\n",
       "                    Your browser does not support the audio element.\n",
       "                </audio>\n",
       "              "
      ],
      "text/plain": [
       "<IPython.lib.display.Audio object>"
      ]
     },
     "execution_count": 25,
     "metadata": {},
     "output_type": "execute_result"
    }
   ],
   "source": [
    "Audio(path/labels.Path[2])"
   ]
  },
  {
   "cell_type": "code",
   "execution_count": 26,
   "id": "8b7e48e9-f1ca-4c92-8ca5-136d936cd5df",
   "metadata": {},
   "outputs": [],
   "source": [
    "# splits = ColSplitter()(labels)\n",
    "aud2spec = AudioToSpec.from_cfg(AudioConfig.Voice(f_min=0, n_mels=80))"
   ]
  },
  {
   "cell_type": "code",
   "execution_count": 27,
   "id": "edd1a43c-017d-4bef-b8ee-4ca7e5e5b29d",
   "metadata": {},
   "outputs": [],
   "source": [
    "# labels.to_csv('../training.csv')"
   ]
  },
  {
   "cell_type": "code",
   "execution_count": 28,
   "id": "c49d97b1-f653-4bd6-ae09-bee98c2928ed",
   "metadata": {},
   "outputs": [],
   "source": [
    "class Pad_Audio_Chunk(DisplayedTransform):\n",
    "    \"Pad `samples` by adding padding by chunks of size `seq_len`\"\n",
    "    def __init__(self, pad_idx=0, pad_first=False, seq_len=1,decode=True,**kwargs):\n",
    "        store_attr('pad_idx, pad_first, seq_len,seq_len')\n",
    "        super().__init__(**kwargs)\n",
    "    def before_call(self, b):\n",
    "        \"Set `self.max_len` before encodes\"\n",
    "        self.max_len = max([x.shape[0] for xs in b for x in xs if isinstance(x,AudioTensor)])\n",
    "    def __call__(self, b, **kwargs):\n",
    "        self.before_call(b)\n",
    "        return super().__call__(tuple(b), **kwargs)\n",
    "    def encodes(self, x:AudioTensor):\n",
    "        return pad_chunk(x,pad_idx=self.pad_idx, pad_first=self.pad_first, seq_len=self.seq_len, pad_len=self.max_len)\n",
    "    def decodes(self, o:AudioTensor):\n",
    "        return o[o != self.pad_idx] if self.decode else o"
   ]
  },
  {
   "cell_type": "code",
   "execution_count": 29,
   "id": "1953533f-88b3-4004-9d30-3dc2cccde542",
   "metadata": {},
   "outputs": [],
   "source": [
    "class SqueezeAud(Transform):\n",
    "    def encodes(self, x:AudioTensor): return x.squeeze()#.cuda()"
   ]
  },
  {
   "cell_type": "code",
   "execution_count": 30,
   "id": "fe5a37f1-86c8-4351-9eaa-658968307125",
   "metadata": {},
   "outputs": [],
   "source": [
    "labels.Path = path/labels.Path"
   ]
  },
  {
   "cell_type": "code",
   "execution_count": 31,
   "id": "531681f3-b266-4620-8959-dc9ffbfb01b2",
   "metadata": {},
   "outputs": [],
   "source": [
    "def get_x(d):\n",
    "    d = AudioTensor.create(d.Path)\n",
    "    d = Resample(16_000)(d)\n",
    "    return d.squeeze()\n",
    "\n",
    "def get_y(d):\n",
    "    return TensorText(tuple(letter2idx[i] for i in d.Transcription.split('.')))"
   ]
  },
  {
   "cell_type": "code",
   "execution_count": 32,
   "id": "ed0bb9a5-01d4-432a-82cd-752b70e971a2",
   "metadata": {},
   "outputs": [],
   "source": [
    "class SqueezeSpec(Transform):\n",
    "    def encodes(self, x:AudioSpectrogram): return x.squeeze()#.cuda()"
   ]
  },
  {
   "cell_type": "code",
   "execution_count": 33,
   "id": "8d7b559b-28b2-4fef-bc1b-cd1a3d5d8112",
   "metadata": {},
   "outputs": [],
   "source": [
    "db = DataBlock(get_x = get_x, get_y=get_y, dl_type=SortedDL,\n",
    "               splitter=ColSplitter(), batch_tfms=[aud2spec, SqueezeSpec()])"
   ]
  },
  {
   "cell_type": "code",
   "execution_count": 34,
   "id": "3df492b9-8b5d-4680-ac8d-6d0949b6a551",
   "metadata": {
    "tags": []
   },
   "outputs": [],
   "source": [
    "# x_tfms = [lambda x: x.Path,AudioTensor.create,\n",
    "#           Resample(16_000), RemoveSilence(), SqueezeAud()]#, Pad_Audio_Chunk(0, pad_first=False)]\n",
    "# y_tfms = [lambda y: y[\"Transcription\"], lambda y1: TensorText([letter2idx[i] for i in y1.split('.')[:-1]])]\n",
    "# dsets = Datasets(labels, [x_tfms, y_tfms], splits = splits)\n",
    "# dsets"
   ]
  },
  {
   "cell_type": "code",
   "execution_count": 35,
   "id": "5d69f027-f27b-4b5d-bb01-3f8885056759",
   "metadata": {},
   "outputs": [],
   "source": [
    "dls = db.dataloaders(labels, bs=32,\n",
    "                     before_batch=[Pad_Chunk(0, pad_first=False, seq_len=1), Pad_Audio_Chunk(0, pad_first=False)])"
   ]
  },
  {
   "cell_type": "code",
   "execution_count": 36,
   "id": "1d6ac762-fd41-4f18-8167-ddd3a7790566",
   "metadata": {
    "tags": []
   },
   "outputs": [],
   "source": [
    "x,y = b = tuple(i.cpu() for i in dls.one_batch())"
   ]
  },
  {
   "cell_type": "code",
   "execution_count": 37,
   "id": "70a74771-f897-446d-8fb7-237bb020f3cd",
   "metadata": {
    "tags": []
   },
   "outputs": [],
   "source": [
    "# dls = dsets.dataloaders(before_batch = [Pad_Chunk(0, pad_first=False, seq_len=1),Pad_Audio_Chunk(0, pad_first=False)],\n",
    "#                         after_batch=[aud2spec, SqueezeSpec()], bs=32)\n",
    "# b = dls.one_batch()"
   ]
  },
  {
   "cell_type": "code",
   "execution_count": 38,
   "id": "710c4b1c-7611-4870-89d5-961002358f6c",
   "metadata": {},
   "outputs": [
    {
     "data": {
      "text/plain": [
       "(26, None)"
      ]
     },
     "execution_count": 38,
     "metadata": {},
     "output_type": "execute_result"
    }
   ],
   "source": [
    "import gc\n",
    "gc.collect(), torch.cuda.empty_cache()"
   ]
  },
  {
   "cell_type": "code",
   "execution_count": 39,
   "id": "6c203296-bff9-42bd-aac4-6599ebf87457",
   "metadata": {
    "jupyter": {
     "source_hidden": true
    },
    "tags": []
   },
   "outputs": [],
   "source": [
    "# class NonSeparableQuartzSubblock(Module):\n",
    "#     r\"A basic building sub-block of Quartznet with non-separable Conv layers\"\n",
    "    \n",
    "#     def __init__(self, in_channels, out_channels, kernel, stride, drop = 0.2, **kwargs):\n",
    "#         self.conv = nn.Conv1d(in_channels, out_channels, kernel, stride, (kernel-1)//2, **kwargs)\n",
    "#         self.norm = nn.BatchNorm1d(out_channels)\n",
    "#         self.act = nn.ReLU()\n",
    "#         self.drop = nn.Dropout(drop)\n",
    "        \n",
    "#     def forward(self, x, res = 0):\n",
    "#         x = self.conv(x)\n",
    "#         x = self.norm(x)\n",
    "#         if not isinstance(res, int): x += res\n",
    "#         x = self.act(x)\n",
    "#         return self.drop(x)\n",
    "    \n",
    "    \n",
    "# class QuartzSubblock(Module):\n",
    "#     r\"A basic building sub-block of QuartzNet with separable convolutions\"\n",
    "    \n",
    "#     def __init__(self, in_channels, out_channels, kernel, stride, drop = 0.2, **kwargs):\n",
    "#         self.conv = nn.Sequential(nn.Conv1d(in_channels, in_channels, kernel, stride, (kernel-1)//2, groups=in_channels, **kwargs),\n",
    "#                                  nn.Conv1d(in_channels, out_channels, 1, 1))\n",
    "#         self.norm = nn.BatchNorm1d(out_channels)\n",
    "#         self.act = nn.ReLU()\n",
    "#         self.drop = nn.Dropout(drop)\n",
    "        \n",
    "#     def forward(self, x, res = 0):\n",
    "#         x = self.conv(x)\n",
    "#         x = self.norm(x)\n",
    "#         if not isinstance(res, int): x += res\n",
    "#         x = self.act(x)\n",
    "#         return self.drop(x)\n",
    "    \n",
    "# class QuartzBlock(Module):\n",
    "    \n",
    "#     def __init__(self, in_channels, out_channels, kernel, num_subblocks=3, drop = 0.2):\n",
    "#         self.subblocks = nn.Sequential(*[QuartzSubblock(in_channels, out_channels, kernel, 1, drop = 0.2)] \\\n",
    "#         + [QuartzSubblock(out_channels, out_channels, kernel, 1, drop = 0.2) for i in range(num_subblocks-2)])\n",
    "#         self.res_subblock = QuartzSubblock(out_channels, out_channels, kernel, 1, drop = 0.2)\n",
    "#         self.res_conv = nn.Conv1d(in_channels, out_channels, 1)\n",
    "#         self.res_norm = nn.BatchNorm1d(out_channels)\n",
    "        \n",
    "#     def forward(self, x):\n",
    "#         x, res = self.subblocks(x), self.res_conv(x)\n",
    "#         x = self.res_subblock(x, self.res_norm(x))\n",
    "#         return x\n",
    "    \n",
    "# class QuartzNet(Module):\n",
    "    \n",
    "#     def __init__(self, n_mels, n_vocab, num_blocks_factor=2, num_subblocks = 5):\n",
    "#         KERNELS = [33, 39, 51, 63, 75]\n",
    "#         OUTS = [256, 256, 512, 512, 512, 256]\n",
    "#         DROPS = [0.2]*3 + [0.3]*2\n",
    "        \n",
    "#         self.model = nn.Sequential(*[NonSeparableQuartzSubblock(n_mels, 256, 33, 2)] \\\n",
    "#         + [QuartzBlock((OUTS[i], OUTS[i-1])[j==0], OUTS[i], KERNELS[i], num_subblocks, DROPS[i])\n",
    "#            for i in range(5) for j in range(num_blocks_factor)] \\\n",
    "#         + [NonSeparableQuartzSubblock(OUTS[-2], 512, 87, 1, 0.4)],\n",
    "#           QuartzSubblock(512, 1024, 1, 1, 0.4), nn.Conv1d(1024, n_vocab, 1, dilation=2), nn.LogSoftmax(1)\n",
    "#         )\n",
    "        \n",
    "#     def forward(self, x):\n",
    "#         return self.model(x)"
   ]
  },
  {
   "cell_type": "code",
   "execution_count": 40,
   "id": "686661a9-1570-4377-bae8-c9f0b983eeeb",
   "metadata": {},
   "outputs": [],
   "source": [
    "model = QuartzNet(feat_in = x.shape[1], num_classes = len(vocab), repeat_blocks = 3).cuda()"
   ]
  },
  {
   "cell_type": "code",
   "execution_count": 41,
   "id": "1c3ee655-0fea-4f2c-b8ef-e5a3c002367a",
   "metadata": {},
   "outputs": [],
   "source": [
    "with torch.no_grad():\n",
    "    out = model(x.cuda()).cpu()"
   ]
  },
  {
   "cell_type": "code",
   "execution_count": 42,
   "id": "0139a533-f201-4f26-9518-4fd960f673da",
   "metadata": {
    "tags": []
   },
   "outputs": [],
   "source": [
    "CTC = nn.CTCLoss(0)\n",
    "def ctc_loss_no_lens(preds, targs):\n",
    "    # preds = Tensor(torch.einsum(\"ijk->kij\",preds).cpu())\n",
    "    preds = Tensor(preds.permute(2,0,1).cpu())\n",
    "    preds_l = torch.full(fill_value = preds.shape[0], size = (preds.shape[1],) )#.cpu()\n",
    "    # targs_l = torch.full(fill_value = targs.shape[1], size = (targs.shape[0],))#.cpu()\n",
    "    targs_l = targs.argmin(1)\n",
    "    targs_l = torch.where(targs[:,-1]==0, targs.argmin(1), targs.shape[1])-1\n",
    "    return CTC(preds, targs, preds_l, targs_l)"
   ]
  },
  {
   "cell_type": "code",
   "execution_count": 43,
   "id": "fe6bdef5-006a-46e8-affa-c1810988042e",
   "metadata": {},
   "outputs": [],
   "source": [
    "def unpad(text):\n",
    "    return Pad_Chunk(0).decode(text)\n",
    "\n",
    "def ctc_decode(pred, empid = 0):\n",
    "    pred = pred.argmax(0)\n",
    "    dec = [empid]\n",
    "    for i in range(len(pred)):\n",
    "        cur = int(pred[i])\n",
    "        if cur != dec[-1]: dec.append(cur)\n",
    "    return [i for i in dec if i!=0]\n",
    "\n",
    "def ids_to_str(ids):\n",
    "    return ''.join([vocab[i] for i in ids])"
   ]
  },
  {
   "cell_type": "code",
   "execution_count": 44,
   "id": "caf9bc33-089a-4e8f-9cb8-613d69f6f44a",
   "metadata": {},
   "outputs": [],
   "source": [
    "def CER(inp, targ):\n",
    "    inp,targ = inp.cpu(), targ.cpu()\n",
    "    bs = inp.shape[0]\n",
    "    cer = 0\n",
    "    # for i,t in zip(inp,targ):\n",
    "    for j in range(bs):\n",
    "        i = list(ctc_decode(inp[j]))\n",
    "        # print(i)\n",
    "        t = (unpad(targ[j]))\n",
    "        cer += editdistance.eval(i,t)/len(t)\n",
    "    return cer / bs * 100"
   ]
  },
  {
   "cell_type": "code",
   "execution_count": 45,
   "id": "7af079a4-1bd3-48b7-b050-39bf72c8782e",
   "metadata": {},
   "outputs": [
    {
     "data": {
      "text/plain": [
       "842.3766323248598"
      ]
     },
     "execution_count": 45,
     "metadata": {},
     "output_type": "execute_result"
    }
   ],
   "source": [
    "CER(out,y)"
   ]
  },
  {
   "cell_type": "code",
   "execution_count": 46,
   "id": "040ec705-2185-4b73-a5b3-83c1a4f57d1c",
   "metadata": {},
   "outputs": [],
   "source": [
    "def ctc_accuracy(inp, targ):\n",
    "    inp,targ = inp.cpu(), targ.cpu()\n",
    "    bs = inp.shape[0]\n",
    "    acc = 0\n",
    "    for j in range(bs):\n",
    "    # for i,t in zip(inp,targ):\n",
    "        i = ids_to_str(ctc_decode(inp[j]))\n",
    "        t = ids_to_str(unpad(targ[j]))\n",
    "        acc += i==t\n",
    "    return acc / bs"
   ]
  },
  {
   "cell_type": "code",
   "execution_count": 47,
   "id": "24789338-370a-447e-83c1-424608c716fe",
   "metadata": {},
   "outputs": [],
   "source": [
    "import wandb"
   ]
  },
  {
   "cell_type": "code",
   "execution_count": 48,
   "id": "eaeb59b9-ac41-42da-b855-398def655f7f",
   "metadata": {},
   "outputs": [
    {
     "name": "stderr",
     "output_type": "stream",
     "text": [
      "Failed to detect the name of this notebook, you can set it manually with the WANDB_NOTEBOOK_NAME environment variable to enable code saving.\n",
      "\u001b[34m\u001b[1mwandb\u001b[0m: Currently logged in as: \u001b[33mmizoru\u001b[0m (use `wandb login --relogin` to force relogin)\n"
     ]
    },
    {
     "data": {
      "text/plain": [
       "True"
      ]
     },
     "execution_count": 48,
     "metadata": {},
     "output_type": "execute_result"
    }
   ],
   "source": [
    "wandb.login()"
   ]
  },
  {
   "cell_type": "code",
   "execution_count": 49,
   "id": "c679463a-2547-4459-8602-81e2c564e841",
   "metadata": {
    "tags": []
   },
   "outputs": [
    {
     "name": "stderr",
     "output_type": "stream",
     "text": [
      "\u001b[34m\u001b[1mwandb\u001b[0m: wandb version 0.12.16 is available!  To upgrade, please run:\n",
      "\u001b[34m\u001b[1mwandb\u001b[0m:  $ pip install wandb --upgrade\n"
     ]
    },
    {
     "data": {
      "text/html": [
       "\n",
       "                    Syncing run <strong><a href=\"https://wandb.ai/mizoru/pronunciation-trainer/runs/3p3ppzz4\" target=\"_blank\">thunder-quartz_5x3-6</a></strong> to <a href=\"https://wandb.ai/mizoru/pronunciation-trainer\" target=\"_blank\">Weights & Biases</a> (<a href=\"https://docs.wandb.com/integrations/jupyter.html\" target=\"_blank\">docs</a>).<br/>\n",
       "\n",
       "                "
      ],
      "text/plain": [
       "<IPython.core.display.HTML object>"
      ]
     },
     "metadata": {},
     "output_type": "display_data"
    },
    {
     "data": {
      "text/html": [
       "<button onClick=\"this.nextSibling.style.display='block';this.style.display='none';\">Display W&B run</button><iframe src=\"https://wandb.ai/mizoru/pronunciation-trainer/runs/3p3ppzz4?jupyter=true\" style=\"border:none;width:100%;height:420px;display:none;\"></iframe>"
      ],
      "text/plain": [
       "<wandb.sdk.wandb_run.Run at 0x7fef186b3d30>"
      ]
     },
     "execution_count": 49,
     "metadata": {},
     "output_type": "execute_result"
    }
   ],
   "source": [
    "wandb.init(name = 'thunder-quartz_5x3-6')"
   ]
  },
  {
   "cell_type": "code",
   "execution_count": 65,
   "id": "c93c275d-5011-4cc9-b34c-42f99a1884cc",
   "metadata": {},
   "outputs": [],
   "source": [
    "learn = Learner(dls, model, loss_func=ctc_loss_no_lens, metrics = [CER, ctc_accuracy],\n",
    "             cbs=[WandbCallback()])#, SaveModelCallback(fname='thunder-QuartzNet_5x3-6')])"
   ]
  },
  {
   "cell_type": "code",
   "execution_count": 62,
   "id": "c526aa0c-3c9f-4bfb-b469-2944fcbb5636",
   "metadata": {},
   "outputs": [
    {
     "data": {
      "text/html": [],
      "text/plain": [
       "<IPython.core.display.HTML object>"
      ]
     },
     "metadata": {},
     "output_type": "display_data"
    },
    {
     "data": {
      "text/plain": [
       "SuggestedLRs(valley=0.0004786300996784121)"
      ]
     },
     "execution_count": 62,
     "metadata": {},
     "output_type": "execute_result"
    },
    {
     "data": {
      "image/png": "[encoded data removed]",
      "text/plain": [
       "<Figure size 432x288 with 1 Axes>"
      ]
     },
     "metadata": {
      "needs_background": "light"
     },
     "output_type": "display_data"
    }
   ],
   "source": [
    "learn.lr_find()"
   ]
  },
  {
   "cell_type": "code",
   "execution_count": 51,
   "id": "fdeca283-bea3-4347-813b-f6f6dc03afe7",
   "metadata": {
    "tags": []
   },
   "outputs": [
    {
     "data": {
      "text/html": [
       "<table border=\"1\" class=\"dataframe\">\n",
       "  <thead>\n",
       "    <tr style=\"text-align: left;\">\n",
       "      <th>epoch</th>\n",
       "      <th>train_loss</th>\n",
       "      <th>valid_loss</th>\n",
       "      <th>CER</th>\n",
       "      <th>ctc_accuracy</th>\n",
       "      <th>time</th>\n",
       "    </tr>\n",
       "  </thead>\n",
       "  <tbody>\n",
       "    <tr>\n",
       "      <td>0</td>\n",
       "      <td>4.973599</td>\n",
       "      <td>19.419516</td>\n",
       "      <td>100.600157</td>\n",
       "      <td>0.000000</td>\n",
       "      <td>03:03</td>\n",
       "    </tr>\n",
       "    <tr>\n",
       "      <td>1</td>\n",
       "      <td>3.951114</td>\n",
       "      <td>9.963199</td>\n",
       "      <td>100.015783</td>\n",
       "      <td>0.000000</td>\n",
       "      <td>02:10</td>\n",
       "    </tr>\n",
       "    <tr>\n",
       "      <td>2</td>\n",
       "      <td>3.827484</td>\n",
       "      <td>6.627887</td>\n",
       "      <td>100.064237</td>\n",
       "      <td>0.000000</td>\n",
       "      <td>01:54</td>\n",
       "    </tr>\n",
       "    <tr>\n",
       "      <td>3</td>\n",
       "      <td>3.678726</td>\n",
       "      <td>4.584273</td>\n",
       "      <td>100.000000</td>\n",
       "      <td>0.000000</td>\n",
       "      <td>01:55</td>\n",
       "    </tr>\n",
       "    <tr>\n",
       "      <td>4</td>\n",
       "      <td>3.574760</td>\n",
       "      <td>4.541587</td>\n",
       "      <td>100.393008</td>\n",
       "      <td>0.000000</td>\n",
       "      <td>01:51</td>\n",
       "    </tr>\n",
       "    <tr>\n",
       "      <td>5</td>\n",
       "      <td>3.438117</td>\n",
       "      <td>4.595961</td>\n",
       "      <td>103.967391</td>\n",
       "      <td>0.000000</td>\n",
       "      <td>01:51</td>\n",
       "    </tr>\n",
       "    <tr>\n",
       "      <td>6</td>\n",
       "      <td>3.196877</td>\n",
       "      <td>3.595305</td>\n",
       "      <td>100.243828</td>\n",
       "      <td>0.000000</td>\n",
       "      <td>01:46</td>\n",
       "    </tr>\n",
       "    <tr>\n",
       "      <td>7</td>\n",
       "      <td>3.048773</td>\n",
       "      <td>4.381689</td>\n",
       "      <td>100.158304</td>\n",
       "      <td>0.000000</td>\n",
       "      <td>01:44</td>\n",
       "    </tr>\n",
       "    <tr>\n",
       "      <td>8</td>\n",
       "      <td>2.992819</td>\n",
       "      <td>3.792667</td>\n",
       "      <td>100.128176</td>\n",
       "      <td>0.000000</td>\n",
       "      <td>01:47</td>\n",
       "    </tr>\n",
       "    <tr>\n",
       "      <td>9</td>\n",
       "      <td>2.937130</td>\n",
       "      <td>3.673276</td>\n",
       "      <td>100.144025</td>\n",
       "      <td>0.000000</td>\n",
       "      <td>01:45</td>\n",
       "    </tr>\n",
       "  </tbody>\n",
       "</table>"
      ],
      "text/plain": [
       "<IPython.core.display.HTML object>"
      ]
     },
     "metadata": {},
     "output_type": "display_data"
    },
    {
     "name": "stdout",
     "output_type": "stream",
     "text": [
      "WandbCallback was not able to get prediction samples -> Match length mismatch\n",
      "Better model found at epoch 0 with valid_loss value: 19.41951560974121.\n",
      "Better model found at epoch 1 with valid_loss value: 9.9631986618042.\n",
      "Better model found at epoch 2 with valid_loss value: 6.627886772155762.\n",
      "Better model found at epoch 3 with valid_loss value: 4.584272861480713.\n",
      "Better model found at epoch 4 with valid_loss value: 4.541586875915527.\n",
      "Better model found at epoch 6 with valid_loss value: 3.5953047275543213.\n"
     ]
    }
   ],
   "source": [
    "learn.fit_one_cycle(10, 1e-3)"
   ]
  },
  {
   "cell_type": "code",
   "execution_count": 57,
   "id": "0124fc84-e21c-43a0-88f4-cdb1929f7be3",
   "metadata": {},
   "outputs": [
    {
     "data": {
      "image/png": "[encoded data removed]",
      "text/plain": [
       "<Figure size 432x288 with 1 Axes>"
      ]
     },
     "metadata": {
      "needs_background": "light"
     },
     "output_type": "display_data"
    }
   ],
   "source": [
    "learn.recorder.plot_loss()"
   ]
  },
  {
   "cell_type": "code",
   "execution_count": 56,
   "id": "b6dd1c31-819a-4cfb-a2a9-b7fb5ed2f793",
   "metadata": {
    "tags": []
   },
   "outputs": [
    {
     "data": {
      "text/html": [],
      "text/plain": [
       "<IPython.core.display.HTML object>"
      ]
     },
     "metadata": {},
     "output_type": "display_data"
    },
    {
     "data": {
      "text/plain": [
       "SuggestedLRs(valley=4.786300905834651e-06)"
      ]
     },
     "execution_count": 56,
     "metadata": {},
     "output_type": "execute_result"
    },
    {
     "data": {
      "image/png": "[encoded data removed]",
      "text/plain": [
       "<Figure size 432x288 with 1 Axes>"
      ]
     },
     "metadata": {
      "needs_background": "light"
     },
     "output_type": "display_data"
    }
   ],
   "source": [
    "learn.lr_find()"
   ]
  },
  {
   "cell_type": "code",
   "execution_count": 58,
   "id": "aa783d7f-3a4c-4edf-909f-6505e12f0d6d",
   "metadata": {},
   "outputs": [
    {
     "data": {
      "text/html": [
       "<table border=\"1\" class=\"dataframe\">\n",
       "  <thead>\n",
       "    <tr style=\"text-align: left;\">\n",
       "      <th>epoch</th>\n",
       "      <th>train_loss</th>\n",
       "      <th>valid_loss</th>\n",
       "      <th>CER</th>\n",
       "      <th>ctc_accuracy</th>\n",
       "      <th>time</th>\n",
       "    </tr>\n",
       "  </thead>\n",
       "  <tbody>\n",
       "    <tr>\n",
       "      <td>0</td>\n",
       "      <td>3.124657</td>\n",
       "      <td>3.723450</td>\n",
       "      <td>100.131125</td>\n",
       "      <td>0.000000</td>\n",
       "      <td>01:42</td>\n",
       "    </tr>\n",
       "    <tr>\n",
       "      <td>1</td>\n",
       "      <td>3.032731</td>\n",
       "      <td>3.412403</td>\n",
       "      <td>100.348356</td>\n",
       "      <td>0.000000</td>\n",
       "      <td>01:43</td>\n",
       "    </tr>\n",
       "    <tr>\n",
       "      <td>2</td>\n",
       "      <td>3.006105</td>\n",
       "      <td>3.696289</td>\n",
       "      <td>100.180497</td>\n",
       "      <td>0.000000</td>\n",
       "      <td>01:44</td>\n",
       "    </tr>\n",
       "    <tr>\n",
       "      <td>3</td>\n",
       "      <td>2.977688</td>\n",
       "      <td>3.441299</td>\n",
       "      <td>100.343557</td>\n",
       "      <td>0.000000</td>\n",
       "      <td>01:44</td>\n",
       "    </tr>\n",
       "    <tr>\n",
       "      <td>4</td>\n",
       "      <td>3.012166</td>\n",
       "      <td>3.482217</td>\n",
       "      <td>100.411892</td>\n",
       "      <td>0.000000</td>\n",
       "      <td>01:46</td>\n",
       "    </tr>\n",
       "    <tr>\n",
       "      <td>5</td>\n",
       "      <td>2.982589</td>\n",
       "      <td>3.356130</td>\n",
       "      <td>100.422459</td>\n",
       "      <td>0.000000</td>\n",
       "      <td>01:44</td>\n",
       "    </tr>\n",
       "    <tr>\n",
       "      <td>6</td>\n",
       "      <td>2.965535</td>\n",
       "      <td>3.562437</td>\n",
       "      <td>100.192910</td>\n",
       "      <td>0.000000</td>\n",
       "      <td>01:44</td>\n",
       "    </tr>\n",
       "    <tr>\n",
       "      <td>7</td>\n",
       "      <td>2.972463</td>\n",
       "      <td>3.738159</td>\n",
       "      <td>100.220212</td>\n",
       "      <td>0.000000</td>\n",
       "      <td>01:44</td>\n",
       "    </tr>\n",
       "    <tr>\n",
       "      <td>8</td>\n",
       "      <td>2.975184</td>\n",
       "      <td>3.368421</td>\n",
       "      <td>100.401342</td>\n",
       "      <td>0.000000</td>\n",
       "      <td>01:44</td>\n",
       "    </tr>\n",
       "    <tr>\n",
       "      <td>9</td>\n",
       "      <td>3.006228</td>\n",
       "      <td>3.578984</td>\n",
       "      <td>100.203143</td>\n",
       "      <td>0.000000</td>\n",
       "      <td>01:44</td>\n",
       "    </tr>\n",
       "  </tbody>\n",
       "</table>"
      ],
      "text/plain": [
       "<IPython.core.display.HTML object>"
      ]
     },
     "metadata": {},
     "output_type": "display_data"
    },
    {
     "name": "stdout",
     "output_type": "stream",
     "text": [
      "Better model found at epoch 0 with valid_loss value: 3.723450183868408.\n",
      "Better model found at epoch 1 with valid_loss value: 3.412402868270874.\n",
      "Better model found at epoch 5 with valid_loss value: 3.3561298847198486.\n"
     ]
    }
   ],
   "source": [
    "learn.fit_one_cycle(10, slice(1e-8, 5e-6))"
   ]
  },
  {
   "cell_type": "code",
   "execution_count": 59,
   "id": "cd227e6e-70f2-4c28-9e52-59f84f6f94d9",
   "metadata": {},
   "outputs": [
    {
     "data": {
      "image/png": "[encoded data removed]",
      "text/plain": [
       "<Figure size 432x288 with 1 Axes>"
      ]
     },
     "metadata": {
      "needs_background": "light"
     },
     "output_type": "display_data"
    }
   ],
   "source": [
    "learn.recorder.plot_loss()"
   ]
  },
  {
   "cell_type": "code",
   "execution_count": 66,
   "id": "6026c88c-c0da-48c1-b27c-8957549387ad",
   "metadata": {},
   "outputs": [
    {
     "data": {
      "text/html": [],
      "text/plain": [
       "<IPython.core.display.HTML object>"
      ]
     },
     "metadata": {},
     "output_type": "display_data"
    },
    {
     "data": {
      "text/plain": [
       "SuggestedLRs(valley=1.0964781722577754e-05)"
      ]
     },
     "execution_count": 66,
     "metadata": {},
     "output_type": "execute_result"
    },
    {
     "data": {
      "image/png": "[encoded data removed]",
      "text/plain": [
       "<Figure size 432x288 with 1 Axes>"
      ]
     },
     "metadata": {
      "needs_background": "light"
     },
     "output_type": "display_data"
    }
   ],
   "source": [
    "learn.lr_find(1e-10, 1e-2)"
   ]
  },
  {
   "cell_type": "code",
   "execution_count": 67,
   "id": "748a8da2-a4ed-45a8-b2f0-73b66d177b9f",
   "metadata": {},
   "outputs": [
    {
     "name": "stdout",
     "output_type": "stream",
     "text": [
      "WandbCallback requires use of \"SaveModelCallback\" to log best model\n"
     ]
    },
    {
     "data": {
      "text/html": [
       "<table border=\"1\" class=\"dataframe\">\n",
       "  <thead>\n",
       "    <tr style=\"text-align: left;\">\n",
       "      <th>epoch</th>\n",
       "      <th>train_loss</th>\n",
       "      <th>valid_loss</th>\n",
       "      <th>CER</th>\n",
       "      <th>ctc_accuracy</th>\n",
       "      <th>time</th>\n",
       "    </tr>\n",
       "  </thead>\n",
       "  <tbody>\n",
       "    <tr>\n",
       "      <td>0</td>\n",
       "      <td>3.003942</td>\n",
       "      <td>3.517010</td>\n",
       "      <td>100.281963</td>\n",
       "      <td>0.000000</td>\n",
       "      <td>01:41</td>\n",
       "    </tr>\n",
       "    <tr>\n",
       "      <td>1</td>\n",
       "      <td>2.988291</td>\n",
       "      <td>3.456616</td>\n",
       "      <td>100.341321</td>\n",
       "      <td>0.000000</td>\n",
       "      <td>01:43</td>\n",
       "    </tr>\n",
       "    <tr>\n",
       "      <td>2</td>\n",
       "      <td>2.986493</td>\n",
       "      <td>3.572639</td>\n",
       "      <td>100.314585</td>\n",
       "      <td>0.000000</td>\n",
       "      <td>01:44</td>\n",
       "    </tr>\n",
       "    <tr>\n",
       "      <td>3</td>\n",
       "      <td>2.963214</td>\n",
       "      <td>3.485199</td>\n",
       "      <td>100.227092</td>\n",
       "      <td>0.000000</td>\n",
       "      <td>01:43</td>\n",
       "    </tr>\n",
       "    <tr>\n",
       "      <td>4</td>\n",
       "      <td>2.996022</td>\n",
       "      <td>3.549112</td>\n",
       "      <td>100.314465</td>\n",
       "      <td>0.000000</td>\n",
       "      <td>01:43</td>\n",
       "    </tr>\n",
       "  </tbody>\n",
       "</table>"
      ],
      "text/plain": [
       "<IPython.core.display.HTML object>"
      ]
     },
     "metadata": {},
     "output_type": "display_data"
    },
    {
     "name": "stdout",
     "output_type": "stream",
     "text": [
      "WandbCallback was not able to get prediction samples -> Match length mismatch\n"
     ]
    }
   ],
   "source": [
    "learn.fit_one_cycle(5, 1e-8)"
   ]
  },
  {
   "cell_type": "code",
   "execution_count": 69,
   "id": "81c691e4-d093-45bf-aff3-0853188be916",
   "metadata": {},
   "outputs": [
    {
     "data": {
      "text/html": [
       "<table border=\"1\" class=\"dataframe\">\n",
       "  <thead>\n",
       "    <tr style=\"text-align: left;\">\n",
       "      <th>epoch</th>\n",
       "      <th>train_loss</th>\n",
       "      <th>valid_loss</th>\n",
       "      <th>CER</th>\n",
       "      <th>ctc_accuracy</th>\n",
       "      <th>time</th>\n",
       "    </tr>\n",
       "  </thead>\n",
       "  <tbody>\n",
       "    <tr>\n",
       "      <td>0</td>\n",
       "      <td>2.972370</td>\n",
       "      <td>3.520432</td>\n",
       "      <td>100.390243</td>\n",
       "      <td>0.000000</td>\n",
       "      <td>01:42</td>\n",
       "    </tr>\n",
       "    <tr>\n",
       "      <td>1</td>\n",
       "      <td>2.990550</td>\n",
       "      <td>3.446406</td>\n",
       "      <td>100.335475</td>\n",
       "      <td>0.000000</td>\n",
       "      <td>01:43</td>\n",
       "    </tr>\n",
       "    <tr>\n",
       "      <td>2</td>\n",
       "      <td>2.965513</td>\n",
       "      <td>3.395772</td>\n",
       "      <td>100.356960</td>\n",
       "      <td>0.000000</td>\n",
       "      <td>01:43</td>\n",
       "    </tr>\n",
       "    <tr>\n",
       "      <td>3</td>\n",
       "      <td>2.969572</td>\n",
       "      <td>3.692355</td>\n",
       "      <td>100.305392</td>\n",
       "      <td>0.000000</td>\n",
       "      <td>01:44</td>\n",
       "    </tr>\n",
       "    <tr>\n",
       "      <td>4</td>\n",
       "      <td>2.965944</td>\n",
       "      <td>3.494826</td>\n",
       "      <td>100.472171</td>\n",
       "      <td>0.000000</td>\n",
       "      <td>01:44</td>\n",
       "    </tr>\n",
       "  </tbody>\n",
       "</table>"
      ],
      "text/plain": [
       "<IPython.core.display.HTML object>"
      ]
     },
     "metadata": {},
     "output_type": "display_data"
    }
   ],
   "source": [
    "learn.fit_one_cycle(5, 1e-5)"
   ]
  },
  {
   "cell_type": "code",
   "execution_count": 62,
   "id": "07c34372-9e3b-45a2-9161-212e5f883653",
   "metadata": {},
   "outputs": [
    {
     "name": "stdout",
     "output_type": "stream",
     "text": [
      "100.0\n"
     ]
    }
   ],
   "source": [
    "with torch.no_grad():\n",
    "    out = learn.model(x.cuda()).cpu()\n",
    "    print(CER(out, y))"
   ]
  },
  {
   "cell_type": "code",
   "execution_count": 70,
   "id": "10e06d34-98af-4135-8987-43ee68f07f3b",
   "metadata": {
    "tags": []
   },
   "outputs": [
    {
     "data": {
      "text/plain": [
       "['dɨ̞k̚ɨ̞t̚tɨ̞ɨ̞t̚ɨ̞kɨ̞t̚ɨ̞nɨ̞',\n",
       " 'ʃwɦwɦwɔkjɔ',\n",
       " 'ʃwɦwɦwɔkjɔ',\n",
       " 'ʃwɦwɦwɔkjɔ',\n",
       " 'ʃwɦwɦwɔkjɔ',\n",
       " 'ʃwɦwɦwɔkjɔ',\n",
       " 'ʃwɦwɦwɔkjɔ',\n",
       " 'wɦwɦwɔkjɔ',\n",
       " 'wɦwɦwɔkjɔ',\n",
       " 'wɦwɦwɔkjɔ',\n",
       " 'wɦwɦwɔkjɔ',\n",
       " 'wɦwɦwɔkjɔ',\n",
       " 'wɦwɦwɔkjɔ',\n",
       " 'wɦwɦwɔkjɔ',\n",
       " 'wɦwɦwɔkjɔ',\n",
       " 'wɦwɦwɔkjɔ',\n",
       " 'wɦwɦwɔkjɔ',\n",
       " 'wɦwɦwɔkjɔ',\n",
       " 'wɦwɦwɔkjɔ',\n",
       " 'wɦwɦwɔkjɔ',\n",
       " 'wɦwɦwɔkjɔ',\n",
       " 'wɦwɦwɔkjɔ',\n",
       " 'wɦwɦwɔkjɔ',\n",
       " 'wɦwɦwɔkjɔ',\n",
       " 'wɦwɦwɔkjɔ',\n",
       " 'wɦwɦwɔkjɔ',\n",
       " 'wɦwɦwɔkjɔ',\n",
       " 'wɦwɦwɔkjɔ',\n",
       " 'wɦwɦwɔkjɔ',\n",
       " 'wɦwɦwɔkjɔ',\n",
       " 'wɦwɦwɔkjɔ',\n",
       " 'wɦwɦwɔkjɔ']"
      ]
     },
     "execution_count": 70,
     "metadata": {},
     "output_type": "execute_result"
    }
   ],
   "source": [
    "[ids_to_str(ctc_decode(out[j])) for j in range(out.shape[0])]"
   ]
  },
  {
   "cell_type": "code",
   "execution_count": 71,
   "id": "ff05aa91-339a-4697-a6fc-8b76e2a1ad5c",
   "metadata": {
    "tags": []
   },
   "outputs": [
    {
     "data": {
      "text/html": [
       "<br/>Waiting for W&B process to finish, PID 1549... <strong style=\"color:green\">(success).</strong>"
      ],
      "text/plain": [
       "<IPython.core.display.HTML object>"
      ]
     },
     "metadata": {},
     "output_type": "display_data"
    },
    {
     "data": {
      "application/vnd.jupyter.widget-view+json": {
       "model_id": "",
       "version_major": 2,
       "version_minor": 0
      },
      "text/plain": [
       "VBox(children=(Label(value=' 145.69MB of 145.69MB uploaded (0.00MB deduped)\\r'), FloatProgress(value=1.0, max=…"
      ]
     },
     "metadata": {},
     "output_type": "display_data"
    },
    {
     "data": {
      "text/html": [
       "<style>\n",
       "    table.wandb td:nth-child(1) { padding: 0 10px; text-align: right }\n",
       "    .wandb-row { display: flex; flex-direction: row; flex-wrap: wrap; width: 100% }\n",
       "    .wandb-col { display: flex; flex-direction: column; flex-basis: 100%; flex: 1; padding: 10px; }\n",
       "    </style>\n",
       "<div class=\"wandb-row\"><div class=\"wandb-col\">\n",
       "<h3>Run history:</h3><br/><table class=\"wandb\"><tr><td>CER</td><td>▂▁▁▁▂█▁▁▁▁▁▂▁▂▂▂▁▁▂▁▁▂▂▁▂▂▂▂▂▂</td></tr><tr><td>ctc_accuracy</td><td>▁▁▁▁▁▁▁▁▁▁▁▁▁▁▁▁▁▁▁▁▁▁▁▁▁▁▁▁▁▁</td></tr><tr><td>epoch</td><td>▁▁▁▂▂▂▂▂▂▃▃▃▃▃▃▄▄▄▄▄▄▅▅▅▅▅▆▆▆▆▆▇▇▇▇▇▇███</td></tr><tr><td>eps_0</td><td>▁▁▁▁▁▁▁▁▁▁▁▁▁▁▁▁▁▁▁▁▁▁▁▁▁▁▁▁▁▁▁▁▁▁▁▁▁▁▁▁</td></tr><tr><td>lr_0</td><td>▂▃▇██▇▆▆▅▃▃▂▁▁▁▁▁▁▁▁▁▁▁▁▁▁▁▁▁▁▁▁▁▁▁▁▁▁▁▁</td></tr><tr><td>mom_0</td><td>▇▆▂▁▁▂▃▃▄▆▆▇██▇▃▁▁▁▂▃▄▅▆▇██▆▁▂▃▆██▃▁▂▄▇█</td></tr><tr><td>raw_loss</td><td>█▅▅▆▄▃▄▃▃▂▂▄▃▂▃▃▄▂▃▂▂▄▁▃▂▂▂▂▂▃▃▁▃▄▃▃▂▂▃▄</td></tr><tr><td>sqr_mom_0</td><td>▁▁▁▁▁▁▁▁▁▁▁▁▁▁▁▁▁▁▁▁▁▁▁▁▁▁▁▁▁▁▁▁▁▁▁▁▁▁▁▁</td></tr><tr><td>train_loss</td><td>█▄▂▂▂▂▂▂▂▁▁▁▁▁▁▁▁▁▁▁▁▁▁▁▁▁▁▁▁▁▁▁▁▁▁▁▁▁▁▁</td></tr><tr><td>valid_loss</td><td>█▄▂▂▂▂▁▁▁▁▁▁▁▁▁▁▁▁▁▁▁▁▁▁▁▁▁▁▁▁</td></tr><tr><td>wd_0</td><td>▁▁▁▁▁▁▁▁▁▁▁▁▁▁▁▁▁▁▁▁▁▁▁▁▁▁▁▁▁▁▁▁▁▁▁▁▁▁▁▁</td></tr></table><br/></div><div class=\"wandb-col\">\n",
       "<h3>Run summary:</h3><br/><table class=\"wandb\"><tr><td>CER</td><td>100.47217</td></tr><tr><td>ctc_accuracy</td><td>0.0</td></tr><tr><td>epoch</td><td>30</td></tr><tr><td>eps_0</td><td>1e-05</td></tr><tr><td>lr_0</td><td>0.0</td></tr><tr><td>mom_0</td><td>0.95</td></tr><tr><td>raw_loss</td><td>3.20095</td></tr><tr><td>sqr_mom_0</td><td>0.99</td></tr><tr><td>train_loss</td><td>2.96594</td></tr><tr><td>valid_loss</td><td>3.49483</td></tr><tr><td>wd_0</td><td>0.01</td></tr></table>\n",
       "</div></div>\n",
       "Synced 6 W&B file(s), 0 media file(s), 2 artifact file(s) and 0 other file(s)\n",
       "<br/>Synced <strong style=\"color:#cdcd00\">thunder-quartz_5x3-6</strong>: <a href=\"https://wandb.ai/mizoru/pronunciation-trainer/runs/3p3ppzz4\" target=\"_blank\">https://wandb.ai/mizoru/pronunciation-trainer/runs/3p3ppzz4</a><br/>\n",
       "Find logs at: <code>./wandb/run-20220505_181950-3p3ppzz4/logs</code><br/>\n"
      ],
      "text/plain": [
       "<IPython.core.display.HTML object>"
      ]
     },
     "metadata": {},
     "output_type": "display_data"
    }
   ],
   "source": [
    "wandb.finish()"
   ]
  },
  {
   "cell_type": "code",
   "execution_count": 82,
   "id": "7d46708e-d7c5-4358-b062-7b61565d7a28",
   "metadata": {},
   "outputs": [
    {
     "data": {
      "text/plain": [
       "Path('models/QuartzNet_2x5_fin.pth')"
      ]
     },
     "execution_count": 82,
     "metadata": {},
     "output_type": "execute_result"
    }
   ],
   "source": [
    "learn.save('QuartzNet_2x5_fin')"
   ]
  },
  {
   "cell_type": "code",
   "execution_count": 72,
   "id": "c85393a1-61a3-4497-9e52-dded1fb172fb",
   "metadata": {
    "tags": []
   },
   "outputs": [
    {
     "data": {
      "text/html": [],
      "text/plain": [
       "<IPython.core.display.HTML object>"
      ]
     },
     "metadata": {},
     "output_type": "display_data"
    }
   ],
   "source": [
    "preds,targs = learn.get_preds()"
   ]
  },
  {
   "cell_type": "code",
   "execution_count": 124,
   "id": "87a82ba6-7a6e-4867-814f-603c6ab4c9ea",
   "metadata": {
    "collapsed": true,
    "jupyter": {
     "outputs_hidden": true
    },
    "tags": []
   },
   "outputs": [
    {
     "data": {
      "text/plain": [
       "['wəlikɛtɨ̞tʉɪt',\n",
       " 'ðikɨ̞t̚tɪtɑk',\n",
       " 'wəɨ̞tɨ̞pɨ̞bɨ̞wɨ̞t̚kɨ̞d̚ɨ̞',\n",
       " 'ʔəɨ̞mɔmɨ̞dɨ̞ɨ̞t',\n",
       " 'ðɨ̞ɔtəkɑʔɔɔ',\n",
       " 'ðiɪækɨ̞dɛɑ',\n",
       " 'ʃiɦɛd̚djɚd̚dɑrk̚ksʉt̚ɨ̞ŋɡ̚grisiwɑʃwɔɾɚɔl',\n",
       " 'ðəid̚tɨ̞baɪɾɚðɨ̞t̚tɨ̞',\n",
       " 'ʔəɨ̞d̚tɨ̞pɨ̞bɔk̚kɨ̞ɨ̞',\n",
       " 'wikiɨ̞tɨ̞tɨ̞',\n",
       " 'ðɨ̞tɨ̞kəpɔwɔɑɨ̞',\n",
       " 'ðiɪækɨ̞dɨ̞',\n",
       " 'ðɨ̞rkɨ̞titɨ̞ɪt̚kɨ̞ɨ̞',\n",
       " 'ðiiæɾɨ̞t',\n",
       " 'ðɪkkɨ̞kɨ̞tɨ̞rɨ̞kɨ̞d̚ɨ̞',\n",
       " 'ðət̚tɨ̞tɑdɨ̞k',\n",
       " 'ʃiɦɛd̚jɚd̚dɑrk̚ksʉtɨ̞ɡ̚grisiwɑʃwɔɾɚɔl',\n",
       " 'doʊɾ̃æsk̚miɾɨ̞k̚kɛriɨ̞nɔɪliræɡ̚glaɪk̚ð',\n",
       " 'ðiiɨ̞bɨ̞dɔ',\n",
       " 'ðirikɨ̞t̚titiɨ̞t̚t',\n",
       " 'wɛidɨ̞tɨ̞bɨ̞rɨ̞t̚tii',\n",
       " 'ðiɨ̞oʊbəvɛɨ̞',\n",
       " 'ʔɑɨ̞bɔwaɪmɨ̞ʔɔkɨ̞ɨ̞',\n",
       " 'waɪɨ̞ɝɨ̞vɛ',\n",
       " 'wəɨ̞aɪvaɪmaɪ',\n",
       " 'ðətɛkɨ̞diɪkəɨ̞',\n",
       " 'ʃiɦæd̚dʒɚd̚dɑrk̚ksʉt̚ɨ̞nɡ̚grisiwɑʃwɔɾɚɔl',\n",
       " 'doʊɾ̃æsk̚miɾɨ̞k̚kɛriɨ̞nʔɔɪliræɡ̚glaɪk̚ð',\n",
       " 'ðibaɪədɨ̞kiɨ̞',\n",
       " 'ðiiɨ̞tɨ̞tiɨ̞t̚tiɾi',\n",
       " 'wəidɨ̞tɨ̞biɨ̞kɨ̞ɨ̞',\n",
       " 'ʔɑɪtɪtibɛk',\n",
       " 'ðəɨ̞bɛɨ̞daɪkəɨ̞t̚',\n",
       " 'ðɨ̞pɨ̞bɨ̞mɨ̞rɑk',\n",
       " 'rɨ̞kaɪkɨ̞tiɨ̞t̚ti',\n",
       " 'brkɨ̞k̚kɛpɨ̞bɨ̞ɨ̞t̚tib̚ɨ̞',\n",
       " 'ʃiɦæd̚jɚd̚dɑrk̚ksʉt̚ɨ̞nɡ̚grisiwɑʃwɔɾɚɔl',\n",
       " 'doʊnæsk̚miɾɨ̞k̚kɛriɨ̞nʔɔɪliræɡ̚glaɪk̚ð',\n",
       " 'wəlwɔwɨ̞d̚dɨ̞æəɨ̞',\n",
       " 'wɑkʌɨ̞tɨ̞tɨ̞t',\n",
       " 'ðit̚tɨ̞t̚tɪtɨ̞t̚ɪt̚kiɨ̞',\n",
       " 'ðɨ̞t̚tɨ̞bɨ̞ɾɨ̞ɨ̞t̚kinɨ̞t̚',\n",
       " 'ðɨ̞ɔrkɨ̞k̚kɑbɨ̞t̚kɨ̞',\n",
       " 'ʔaɪt̚tit̚tɪt̚tɨ̞tlɔkɨ̞ɨ̞',\n",
       " 'wʌt̚tt̚tʃɪtɨ̞tlɑkɨ̞ɨ̞',\n",
       " 'ðɨ̞kɨ̞k̚kɨ̞tɨ̞ɨ̞ʔɨ̞ɾɨ̞',\n",
       " 'ʃiɦɛd̚dʒɚd̚dɑrk̚ksʉt̚ʔɨ̞ŋɡ̚grisiwɑʃwɔɾɚʔɔl',\n",
       " 'doʊnæsk̚mit̚tɨ̞k̚kɛriɨ̞nʔɔɪliræɡ̚glaɪk̚ð',\n",
       " 'ðʌkkɨ̞t̚kɨ̞tɨ̞ɨ̞t̚tɨ̞d̚ɨ̞',\n",
       " 'ðɪt̚tɨ̞pətɑk',\n",
       " 'ðəɨ̞ɔɨ̞diɨ̞t',\n",
       " 'ðərkɨ̞t̚tɪtɑk̚kəɨ̞',\n",
       " 'ðɛppoʊkɨ̞kɨ̞rɨ̞kɨ̞d̚ɨ̞',\n",
       " 'ʔɑʌmɔpɨ̞bɛt̚sɨ̞',\n",
       " 'ðɨ̞k̚kkɨ̞kəbrɑkaɪɨ̞',\n",
       " 'ðɪtɑkætɨ̞',\n",
       " 'ʃiɦæd̚dʒɚd̚dɑrk̚ksʉt̚ɨ̞ŋɡ̚grisiwɑʃwɔɾɚʔɔl',\n",
       " 'doʊnæsk̚miɾɨ̞k̚kɛriɨ̞nʔɔɪliræɡ̚glaɪk̚ð',\n",
       " 'ðɨ̞k̚pɪk̚kɨ̞kɨ̞bɛwɔkɨ̞b̚ɨ̞',\n",
       " 'wəkɛpɨ̞twɑk̚kɨ̞d̚ɨ̞',\n",
       " 'wʌiiʃiir',\n",
       " 'ðikɨ̞ækɨ̞tɨ̞ɨ̞t̚t',\n",
       " 'ðɨ̞kɨ̞kitiɨ̞iɾ',\n",
       " 'ðiɝɔɾədɨ̞']"
      ]
     },
     "execution_count": 124,
     "metadata": {},
     "output_type": "execute_result"
    }
   ],
   "source": [
    "[ids_to_str(ctc_decode(preds[i])) for i in range(64,128)]"
   ]
  },
  {
   "cell_type": "code",
   "execution_count": 73,
   "id": "3fd4d5c6-d864-442b-bb78-aad35466c07a",
   "metadata": {
    "tags": []
   },
   "outputs": [
    {
     "name": "stdout",
     "output_type": "stream",
     "text": [
      "prediction\ttarget\n",
      "\n",
      "ʃiɦæd̚dɚd̚dɑrk̚ksʉt̚ɨ̞nɡ̚grisiwɑʃwɔɾɚɔljɪ\t\tʃiɦæd̚djɝd̚dɑrk̚ksuɾɪŋɡ̚grisiwɑʃwɑɾɝʔɔljiɚ\n",
      "ʃɦæd̚dɚd̚dɑrk̚ksʉt̚ɨ̞ɡ̚grisiwɑʃwɔɾɚɔljɪ\t\tdoʊnæsmit̚tɨ̞k̚kɛriɨ̞nɔɪliræɡ̚glaɪk̚kðæt̚\n",
      "ʃgw\t\thɪzk̚kæp̚tɨ̞nwəsθɪnænɦæɡ̚gɝd̚dɨ̞nɪzb̚bjʉɾʉfl̩b̚but̚tswɚwɔrnɨ̞nʃæb̚bi\n",
      "ʃæd̚ɨ̞d̚dɑɨ̞t̚ɨ̞kɛt̚ɨ̞nɨ̞\t\tðɨ̞rizənzfɚðɪsd̚daɪvsimd̚dfulɨ̞ʃnaʊ\n",
      "ðɨ̞ɨ̞d̚ɨ̞ɨ̞t̚ɨ̞kɨ̞t̚ɨ̞ɨ̞\t\tpɚd̚dʌk̚kʃɨ̞nmeɪfɔlfɑrb̚bəloʊək̚ksp̚pɨ̞k̚teɪʃn̩t̚s\n",
      "ðɨ̞ɨ̞d̚ɨ̞it̚ɨ̞kɛt̚ɨ̞nɨ̞\t\tpit̚sɚriɨ̞zɑrk̚kɨ̞nvinjɨ̞nt̚fɝɨ̞k̚kwɪk̚klʌnt̚tʃ\n",
      "ðɨ̞ɨ̞d̚ɨ̞ɨ̞t̚ɨ̞kɨ̞t̚ɨ̞nɨ̞\t\tpʊt̚ðəb̚bʊt̚tʃɚb̚blɑk̚teɪb̚bl̩ənðɨ̞ɡ̚gɝɑʃ\n",
      "ʃæd̚ɚd̚dɑk̚ʉt̚ɨ̞ɡ̚griwɨ̞nɨ̞\t\tdrɑp̚faɪvfɔrmzənðəb̚bɑk̚ksb̚bəfɔrjɨ̞ɡ̚goʊaʊt̚\n",
      "ðɨ̞ɨ̞d̚ɨ̞ɨ̞t̚ɨ̞kɨ̞t̚ɨ̞ɨ̞\t\thɝwɔrd̚droʊb̚kn̩sɪsəvoʊnlisk̚kɝt̚tsənb̚blaʊsɨ̞ʔs\n",
      "doʊɾ̃æsk̚miɾɨ̞k̚kɛriɨ̞nɔɪliræɡ̚glaɪk̚ðæ\t\tʔɛld̚dɝlip̚pip̚pl̩ɝɑfɨ̞nɨ̞ʔk̚ksk̚klʉd̚dɨ̞d̚d\n",
      "wwwɦwɦwɔkjɔ\t\tʃiɦæd̚djʊd̚dæk̚ksʉt̚ɪnɡ̚grisiwɑʃwɔɾʌʔɔljɪɝ\n",
      "ðɪit̚ɨ̞kgɨ̞\t\tdoʊnʔæsmiɾɪk̚kæriɨ̞nɔɪliræɡ̚glaɪk̚θæt̚\n",
      "dɨ̞ɨ̞t̚ɨ̞it̚ɨ̞kɨ̞t̚ɨ̞ɨ̞\t\thʌsk̚kijʌŋmænɦisɛd̚wɪðmɑk̚dɪst̚teɪst̚t\n",
      "ðɨ̞ɨ̞t̚ɨ̞ɨ̞t̚ɨ̞kɨ̞t̚ɨ̞ɨ̞\t\tɑɦɑhiθɔt̚ʔeɪlʌʃd̚dɨ̞vɔrsiʔæʔlæst̚t\n",
      "dɪɨ̞t̚ɨ̞ɨ̞t̚ɨ̞kɨ̞t̚ɨ̞ɨ̞\t\tðʌst̚tɛk̚nɨ̞k̚kl̩ʔəfɪʃɨ̞nsiʔɪzət̚tʃivʔæt̚ðiɪk̚ksp̚pɛnt̚tsʌvæt̚tʃuəlʔɨ̞k̚ksp̚pɪriɨ̞nt̚ts\n",
      "ðoʊæt̚it̚ɨ̞kɛrɨ̞ni\t\tɑb̚dʒɪk̚smeɪɾəvp̚pjuɾɚrɚb̚bjuɾəfʊl\n",
      "ðɨ̞k̚ɨ̞t̚ɨ̞ɨ̞t̚ɨ̞kɨ̞t̚ɨ̞ɨ̞\t\tðɨ̞mɔɾ̃iŋd̚duʔʌnðʊsp̚paɪɾɪwɛb̚glɪsɪnd̚də̥ʔɪnðəsʌn\n",
      "ʃɨ̞ɨ̞d̚dɑk̚it̚ɨ̞kɛrwɨ̞nɨ̞\t\ttʃip̚st̚tɑk̚kiŋzrʌnðəfɝst̚taɪmðɛrwɔən\n",
      "wɾj\t\tdoʊnʔdʉt̚tʃælizd̚dɝɾid̚dɪʃɪz\n",
      "ðɨ̞ɨ̞d̚dɨ̞ɨ̞t̚ɨ̞kɨ̞t̚ɨ̞ɨ̞\t\tkælsiɪmeɪk̚sb̚boʊnzɨ̞nt̚tiθst̚trɔŋ\n",
      "ʃɦæd̚dɚd̚dɑrk̚ksʉt̚ɨ̞nɡ̚grisiwɑʃwɔɾɚɔljɪ\t\tʃiɦæd̚djɚd̚dɑrk̚ksʉt̚ʔɪnɡ̚grisiwɔʃwɔɾɚʔɔljɪɚ\n",
      "ðoʊæsmit̚ɨ̞k̚kɛriɨ̞niɡ̚aɪ\t\tdoʊnt̚tæsk̚kmiɾɨ̞k̚kɛrinʔɔɪliræɡ̚glaɪk̚kðæt̚t\n",
      "wwwɦwɦwɔkjɔ\t\tʔɪnweɪd̚dʒnɨ̞ɡ̚goʊʃieɪʃɨ̞nsðiɪnd̚dɨ̞st̚trib̚bɑrɡ̚gɪnzʔɛzeɪjʉɾ̃ɪʔwɨ̞ðɨ̞sɪŋɡ̚gl̩jʉnjɪn\n",
      "ðɨ̞ɨ̞d̚ɨ̞ɨ̞t̚ɨ̞kɨ̞t̚ɨ̞ɨ̞\t\thivɔnoʊzroʊp̚psðɨ̞b̚boʊt̚sk̚kʌmʌnst̚tʌk̚k\n",
      "ðɨ̞ɨ̞t̚ɨ̞ɨ̞t̚ɨ̞kɨ̞t̚ɨ̞ɨ̞\t\tmɨ̞t̚tɪriɨ̞lssɚræmɨ̞k̚mɑɾl̩ɪŋk̚kleɪrɛd̚dwaɪt̚ʔɔrb̚bɑf\n",
      "ðɪæt̚it̚ɨ̞kɛt̚ɨ̞nɨ̞\t\tʔɑrɾɨ̞fɪʃl̩ɨ̞nt̚tɛlɨ̞d̚dʒɨ̞nsɨ̞zfɚril\n",
      "ðɛɪt̚ɪt̚ɨ̞kɛt̚ɨ̞nɨ̞\t\tðəsmɔlb̚bɔɪp̚pʊt̚ðəwɝmʌnðə̥hʊk̚k\n",
      "ðɪɪt̚ɪt̚ɨ̞kɨ̞t̚ɨ̞nɨ̞\t\tʔət̚tʃoʊzɨ̞nfjʉwl̩b̚bik̚kʌmd̚dʒɛnɚl̩s\n",
      "ðɨ̞ɨ̞d̚ɨ̞ɨ̞t̚ɨ̞kɨ̞t̚ɨ̞ɨ̞\t\tʔoʊnlɨ̞ðɨ̞moʊst̚tɨ̞k̚kɑmp̚plɨ̞ʃt̚ʔɑrɾɨ̞səb̚teɪnp̚pɑp̚pɨ̞lɛɚɾi\n",
      "ðɨ̞ɨ̞d̚dɨ̞ɨ̞t̚ɨ̞kɨ̞t̚ɨ̞ɨ̞\t\tðɨ̞fɪʃb̚bɨ̞ɡ̚gænt̚tɨ̞lip̚frænt̚tɨ̞k̚kliənðəsɝfəsəvðɨ̞smɔleɪk̚k\n",
      "ʃiɦæd̚djɚd̚dɑrk̚ksʉt̚ɨ̞nɡ̚grisiwɑʃwɔɾɚʔɔljɪ\t\tʃiɦɛd̚djʊrd̚dɑrk̚ksʉt̚n̩ɡ̚grisiwɔʃwɔɾɚʔɔljɪɚ\n",
      "doʊæd̚mit̚ɨ̞k̚kɛrɨ̞ni\t\tdoʊntæsk̚miɾɨ̞k̚kɛriɨ̞nʔɔɪliræɡ̚glaɪk̚kðæʔ\n",
      "ðɨ̞ɨ̞d̚ɨ̞ɨ̞t̚ɨ̞kɨ̞t̚ɨ̞nɨ̞\t\tdænsɨ̞zʔɔlt̚tɚneɪt̚ə̥d̚wəθsʌŋʔɚsp̚poʊk̚kɨ̞nvɝsəz\n",
      "ðɨ̞ɨ̞d̚ɨ̞ɨ̞t̚ɨ̞kɨ̞t̚ɨ̞nɨ̞\t\tmaɪfɑðɚrænɦɨ̞mʔɔfhɪɚsɪk̚ksjɪɚzɨ̞ɡ̚goʊ\n",
      "wwwɦwɦwɔkjɔ\t\thirɦiʔɪzkwaɪt̚pɚsweɪsɨ̞vliðɨ̞vɛriʔɨ̞mb̚bɑɾɨ̞mɨ̞ʔɨ̞vminɛsn̩slaɪnəs\n",
      "ðɨ̞ɨ̞t̚ɨ̞ɨ̞t̚ɨ̞kɨ̞t̚ɨ̞nɨ̞\t\tðɨ̞k̚kæt̚smiaʊʔɔlweɪzhɝt̚smaɪʔɪɚz\n",
      "ðɛɪd̚it̚ɨ̞kɛrɨ̞nɨ̞\t\tklɪfwəsʉðd̚baɪðələk̚kʃɝriɨ̞sməsɑʒ\n",
      "wwwɦwɦwɔkjɔ\t\tit̚tʃʌnt̚taɪmliʔɪŋk̚kʌmlɔsk̚koʊɨ̞nsaɪɾɨ̞d̚wɪθɨ̞b̚breɪk̚daʊɾ̃ɨ̞vɨ̞ɦit̚tɨ̞ŋsɨ̞st̚təmp̚pɑrt̚\n",
      "ðɨ̞ɨ̞d̚ɨ̞ɨ̞t̚ɨ̞kɨ̞t̚ɨ̞nɨ̞\t\tdʒeɪnmeɪʔɝnmɔrmʌɾ̃ib̚baɪwɝk̚kɨ̞ŋɦɑrd̚\n",
      "doʊɨ̞t̚it̚ɨ̞kɛt̚ɨ̞nɨ̞\t\tjʌŋst̚tɚzlʌvk̚kɑmɨ̞nk̚kænd̚diɛzt̚trit̚ts\n",
      "ʃiɦæd̚dʒjɚd̚dɑrk̚ksʉt̚ɨ̞nɡ̚grisiwɔʃwɔɾɚʔɔljɪ\t\tʃiɦɛjʉd̚dɑrk̚sʉt̚tɨ̞ŋɡ̚grisɨ̞wɑʃwʌɾɚʔɔljɪɚ\n",
      "doʊɾ̃æsk̚miɾɨ̞k̚kɛriɨ̞nɔɪliræɡ̚glaɪk̚ðæ\t\tdoʊɾ̃æsk̚mɨ̞ɾɪk̚kɛrɨ̞n̩ʔɔɪliræɡ̚glaɪk̚ðæt̚t\n",
      "ðɨ̞ɨ̞t̚dɨ̞ɨ̞t̚ɨ̞kɨ̞t̚ɨ̞ɨ̞\t\thiɦɛznɛvɝɦɨ̞msɛlfd̚dʌɾ̃eɪɦɪŋfoʊwɨ̞t̚tʃt̚tə̥b̚biɦeɪɾɪd̚ʔwɨ̞t̚tʃɨ̞vʌshæz\n",
      "ðɨ̞ɪɪt̚ɨ̞kɛt̚ɨ̞nɨ̞\t\tbiɨ̞k̚ksaɪɾɪd̚dɪnd̚doʊɾ̃ʌd̚dɛɾ̃əfaɪɚsɛlf\n",
      "ðɪɨ̞t̚it̚ɨ̞kɛt̚ɨ̞nɨ̞\t\tsʌmt̚taɪmsik̚koʊənsaɪɾəwəθmaɪfɑðɨ̞zb̚biŋɛt̚thoʊm\n",
      "ðɪɨ̞d̚ɨ̞ɪt̚ɨ̞kɨ̞t̚ɨ̞nɨ̞\t\tðəb̚bʌŋɡ̚gl̩oʊwʌzp̚plʌzn̩lɨ̞sɨ̞t̚tʃə̥wɨ̞ɾɪd̚nɪðɨ̞ʃɔr\n",
      "ɪit̚ɨ̞iɔ\t\tʔɑrjɨ̞lʊk̚kinfroʊmp̚plɔɪmɪt̚t\n",
      "ðɪɨ̞d̚it̚ɨ̞kɨ̞t̚ɨ̞nɨ̞\t\tʔeɪb̚biɡ̚goʊt̚ʔaɪɾəliʔæmb̚bl̩d̚θʉðɨ̞fɑrmjɑrd̚d\n",
      "ðɪɨ̞t̚it̚ɨ̞kɛt̚ɨ̞nɨ̞\t\tiɾiŋsp̚pɪnɛt̚tʃnaɪt̚liɨ̞ŋk̚krisɨ̞st̚trɛnθmɚæk̚kjəlɨ̞sli\n",
      "ðɪɪt̚ɪt̚ɨ̞kɨ̞t̚ɨ̞nɨ̞\t\tæt̚twɑlaɪt̚təmət̚twɛlθd̚deɪwl̩ɦævʃəb̚bli\n",
      "ʃiɦæd̚djɚd̚dɑrk̚ksʉt̚ɨ̞nɡ̚grisiwɔʃwɔɾɚɔljɪ\t\tʃiɦɛd̚dʒɚd̚dɑrk̚sʉt̚n̩ɡ̚grisɨ̞wɑʃwɔɾɚɔljɪɚ\n",
      "doʊɾ̃æsk̚miɾɨ̞k̚kɛriɨ̞nɔɪliræɡ̚glaɪk̚ðæ\t\tdoʊnæsk̚mɨ̞ɾɨ̞k̚kæriɨ̞nʔɔɪliræɡ̚glaɪk̚ðæt̚\n",
      "dɨ̞ɨ̞t̚ɨ̞ɨ̞t̚ɨ̞kɨ̞t̚ɨ̞ɨ̞\t\tðɨ̞soʊk̚kɑld̚vɛd̚dʒɨ̞b̚bl̩ʔaɪvriɨ̞zðʌhɑrd̚dʔɛnd̚doʊsp̚pɝmɨ̞vðiɛɡ̚gsaɪzd̚tsid̚d\n",
      "ðɪɪt̚ɪɡ̚ɪɨ̞ɔ\t\thaʊd̚dɪd̚wʌnd̚dʒɔɪnðɛm\n",
      "ðɪɪd̚ɪt̚ɨ̞kɨ̞t̚ɨ̞nɨ̞\t\tdɔɡ̚gzd̚dɪd̚dsʌmθɪŋt̚təwʌnzʔiɡ̚goʊ\n",
      "ðɪɨ̞t̚ɨ̞ɨ̞t̚ɨ̞kɨ̞t̚ɨ̞nɨ̞\t\tðə̥b̚bɛst̚weɪɾɨ̞lɝɾ̃ɨ̞st̚tə̥sɑlvʔɛk̚kst̚trɨ̞p̚prɑb̚blm̩s\n",
      "gw\t\tʃiwɔrwɔrmflisiwʊlɛnoʊvɚɑlz\n",
      "ðɪɪt̚ɨ̞ɪt̚ɨ̞kɨ̞t̚ɨ̞nɨ̞\t\trælfk̚kɨ̞nt̚troʊlðəst̚tɑp̚wɑt̚tʃfrəməb̚blit̚tʃɚs\n",
      "ðɨ̞k̚ɨ̞d̚ɨ̞ɨ̞t̚ɨ̞kɨ̞t̚ɨ̞ɨ̞\t\tðɨ̞sb̚broʊʃɝɨ̞zp̚pɚt̚tɪk̚kɨ̞liɨ̞nfɔrmɪt̚tɪvfɚp̚pɚsp̚pɛk̚tɨ̞vb̚baɪɚ\n",
      "wɦwkj\t\twaɪt̚tʃɑrd̚dʒmʌɾ̃ifɚsʌt̚tʃɡ̚gɑrb̚bɨ̞d̚dʒ\n",
      "ʃiɦæd̚djɚd̚dɑrk̚ksʉt̚ɨ̞nɡ̚grisiwɔʃwɔɾɚʔɔljɪ\t\tʃihæd̚dʒɚd̚dɑrk̚ksʉt̚tʔɨ̞nɡ̚grisiwɑʃwɔɾɝɔljɪɚ\n",
      "doʊɾ̃æsk̚miɾɨ̞k̚kɛriɨ̞nʔɔɪliræɡ̚glaɪk̚ðæ\t\tdoʊɾ̃æsk̚kmiɾɨ̞k̚kɛriɨ̞ɾ̃ɔɪliræɡ̚glaɪk̚ðæt̚\n",
      "ðɨ̞k̚ɨ̞t̚dɨ̞ɨ̞t̚ɨ̞kɨ̞t̚ɨ̞ɨ̞\t\tʔɔfɨ̞ndɑmɨ̞nɨ̞nt̚st̚trɛsɪmp̚pliɨ̞ndɨ̞k̚keɪt̚sɨ̞sɛɾ̃ɝɨ̞ŋʔəvɨ̞t̚tɛnt̚ʃɨ̞nʔɔrimoʊʃɨ̞n\n",
      "dwɾj\t\thiɦɛd̚dlɛft̚thɝʔɨ̞nvaɪlɨ̞t̚θɪŋk̚kiŋfəmɪliɛɝɾiwʊd̚dʒɛnt̚tl̩hɝɨ̞nt̚taɪm\n",
      "ðæɪɪt̚ɨ̞ɡ̚ɨ̞ɨ̞nɔ\t\tbrɔɪlʔɔrt̚toʊst̚tɨ̞zjʉʒul̩\n",
      "ðɛɨ̞d̚ɑɨ̞t̚ɨ̞kɨ̞t̚iɨ̞nɨ̞\t\tðiɛmb̚ləmd̚dɨ̞p̚pɪk̚ksðiɨ̞k̚krɑp̚pl̩ɨ̞sʔɔləɡ̚gloʊ\n",
      "ðɨ̞ɨ̞d̚ɨ̞it̚ɨ̞kɛt̚ɨ̞nɨ̞\t\tmɪlɨ̞t̚tɛɝip̚pɝsn̩ɛlɚɨ̞k̚ksp̚pɛk̚tɨ̞d̚tuoʊb̚beɪɡ̚gʌvmɨ̞ɾ̃ɔrɾɚz\n",
      "ðɪɪɪt̚ɨ̞kɨ̞t̚ɨ̞nɨ̞\t\toʊnlilɔɪɝzlʌvmɪjɨ̞nɛɚz\n",
      "ðɨ̞ɨ̞d̚ɨ̞it̚ɨ̞kɛt̚ɨ̞nɨ̞\t\tɨ̞fk̚kɛrəlk̚kʌmzt̚tə̥mɑroʊhævɝɚreɪnd̚dʒfɚəmiɾiŋɨ̞t̚tʉ\n",
      "ðæɪɪt̚ɨ̞kɛɨ̞nɨ̞\t\thɨ̞ʃoʊld̚dɚfɛlt̚tɛzɪfɨ̞ʔwɚb̚broʊk̚kɨ̞n\n",
      "ʃiɦæd̚dʒɚd̚dɑrk̚ksʉt̚ɨ̞ɡ̚grisiwɑʃwɔɾɚɔljɪ\t\tʃiɦæjɚd̚dɑrk̚sʉʔɨ̞nɡ̚grisiwɔʃwɔɾɚʔɔljɪɝ\n",
      "ðɛɪd̚it̚ɨ̞kɛrɨ̞nɨ̞r\t\tdoʊnæsmɨ̞ɾɨ̞k̚kɛrɪnʔɔliræɡ̚laɪk̚ðæt̚t\n",
      "ðɨ̞k̚ɨ̞d̚ɨ̞ɨ̞t̚ɨ̞kɨ̞t̚ɨ̞nɨ̞\t\tbʌwɨ̞ɾɪnæt̚freɪmwɚk̚khiəlaʊd̚fɔɨ̞zmʌt̚tʃflɛk̚sb̚bɪliɛzp̚pɑsb̚bl̩\n",
      "ðæɪɪt̚ɨ̞ɡ̚ɪɨ̞nɔ\t\twik̚keɪmɔnɨ̞sʉnvwik̚kʊd̚d\n",
      "dɨ̞ɨ̞t̚ɨ̞ɨ̞t̚ɨ̞kɨ̞t̚ɨ̞ɨ̞\t\tʔɪfnɛsɛɚɾʉp̚pleɪsboʊθhævzʔɑnɡ̚grɪlsɪɨ̞k̚kʌt̚sənəlɑt̚ʔɛk̚st̚tɚt̚taɪm\n",
      "ðæɨ̞ɪt̚ɪɡ̚ɪrɨ̞nɔɾ\t\thist̚toʊləd̚daɪmfəməb̚bɛɡ̚ɚ\n",
      "ðɪɨ̞d̚ɨ̞ɨ̞t̚ɨ̞kɨ̞t̚ɨ̞nɨ̞\t\tpə̥fɔrθɝzd̚dɨ̞ɡ̚gzæmrɨ̞vjuʔəvrɨ̞fɔmɨ̞lə\n",
      "ðæɪɪt̚ɪɡ̚ɪɨ̞nɔɾ\t\tðeɪɨ̞nd̚dʒɔɪɨ̞t̚wʌɾ̃aɪɔd̚dɪʃn̩\n",
      "ðɨ̞k̚ɨ̞d̚ɨ̞ɨ̞t̚ɨ̞kɨ̞t̚ɨ̞nɨ̞\t\tdʒɛfθɔʔjuɑɡ̚ʉd̚ʔɨ̞nfeɪvəʔʌveɪsɛɾ̃əfjʉd̚dʒp̚pɝt̚tʃɨ̞s\n",
      "ðæɪɪt̚ɨ̞ɡ̚ɛrɨ̞nɔɾ\t\tdʒɑnk̚klinʃɛlfɨ̞ʃfɔeɪlɨ̞viŋ\n",
      "ðɛd̚ɚd̚dɑk̚sʉt̚ɨ̞ɡ̚grisiwɑʃwɔɾɚlj\t\tʃɨ̞ɛd̚dɚd̚dɑrk̚ksʉʔn̩ɡ̚grizʉwɔʃwʌɾɚɔjɨ̞ɚ\n",
      "ðoʊɾ̃æsk̚miɾɨ̞k̚kɛriɨ̞nɔɪliræɡ̚laɪk̚kðæ\t\tdoʊɾ̃æsmiɾɨ̞k̚kɛriɨ̞nʔɔɪliræɡ̚laɪk̚ðæt̚\n",
      "ɨ̞it̚ɨ̞miɨ̞ɔ\t\tʉt̚tʊk̚kmib̚baɪsəp̚praɪz\n",
      "ðɛɪɪt̚ɨ̞kɨ̞t̚ɨ̞nɨ̞\t\tðɨ̞ɦɛvɨ̞nzrɨ̞fʉzɨ̞ɡ̚gɪvʌp̚ðɚwip̚pɨ̞ŋ\n",
      "ðɨ̞k̚ɨ̞d̚ɨ̞ɨ̞t̚ɨ̞kɨ̞t̚ɨ̞nɨ̞\t\tðɪɛd̚dɪɛvɨ̞sɛnt̚trət̚tæŋk̚kwɪlaɪnzt̚ʔit̚tʃhaʊsɨ̞znɑʔɨ̞ɾ̃ɨ̞t̚sɛlfənɑvl̩t̚ti\n",
      "ðɪɪt̚ɪt̚ɨ̞kɨ̞t̚ɨ̞nɨ̞\t\tdə̥st̚trɔɪɛvrifɑlrɨ̞leɪɾɨ̞d̚tə̥maɪʔɔɾɨ̞t̚s\n",
      "ðɨ̞ɨ̞t̚ɨ̞it̚ɨ̞kɛt̚ɨ̞nɨ̞\t\tæləsɨ̞zəb̚bɪlɨ̞ɾiɾəwɝk̚kwɨ̞ðaʊt̚sup̚pɚvɪʒn̩ɨ̞znoʊʔwɚðɨ̞\n",
      "ðæɪlɪt̚ɨ̞ɡ̚ɛrɨ̞nɔɾ\t\tbɑb̚peɪp̚pɚɾoʊvɚlɪvɨ̞ŋrəmjɝl̩z\n",
      "ðɛɪlɪt̚ɨ̞kɛrɨ̞nɨ̞\t\twɛrwɚjuwaɪlwiwɚəweɪ\n",
      "ðɪæd̚it̚ɨ̞kɛrɨ̞nɨ̞\t\tmɨ̞ɾivl̩sɨ̞saɪɨ̞ɾiwɨ̞zb̚beɪst̚tɑnɦaɪɚɑrk̚kiz\n",
      "ʃiɦæd̚dɚd̚dɑrk̚ksʉt̚ɨ̞nɡ̚grisiwɑʃwɔɾɚʔɔljɪ\t\tʃɨ̞ɦæd̚dʒɝd̚dɑrk̚ksʉt̚ʔɨ̞nɡ̚grisɨ̞wɑʃwɔɾɚʔɔljɪɚ\n",
      "doʊɾ̃æsk̚miɾɨ̞k̚kɛriɨ̞nɔɪlirɡ̚gaɪk̚t̚\t\tdoʊɾ̃æsk̚miɾɨ̞k̚kæriɪnɨ̞ʔɔɪliræɡ̚glaɪk̚kðæʔ\n",
      "dɪɨ̞d̚it̚ɨ̞kɛt̚ɨ̞nɨ̞\t\tʔæt̚ðəb̚beɪsəðərɑk̚kihɪlsaɪd̚dðeɪlɛft̚ðɛrɦɔsɪzɨ̞ŋk̚klaɪmd̚dɔnfʊt̚\n",
      "ðɨ̞k̚kɨ̞t̚dɨ̞ɨ̞t̚ɨ̞kɨ̞t̚ɨ̞ɨ̞\t\tjʉjʌŋmɛnɡ̚gɪt̚tɨ̞b̚bimaɪeɪd̚dʒjuwoʊnt̚teɪk̚flʉsoʊlaɪt̚li\n",
      "ðɪɨ̞t̚ɨ̞ɨ̞t̚ɨ̞kɨ̞t̚ɨ̞nɨ̞\t\teɪwʊmɪnmɛɾeɪfeɪmɪsʔɑθɝʔɛɾeɪlɪɾɚɛrit̚ti\n",
      "ðæɪlɪt̚ɨ̞kɛɨ̞nɔ\t\tʔɑb̚dʒɨ̞k̚ksmeɪd̚dɛvp̚pjʉɾɝʔʌb̚bjʉɾɨ̞fl̩\n",
      "ðɨ̞ɨ̞d̚ɨ̞ɨ̞t̚ɨ̞kɨ̞t̚ɨ̞nɨ̞\t\tðəmɔrnɪŋd̚duʔɔnðɪsp̚paɪɾɨ̞wɛb̚bɡ̚glɪsɨ̞nd̚dʔɨ̞nðɨ̞sʌn\n",
      "ðɪɨ̞d̚it̚ɨ̞kɛrɨ̞nɨ̞\t\ttʃip̚st̚tɑk̚kɨ̞ŋzrʌnðəfɝst̚taɪmðɛrəwɔrn\n",
      "ðɨ̞ɪɪt̚ɨ̞kɨ̞ɨ̞ɨ̞\t\tdoʊnt̚dʉt̚tʃɑlizd̚dɝɾid̚dɪʃɨ̞s\n",
      "ðɪɨ̞t̚ɨ̞ɪt̚ɨ̞kɨ̞t̚ɨ̞nɨ̞\t\tkælsiɨ̞meɪk̚ksb̚boʊnzɨ̞nt̚tiθst̚trɔŋ\n",
      "ʃiɦæd̚dɚd̚dɑrk̚ksʉt̚ɨ̞nɡ̚grisiwɑʃwɔɾɚʔɔljɪ\t\tʃiɦæd̚djɪd̚dɑrk̚ksʉɾɪnɡ̚grisiwɔʃwɔɾɝɔljɪɝ\n"
     ]
    }
   ],
   "source": [
    "print('prediction', 'target', sep='\\t')\n",
    "print()\n",
    "for i in range(0,101):\n",
    "    print(*[ids_to_str(i) for i in (ctc_decode(preds[i]), unpad(targs[i]))], sep='\\t\\t')"
   ]
  },
  {
   "cell_type": "code",
   "execution_count": null,
   "id": "40e2ddf8-b35a-42a3-b454-761247fb75fc",
   "metadata": {},
   "outputs": [],
   "source": []
  }
 ],
 "metadata": {
  "kernelspec": {
   "display_name": "default:Python",
   "language": "python",
   "name": "conda-env-default-py"
  },
  "language_info": {
   "codemirror_mode": {
    "name": "ipython",
    "version": 3
   },
   "file_extension": ".py",
   "mimetype": "text/x-python",
   "name": "python",
   "nbconvert_exporter": "python",
   "pygments_lexer": "ipython3",
   "version": "3.9.7"
  }
 },
 "nbformat": 4,
 "nbformat_minor": 5
}
