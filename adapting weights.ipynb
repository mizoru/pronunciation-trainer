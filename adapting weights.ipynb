{
 "cells": [
  {
   "cell_type": "code",
   "execution_count": 1,
   "id": "02e1938a-fee6-4925-a354-c58a4fc2af35",
   "metadata": {},
   "outputs": [],
   "source": [
    "from thunder_QuartzNet import QuartzNet, conv1d_decoder\n",
    "from loading_weights import load_quartznet_checkpoint, QuartznetCheckpoint"
   ]
  },
  {
   "cell_type": "code",
   "execution_count": 26,
   "id": "98a432d5-ebfe-478a-8c07-7c0fc165f638",
   "metadata": {},
   "outputs": [],
   "source": [
    "import torch"
   ]
  },
  {
   "cell_type": "code",
   "execution_count": 2,
   "id": "df834a22-56e9-4586-a0df-2b04ad1edf1f",
   "metadata": {},
   "outputs": [
    {
     "name": "stdout",
     "output_type": "stream",
     "text": [
      "{'filters': [256, 256, 256, 256, 256, 256, 512, 512, 512, 512, 512, 512, 512, 512, 512], 'kernel_sizes': [33, 33, 33, 39, 39, 39, 51, 51, 51, 63, 63, 63, 75, 75, 75]} {'sample_rate': 16000, 'n_window_size': 320, 'n_window_stride': 160, 'n_fft': 512, 'nfilt': 64, 'dither': 1e-05}\n",
      "[' ', 'a', 'b', 'c', 'd', 'e', 'f', 'g', 'h', 'i', 'j', 'k', 'l', 'm', 'n', 'o', 'p', 'q', 'r', 's', 't', 'u', 'v', 'w', 'x', 'y', 'z', \"'\"]\n"
     ]
    }
   ],
   "source": [
    "encoder, decoder = load_quartznet_checkpoint(QuartznetCheckpoint.QuartzNet15x5Base_En)"
   ]
  },
  {
   "cell_type": "code",
   "execution_count": 5,
   "id": "75836269-c401-4de1-a466-20c0e56868c6",
   "metadata": {
    "jupyter": {
     "source_hidden": true
    },
    "tags": []
   },
   "outputs": [],
   "source": [
    "old_vocab = [' ', 'a', 'b', 'c', 'd', 'e', 'f', 'g', 'h', 'i', 'j', 'k', 'l', 'm', 'n', 'o', 'p', 'q', 'r', 's', 't', 'u', 'v', 'w', 'x', 'y', 'z', \"'\"]\n",
    "\n",
    "new_vocab = {'': 0,\n",
    " 'ʃ': 1,\n",
    " 'i': 2,\n",
    " 'ɦ': 3,\n",
    " 'æ': 4,\n",
    " 'd̚': 5,\n",
    " 'd': 6,\n",
    " 'j': 7,\n",
    " 'ɝ': 8,\n",
    " 'ɑ': 9,\n",
    " 'r': 10,\n",
    " 'k̚': 11,\n",
    " 'k': 12,\n",
    " 's': 13,\n",
    " 'u': 14,\n",
    " 'ɾ': 15,\n",
    " 'ɪ': 16,\n",
    " 'ŋ': 17,\n",
    " 'ɡ̚': 18,\n",
    " 'g': 19,\n",
    " 'w': 20,\n",
    " 'ʔ': 21,\n",
    " 'ɔ': 22,\n",
    " 'l': 23,\n",
    " 'ɚ': 24,\n",
    " 'oʊ': 25,\n",
    " 'n': 26,\n",
    " 'm': 27,\n",
    " 't̚': 28,\n",
    " 't': 29,\n",
    " 'ɨ̞': 30,\n",
    " 'ɛ': 31,\n",
    " 'ɔɪ': 32,\n",
    " 'aɪ': 33,\n",
    " 'ð': 34,\n",
    " 'h': 35,\n",
    " 'z': 36,\n",
    " 'p̚': 37,\n",
    " 'ə': 38,\n",
    " 'θ': 39,\n",
    " 'b̚': 40,\n",
    " 'b': 41,\n",
    " 'ʉ': 42,\n",
    " 'f': 43,\n",
    " 'l̩': 44,\n",
    " 'v': 45,\n",
    " 'aʊ': 46,\n",
    " 'p': 47,\n",
    " 'ʌ': 48,\n",
    " 'eɪ': 49,\n",
    " 'n̩': 50,\n",
    " 'tʃ': 51,\n",
    " 'ʊ': 52,\n",
    " 'dʒ': 53,\n",
    " 'ɾ̃': 54,\n",
    " 'ə̥': 55,\n",
    " 'ʒ': 56,\n",
    " 'm̩': 57,\n",
    " 'ŋ̩': 58}"
   ]
  },
  {
   "cell_type": "code",
   "execution_count": 22,
   "id": "edc54231-96a9-4918-b57d-692b3c7c9317",
   "metadata": {},
   "outputs": [
    {
     "data": {
      "text/plain": [
       "torch.Size([29, 1024, 1])"
      ]
     },
     "execution_count": 22,
     "metadata": {},
     "output_type": "execute_result"
    }
   ],
   "source": [
    "decoder.weight.shape"
   ]
  },
  {
   "cell_type": "code",
   "execution_count": 12,
   "id": "12bac8e5-f2da-4923-8f17-47c1aaf311cb",
   "metadata": {},
   "outputs": [],
   "source": [
    "old_vocab = {k:v for (v,k) in enumerate(old_vocab)}\n",
    "old_vocab[''] = 28"
   ]
  },
  {
   "cell_type": "code",
   "execution_count": 42,
   "id": "cf9a163e-47b2-4ea7-a98d-3e12c975d33e",
   "metadata": {},
   "outputs": [],
   "source": [
    "overlap = {k:k for k in (old_vocab.keys() & new_vocab.keys())}"
   ]
  },
  {
   "cell_type": "code",
   "execution_count": 46,
   "id": "3700e7c5-519b-4189-9b81-ef10ef9fa13d",
   "metadata": {},
   "outputs": [],
   "source": [
    "firsts = {k:k[0] for k in new_vocab.keys() if k and k[0] in old_vocab.keys()}"
   ]
  },
  {
   "cell_type": "code",
   "execution_count": 47,
   "id": "033e516b-dc5a-494c-b85e-4d444bb76612",
   "metadata": {
    "collapsed": true,
    "jupyter": {
     "outputs_hidden": true
    },
    "tags": []
   },
   "outputs": [
    {
     "data": {
      "text/plain": [
       "{'i': 'i',\n",
       " 'd̚': 'd',\n",
       " 'd': 'd',\n",
       " 'j': 'j',\n",
       " 'r': 'r',\n",
       " 'k̚': 'k',\n",
       " 'k': 'k',\n",
       " 's': 's',\n",
       " 'u': 'u',\n",
       " 'g': 'g',\n",
       " 'w': 'w',\n",
       " 'l': 'l',\n",
       " 'oʊ': 'o',\n",
       " 'n': 'n',\n",
       " 'm': 'm',\n",
       " 't̚': 't',\n",
       " 't': 't',\n",
       " 'aɪ': 'a',\n",
       " 'h': 'h',\n",
       " 'z': 'z',\n",
       " 'p̚': 'p',\n",
       " 'b̚': 'b',\n",
       " 'b': 'b',\n",
       " 'f': 'f',\n",
       " 'l̩': 'l',\n",
       " 'v': 'v',\n",
       " 'aʊ': 'a',\n",
       " 'p': 'p',\n",
       " 'eɪ': 'e',\n",
       " 'n̩': 'n',\n",
       " 'tʃ': 't',\n",
       " 'dʒ': 'd',\n",
       " 'm̩': 'm',\n",
       " '': ''}"
      ]
     },
     "execution_count": 47,
     "metadata": {},
     "output_type": "execute_result"
    }
   ],
   "source": [
    "firsts | overlap"
   ]
  },
  {
   "cell_type": "code",
   "execution_count": 48,
   "id": "b515f03d-cb55-4761-a21b-b5c65d51271a",
   "metadata": {},
   "outputs": [],
   "source": [
    "with torch.no_grad():\n",
    "    new_decoder = conv1d_decoder(1024, len(new_vocab))\n",
    "    weight = decoder.weight\n",
    "    bias = decoder.bias\n",
    "    for token in overlap:\n",
    "        new_decoder.weight[new_vocab[token]] = weight[old_vocab[token]]\n",
    "        new_decoder.bias[new_vocab[token]] = bias[old_vocab[token]]"
   ]
  },
  {
   "cell_type": "code",
   "execution_count": 37,
   "id": "c7637867-692c-4e26-8a88-d8e0cde3314e",
   "metadata": {},
   "outputs": [
    {
     "data": {
      "text/plain": [
       "tensor([[ 0.0338],\n",
       "        [-0.0420],\n",
       "        [-0.5932],\n",
       "        ...,\n",
       "        [ 0.0685],\n",
       "        [ 0.0258],\n",
       "        [ 0.0061]], grad_fn=<SelectBackward>)"
      ]
     },
     "execution_count": 37,
     "metadata": {},
     "output_type": "execute_result"
    }
   ],
   "source": [
    "weight[28]"
   ]
  },
  {
   "cell_type": "code",
   "execution_count": 38,
   "id": "cefa1eca-e020-4876-8667-969407193ae1",
   "metadata": {},
   "outputs": [
    {
     "data": {
      "text/plain": [
       "tensor([[ 0.0338],\n",
       "        [-0.0420],\n",
       "        [-0.5932],\n",
       "        ...,\n",
       "        [ 0.0685],\n",
       "        [ 0.0258],\n",
       "        [ 0.0061]], grad_fn=<SelectBackward>)"
      ]
     },
     "execution_count": 38,
     "metadata": {},
     "output_type": "execute_result"
    }
   ],
   "source": [
    "new_decoder.weight[0]"
   ]
  },
  {
   "cell_type": "code",
   "execution_count": null,
   "id": "37275178-c19d-4bff-b692-8693b3c05474",
   "metadata": {},
   "outputs": [],
   "source": []
  }
 ],
 "metadata": {
  "kernelspec": {
   "display_name": "default:Python",
   "language": "python",
   "name": "conda-env-default-py"
  },
  "language_info": {
   "codemirror_mode": {
    "name": "ipython",
    "version": 3
   },
   "file_extension": ".py",
   "mimetype": "text/x-python",
   "name": "python",
   "nbconvert_exporter": "python",
   "pygments_lexer": "ipython3",
   "version": "3.9.7"
  }
 },
 "nbformat": 4,
 "nbformat_minor": 5
}
