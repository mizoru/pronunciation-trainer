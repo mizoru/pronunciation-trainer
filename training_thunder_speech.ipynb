{
 "cells": [
  {
   "cell_type": "markdown",
   "metadata": {
    "colab_type": "text",
    "id": "view-in-github"
   },
   "source": [
    "<a href=\"https://colab.research.google.com/github/mizoru/pronunciation-trainer/blob/main/training_thunder_speech.ipynb\" target=\"_parent\"><img src=\"https://colab.research.google.com/assets/colab-badge.svg\" alt=\"Open In Colab\"/></a>"
   ]
  },
  {
   "cell_type": "code",
   "execution_count": null,
   "metadata": {
    "id": "Qobh_MJx4J2v"
   },
   "outputs": [],
   "source": [
    "!pip install thunder-speech"
   ]
  },
  {
   "cell_type": "code",
   "execution_count": null,
   "metadata": {
    "id": "K3PDK-9EhM5v"
   },
   "outputs": [],
   "source": [
    "!git clone https://github.com/mizoru/pronunciation-trainer.git"
   ]
  },
  {
   "cell_type": "code",
   "execution_count": 5,
   "metadata": {
    "colab": {
     "base_uri": "https://localhost:8080/"
    },
    "id": "Ik-DLLxdGBQL",
    "outputId": "3d318dc5-1d19-4017-d513-481a82d3baa5"
   },
   "outputs": [
    {
     "name": "stdout",
     "output_type": "stream",
     "text": [
      "Warning: Your Kaggle API key is readable by other users on this system! To fix this, you can run 'chmod 600 /root/.kaggle/kaggle.json'\n"
     ]
    }
   ],
   "source": [
    "from kaggle import api\n",
    "api.dataset_download_files('mfekadu/darpa-timit-acousticphonetic-continuous-speech')\n",
    "import zipfile\n",
    "archive = zipfile.ZipFile('darpa-timit-acousticphonetic-continuous-speech.zip')\n",
    "archive.extractall()\n"
   ]
  },
  {
   "cell_type": "code",
   "execution_count": 6,
   "metadata": {
    "id": "2JLa50wh35gF"
   },
   "outputs": [],
   "source": [
    "import thunder\n",
    "from thunder.callbacks import FinetuneEncoderDecoder"
   ]
  },
  {
   "cell_type": "code",
   "execution_count": 7,
   "metadata": {
    "colab": {
     "base_uri": "https://localhost:8080/",
     "height": 35
    },
    "id": "ULIMhRRiHARR",
    "outputId": "8baa9627-a070-46b5-af9b-2f2b95b73fee"
   },
   "outputs": [
    {
     "data": {
      "application/vnd.google.colaboratory.intrinsic+json": {
       "type": "string"
      },
      "text/plain": [
       "'3.1.1'"
      ]
     },
     "execution_count": 7,
     "metadata": {},
     "output_type": "execute_result"
    }
   ],
   "source": [
    "thunder.__version__"
   ]
  },
  {
   "cell_type": "code",
   "execution_count": 8,
   "metadata": {
    "id": "dJbzM2SA4BRv"
   },
   "outputs": [],
   "source": [
    "from thunder.data.dataset import BaseSpeechDataset\n",
    "from thunder.data.datamodule import BaseDataModule\n",
    "from typing import Any, List, Sequence, Tuple, Union\n",
    "from torch import Tensor, nn\n",
    "from thunder.registry import load_pretrained\n",
    "from thunder.quartznet.compatibility import QuartznetCheckpoint\n",
    "from pathlib import Path"
   ]
  },
  {
   "cell_type": "code",
   "execution_count": 9,
   "metadata": {
    "id": "QSbcHssL8NYI"
   },
   "outputs": [],
   "source": [
    "import pandas as pd"
   ]
  },
  {
   "cell_type": "code",
   "execution_count": 10,
   "metadata": {
    "id": "CrPVHwyN8bCx"
   },
   "outputs": [],
   "source": [
    "labels = pd.read_csv('pronunciation-trainer/dataDS.csv')"
   ]
  },
  {
   "cell_type": "code",
   "execution_count": 11,
   "metadata": {
    "id": "RRjj2To6-_zH"
   },
   "outputs": [],
   "source": [
    "def replace_slashes(s:str):\n",
    "    return s.replace('\\\\', '/')"
   ]
  },
  {
   "cell_type": "code",
   "execution_count": 12,
   "metadata": {
    "id": "qX_Y7E19-m0u"
   },
   "outputs": [],
   "source": [
    "def gggparent_eq(p, gggp = \"TEST\"):\n",
    "    return Path(p).parent.parent.parent.name == gggp"
   ]
  },
  {
   "cell_type": "code",
   "execution_count": 13,
   "metadata": {
    "id": "zwzVI2MD_Cdq"
   },
   "outputs": [],
   "source": [
    "labels.Path = labels.Path.map(replace_slashes)"
   ]
  },
  {
   "cell_type": "code",
   "execution_count": 14,
   "metadata": {
    "id": "dI2fLF2E_kzl"
   },
   "outputs": [],
   "source": [
    "labels[\"is_valid\"] = labels.Path.map(gggparent_eq)"
   ]
  },
  {
   "cell_type": "code",
   "execution_count": 15,
   "metadata": {
    "id": "SwjUQ5Q8hgGB"
   },
   "outputs": [],
   "source": [
    "class TimitDataset(BaseSpeechDataset):\n",
    "  def open_audio(self, item) -> Tuple[Tensor, int]:\n",
    "    return self.loader.open_audio(item.Path)\n",
    "  def open_text(self, item) -> str:\n",
    "    return item.Transcription\n",
    "  def get_item(self, index: int) -> Any:\n",
    "    return self.items.iloc[index]"
   ]
  },
  {
   "cell_type": "code",
   "execution_count": null,
   "metadata": {
    "id": "XUX_r1ymA5Q9"
   },
   "outputs": [],
   "source": [
    "BaseDataModule?"
   ]
  },
  {
   "cell_type": "code",
   "execution_count": 16,
   "metadata": {
    "id": "gjIN6M9N9nU_"
   },
   "outputs": [],
   "source": [
    "class TimtiDataModule(BaseDataModule):\n",
    "  def get_dataset(self, split):\n",
    "    if split != \"train\":\n",
    "      return TimitDataset(labels[labels[\"is_valid\"]])\n",
    "    else:\n",
    "      return TimitDataset(labels[labels[\"is_valid\"] == False])"
   ]
  },
  {
   "cell_type": "code",
   "execution_count": 16,
   "metadata": {
    "id": "ze6ozMi-ka-0"
   },
   "outputs": [],
   "source": [
    "ds = TimitDataset(labels)"
   ]
  },
  {
   "cell_type": "code",
   "execution_count": 17,
   "metadata": {
    "colab": {
     "base_uri": "https://localhost:8080/"
    },
    "id": "-BxsFzLLlXg1",
    "outputId": "a02efa4d-c943-4b4d-a081-4d45e0013d9d"
   },
   "outputs": [
    {
     "data": {
      "text/plain": [
       "Unnamed: 0                                                       0\n",
       "Path                             ./data/TEST/DR1/FAKS0/SA1.WAV.wav\n",
       "Transcription    ʃ.i.ɦ.æ.d̚.d.j.ɝ.d̚.d.ɑ.r.k̚.k.s.u.ɾ.ɪ.ŋ.ɡ̚.g....\n",
       "is_valid                                                      True\n",
       "Name: 0, dtype: object"
      ]
     },
     "execution_count": 17,
     "metadata": {},
     "output_type": "execute_result"
    }
   ],
   "source": [
    "ds.get_item(0)"
   ]
  },
  {
   "cell_type": "code",
   "execution_count": 18,
   "metadata": {
    "id": "JFEuSu5l5dsY"
   },
   "outputs": [],
   "source": [
    "dm = TimtiDataModule()\n",
    "dm.setup()"
   ]
  },
  {
   "cell_type": "code",
   "execution_count": 19,
   "metadata": {
    "id": "uJ3VfZZv73aO"
   },
   "outputs": [],
   "source": [
    "def remove_dot(s):\n",
    "  return ''.join(s.split('.'))"
   ]
  },
  {
   "cell_type": "code",
   "execution_count": 20,
   "metadata": {
    "id": "ksh8DctC8Am1"
   },
   "outputs": [],
   "source": [
    "labels.Transcription = labels.Transcription.map(remove_dot)"
   ]
  },
  {
   "cell_type": "code",
   "execution_count": 21,
   "metadata": {
    "id": "t0MAGQGo60i1"
   },
   "outputs": [],
   "source": [
    "whole = ''.join([t for t in labels.Transcription])"
   ]
  },
  {
   "cell_type": "code",
   "execution_count": 22,
   "metadata": {
    "id": "XiDv9ex469tP"
   },
   "outputs": [],
   "source": [
    "tokens = list(set(whole))"
   ]
  },
  {
   "cell_type": "code",
   "execution_count": 22,
   "metadata": {
    "id": "eCkQY-jF9fEM"
   },
   "outputs": [],
   "source": []
  },
  {
   "cell_type": "code",
   "execution_count": 23,
   "metadata": {
    "colab": {
     "base_uri": "https://localhost:8080/"
    },
    "id": "DXDSCoxy7Fht",
    "outputId": "48c571c0-c79a-4f7b-ae41-8c3c7b8f3ab1"
   },
   "outputs": [
    {
     "data": {
      "text/plain": [
       "48"
      ]
     },
     "execution_count": 23,
     "metadata": {},
     "output_type": "execute_result"
    }
   ],
   "source": [
    "len(tokens)"
   ]
  },
  {
   "cell_type": "code",
   "execution_count": 4,
   "metadata": {
    "id": "q_xTG0fmp_W-"
   },
   "outputs": [],
   "source": [
    "from thunder.finetune import FinetuneCTCModule\n",
    "from thunder.blocks import conv1d_decoder\n",
    "import pytorch_lightning as pl"
   ]
  },
  {
   "cell_type": "code",
   "execution_count": 25,
   "metadata": {
    "id": "wQ3FVUYy9LBP"
   },
   "outputs": [],
   "source": [
    "BaseDataModule?"
   ]
  },
  {
   "cell_type": "code",
   "execution_count": 26,
   "metadata": {
    "id": "y7lUie6dvR9q"
   },
   "outputs": [],
   "source": [
    "model = FinetuneCTCModule(QuartznetCheckpoint.QuartzNet15x5Base_En, decoder_class = conv1d_decoder, tokens = tokens)"
   ]
  },
  {
   "cell_type": "code",
   "execution_count": 27,
   "metadata": {
    "colab": {
     "base_uri": "https://localhost:8080/"
    },
    "id": "xXof-d8GD4Rd",
    "outputId": "b20c8ce4-76d3-48db-8b7e-5b8f18b47240"
   },
   "outputs": [
    {
     "name": "stderr",
     "output_type": "stream",
     "text": [
      "GPU available: True, used: True\n",
      "TPU available: False, using: 0 TPU cores\n",
      "IPU available: False, using: 0 IPUs\n",
      "HPU available: False, using: 0 HPUs\n"
     ]
    }
   ],
   "source": [
    "trainer = pl.Trainer(\n",
    "    gpus=-1, # Use all gpus\n",
    "    max_epochs=10,\n",
    "    callbacks=[FinetuneEncoderDecoder(unfreeze_encoder_at_epoch=1)],\n",
    ")"
   ]
  },
  {
   "cell_type": "code",
   "execution_count": 29,
   "metadata": {
    "id": "kQJzrHCSFtUq"
   },
   "outputs": [],
   "source": [
    "trainer.fit?"
   ]
  },
  {
   "cell_type": "code",
   "execution_count": 35,
   "metadata": {
    "colab": {
     "base_uri": "https://localhost:8080/",
     "height": 407,
     "referenced_widgets": [
      "aae8c49a799d4d138884a5747ea6ea9d",
      "69f41e813db140109f0a071626731168",
      "35e18e0429094d19953e7df707729314",
      "674d5e086a4741dfb572a04a05dea5aa",
      "e5469901f54c468abd1ffcd55b1acfa6",
      "5c8500d2aa304ccf964f500e1fec226f",
      "d04b6aaf72b1470898bcb88b48b15e11",
      "180d0692e52042ea937a6af099f9d218",
      "a22e178693cd4fe4ab3b0cce3a1acb93",
      "d6397ae7bb584219bdf3a6f0ec97ec67",
      "22afc7d9bae44b5985c941f6e1a0f087",
      "fc8e66fb09db4975996780c5fdfaff7f",
      "4deef91476ca45838dc8a57d4f49c873",
      "fecfdf0376b74dff8b41789ae056b9e2",
      "42be485590494413b153376757efeec6",
      "89c37db9c1314d849e437aca623633fe",
      "916de681c9884d0583afbce4515d16df",
      "bdf8a7be4b074592a60e0c91b50c867b",
      "e4dc8017e4744c228dad7929d3d6ff53",
      "df045d656e0846429159da25df9d2326",
      "e957671e715048dea0dd00b43f42776e",
      "2b95cf25cd60400e9d6608b47259580e",
      "5d674ec8c6e5447cbd73db32539495ae",
      "c56ea69761f4440ca4751d8aef94215c",
      "db0c6239320248fcb077080bba2b43ff",
      "1b86a36e41e84046902fba0643b3693e",
      "14ff761b04a643db806b6094758c74c5",
      "0f2bdf56550e4d05878bc0d3509fd8d8",
      "2c265cc3f6904e229608866ad0caad17",
      "dbc835631fc3428d96921313755f6cd4",
      "578ff14de37842559dbd100fb2a8a878",
      "0fbb9d2470914fc18b92f74d9a4cf90a",
      "4d57825a780b40af9322d39a72ef5a3e",
      "2113cc2082444f6289ddede17b5dad03",
      "eec70702467745f3bbb6e3366501b381",
      "e144bf94a3b940938b8d46ebcf4f075e",
      "f34e967bbcc24ba1a8773e208ca14821",
      "6f9270bfffa245059fbb3bd63e4b3fbd",
      "cc6b66b523e04e109fc363cc5efbef8b",
      "2913777bc8b042a8922781d94aa159b6",
      "8941e0a87aff45cd9de8ceaa70ac0cb1",
      "f47231c544ad4dd7bc15ac4983b7b621",
      "99c46812ffdd47e6ba138a88cffac47f",
      "601f1d4b4c5b442cbab58aae8898b971",
      "6d9e509de81d4fc39b34e566abe2c8b7",
      "bbf47bb5d80a48e1bf2018bc7afa236c",
      "92cd4065ad3f4590b8d9b51da109771a",
      "5e6ef7a1b9444b0a93ca860c8eefecfd",
      "1a1f31d4730b4f279946602124ea818c",
      "c3f344c05e344e2b96c48d7a6af5624e",
      "9aa47c237a5f43d3b07013d567b84310",
      "962eadea73b342ae87fb8f719b11b04d",
      "6e76be0af06547e3bdac2cb888968429",
      "ae279fe6a9d74185a1a71397796f8e55",
      "8ca4b41863414777afe43e27f23fc35b",
      "92fa337ee5a946ed944e48300f2d007b",
      "83657d18e05a4ba0a9399308ddca7c76",
      "d38d9c9f92384217a455dfd98326f2e3",
      "7652cdf1a6f547d88531792f16950899",
      "08b8fedf02e34456b8440587210bb67e",
      "4376bb07e5c0450a92d2cd867c03ec80",
      "bedcc7d19bd14b46903d2803a27d7662",
      "b1d8d95c9f214c68a4a6d1f898d8cf97",
      "c8e6e91b20dd4dfabcba922f3627e84c",
      "657e6eecca444f1a831f9e27d8377a5e",
      "73167fd4a84a4bf39293f1cdf2e57533",
      "c7c7d2dfbb584d669436ba6201ff693b",
      "30859fecc416472ebf78b7141318c78d",
      "61c8122f1057445fbc8663e71fcf7062",
      "28b982791d624906a8f39d4c913a6402",
      "86f42e458b0b4c1c9c7a3c5f8bb51a93",
      "a6060821418f4082b0c448cc709be8fd",
      "c389765d404344d18f564f0bf1c8ea72",
      "e32885b9c87541e28477612a3bcdae7d",
      "ee3fc742dba9418088188e7f2b9a72ea",
      "a0295c85e08c4629b31eb190cc529507",
      "015150a7da834168a8f965fa6c2fb871",
      "e187f1f37e6c462395e93e21f1194a4b",
      "b6f7039596604cd5a0082c3d86f4d83e",
      "7fbab74829c74bf8ba433860b057ee2d",
      "6bf42724e750477d951b62122acfcd97",
      "84b44c07430f4217a68b5e9c050ab491",
      "32e28933abde4eaf81068008ae78c89a",
      "7f04f94ec2e64084b79d4a7e68d5d502",
      "efe53bc74d124317b3976742a9567688",
      "b053494d34534bf5b894c5303cd0c6dc",
      "e97072b0d4e3411d940123ac1c572d27",
      "89ac037c8b6d42808dce8cedbb956478",
      "0a4b05d8e69d4a1888b8d8d8cf39aae6",
      "c66dfa1d75ee45f19e3504e604b64c33",
      "f6ccea68639642808f849dc1d167f30c",
      "211bba4ac09d44b8a22f63212eaac275",
      "cc4880b06b224ff7bd0905a0fac5c470",
      "3c78b0bef53b407a99f16891a654cecb",
      "a18046f63e9047eaa6c5a4bc4c5a3c72",
      "4833987b0a47424d94a6ee17323a6d1b",
      "9542b853917b4f59a217f4c6587e06be",
      "4e12327ba0704f289ceb52116475b9b8",
      "3ed1a469191a43e69a0588e0d545a873",
      "8a07c0ed39614759a07e292a1a61dfaf",
      "72aa4cf49fa445e794c6ac74bc107faa",
      "7bb8758a67364112b509f720befd8298",
      "5e00c570c1d142f9a24e7dcde4f40b15",
      "8cff5371c03b41ba9ac4704a1506c432",
      "0cc30e3ab0f14098beb53b8f021bf4a4",
      "1577b7f5b83a4a2781d6d05ba6d3d7e6",
      "90b8ecd7bd984b67855be6c211860d0d",
      "1b87cf549d3e461d8c284128ed96f004",
      "0dea5b1b79ae435e9045c9ba24a408d8",
      "be47524af9ad41f3bf5d8e8048a9423a",
      "cf65533a885e4defa3de2b7ad84cb94c",
      "968d371fa9f84eb9acbc715d9fc90221",
      "5c837483e5774616a2f4c277f8e08c6a",
      "d5e5770492fa41aa800a3f00a3d8973a",
      "f84182e8bb8c487facd788e635be9a52",
      "a3e9f1670dfd4fc0b20f3ffc6ce20825",
      "a5bfbcbd5028437c869bac08f8742a0e",
      "51c3b291226f46c8b8437cd2052af461",
      "fdafa902fb454b79b45da2994f48789b",
      "426620ef651547cba3a4120ada893f52",
      "e723a3e7f4d04edaa6ddd2e3ed0c7448",
      "637a9cd370cc486b8bf325769cfe0119",
      "f76bf9adafb64a05bd9c05fcae9bcb40",
      "8c2a08f6dc014549a1de254c396deb6e",
      "fd51d63c6d09495ebd3f3376dab52846",
      "c945be769b8142ef8593056f0bbeceb3",
      "61521ed72f4d4ee8860c0239e4199d8e",
      "657fedd2d11640be9e4c5893b66fdb58",
      "96e010dd3369477a8d305b13b6256671",
      "3682857929294f14bd4eb8cce7d2aa0f",
      "736e51da149c4b2cb089f15c5fbe7f81",
      "e6982fa32a2b40c28add8745cf464096"
     ]
    },
    "id": "WY5S5NijEBM7",
    "outputId": "7854bb6f-10ca-4bc8-e979-ff159852cf41"
   },
   "outputs": [
    {
     "name": "stderr",
     "output_type": "stream",
     "text": [
      "LOCAL_RANK: 0 - CUDA_VISIBLE_DEVICES: [0]\n",
      "\n",
      "  | Name            | Type                 | Params | In sizes              | Out sizes             \n",
      "----------------------------------------------------------------------------------------------------------\n",
      "0 | encoder         | MultiSequential      | 18.9 M | [[10, 64, 101], [10]] | [[10, 1024, 51], [10]]\n",
      "1 | decoder         | Conv1d               | 50.2 K | [10, 1024, 51]        | [10, 49, 51]          \n",
      "2 | audio_transform | MultiSequential      | 0      | [[10, 16000], [10]]   | [[10, 64, 101], [10]] \n",
      "3 | text_transform  | BatchTextTransformer | 0      | ?                     | ?                     \n",
      "4 | validation_cer  | CharErrorRate        | 0      | ?                     | ?                     \n",
      "5 | validation_wer  | WordErrorRate        | 0      | ?                     | ?                     \n",
      "----------------------------------------------------------------------------------------------------------\n",
      "127 K     Trainable params\n",
      "18.8 M    Non-trainable params\n",
      "18.9 M    Total params\n",
      "75.780    Total estimated model params size (MB)\n"
     ]
    },
    {
     "data": {
      "application/vnd.jupyter.widget-view+json": {
       "model_id": "aae8c49a799d4d138884a5747ea6ea9d",
       "version_major": 2,
       "version_minor": 0
      },
      "text/plain": [
       "Sanity Checking: 0it [00:00, ?it/s]"
      ]
     },
     "metadata": {},
     "output_type": "display_data"
    },
    {
     "name": "stderr",
     "output_type": "stream",
     "text": [
      "/usr/local/lib/python3.7/dist-packages/torch/utils/data/dataloader.py:490: UserWarning: This DataLoader will create 8 worker processes in total. Our suggested max number of worker in current system is 2, which is smaller than what this DataLoader is going to create. Please be aware that excessive worker creation might get DataLoader running slow or even freeze, lower the worker number to avoid potential slowness/freeze if necessary.\n",
      "  cpuset_checked))\n",
      "/usr/local/lib/python3.7/dist-packages/pytorch_lightning/utilities/data.py:73: UserWarning: Trying to infer the `batch_size` from an ambiguous collection. The batch size we found is 10. To avoid any miscalculations, use `self.log(..., batch_size=batch_size)`.\n",
      "  \"Trying to infer the `batch_size` from an ambiguous collection. The batch size we\"\n"
     ]
    },
    {
     "data": {
      "application/vnd.jupyter.widget-view+json": {
       "model_id": "fc8e66fb09db4975996780c5fdfaff7f",
       "version_major": 2,
       "version_minor": 0
      },
      "text/plain": [
       "Training: 0it [00:00, ?it/s]"
      ]
     },
     "metadata": {},
     "output_type": "display_data"
    },
    {
     "data": {
      "application/vnd.jupyter.widget-view+json": {
       "model_id": "5d674ec8c6e5447cbd73db32539495ae",
       "version_major": 2,
       "version_minor": 0
      },
      "text/plain": [
       "Validation: 0it [00:00, ?it/s]"
      ]
     },
     "metadata": {},
     "output_type": "display_data"
    },
    {
     "data": {
      "application/vnd.jupyter.widget-view+json": {
       "model_id": "2113cc2082444f6289ddede17b5dad03",
       "version_major": 2,
       "version_minor": 0
      },
      "text/plain": [
       "Validation: 0it [00:00, ?it/s]"
      ]
     },
     "metadata": {},
     "output_type": "display_data"
    },
    {
     "data": {
      "application/vnd.jupyter.widget-view+json": {
       "model_id": "6d9e509de81d4fc39b34e566abe2c8b7",
       "version_major": 2,
       "version_minor": 0
      },
      "text/plain": [
       "Validation: 0it [00:00, ?it/s]"
      ]
     },
     "metadata": {},
     "output_type": "display_data"
    },
    {
     "data": {
      "application/vnd.jupyter.widget-view+json": {
       "model_id": "92fa337ee5a946ed944e48300f2d007b",
       "version_major": 2,
       "version_minor": 0
      },
      "text/plain": [
       "Validation: 0it [00:00, ?it/s]"
      ]
     },
     "metadata": {},
     "output_type": "display_data"
    },
    {
     "data": {
      "application/vnd.jupyter.widget-view+json": {
       "model_id": "c7c7d2dfbb584d669436ba6201ff693b",
       "version_major": 2,
       "version_minor": 0
      },
      "text/plain": [
       "Validation: 0it [00:00, ?it/s]"
      ]
     },
     "metadata": {},
     "output_type": "display_data"
    },
    {
     "data": {
      "application/vnd.jupyter.widget-view+json": {
       "model_id": "e187f1f37e6c462395e93e21f1194a4b",
       "version_major": 2,
       "version_minor": 0
      },
      "text/plain": [
       "Validation: 0it [00:00, ?it/s]"
      ]
     },
     "metadata": {},
     "output_type": "display_data"
    },
    {
     "data": {
      "application/vnd.jupyter.widget-view+json": {
       "model_id": "0a4b05d8e69d4a1888b8d8d8cf39aae6",
       "version_major": 2,
       "version_minor": 0
      },
      "text/plain": [
       "Validation: 0it [00:00, ?it/s]"
      ]
     },
     "metadata": {},
     "output_type": "display_data"
    },
    {
     "data": {
      "application/vnd.jupyter.widget-view+json": {
       "model_id": "8a07c0ed39614759a07e292a1a61dfaf",
       "version_major": 2,
       "version_minor": 0
      },
      "text/plain": [
       "Validation: 0it [00:00, ?it/s]"
      ]
     },
     "metadata": {},
     "output_type": "display_data"
    },
    {
     "data": {
      "application/vnd.jupyter.widget-view+json": {
       "model_id": "cf65533a885e4defa3de2b7ad84cb94c",
       "version_major": 2,
       "version_minor": 0
      },
      "text/plain": [
       "Validation: 0it [00:00, ?it/s]"
      ]
     },
     "metadata": {},
     "output_type": "display_data"
    },
    {
     "data": {
      "application/vnd.jupyter.widget-view+json": {
       "model_id": "637a9cd370cc486b8bf325769cfe0119",
       "version_major": 2,
       "version_minor": 0
      },
      "text/plain": [
       "Validation: 0it [00:00, ?it/s]"
      ]
     },
     "metadata": {},
     "output_type": "display_data"
    }
   ],
   "source": [
    "trainer.fit(model = model, datamodule=dm)"
   ]
  },
  {
   "cell_type": "code",
   "execution_count": 37,
   "metadata": {
    "colab": {
     "base_uri": "https://localhost:8080/",
     "height": 300,
     "referenced_widgets": [
      "eb9bda1f8f384304a40b2d8846a5c0c6",
      "58201c95799449d1be56721ba96dd7f1",
      "6dd8d6bec94a4cbcb5753f09c45db7b9",
      "294038300ae841609f63c955cf166353",
      "3afaf559685d43ea9dfd69a7b50c107c",
      "749e36f01a454a0dab5df08d5dbc3870",
      "b5e9c588ed5847869457790ef11bd1a1",
      "fe39639973bd4f3bacd0a4ca573603a0",
      "fb8e3ac6fd09436381673613e2a64e42",
      "1de4655c1b7b4e30bdfd932f57965757",
      "41e074d515644932ab46a642caeb4592"
     ]
    },
    "id": "Snw5mjQtEZKq",
    "outputId": "e8687741-ec40-4b81-b642-75ba79ebcaf2"
   },
   "outputs": [
    {
     "name": "stderr",
     "output_type": "stream",
     "text": [
      "LOCAL_RANK: 0 - CUDA_VISIBLE_DEVICES: [0]\n",
      "/usr/local/lib/python3.7/dist-packages/torch/utils/data/dataloader.py:490: UserWarning: This DataLoader will create 8 worker processes in total. Our suggested max number of worker in current system is 2, which is smaller than what this DataLoader is going to create. Please be aware that excessive worker creation might get DataLoader running slow or even freeze, lower the worker number to avoid potential slowness/freeze if necessary.\n",
      "  cpuset_checked))\n"
     ]
    },
    {
     "data": {
      "application/vnd.jupyter.widget-view+json": {
       "model_id": "eb9bda1f8f384304a40b2d8846a5c0c6",
       "version_major": 2,
       "version_minor": 0
      },
      "text/plain": [
       "Validation: 0it [00:00, ?it/s]"
      ]
     },
     "metadata": {},
     "output_type": "display_data"
    },
    {
     "name": "stdout",
     "output_type": "stream",
     "text": [
      "────────────────────────────────────────────────────────────────────────────────────────────────────────────────────────\n",
      "     Validate metric           DataLoader 0\n",
      "────────────────────────────────────────────────────────────────────────────────────────────────────────────────────────\n",
      "      loss/val_loss         0.7184278964996338\n",
      "       metrics/cer          0.22450698912143707\n",
      "       metrics/wer          0.9916666746139526\n",
      "────────────────────────────────────────────────────────────────────────────────────────────────────────────────────────\n"
     ]
    },
    {
     "data": {
      "text/plain": [
       "[{'loss/val_loss': 0.7184278964996338,\n",
       "  'metrics/cer': 0.22450698912143707,\n",
       "  'metrics/wer': 0.9916666746139526}]"
      ]
     },
     "execution_count": 37,
     "metadata": {},
     "output_type": "execute_result"
    }
   ],
   "source": [
    "trainer.validate(model = model, datamodule=dm)"
   ]
  },
  {
   "cell_type": "code",
   "execution_count": 1,
   "metadata": {
    "id": "ZRtSBCvEPR1p"
   },
   "outputs": [],
   "source": [
    "from thunder.data.dataset import AudioFileLoader"
   ]
  },
  {
   "cell_type": "code",
   "execution_count": 2,
   "metadata": {
    "id": "1YI5nF1KPOBn"
   },
   "outputs": [],
   "source": [
    "loader = AudioFileLoader(sample_rate=16000)"
   ]
  },
  {
   "cell_type": "code",
   "execution_count": 7,
   "metadata": {
    "id": "GupKvtJKPT-w"
   },
   "outputs": [],
   "source": [
    "from IPython.display import Audio"
   ]
  },
  {
   "cell_type": "markdown",
   "metadata": {
    "id": "PzBuCXAFAnG3"
   },
   "source": []
  },
  {
   "cell_type": "code",
   "execution_count": 50,
   "metadata": {
    "colab": {
     "base_uri": "https://localhost:8080/",
     "height": 61
    },
    "id": "9eEN4xppPpVV",
    "outputId": "cee50871-0b83-4a69-c71e-97cd0b9d9e52"
   },
   "outputs": [
    {
     "data": {
      "text/html": [
       "\n",
       "                <audio controls=\"controls\" >\n",
       "                    <source src=\"data:audio/x-wav;base64,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\" type=\"audio/x-wav\" />\n",
       "                    Your browser does not support the audio element.\n",
       "                </audio>\n",
       "              "
      ],
      "text/plain": [
       "<IPython.lib.display.Audio object>"
      ]
     },
     "execution_count": 50,
     "metadata": {},
     "output_type": "execute_result"
    }
   ],
   "source": [
    "Audio(labels.Path[8])"
   ]
  },
  {
   "cell_type": "code",
   "execution_count": 53,
   "metadata": {
    "colab": {
     "base_uri": "https://localhost:8080/"
    },
    "id": "kCeTsIG8QcE4",
    "outputId": "69b33d65-e05e-4a12-9472-f104172363e4"
   },
   "outputs": [
    {
     "data": {
      "text/plain": [
       "PosixPath('/content')"
      ]
     },
     "execution_count": 53,
     "metadata": {},
     "output_type": "execute_result"
    }
   ],
   "source": [
    "Path.cwd()"
   ]
  },
  {
   "cell_type": "code",
   "execution_count": 52,
   "metadata": {
    "colab": {
     "base_uri": "https://localhost:8080/"
    },
    "id": "l5rPfobVPwqw",
    "outputId": "f987bf1c-1e47-475f-b723-74b585dd9ca6"
   },
   "outputs": [
    {
     "data": {
      "text/plain": [
       "['ɝwɔrd̚drɛlp̚pkɨ̞ntɛssəvoʊnlisk̚kɑt̚tɨ̞nb̚blaɪvfsɨ̞z']"
      ]
     },
     "execution_count": 52,
     "metadata": {},
     "output_type": "execute_result"
    }
   ],
   "source": [
    "model.predict(loader(labels.Path[8]))"
   ]
  },
  {
   "cell_type": "code",
   "execution_count": null,
   "metadata": {
    "id": "zoCoyf5iOGMt"
   },
   "outputs": [],
   "source": [
    "model.to_torchscript(\"QuartzNet_thunderspeech_1.pt\")"
   ]
  },
  {
   "cell_type": "code",
   "execution_count": 40,
   "metadata": {
    "id": "ieacRp6SOiCG"
   },
   "outputs": [],
   "source": [
    "model.to_torchscript?"
   ]
  },
  {
   "cell_type": "code",
   "execution_count": 61,
   "metadata": {
    "colab": {
     "base_uri": "https://localhost:8080/"
    },
    "id": "vZZrF7WRRoTK",
    "outputId": "9707d0c5-71f7-4da3-81dc-e07b94fe6bd6"
   },
   "outputs": [
    {
     "name": "stdout",
     "output_type": "stream",
     "text": [
      "/bin/bash: line 0: cd: too many arguments\n"
     ]
    }
   ],
   "source": [
    "!cd pronunciation-trainer !ls"
   ]
  },
  {
   "cell_type": "code",
   "execution_count": 59,
   "metadata": {
    "colab": {
     "base_uri": "https://localhost:8080/"
    },
    "id": "DFhqrPuERuHv",
    "outputId": "f6a2b7c4-812b-4010-f8c9-730044490dbe"
   },
   "outputs": [
    {
     "name": "stdout",
     "output_type": "stream",
     "text": [
      "darpa-timit-acousticphonetic-continuous-speech.zip  SPKRINFO.TXT\n",
      "data\t\t\t\t\t\t    SPKRSENT.TXT\n",
      "lightning_logs\t\t\t\t\t    test_data.csv\n",
      "PHONCODE.DOC\t\t\t\t\t    TESTSET.DOC\n",
      "PROMPTS.TXT\t\t\t\t\t    TIMITDIC.DOC\n",
      "pronunciation-trainer\t\t\t\t    TIMITDIC.TXT\n",
      "README.DOC\t\t\t\t\t    train_data.csv\n",
      "sample_data\n"
     ]
    }
   ],
   "source": [
    "!ls"
   ]
  },
  {
   "cell_type": "code",
   "execution_count": 62,
   "metadata": {
    "colab": {
     "base_uri": "https://localhost:8080/"
    },
    "id": "N0f0aeIqOyiZ",
    "outputId": "70f056e4-6c66-48f0-dc7b-d34bb42ce366"
   },
   "outputs": [
    {
     "name": "stdout",
     "output_type": "stream",
     "text": [
      "fatal: not a git repository (or any of the parent directories): .git\n"
     ]
    }
   ],
   "source": [
    "!git add pronunciation-trainer/."
   ]
  },
  {
   "cell_type": "code",
   "execution_count": 13,
   "metadata": {
    "id": "pWzJO3QvkKdD"
   },
   "outputs": [],
   "source": [
    "import torch\n",
    "import pandas as pd\n",
    "from pathlib import Path"
   ]
  },
  {
   "cell_type": "code",
   "execution_count": 4,
   "metadata": {
    "id": "RhUk2U1RRYmd"
   },
   "outputs": [],
   "source": [
    "model = torch.jit.load(\"QuartzNet_thunderspeech_1.pt\")"
   ]
  },
  {
   "cell_type": "code",
   "execution_count": 8,
   "metadata": {
    "id": "Qe7xrR5oji0b"
   },
   "outputs": [],
   "source": [
    "natives = pd.read_csv('pronunciation-trainer/natives.csv')"
   ]
  },
  {
   "cell_type": "code",
   "execution_count": 9,
   "metadata": {
    "id": "ptqBtxwwlool"
   },
   "outputs": [],
   "source": [
    "subset = [\"thin\", \"thing\", \"think\", \"fit\", \"feet\", \"bald\", \"bold\", \"food\", \"foot\", \"death\", \"deaf\", \"worm\", \"warm\"]"
   ]
  },
  {
   "cell_type": "code",
   "execution_count": 10,
   "metadata": {
    "id": "dl2fg08Nlv5V"
   },
   "outputs": [],
   "source": [
    "subset_df = natives[natives.replica.isin(subset)]"
   ]
  },
  {
   "cell_type": "code",
   "execution_count": 20,
   "metadata": {
    "colab": {
     "base_uri": "https://localhost:8080/"
    },
    "id": "2bH72NJKlx3k",
    "outputId": "7958fc02-349c-4508-b586-9c03a2432a65"
   },
   "outputs": [
    {
     "name": "stdout",
     "output_type": "stream",
     "text": [
      "--2022-05-10 20:11:32--  https://lingualibre.org/datasets/Q22-eng-English.zip\n",
      "Resolving lingualibre.org (lingualibre.org)... 152.228.161.167, 2001:41d0:304:100::4790\n",
      "Connecting to lingualibre.org (lingualibre.org)|152.228.161.167|:443... connected.\n",
      "HTTP request sent, awaiting response... 200 OK\n",
      "Length: 305389673 (291M) [application/zip]\n",
      "Saving to: ‘Q22-eng-English.zip’\n",
      "\n",
      "Q22-eng-English.zip 100%[===================>] 291.24M  11.6MB/s    in 25s     \n",
      "\n",
      "2022-05-10 20:11:59 (11.4 MB/s) - ‘Q22-eng-English.zip’ saved [305389673/305389673]\n",
      "\n"
     ]
    }
   ],
   "source": [
    "!wget https://lingualibre.org/datasets/Q22-eng-English.zip"
   ]
  },
  {
   "cell_type": "code",
   "execution_count": 21,
   "metadata": {
    "id": "oTq0JeGGmSkz"
   },
   "outputs": [],
   "source": [
    "import zipfile\n",
    "archive = zipfile.ZipFile('Q22-eng-English.zip')\n",
    "archive.extractall()"
   ]
  },
  {
   "cell_type": "code",
   "execution_count": null,
   "metadata": {
    "id": "jGhXzT3HoTzx"
   },
   "outputs": [],
   "source": [
    "!sudo apt install sox"
   ]
  },
  {
   "cell_type": "code",
   "execution_count": 53,
   "metadata": {
    "id": "Ao9abSuyo2jw"
   },
   "outputs": [],
   "source": [
    "!ls"
   ]
  },
  {
   "cell_type": "code",
   "execution_count": 47,
   "metadata": {
    "colab": {
     "base_uri": "https://localhost:8080/"
    },
    "id": "5C0lwAjYoF8O",
    "outputId": "138943e9-5fd9-45c2-ef43-20f3501fd7fd"
   },
   "outputs": [
    {
     "name": "stdout",
     "output_type": "stream",
     "text": [
      "sox FAIL formats: can't open input file `Q22-eng-English/natives/Back ache/food.ogg': No such file or directory\n"
     ]
    }
   ],
   "source": [
    "!sox \"Q22-eng-English/natives/Back ache/food.ogg\" -r 16000 -c 1 -b 16 \"Q22-eng-English/natives/Back ache/food.wav\""
   ]
  },
  {
   "cell_type": "code",
   "execution_count": 11,
   "metadata": {
    "colab": {
     "base_uri": "https://localhost:8080/",
     "height": 1000
    },
    "id": "3K1zO9Y-nXlr",
    "outputId": "62e1333a-ab90-425a-e20d-60f553a5ab8f"
   },
   "outputs": [
    {
     "data": {
      "text/html": [
       "\n",
       "  <div id=\"df-191a0280-a64f-4b80-b181-cfa3cc4da4ae\">\n",
       "    <div class=\"colab-df-container\">\n",
       "      <div>\n",
       "<style scoped>\n",
       "    .dataframe tbody tr th:only-of-type {\n",
       "        vertical-align: middle;\n",
       "    }\n",
       "\n",
       "    .dataframe tbody tr th {\n",
       "        vertical-align: top;\n",
       "    }\n",
       "\n",
       "    .dataframe thead th {\n",
       "        text-align: right;\n",
       "    }\n",
       "</style>\n",
       "<table border=\"1\" class=\"dataframe\">\n",
       "  <thead>\n",
       "    <tr style=\"text-align: right;\">\n",
       "      <th></th>\n",
       "      <th>Unnamed: 0</th>\n",
       "      <th>artist</th>\n",
       "      <th>replica</th>\n",
       "      <th>path</th>\n",
       "    </tr>\n",
       "  </thead>\n",
       "  <tbody>\n",
       "    <tr>\n",
       "      <th>3410</th>\n",
       "      <td>3451</td>\n",
       "      <td>Back ache</td>\n",
       "      <td>death</td>\n",
       "      <td>./natives/Back ache/death.ogg</td>\n",
       "    </tr>\n",
       "    <tr>\n",
       "      <th>3623</th>\n",
       "      <td>3667</td>\n",
       "      <td>Back ache</td>\n",
       "      <td>feet</td>\n",
       "      <td>./natives/Back ache/feet.ogg</td>\n",
       "    </tr>\n",
       "    <tr>\n",
       "      <th>3670</th>\n",
       "      <td>3714</td>\n",
       "      <td>Back ache</td>\n",
       "      <td>food</td>\n",
       "      <td>./natives/Back ache/food.ogg</td>\n",
       "    </tr>\n",
       "    <tr>\n",
       "      <th>3671</th>\n",
       "      <td>3715</td>\n",
       "      <td>Back ache</td>\n",
       "      <td>foot</td>\n",
       "      <td>./natives/Back ache/foot.ogg</td>\n",
       "    </tr>\n",
       "    <tr>\n",
       "      <th>4754</th>\n",
       "      <td>4818</td>\n",
       "      <td>Back ache</td>\n",
       "      <td>thin</td>\n",
       "      <td>./natives/Back ache/thin.ogg</td>\n",
       "    </tr>\n",
       "    <tr>\n",
       "      <th>4755</th>\n",
       "      <td>4819</td>\n",
       "      <td>Back ache</td>\n",
       "      <td>thing</td>\n",
       "      <td>./natives/Back ache/thing.ogg</td>\n",
       "    </tr>\n",
       "    <tr>\n",
       "      <th>4757</th>\n",
       "      <td>4821</td>\n",
       "      <td>Back ache</td>\n",
       "      <td>think</td>\n",
       "      <td>./natives/Back ache/think.ogg</td>\n",
       "    </tr>\n",
       "    <tr>\n",
       "      <th>4917</th>\n",
       "      <td>5038</td>\n",
       "      <td>Back ache</td>\n",
       "      <td>warm</td>\n",
       "      <td>./natives/Back ache/warm.ogg</td>\n",
       "    </tr>\n",
       "    <tr>\n",
       "      <th>5002</th>\n",
       "      <td>5124</td>\n",
       "      <td>Back ache</td>\n",
       "      <td>worm</td>\n",
       "      <td>./natives/Back ache/worm.ogg</td>\n",
       "    </tr>\n",
       "    <tr>\n",
       "      <th>5355</th>\n",
       "      <td>5534</td>\n",
       "      <td>Exilexi</td>\n",
       "      <td>thin</td>\n",
       "      <td>./natives/Exilexi/thin.ogg</td>\n",
       "    </tr>\n",
       "    <tr>\n",
       "      <th>5357</th>\n",
       "      <td>5541</td>\n",
       "      <td>Exilexi</td>\n",
       "      <td>warm</td>\n",
       "      <td>./natives/Exilexi/warm.ogg</td>\n",
       "    </tr>\n",
       "    <tr>\n",
       "      <th>5438</th>\n",
       "      <td>5702</td>\n",
       "      <td>Greenman</td>\n",
       "      <td>thin</td>\n",
       "      <td>./natives/Greenman/thin.ogg</td>\n",
       "    </tr>\n",
       "    <tr>\n",
       "      <th>5451</th>\n",
       "      <td>5715</td>\n",
       "      <td>Greenman</td>\n",
       "      <td>worm</td>\n",
       "      <td>./natives/Greenman/worm.ogg</td>\n",
       "    </tr>\n",
       "    <tr>\n",
       "      <th>6032</th>\n",
       "      <td>6303</td>\n",
       "      <td>Jellyman305</td>\n",
       "      <td>foot</td>\n",
       "      <td>./natives/Jellyman305/foot.ogg</td>\n",
       "    </tr>\n",
       "    <tr>\n",
       "      <th>6114</th>\n",
       "      <td>6385</td>\n",
       "      <td>Jellyman305</td>\n",
       "      <td>thin</td>\n",
       "      <td>./natives/Jellyman305/thin.ogg</td>\n",
       "    </tr>\n",
       "    <tr>\n",
       "      <th>6121</th>\n",
       "      <td>6446</td>\n",
       "      <td>Jellyman305</td>\n",
       "      <td>warm</td>\n",
       "      <td>./natives/Jellyman305/warm.ogg</td>\n",
       "    </tr>\n",
       "    <tr>\n",
       "      <th>6136</th>\n",
       "      <td>6461</td>\n",
       "      <td>Jellyman305</td>\n",
       "      <td>worm</td>\n",
       "      <td>./natives/Jellyman305/worm.ogg</td>\n",
       "    </tr>\n",
       "    <tr>\n",
       "      <th>6885</th>\n",
       "      <td>7328</td>\n",
       "      <td>Lirazelf</td>\n",
       "      <td>foot</td>\n",
       "      <td>./natives/Lirazelf/foot.ogg</td>\n",
       "    </tr>\n",
       "    <tr>\n",
       "      <th>6972</th>\n",
       "      <td>7415</td>\n",
       "      <td>Lirazelf</td>\n",
       "      <td>thin</td>\n",
       "      <td>./natives/Lirazelf/thin.ogg</td>\n",
       "    </tr>\n",
       "    <tr>\n",
       "      <th>6981</th>\n",
       "      <td>7470</td>\n",
       "      <td>Lirazelf</td>\n",
       "      <td>warm</td>\n",
       "      <td>./natives/Lirazelf/warm.ogg</td>\n",
       "    </tr>\n",
       "    <tr>\n",
       "      <th>6998</th>\n",
       "      <td>7487</td>\n",
       "      <td>Lirazelf</td>\n",
       "      <td>worm</td>\n",
       "      <td>./natives/Lirazelf/worm.ogg</td>\n",
       "    </tr>\n",
       "    <tr>\n",
       "      <th>7453</th>\n",
       "      <td>7991</td>\n",
       "      <td>Nattes à chat</td>\n",
       "      <td>fit</td>\n",
       "      <td>./natives/Nattes à chat/fit.ogg</td>\n",
       "    </tr>\n",
       "    <tr>\n",
       "      <th>7466</th>\n",
       "      <td>8004</td>\n",
       "      <td>Nattes à chat</td>\n",
       "      <td>food</td>\n",
       "      <td>./natives/Nattes à chat/food.ogg</td>\n",
       "    </tr>\n",
       "    <tr>\n",
       "      <th>7468</th>\n",
       "      <td>8006</td>\n",
       "      <td>Nattes à chat</td>\n",
       "      <td>foot</td>\n",
       "      <td>./natives/Nattes à chat/foot.ogg</td>\n",
       "    </tr>\n",
       "    <tr>\n",
       "      <th>8072</th>\n",
       "      <td>8698</td>\n",
       "      <td>Nattes à chat</td>\n",
       "      <td>thin</td>\n",
       "      <td>./natives/Nattes à chat/thin.ogg</td>\n",
       "    </tr>\n",
       "    <tr>\n",
       "      <th>8073</th>\n",
       "      <td>8699</td>\n",
       "      <td>Nattes à chat</td>\n",
       "      <td>thing</td>\n",
       "      <td>./natives/Nattes à chat/thing.ogg</td>\n",
       "    </tr>\n",
       "    <tr>\n",
       "      <th>8074</th>\n",
       "      <td>8700</td>\n",
       "      <td>Nattes à chat</td>\n",
       "      <td>think</td>\n",
       "      <td>./natives/Nattes à chat/think.ogg</td>\n",
       "    </tr>\n",
       "    <tr>\n",
       "      <th>8126</th>\n",
       "      <td>8820</td>\n",
       "      <td>Nattes à chat</td>\n",
       "      <td>warm</td>\n",
       "      <td>./natives/Nattes à chat/warm.ogg</td>\n",
       "    </tr>\n",
       "    <tr>\n",
       "      <th>8172</th>\n",
       "      <td>8872</td>\n",
       "      <td>Nattes à chat</td>\n",
       "      <td>worm</td>\n",
       "      <td>./natives/Nattes à chat/worm.ogg</td>\n",
       "    </tr>\n",
       "    <tr>\n",
       "      <th>8210</th>\n",
       "      <td>8910</td>\n",
       "      <td>Opsylac</td>\n",
       "      <td>thin</td>\n",
       "      <td>./natives/Opsylac/thin.ogg</td>\n",
       "    </tr>\n",
       "    <tr>\n",
       "      <th>9703</th>\n",
       "      <td>10504</td>\n",
       "      <td>Simplificationalizer</td>\n",
       "      <td>thin</td>\n",
       "      <td>./natives/Simplificationalizer/thin.ogg</td>\n",
       "    </tr>\n",
       "    <tr>\n",
       "      <th>9877</th>\n",
       "      <td>10685</td>\n",
       "      <td>SpringProof</td>\n",
       "      <td>foot</td>\n",
       "      <td>./natives/SpringProof/foot.ogg</td>\n",
       "    </tr>\n",
       "    <tr>\n",
       "      <th>9922</th>\n",
       "      <td>10730</td>\n",
       "      <td>SpringProof</td>\n",
       "      <td>thin</td>\n",
       "      <td>./natives/SpringProof/thin.ogg</td>\n",
       "    </tr>\n",
       "    <tr>\n",
       "      <th>9937</th>\n",
       "      <td>10760</td>\n",
       "      <td>SpringProof</td>\n",
       "      <td>worm</td>\n",
       "      <td>./natives/SpringProof/worm.ogg</td>\n",
       "    </tr>\n",
       "  </tbody>\n",
       "</table>\n",
       "</div>\n",
       "      <button class=\"colab-df-convert\" onclick=\"convertToInteractive('df-191a0280-a64f-4b80-b181-cfa3cc4da4ae')\"\n",
       "              title=\"Convert this dataframe to an interactive table.\"\n",
       "              style=\"display:none;\">\n",
       "        \n",
       "  <svg xmlns=\"http://www.w3.org/2000/svg\" height=\"24px\"viewBox=\"0 0 24 24\"\n",
       "       width=\"24px\">\n",
       "    <path d=\"M0 0h24v24H0V0z\" fill=\"none\"/>\n",
       "    <path d=\"M18.56 5.44l.94 2.06.94-2.06 2.06-.94-2.06-.94-.94-2.06-.94 2.06-2.06.94zm-11 1L8.5 8.5l.94-2.06 2.06-.94-2.06-.94L8.5 2.5l-.94 2.06-2.06.94zm10 10l.94 2.06.94-2.06 2.06-.94-2.06-.94-.94-2.06-.94 2.06-2.06.94z\"/><path d=\"M17.41 7.96l-1.37-1.37c-.4-.4-.92-.59-1.43-.59-.52 0-1.04.2-1.43.59L10.3 9.45l-7.72 7.72c-.78.78-.78 2.05 0 2.83L4 21.41c.39.39.9.59 1.41.59.51 0 1.02-.2 1.41-.59l7.78-7.78 2.81-2.81c.8-.78.8-2.07 0-2.86zM5.41 20L4 18.59l7.72-7.72 1.47 1.35L5.41 20z\"/>\n",
       "  </svg>\n",
       "      </button>\n",
       "      \n",
       "  <style>\n",
       "    .colab-df-container {\n",
       "      display:flex;\n",
       "      flex-wrap:wrap;\n",
       "      gap: 12px;\n",
       "    }\n",
       "\n",
       "    .colab-df-convert {\n",
       "      background-color: #E8F0FE;\n",
       "      border: none;\n",
       "      border-radius: 50%;\n",
       "      cursor: pointer;\n",
       "      display: none;\n",
       "      fill: #1967D2;\n",
       "      height: 32px;\n",
       "      padding: 0 0 0 0;\n",
       "      width: 32px;\n",
       "    }\n",
       "\n",
       "    .colab-df-convert:hover {\n",
       "      background-color: #E2EBFA;\n",
       "      box-shadow: 0px 1px 2px rgba(60, 64, 67, 0.3), 0px 1px 3px 1px rgba(60, 64, 67, 0.15);\n",
       "      fill: #174EA6;\n",
       "    }\n",
       "\n",
       "    [theme=dark] .colab-df-convert {\n",
       "      background-color: #3B4455;\n",
       "      fill: #D2E3FC;\n",
       "    }\n",
       "\n",
       "    [theme=dark] .colab-df-convert:hover {\n",
       "      background-color: #434B5C;\n",
       "      box-shadow: 0px 1px 3px 1px rgba(0, 0, 0, 0.15);\n",
       "      filter: drop-shadow(0px 1px 2px rgba(0, 0, 0, 0.3));\n",
       "      fill: #FFFFFF;\n",
       "    }\n",
       "  </style>\n",
       "\n",
       "      <script>\n",
       "        const buttonEl =\n",
       "          document.querySelector('#df-191a0280-a64f-4b80-b181-cfa3cc4da4ae button.colab-df-convert');\n",
       "        buttonEl.style.display =\n",
       "          google.colab.kernel.accessAllowed ? 'block' : 'none';\n",
       "\n",
       "        async function convertToInteractive(key) {\n",
       "          const element = document.querySelector('#df-191a0280-a64f-4b80-b181-cfa3cc4da4ae');\n",
       "          const dataTable =\n",
       "            await google.colab.kernel.invokeFunction('convertToInteractive',\n",
       "                                                     [key], {});\n",
       "          if (!dataTable) return;\n",
       "\n",
       "          const docLinkHtml = 'Like what you see? Visit the ' +\n",
       "            '<a target=\"_blank\" href=https://colab.research.google.com/notebooks/data_table.ipynb>data table notebook</a>'\n",
       "            + ' to learn more about interactive tables.';\n",
       "          element.innerHTML = '';\n",
       "          dataTable['output_type'] = 'display_data';\n",
       "          await google.colab.output.renderOutput(dataTable, element);\n",
       "          const docLink = document.createElement('div');\n",
       "          docLink.innerHTML = docLinkHtml;\n",
       "          element.appendChild(docLink);\n",
       "        }\n",
       "      </script>\n",
       "    </div>\n",
       "  </div>\n",
       "  "
      ],
      "text/plain": [
       "      Unnamed: 0                artist replica  \\\n",
       "3410        3451             Back ache   death   \n",
       "3623        3667             Back ache    feet   \n",
       "3670        3714             Back ache    food   \n",
       "3671        3715             Back ache    foot   \n",
       "4754        4818             Back ache    thin   \n",
       "4755        4819             Back ache   thing   \n",
       "4757        4821             Back ache   think   \n",
       "4917        5038             Back ache    warm   \n",
       "5002        5124             Back ache    worm   \n",
       "5355        5534               Exilexi    thin   \n",
       "5357        5541               Exilexi    warm   \n",
       "5438        5702              Greenman    thin   \n",
       "5451        5715              Greenman    worm   \n",
       "6032        6303           Jellyman305    foot   \n",
       "6114        6385           Jellyman305    thin   \n",
       "6121        6446           Jellyman305    warm   \n",
       "6136        6461           Jellyman305    worm   \n",
       "6885        7328              Lirazelf    foot   \n",
       "6972        7415              Lirazelf    thin   \n",
       "6981        7470              Lirazelf    warm   \n",
       "6998        7487              Lirazelf    worm   \n",
       "7453        7991         Nattes à chat     fit   \n",
       "7466        8004         Nattes à chat    food   \n",
       "7468        8006         Nattes à chat    foot   \n",
       "8072        8698         Nattes à chat    thin   \n",
       "8073        8699         Nattes à chat   thing   \n",
       "8074        8700         Nattes à chat   think   \n",
       "8126        8820         Nattes à chat    warm   \n",
       "8172        8872         Nattes à chat    worm   \n",
       "8210        8910               Opsylac    thin   \n",
       "9703       10504  Simplificationalizer    thin   \n",
       "9877       10685           SpringProof    foot   \n",
       "9922       10730           SpringProof    thin   \n",
       "9937       10760           SpringProof    worm   \n",
       "\n",
       "                                         path  \n",
       "3410            ./natives/Back ache/death.ogg  \n",
       "3623             ./natives/Back ache/feet.ogg  \n",
       "3670             ./natives/Back ache/food.ogg  \n",
       "3671             ./natives/Back ache/foot.ogg  \n",
       "4754             ./natives/Back ache/thin.ogg  \n",
       "4755            ./natives/Back ache/thing.ogg  \n",
       "4757            ./natives/Back ache/think.ogg  \n",
       "4917             ./natives/Back ache/warm.ogg  \n",
       "5002             ./natives/Back ache/worm.ogg  \n",
       "5355               ./natives/Exilexi/thin.ogg  \n",
       "5357               ./natives/Exilexi/warm.ogg  \n",
       "5438              ./natives/Greenman/thin.ogg  \n",
       "5451              ./natives/Greenman/worm.ogg  \n",
       "6032           ./natives/Jellyman305/foot.ogg  \n",
       "6114           ./natives/Jellyman305/thin.ogg  \n",
       "6121           ./natives/Jellyman305/warm.ogg  \n",
       "6136           ./natives/Jellyman305/worm.ogg  \n",
       "6885              ./natives/Lirazelf/foot.ogg  \n",
       "6972              ./natives/Lirazelf/thin.ogg  \n",
       "6981              ./natives/Lirazelf/warm.ogg  \n",
       "6998              ./natives/Lirazelf/worm.ogg  \n",
       "7453          ./natives/Nattes à chat/fit.ogg  \n",
       "7466         ./natives/Nattes à chat/food.ogg  \n",
       "7468         ./natives/Nattes à chat/foot.ogg  \n",
       "8072         ./natives/Nattes à chat/thin.ogg  \n",
       "8073        ./natives/Nattes à chat/thing.ogg  \n",
       "8074        ./natives/Nattes à chat/think.ogg  \n",
       "8126         ./natives/Nattes à chat/warm.ogg  \n",
       "8172         ./natives/Nattes à chat/worm.ogg  \n",
       "8210               ./natives/Opsylac/thin.ogg  \n",
       "9703  ./natives/Simplificationalizer/thin.ogg  \n",
       "9877           ./natives/SpringProof/foot.ogg  \n",
       "9922           ./natives/SpringProof/thin.ogg  \n",
       "9937           ./natives/SpringProof/worm.ogg  "
      ]
     },
     "execution_count": 11,
     "metadata": {},
     "output_type": "execute_result"
    }
   ],
   "source": [
    "subset_df"
   ]
  },
  {
   "cell_type": "code",
   "execution_count": 14,
   "metadata": {
    "colab": {
     "base_uri": "https://localhost:8080/"
    },
    "id": "6OLoNYUPqwWo",
    "outputId": "3486dd28-f9df-4689-9795-c32e136c3dae"
   },
   "outputs": [
    {
     "data": {
      "text/plain": [
       "True"
      ]
     },
     "execution_count": 14,
     "metadata": {},
     "output_type": "execute_result"
    }
   ],
   "source": [
    "(Path('Q22-eng-English') / '/'.join(subset_df.path.iloc[2].split('/')[2:])).exists()"
   ]
  },
  {
   "cell_type": "code",
   "execution_count": 74,
   "metadata": {
    "colab": {
     "base_uri": "https://localhost:8080/"
    },
    "id": "C9BS_hbMqrLi",
    "outputId": "58856e1e-9609-4d0e-fb57-f1457c17e230"
   },
   "outputs": [
    {
     "data": {
      "text/plain": [
       "PosixPath('Q22-eng-English/Back ache/food.ogg')"
      ]
     },
     "execution_count": 74,
     "metadata": {},
     "output_type": "execute_result"
    }
   ],
   "source": [
    "(Path('Q22-eng-English') / '/'.join(subset_df.path.iloc[2].split('/')[2:]))#.is_file()"
   ]
  },
  {
   "cell_type": "code",
   "execution_count": null,
   "metadata": {
    "id": "1vZwNeKI9Mgr"
   },
   "outputs": [],
   "source": [
    "subset_df[\"transcription\"] = subset_df.path.map(lambda x: \n",
    "model.predict(loader(Path('Q22-eng-English') / '/'.join(x.split('/')[2:]))))"
   ]
  },
  {
   "cell_type": "code",
   "execution_count": 18,
   "metadata": {
    "id": "L50pnjJ0A_Km"
   },
   "outputs": [],
   "source": [
    "?Audio"
   ]
  },
  {
   "cell_type": "code",
   "execution_count": 15,
   "metadata": {
    "colab": {
     "base_uri": "https://localhost:8080/",
     "height": 61
    },
    "id": "31b_WW0B_ZWV",
    "outputId": "05c92844-5181-4a2e-d224-d078e9425d45"
   },
   "outputs": [
    {
     "data": {
      "text/html": [
       "\n",
       "                <audio controls=\"controls\" >\n",
       "                    <source src=\"data:audio/ogg;base64,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\" type=\"audio/ogg\" />\n",
       "                    Your browser does not support the audio element.\n",
       "                </audio>\n",
       "              "
      ],
      "text/plain": [
       "<IPython.lib.display.Audio object>"
      ]
     },
     "execution_count": 15,
     "metadata": {},
     "output_type": "execute_result"
    }
   ],
   "source": [
    "Audio(str(Path('Q22-eng-English') / '/'.join(subset_df.path.iloc[1].split('/')[2:])))"
   ]
  },
  {
   "cell_type": "code",
   "execution_count": 28,
   "metadata": {
    "colab": {
     "base_uri": "https://localhost:8080/"
    },
    "id": "ZZJqUnSdC0n3",
    "outputId": "6a6163d6-6341-4860-a110-7feed84061ca"
   },
   "outputs": [
    {
     "data": {
      "text/plain": [
       "14123"
      ]
     },
     "execution_count": 28,
     "metadata": {},
     "output_type": "execute_result"
    }
   ],
   "source": [
    "len(loader(str(Path('Q22-eng-English') / '/'.join(subset_df.path.iloc[1].split('/')[2:])))[0])"
   ]
  },
  {
   "cell_type": "code",
   "execution_count": 22,
   "metadata": {
    "id": "Q1IFyomnFPlI"
   },
   "outputs": [],
   "source": [
    "model.predict?"
   ]
  },
  {
   "cell_type": "code",
   "execution_count": null,
   "metadata": {
    "id": "Ju2OSBzwFnW2"
   },
   "outputs": [],
   "source": [
    "loader()"
   ]
  },
  {
   "cell_type": "code",
   "execution_count": null,
   "metadata": {
    "colab": {
     "base_uri": "https://localhost:8080/"
    },
    "id": "LtySNz7oqQmT",
    "outputId": "dfe5a642-323c-4217-b0be-b3bea5a6e969"
   },
   "outputs": [
    {
     "name": "stdout",
     "output_type": "stream",
     "text": [
      "Q22-eng-English/Back ache/death.ogg\n",
      "['dɛf']\n",
      "Q22-eng-English/Back ache/feet.ogg\n"
     ]
    }
   ],
   "source": [
    "predicts = []\n",
    "for i in range(len(subset_df)):\n",
    "  path = str(Path('Q22-eng-English') / '/'.join(subset_df.path.iloc[i].split('/')[2:]))\n",
    "  print(path)\n",
    "  audio = loader(path)\n",
    "  predicts.append(model.predict(audio))\n",
    "  print(predicts[-1])"
   ]
  },
  {
   "cell_type": "code",
   "execution_count": 60,
   "metadata": {
    "colab": {
     "base_uri": "https://localhost:8080/",
     "height": 335
    },
    "id": "jZ8I4BH1mgFM",
    "outputId": "e78331fc-b6ad-4dd2-bedf-f30e9708d94e"
   },
   "outputs": [
    {
     "ename": "RuntimeError",
     "evalue": "ignored",
     "output_type": "error",
     "traceback": [
      "\u001b[0;31m---------------------------------------------------------------------------\u001b[0m",
      "\u001b[0;31mRuntimeError\u001b[0m                              Traceback (most recent call last)",
      "\u001b[0;32m<ipython-input-60-945d499c560d>\u001b[0m in \u001b[0;36m<module>\u001b[0;34m()\u001b[0m\n\u001b[0;32m----> 1\u001b[0;31m \u001b[0mmodel\u001b[0m\u001b[0;34m.\u001b[0m\u001b[0mpredict\u001b[0m\u001b[0;34m(\u001b[0m\u001b[0mloader\u001b[0m\u001b[0;34m(\u001b[0m\u001b[0mPath\u001b[0m\u001b[0;34m(\u001b[0m\u001b[0;34m'Q22-eng-English'\u001b[0m\u001b[0;34m)\u001b[0m \u001b[0;34m/\u001b[0m \u001b[0;34m'/'\u001b[0m\u001b[0;34m.\u001b[0m\u001b[0mjoin\u001b[0m\u001b[0;34m(\u001b[0m\u001b[0;34m[\u001b[0m\u001b[0msubset_df\u001b[0m\u001b[0;34m.\u001b[0m\u001b[0mpath\u001b[0m\u001b[0;34m.\u001b[0m\u001b[0miloc\u001b[0m\u001b[0;34m[\u001b[0m\u001b[0;36m2\u001b[0m\u001b[0;34m]\u001b[0m\u001b[0;34m.\u001b[0m\u001b[0msplit\u001b[0m\u001b[0;34m(\u001b[0m\u001b[0;34m'/'\u001b[0m\u001b[0;34m)\u001b[0m\u001b[0;34m]\u001b[0m\u001b[0;34m[\u001b[0m\u001b[0;36m1\u001b[0m\u001b[0;34m:\u001b[0m\u001b[0;34m]\u001b[0m\u001b[0;34m)\u001b[0m\u001b[0;34m)\u001b[0m\u001b[0;34m)\u001b[0m\u001b[0;34m\u001b[0m\u001b[0;34m\u001b[0m\u001b[0m\n\u001b[0m",
      "\u001b[0;32m/usr/local/lib/python3.7/dist-packages/torch/nn/modules/module.py\u001b[0m in \u001b[0;36m_call_impl\u001b[0;34m(self, *input, **kwargs)\u001b[0m\n\u001b[1;32m   1108\u001b[0m         if not (self._backward_hooks or self._forward_hooks or self._forward_pre_hooks or _global_backward_hooks\n\u001b[1;32m   1109\u001b[0m                 or _global_forward_hooks or _global_forward_pre_hooks):\n\u001b[0;32m-> 1110\u001b[0;31m             \u001b[0;32mreturn\u001b[0m \u001b[0mforward_call\u001b[0m\u001b[0;34m(\u001b[0m\u001b[0;34m*\u001b[0m\u001b[0minput\u001b[0m\u001b[0;34m,\u001b[0m \u001b[0;34m**\u001b[0m\u001b[0mkwargs\u001b[0m\u001b[0;34m)\u001b[0m\u001b[0;34m\u001b[0m\u001b[0;34m\u001b[0m\u001b[0m\n\u001b[0m\u001b[1;32m   1111\u001b[0m         \u001b[0;31m# Do not call functions when jit is used\u001b[0m\u001b[0;34m\u001b[0m\u001b[0;34m\u001b[0m\u001b[0;34m\u001b[0m\u001b[0m\n\u001b[1;32m   1112\u001b[0m         \u001b[0mfull_backward_hooks\u001b[0m\u001b[0;34m,\u001b[0m \u001b[0mnon_full_backward_hooks\u001b[0m \u001b[0;34m=\u001b[0m \u001b[0;34m[\u001b[0m\u001b[0;34m]\u001b[0m\u001b[0;34m,\u001b[0m \u001b[0;34m[\u001b[0m\u001b[0;34m]\u001b[0m\u001b[0;34m\u001b[0m\u001b[0;34m\u001b[0m\u001b[0m\n",
      "\u001b[0;32m/usr/local/lib/python3.7/dist-packages/thunder/data/dataset.py\u001b[0m in \u001b[0;36mforward\u001b[0;34m(self, item)\u001b[0m\n\u001b[1;32m     86\u001b[0m             \u001b[0mAudio\u001b[0m \u001b[0mtensor\u001b[0m \u001b[0mafter\u001b[0m \u001b[0mpreprocessing\u001b[0m\u001b[0;34m\u001b[0m\u001b[0;34m\u001b[0m\u001b[0m\n\u001b[1;32m     87\u001b[0m         \"\"\"\n\u001b[0;32m---> 88\u001b[0;31m         \u001b[0maudio\u001b[0m\u001b[0;34m,\u001b[0m \u001b[0msample_rate\u001b[0m \u001b[0;34m=\u001b[0m \u001b[0mself\u001b[0m\u001b[0;34m.\u001b[0m\u001b[0mopen_audio\u001b[0m\u001b[0;34m(\u001b[0m\u001b[0mitem\u001b[0m\u001b[0;34m)\u001b[0m\u001b[0;34m\u001b[0m\u001b[0;34m\u001b[0m\u001b[0m\n\u001b[0m\u001b[1;32m     89\u001b[0m         \u001b[0;32mreturn\u001b[0m \u001b[0mself\u001b[0m\u001b[0;34m.\u001b[0m\u001b[0mpreprocess_audio\u001b[0m\u001b[0;34m(\u001b[0m\u001b[0maudio\u001b[0m\u001b[0;34m,\u001b[0m \u001b[0msample_rate\u001b[0m\u001b[0;34m)\u001b[0m\u001b[0;34m\u001b[0m\u001b[0;34m\u001b[0m\u001b[0m\n\u001b[1;32m     90\u001b[0m \u001b[0;34m\u001b[0m\u001b[0m\n",
      "\u001b[0;32m/usr/local/lib/python3.7/dist-packages/thunder/data/dataset.py\u001b[0m in \u001b[0;36mopen_audio\u001b[0;34m(self, item)\u001b[0m\n\u001b[1;32m     45\u001b[0m             \u001b[0mTuple\u001b[0m \u001b[0mcontaining\u001b[0m \u001b[0mthe\u001b[0m \u001b[0maudio\u001b[0m \u001b[0mtensor\u001b[0m \u001b[0;32mwith\u001b[0m \u001b[0mshape\u001b[0m \u001b[0;34m(\u001b[0m\u001b[0mchannels\u001b[0m\u001b[0;34m,\u001b[0m \u001b[0mtime\u001b[0m\u001b[0;34m)\u001b[0m\u001b[0;34m,\u001b[0m \u001b[0;32mand\u001b[0m \u001b[0mthe\u001b[0m \u001b[0mcorresponding\u001b[0m \u001b[0msample\u001b[0m \u001b[0mrate\u001b[0m\u001b[0;34m.\u001b[0m\u001b[0;34m\u001b[0m\u001b[0;34m\u001b[0m\u001b[0m\n\u001b[1;32m     46\u001b[0m         \"\"\"\n\u001b[0;32m---> 47\u001b[0;31m         \u001b[0;32mreturn\u001b[0m \u001b[0mtorchaudio\u001b[0m\u001b[0;34m.\u001b[0m\u001b[0mload\u001b[0m\u001b[0;34m(\u001b[0m\u001b[0mitem\u001b[0m\u001b[0;34m)\u001b[0m\u001b[0;34m\u001b[0m\u001b[0;34m\u001b[0m\u001b[0m\n\u001b[0m\u001b[1;32m     48\u001b[0m \u001b[0;34m\u001b[0m\u001b[0m\n\u001b[1;32m     49\u001b[0m     \u001b[0;34m@\u001b[0m\u001b[0mtorch\u001b[0m\u001b[0;34m.\u001b[0m\u001b[0mjit\u001b[0m\u001b[0;34m.\u001b[0m\u001b[0mexport\u001b[0m\u001b[0;34m\u001b[0m\u001b[0;34m\u001b[0m\u001b[0m\n",
      "\u001b[0;32m/usr/local/lib/python3.7/dist-packages/torchaudio/backend/sox_io_backend.py\u001b[0m in \u001b[0;36mload\u001b[0;34m(filepath, frame_offset, num_frames, normalize, channels_first, format)\u001b[0m\n\u001b[1;32m    152\u001b[0m         \u001b[0mfilepath\u001b[0m \u001b[0;34m=\u001b[0m \u001b[0mos\u001b[0m\u001b[0;34m.\u001b[0m\u001b[0mfspath\u001b[0m\u001b[0;34m(\u001b[0m\u001b[0mfilepath\u001b[0m\u001b[0;34m)\u001b[0m\u001b[0;34m\u001b[0m\u001b[0;34m\u001b[0m\u001b[0m\n\u001b[1;32m    153\u001b[0m     return torch.ops.torchaudio.sox_io_load_audio_file(\n\u001b[0;32m--> 154\u001b[0;31m         \u001b[0mfilepath\u001b[0m\u001b[0;34m,\u001b[0m \u001b[0mframe_offset\u001b[0m\u001b[0;34m,\u001b[0m \u001b[0mnum_frames\u001b[0m\u001b[0;34m,\u001b[0m \u001b[0mnormalize\u001b[0m\u001b[0;34m,\u001b[0m \u001b[0mchannels_first\u001b[0m\u001b[0;34m,\u001b[0m \u001b[0mformat\u001b[0m\u001b[0;34m\u001b[0m\u001b[0;34m\u001b[0m\u001b[0m\n\u001b[0m\u001b[1;32m    155\u001b[0m     )\n\u001b[1;32m    156\u001b[0m \u001b[0;34m\u001b[0m\u001b[0m\n",
      "\u001b[0;31mRuntimeError\u001b[0m: Error loading audio file: failed to open file Q22-eng-English"
     ]
    }
   ],
   "source": [
    "model.predict(loader(Path('Q22-eng-English') / '/'.join([subset_df.path.iloc[2].split('/')][1:])))"
   ]
  },
  {
   "cell_type": "code",
   "execution_count": 2,
   "metadata": {
    "colab": {
     "base_uri": "https://localhost:8080/",
     "height": 168
    },
    "id": "vaJt6SLGm1jF",
    "outputId": "02d8e2f9-09cd-4b63-e663-1c5297229af9"
   },
   "outputs": [
    {
     "ename": "NameError",
     "evalue": "ignored",
     "output_type": "error",
     "traceback": [
      "\u001b[0;31m---------------------------------------------------------------------------\u001b[0m",
      "\u001b[0;31mNameError\u001b[0m                                 Traceback (most recent call last)",
      "\u001b[0;32m<ipython-input-2-b2a7fcb8bdc9>\u001b[0m in \u001b[0;36m<module>\u001b[0;34m()\u001b[0m\n\u001b[0;32m----> 1\u001b[0;31m \u001b[0;34m(\u001b[0m\u001b[0mPath\u001b[0m\u001b[0;34m(\u001b[0m\u001b[0;34m'Q22-eng-English'\u001b[0m\u001b[0;34m)\u001b[0m \u001b[0;34m/\u001b[0m \u001b[0msubset_df\u001b[0m\u001b[0;34m.\u001b[0m\u001b[0mpath\u001b[0m\u001b[0;34m.\u001b[0m\u001b[0miloc\u001b[0m\u001b[0;34m[\u001b[0m\u001b[0;36m2\u001b[0m\u001b[0;34m]\u001b[0m\u001b[0;34m)\u001b[0m\u001b[0;34m.\u001b[0m\u001b[0mis_file\u001b[0m\u001b[0;34m(\u001b[0m\u001b[0;34m)\u001b[0m\u001b[0;34m\u001b[0m\u001b[0;34m\u001b[0m\u001b[0m\n\u001b[0m",
      "\u001b[0;31mNameError\u001b[0m: name 'Path' is not defined"
     ]
    }
   ],
   "source": [
    "(Path('Q22-eng-English') / subset_df.path.iloc[2]).is_file()"
   ]
  },
  {
   "cell_type": "code",
   "execution_count": 57,
   "metadata": {
    "colab": {
     "base_uri": "https://localhost:8080/"
    },
    "id": "N5QBw4LRpLkV",
    "outputId": "01ab338e-63dc-427b-9d8a-52bc9f4cd11a"
   },
   "outputs": [
    {
     "data": {
      "text/plain": [
       "PosixPath('Q22-eng-English/natives/Back ache/food.ogg')"
      ]
     },
     "execution_count": 57,
     "metadata": {},
     "output_type": "execute_result"
    }
   ],
   "source": [
    "Path('Q22-eng-English') / subset_df.path.iloc[2]"
   ]
  },
  {
   "cell_type": "code",
   "execution_count": 95,
   "metadata": {
    "colab": {
     "base_uri": "https://localhost:8080/",
     "height": 168
    },
    "id": "AOdK8nn-rSQY",
    "outputId": "4c58ffab-c0f4-4feb-d463-69cc2e264247"
   },
   "outputs": [
    {
     "ename": "AttributeError",
     "evalue": "ignored",
     "output_type": "error",
     "traceback": [
      "\u001b[0;31m---------------------------------------------------------------------------\u001b[0m",
      "\u001b[0;31mAttributeError\u001b[0m                            Traceback (most recent call last)",
      "\u001b[0;32m<ipython-input-95-a2e713d3661b>\u001b[0m in \u001b[0;36m<module>\u001b[0;34m()\u001b[0m\n\u001b[0;32m----> 1\u001b[0;31m \u001b[0mPath\u001b[0m\u001b[0;34m.\u001b[0m\u001b[0mPATH\u001b[0m\u001b[0;34m\u001b[0m\u001b[0;34m\u001b[0m\u001b[0m\n\u001b[0m",
      "\u001b[0;31mAttributeError\u001b[0m: type object 'Path' has no attribute 'PATH'"
     ]
    }
   ],
   "source": [
    "Path.PATH"
   ]
  },
  {
   "cell_type": "code",
   "execution_count": 82,
   "metadata": {
    "colab": {
     "base_uri": "https://localhost:8080/"
    },
    "id": "fBw-rKTwp1d9",
    "outputId": "05d1382f-33fd-40a1-9b5a-640321d340a0"
   },
   "outputs": [
    {
     "data": {
      "text/plain": [
       "False"
      ]
     },
     "execution_count": 82,
     "metadata": {},
     "output_type": "execute_result"
    }
   ],
   "source": [
    "Path('content/Q22-eng-English/Back ache/&.ogg').is_file()"
   ]
  },
  {
   "cell_type": "code",
   "execution_count": null,
   "metadata": {
    "id": "9yblgiI-rN2R"
   },
   "outputs": [],
   "source": []
  }
 ],
 "metadata": {
  "accelerator": "GPU",
  "colab": {
   "authorship_tag": "ABX9TyPBHsHGkkGM2Vvo2atwN1/S",
   "collapsed_sections": [],
   "include_colab_link": true,
   "name": "thunder-speech.ipynb",
   "provenance": []
  },
  "kernelspec": {
   "display_name": "default:Python",
   "language": "python",
   "name": "conda-env-default-py"
  },
  "language_info": {
   "codemirror_mode": {
    "name": "ipython",
    "version": 3
   },
   "file_extension": ".py",
   "mimetype": "text/x-python",
   "name": "python",
   "nbconvert_exporter": "python",
   "pygments_lexer": "ipython3",
   "version": "3.9.7"
  },
  "widgets": {
   "application/vnd.jupyter.widget-state+json": {
    "015150a7da834168a8f965fa6c2fb871": {
     "model_module": "@jupyter-widgets/controls",
     "model_module_version": "1.5.0",
     "model_name": "DescriptionStyleModel",
     "state": {
      "_model_module": "@jupyter-widgets/controls",
      "_model_module_version": "1.5.0",
      "_model_name": "DescriptionStyleModel",
      "_view_count": null,
      "_view_module": "@jupyter-widgets/base",
      "_view_module_version": "1.2.0",
      "_view_name": "StyleView",
      "description_width": ""
     }
    },
    "08b8fedf02e34456b8440587210bb67e": {
     "model_module": "@jupyter-widgets/base",
     "model_module_version": "1.2.0",
     "model_name": "LayoutModel",
     "state": {
      "_model_module": "@jupyter-widgets/base",
      "_model_module_version": "1.2.0",
      "_model_name": "LayoutModel",
      "_view_count": null,
      "_view_module": "@jupyter-widgets/base",
      "_view_module_version": "1.2.0",
      "_view_name": "LayoutView",
      "align_content": null,
      "align_items": null,
      "align_self": null,
      "border": null,
      "bottom": null,
      "display": "inline-flex",
      "flex": null,
      "flex_flow": "row wrap",
      "grid_area": null,
      "grid_auto_columns": null,
      "grid_auto_flow": null,
      "grid_auto_rows": null,
      "grid_column": null,
      "grid_gap": null,
      "grid_row": null,
      "grid_template_areas": null,
      "grid_template_columns": null,
      "grid_template_rows": null,
      "height": null,
      "justify_content": null,
      "justify_items": null,
      "left": null,
      "margin": null,
      "max_height": null,
      "max_width": null,
      "min_height": null,
      "min_width": null,
      "object_fit": null,
      "object_position": null,
      "order": null,
      "overflow": null,
      "overflow_x": null,
      "overflow_y": null,
      "padding": null,
      "right": null,
      "top": null,
      "visibility": null,
      "width": "100%"
     }
    },
    "0a4b05d8e69d4a1888b8d8d8cf39aae6": {
     "model_module": "@jupyter-widgets/controls",
     "model_module_version": "1.5.0",
     "model_name": "HBoxModel",
     "state": {
      "_dom_classes": [],
      "_model_module": "@jupyter-widgets/controls",
      "_model_module_version": "1.5.0",
      "_model_name": "HBoxModel",
      "_view_count": null,
      "_view_module": "@jupyter-widgets/controls",
      "_view_module_version": "1.5.0",
      "_view_name": "HBoxView",
      "box_style": "",
      "children": [
       "IPY_MODEL_c66dfa1d75ee45f19e3504e604b64c33",
       "IPY_MODEL_f6ccea68639642808f849dc1d167f30c",
       "IPY_MODEL_211bba4ac09d44b8a22f63212eaac275"
      ],
      "layout": "IPY_MODEL_cc4880b06b224ff7bd0905a0fac5c470"
     }
    },
    "0cc30e3ab0f14098beb53b8f021bf4a4": {
     "model_module": "@jupyter-widgets/base",
     "model_module_version": "1.2.0",
     "model_name": "LayoutModel",
     "state": {
      "_model_module": "@jupyter-widgets/base",
      "_model_module_version": "1.2.0",
      "_model_name": "LayoutModel",
      "_view_count": null,
      "_view_module": "@jupyter-widgets/base",
      "_view_module_version": "1.2.0",
      "_view_name": "LayoutView",
      "align_content": null,
      "align_items": null,
      "align_self": null,
      "border": null,
      "bottom": null,
      "display": null,
      "flex": null,
      "flex_flow": null,
      "grid_area": null,
      "grid_auto_columns": null,
      "grid_auto_flow": null,
      "grid_auto_rows": null,
      "grid_column": null,
      "grid_gap": null,
      "grid_row": null,
      "grid_template_areas": null,
      "grid_template_columns": null,
      "grid_template_rows": null,
      "height": null,
      "justify_content": null,
      "justify_items": null,
      "left": null,
      "margin": null,
      "max_height": null,
      "max_width": null,
      "min_height": null,
      "min_width": null,
      "object_fit": null,
      "object_position": null,
      "order": null,
      "overflow": null,
      "overflow_x": null,
      "overflow_y": null,
      "padding": null,
      "right": null,
      "top": null,
      "visibility": null,
      "width": null
     }
    },
    "0dea5b1b79ae435e9045c9ba24a408d8": {
     "model_module": "@jupyter-widgets/base",
     "model_module_version": "1.2.0",
     "model_name": "LayoutModel",
     "state": {
      "_model_module": "@jupyter-widgets/base",
      "_model_module_version": "1.2.0",
      "_model_name": "LayoutModel",
      "_view_count": null,
      "_view_module": "@jupyter-widgets/base",
      "_view_module_version": "1.2.0",
      "_view_name": "LayoutView",
      "align_content": null,
      "align_items": null,
      "align_self": null,
      "border": null,
      "bottom": null,
      "display": null,
      "flex": null,
      "flex_flow": null,
      "grid_area": null,
      "grid_auto_columns": null,
      "grid_auto_flow": null,
      "grid_auto_rows": null,
      "grid_column": null,
      "grid_gap": null,
      "grid_row": null,
      "grid_template_areas": null,
      "grid_template_columns": null,
      "grid_template_rows": null,
      "height": null,
      "justify_content": null,
      "justify_items": null,
      "left": null,
      "margin": null,
      "max_height": null,
      "max_width": null,
      "min_height": null,
      "min_width": null,
      "object_fit": null,
      "object_position": null,
      "order": null,
      "overflow": null,
      "overflow_x": null,
      "overflow_y": null,
      "padding": null,
      "right": null,
      "top": null,
      "visibility": null,
      "width": null
     }
    },
    "0f2bdf56550e4d05878bc0d3509fd8d8": {
     "model_module": "@jupyter-widgets/base",
     "model_module_version": "1.2.0",
     "model_name": "LayoutModel",
     "state": {
      "_model_module": "@jupyter-widgets/base",
      "_model_module_version": "1.2.0",
      "_model_name": "LayoutModel",
      "_view_count": null,
      "_view_module": "@jupyter-widgets/base",
      "_view_module_version": "1.2.0",
      "_view_name": "LayoutView",
      "align_content": null,
      "align_items": null,
      "align_self": null,
      "border": null,
      "bottom": null,
      "display": null,
      "flex": null,
      "flex_flow": null,
      "grid_area": null,
      "grid_auto_columns": null,
      "grid_auto_flow": null,
      "grid_auto_rows": null,
      "grid_column": null,
      "grid_gap": null,
      "grid_row": null,
      "grid_template_areas": null,
      "grid_template_columns": null,
      "grid_template_rows": null,
      "height": null,
      "justify_content": null,
      "justify_items": null,
      "left": null,
      "margin": null,
      "max_height": null,
      "max_width": null,
      "min_height": null,
      "min_width": null,
      "object_fit": null,
      "object_position": null,
      "order": null,
      "overflow": null,
      "overflow_x": null,
      "overflow_y": null,
      "padding": null,
      "right": null,
      "top": null,
      "visibility": null,
      "width": null
     }
    },
    "0fbb9d2470914fc18b92f74d9a4cf90a": {
     "model_module": "@jupyter-widgets/base",
     "model_module_version": "1.2.0",
     "model_name": "LayoutModel",
     "state": {
      "_model_module": "@jupyter-widgets/base",
      "_model_module_version": "1.2.0",
      "_model_name": "LayoutModel",
      "_view_count": null,
      "_view_module": "@jupyter-widgets/base",
      "_view_module_version": "1.2.0",
      "_view_name": "LayoutView",
      "align_content": null,
      "align_items": null,
      "align_self": null,
      "border": null,
      "bottom": null,
      "display": null,
      "flex": null,
      "flex_flow": null,
      "grid_area": null,
      "grid_auto_columns": null,
      "grid_auto_flow": null,
      "grid_auto_rows": null,
      "grid_column": null,
      "grid_gap": null,
      "grid_row": null,
      "grid_template_areas": null,
      "grid_template_columns": null,
      "grid_template_rows": null,
      "height": null,
      "justify_content": null,
      "justify_items": null,
      "left": null,
      "margin": null,
      "max_height": null,
      "max_width": null,
      "min_height": null,
      "min_width": null,
      "object_fit": null,
      "object_position": null,
      "order": null,
      "overflow": null,
      "overflow_x": null,
      "overflow_y": null,
      "padding": null,
      "right": null,
      "top": null,
      "visibility": null,
      "width": null
     }
    },
    "14ff761b04a643db806b6094758c74c5": {
     "model_module": "@jupyter-widgets/base",
     "model_module_version": "1.2.0",
     "model_name": "LayoutModel",
     "state": {
      "_model_module": "@jupyter-widgets/base",
      "_model_module_version": "1.2.0",
      "_model_name": "LayoutModel",
      "_view_count": null,
      "_view_module": "@jupyter-widgets/base",
      "_view_module_version": "1.2.0",
      "_view_name": "LayoutView",
      "align_content": null,
      "align_items": null,
      "align_self": null,
      "border": null,
      "bottom": null,
      "display": "inline-flex",
      "flex": null,
      "flex_flow": "row wrap",
      "grid_area": null,
      "grid_auto_columns": null,
      "grid_auto_flow": null,
      "grid_auto_rows": null,
      "grid_column": null,
      "grid_gap": null,
      "grid_row": null,
      "grid_template_areas": null,
      "grid_template_columns": null,
      "grid_template_rows": null,
      "height": null,
      "justify_content": null,
      "justify_items": null,
      "left": null,
      "margin": null,
      "max_height": null,
      "max_width": null,
      "min_height": null,
      "min_width": null,
      "object_fit": null,
      "object_position": null,
      "order": null,
      "overflow": null,
      "overflow_x": null,
      "overflow_y": null,
      "padding": null,
      "right": null,
      "top": null,
      "visibility": null,
      "width": "100%"
     }
    },
    "1577b7f5b83a4a2781d6d05ba6d3d7e6": {
     "model_module": "@jupyter-widgets/controls",
     "model_module_version": "1.5.0",
     "model_name": "DescriptionStyleModel",
     "state": {
      "_model_module": "@jupyter-widgets/controls",
      "_model_module_version": "1.5.0",
      "_model_name": "DescriptionStyleModel",
      "_view_count": null,
      "_view_module": "@jupyter-widgets/base",
      "_view_module_version": "1.2.0",
      "_view_name": "StyleView",
      "description_width": ""
     }
    },
    "180d0692e52042ea937a6af099f9d218": {
     "model_module": "@jupyter-widgets/base",
     "model_module_version": "1.2.0",
     "model_name": "LayoutModel",
     "state": {
      "_model_module": "@jupyter-widgets/base",
      "_model_module_version": "1.2.0",
      "_model_name": "LayoutModel",
      "_view_count": null,
      "_view_module": "@jupyter-widgets/base",
      "_view_module_version": "1.2.0",
      "_view_name": "LayoutView",
      "align_content": null,
      "align_items": null,
      "align_self": null,
      "border": null,
      "bottom": null,
      "display": null,
      "flex": "2",
      "flex_flow": null,
      "grid_area": null,
      "grid_auto_columns": null,
      "grid_auto_flow": null,
      "grid_auto_rows": null,
      "grid_column": null,
      "grid_gap": null,
      "grid_row": null,
      "grid_template_areas": null,
      "grid_template_columns": null,
      "grid_template_rows": null,
      "height": null,
      "justify_content": null,
      "justify_items": null,
      "left": null,
      "margin": null,
      "max_height": null,
      "max_width": null,
      "min_height": null,
      "min_width": null,
      "object_fit": null,
      "object_position": null,
      "order": null,
      "overflow": null,
      "overflow_x": null,
      "overflow_y": null,
      "padding": null,
      "right": null,
      "top": null,
      "visibility": null,
      "width": null
     }
    },
    "1a1f31d4730b4f279946602124ea818c": {
     "model_module": "@jupyter-widgets/base",
     "model_module_version": "1.2.0",
     "model_name": "LayoutModel",
     "state": {
      "_model_module": "@jupyter-widgets/base",
      "_model_module_version": "1.2.0",
      "_model_name": "LayoutModel",
      "_view_count": null,
      "_view_module": "@jupyter-widgets/base",
      "_view_module_version": "1.2.0",
      "_view_name": "LayoutView",
      "align_content": null,
      "align_items": null,
      "align_self": null,
      "border": null,
      "bottom": null,
      "display": "inline-flex",
      "flex": null,
      "flex_flow": "row wrap",
      "grid_area": null,
      "grid_auto_columns": null,
      "grid_auto_flow": null,
      "grid_auto_rows": null,
      "grid_column": null,
      "grid_gap": null,
      "grid_row": null,
      "grid_template_areas": null,
      "grid_template_columns": null,
      "grid_template_rows": null,
      "height": null,
      "justify_content": null,
      "justify_items": null,
      "left": null,
      "margin": null,
      "max_height": null,
      "max_width": null,
      "min_height": null,
      "min_width": null,
      "object_fit": null,
      "object_position": null,
      "order": null,
      "overflow": null,
      "overflow_x": null,
      "overflow_y": null,
      "padding": null,
      "right": null,
      "top": null,
      "visibility": null,
      "width": "100%"
     }
    },
    "1b86a36e41e84046902fba0643b3693e": {
     "model_module": "@jupyter-widgets/controls",
     "model_module_version": "1.5.0",
     "model_name": "HTMLModel",
     "state": {
      "_dom_classes": [],
      "_model_module": "@jupyter-widgets/controls",
      "_model_module_version": "1.5.0",
      "_model_name": "HTMLModel",
      "_view_count": null,
      "_view_module": "@jupyter-widgets/controls",
      "_view_module_version": "1.5.0",
      "_view_name": "HTMLView",
      "description": "",
      "description_tooltip": null,
      "layout": "IPY_MODEL_0fbb9d2470914fc18b92f74d9a4cf90a",
      "placeholder": "​",
      "style": "IPY_MODEL_4d57825a780b40af9322d39a72ef5a3e",
      "value": " 168/168 [00:20&lt;00:00,  8.37it/s]"
     }
    },
    "1b87cf549d3e461d8c284128ed96f004": {
     "model_module": "@jupyter-widgets/controls",
     "model_module_version": "1.5.0",
     "model_name": "ProgressStyleModel",
     "state": {
      "_model_module": "@jupyter-widgets/controls",
      "_model_module_version": "1.5.0",
      "_model_name": "ProgressStyleModel",
      "_view_count": null,
      "_view_module": "@jupyter-widgets/base",
      "_view_module_version": "1.2.0",
      "_view_name": "StyleView",
      "bar_color": null,
      "description_width": ""
     }
    },
    "1de4655c1b7b4e30bdfd932f57965757": {
     "model_module": "@jupyter-widgets/base",
     "model_module_version": "1.2.0",
     "model_name": "LayoutModel",
     "state": {
      "_model_module": "@jupyter-widgets/base",
      "_model_module_version": "1.2.0",
      "_model_name": "LayoutModel",
      "_view_count": null,
      "_view_module": "@jupyter-widgets/base",
      "_view_module_version": "1.2.0",
      "_view_name": "LayoutView",
      "align_content": null,
      "align_items": null,
      "align_self": null,
      "border": null,
      "bottom": null,
      "display": null,
      "flex": null,
      "flex_flow": null,
      "grid_area": null,
      "grid_auto_columns": null,
      "grid_auto_flow": null,
      "grid_auto_rows": null,
      "grid_column": null,
      "grid_gap": null,
      "grid_row": null,
      "grid_template_areas": null,
      "grid_template_columns": null,
      "grid_template_rows": null,
      "height": null,
      "justify_content": null,
      "justify_items": null,
      "left": null,
      "margin": null,
      "max_height": null,
      "max_width": null,
      "min_height": null,
      "min_width": null,
      "object_fit": null,
      "object_position": null,
      "order": null,
      "overflow": null,
      "overflow_x": null,
      "overflow_y": null,
      "padding": null,
      "right": null,
      "top": null,
      "visibility": null,
      "width": null
     }
    },
    "2113cc2082444f6289ddede17b5dad03": {
     "model_module": "@jupyter-widgets/controls",
     "model_module_version": "1.5.0",
     "model_name": "HBoxModel",
     "state": {
      "_dom_classes": [],
      "_model_module": "@jupyter-widgets/controls",
      "_model_module_version": "1.5.0",
      "_model_name": "HBoxModel",
      "_view_count": null,
      "_view_module": "@jupyter-widgets/controls",
      "_view_module_version": "1.5.0",
      "_view_name": "HBoxView",
      "box_style": "",
      "children": [
       "IPY_MODEL_eec70702467745f3bbb6e3366501b381",
       "IPY_MODEL_e144bf94a3b940938b8d46ebcf4f075e",
       "IPY_MODEL_f34e967bbcc24ba1a8773e208ca14821"
      ],
      "layout": "IPY_MODEL_6f9270bfffa245059fbb3bd63e4b3fbd"
     }
    },
    "211bba4ac09d44b8a22f63212eaac275": {
     "model_module": "@jupyter-widgets/controls",
     "model_module_version": "1.5.0",
     "model_name": "HTMLModel",
     "state": {
      "_dom_classes": [],
      "_model_module": "@jupyter-widgets/controls",
      "_model_module_version": "1.5.0",
      "_model_name": "HTMLModel",
      "_view_count": null,
      "_view_module": "@jupyter-widgets/controls",
      "_view_module_version": "1.5.0",
      "_view_name": "HTMLView",
      "description": "",
      "description_tooltip": null,
      "layout": "IPY_MODEL_4e12327ba0704f289ceb52116475b9b8",
      "placeholder": "​",
      "style": "IPY_MODEL_3ed1a469191a43e69a0588e0d545a873",
      "value": " 168/168 [00:19&lt;00:00,  8.61it/s]"
     }
    },
    "22afc7d9bae44b5985c941f6e1a0f087": {
     "model_module": "@jupyter-widgets/controls",
     "model_module_version": "1.5.0",
     "model_name": "DescriptionStyleModel",
     "state": {
      "_model_module": "@jupyter-widgets/controls",
      "_model_module_version": "1.5.0",
      "_model_name": "DescriptionStyleModel",
      "_view_count": null,
      "_view_module": "@jupyter-widgets/base",
      "_view_module_version": "1.2.0",
      "_view_name": "StyleView",
      "description_width": ""
     }
    },
    "28b982791d624906a8f39d4c913a6402": {
     "model_module": "@jupyter-widgets/controls",
     "model_module_version": "1.5.0",
     "model_name": "HTMLModel",
     "state": {
      "_dom_classes": [],
      "_model_module": "@jupyter-widgets/controls",
      "_model_module_version": "1.5.0",
      "_model_name": "HTMLModel",
      "_view_count": null,
      "_view_module": "@jupyter-widgets/controls",
      "_view_module_version": "1.5.0",
      "_view_name": "HTMLView",
      "description": "",
      "description_tooltip": null,
      "layout": "IPY_MODEL_a0295c85e08c4629b31eb190cc529507",
      "placeholder": "​",
      "style": "IPY_MODEL_015150a7da834168a8f965fa6c2fb871",
      "value": " 168/168 [00:19&lt;00:00,  8.87it/s]"
     }
    },
    "2913777bc8b042a8922781d94aa159b6": {
     "model_module": "@jupyter-widgets/controls",
     "model_module_version": "1.5.0",
     "model_name": "DescriptionStyleModel",
     "state": {
      "_model_module": "@jupyter-widgets/controls",
      "_model_module_version": "1.5.0",
      "_model_name": "DescriptionStyleModel",
      "_view_count": null,
      "_view_module": "@jupyter-widgets/base",
      "_view_module_version": "1.2.0",
      "_view_name": "StyleView",
      "description_width": ""
     }
    },
    "294038300ae841609f63c955cf166353": {
     "model_module": "@jupyter-widgets/controls",
     "model_module_version": "1.5.0",
     "model_name": "HTMLModel",
     "state": {
      "_dom_classes": [],
      "_model_module": "@jupyter-widgets/controls",
      "_model_module_version": "1.5.0",
      "_model_name": "HTMLModel",
      "_view_count": null,
      "_view_module": "@jupyter-widgets/controls",
      "_view_module_version": "1.5.0",
      "_view_name": "HTMLView",
      "description": "",
      "description_tooltip": null,
      "layout": "IPY_MODEL_1de4655c1b7b4e30bdfd932f57965757",
      "placeholder": "​",
      "style": "IPY_MODEL_41e074d515644932ab46a642caeb4592",
      "value": " 168/168 [00:20&lt;00:00,  8.42it/s]"
     }
    },
    "2b95cf25cd60400e9d6608b47259580e": {
     "model_module": "@jupyter-widgets/controls",
     "model_module_version": "1.5.0",
     "model_name": "DescriptionStyleModel",
     "state": {
      "_model_module": "@jupyter-widgets/controls",
      "_model_module_version": "1.5.0",
      "_model_name": "DescriptionStyleModel",
      "_view_count": null,
      "_view_module": "@jupyter-widgets/base",
      "_view_module_version": "1.2.0",
      "_view_name": "StyleView",
      "description_width": ""
     }
    },
    "2c265cc3f6904e229608866ad0caad17": {
     "model_module": "@jupyter-widgets/controls",
     "model_module_version": "1.5.0",
     "model_name": "DescriptionStyleModel",
     "state": {
      "_model_module": "@jupyter-widgets/controls",
      "_model_module_version": "1.5.0",
      "_model_name": "DescriptionStyleModel",
      "_view_count": null,
      "_view_module": "@jupyter-widgets/base",
      "_view_module_version": "1.2.0",
      "_view_name": "StyleView",
      "description_width": ""
     }
    },
    "30859fecc416472ebf78b7141318c78d": {
     "model_module": "@jupyter-widgets/controls",
     "model_module_version": "1.5.0",
     "model_name": "HTMLModel",
     "state": {
      "_dom_classes": [],
      "_model_module": "@jupyter-widgets/controls",
      "_model_module_version": "1.5.0",
      "_model_name": "HTMLModel",
      "_view_count": null,
      "_view_module": "@jupyter-widgets/controls",
      "_view_module_version": "1.5.0",
      "_view_name": "HTMLView",
      "description": "",
      "description_tooltip": null,
      "layout": "IPY_MODEL_a6060821418f4082b0c448cc709be8fd",
      "placeholder": "​",
      "style": "IPY_MODEL_c389765d404344d18f564f0bf1c8ea72",
      "value": "Validation DataLoader 0: 100%"
     }
    },
    "32e28933abde4eaf81068008ae78c89a": {
     "model_module": "@jupyter-widgets/base",
     "model_module_version": "1.2.0",
     "model_name": "LayoutModel",
     "state": {
      "_model_module": "@jupyter-widgets/base",
      "_model_module_version": "1.2.0",
      "_model_name": "LayoutModel",
      "_view_count": null,
      "_view_module": "@jupyter-widgets/base",
      "_view_module_version": "1.2.0",
      "_view_name": "LayoutView",
      "align_content": null,
      "align_items": null,
      "align_self": null,
      "border": null,
      "bottom": null,
      "display": null,
      "flex": null,
      "flex_flow": null,
      "grid_area": null,
      "grid_auto_columns": null,
      "grid_auto_flow": null,
      "grid_auto_rows": null,
      "grid_column": null,
      "grid_gap": null,
      "grid_row": null,
      "grid_template_areas": null,
      "grid_template_columns": null,
      "grid_template_rows": null,
      "height": null,
      "justify_content": null,
      "justify_items": null,
      "left": null,
      "margin": null,
      "max_height": null,
      "max_width": null,
      "min_height": null,
      "min_width": null,
      "object_fit": null,
      "object_position": null,
      "order": null,
      "overflow": null,
      "overflow_x": null,
      "overflow_y": null,
      "padding": null,
      "right": null,
      "top": null,
      "visibility": null,
      "width": null
     }
    },
    "35e18e0429094d19953e7df707729314": {
     "model_module": "@jupyter-widgets/controls",
     "model_module_version": "1.5.0",
     "model_name": "FloatProgressModel",
     "state": {
      "_dom_classes": [],
      "_model_module": "@jupyter-widgets/controls",
      "_model_module_version": "1.5.0",
      "_model_name": "FloatProgressModel",
      "_view_count": null,
      "_view_module": "@jupyter-widgets/controls",
      "_view_module_version": "1.5.0",
      "_view_name": "ProgressView",
      "bar_style": "",
      "description": "",
      "description_tooltip": null,
      "layout": "IPY_MODEL_180d0692e52042ea937a6af099f9d218",
      "max": 2,
      "min": 0,
      "orientation": "horizontal",
      "style": "IPY_MODEL_a22e178693cd4fe4ab3b0cce3a1acb93",
      "value": 2
     }
    },
    "3682857929294f14bd4eb8cce7d2aa0f": {
     "model_module": "@jupyter-widgets/controls",
     "model_module_version": "1.5.0",
     "model_name": "ProgressStyleModel",
     "state": {
      "_model_module": "@jupyter-widgets/controls",
      "_model_module_version": "1.5.0",
      "_model_name": "ProgressStyleModel",
      "_view_count": null,
      "_view_module": "@jupyter-widgets/base",
      "_view_module_version": "1.2.0",
      "_view_name": "StyleView",
      "bar_color": null,
      "description_width": ""
     }
    },
    "3afaf559685d43ea9dfd69a7b50c107c": {
     "model_module": "@jupyter-widgets/base",
     "model_module_version": "1.2.0",
     "model_name": "LayoutModel",
     "state": {
      "_model_module": "@jupyter-widgets/base",
      "_model_module_version": "1.2.0",
      "_model_name": "LayoutModel",
      "_view_count": null,
      "_view_module": "@jupyter-widgets/base",
      "_view_module_version": "1.2.0",
      "_view_name": "LayoutView",
      "align_content": null,
      "align_items": null,
      "align_self": null,
      "border": null,
      "bottom": null,
      "display": "inline-flex",
      "flex": null,
      "flex_flow": "row wrap",
      "grid_area": null,
      "grid_auto_columns": null,
      "grid_auto_flow": null,
      "grid_auto_rows": null,
      "grid_column": null,
      "grid_gap": null,
      "grid_row": null,
      "grid_template_areas": null,
      "grid_template_columns": null,
      "grid_template_rows": null,
      "height": null,
      "justify_content": null,
      "justify_items": null,
      "left": null,
      "margin": null,
      "max_height": null,
      "max_width": null,
      "min_height": null,
      "min_width": null,
      "object_fit": null,
      "object_position": null,
      "order": null,
      "overflow": null,
      "overflow_x": null,
      "overflow_y": null,
      "padding": null,
      "right": null,
      "top": null,
      "visibility": null,
      "width": "100%"
     }
    },
    "3c78b0bef53b407a99f16891a654cecb": {
     "model_module": "@jupyter-widgets/base",
     "model_module_version": "1.2.0",
     "model_name": "LayoutModel",
     "state": {
      "_model_module": "@jupyter-widgets/base",
      "_model_module_version": "1.2.0",
      "_model_name": "LayoutModel",
      "_view_count": null,
      "_view_module": "@jupyter-widgets/base",
      "_view_module_version": "1.2.0",
      "_view_name": "LayoutView",
      "align_content": null,
      "align_items": null,
      "align_self": null,
      "border": null,
      "bottom": null,
      "display": null,
      "flex": null,
      "flex_flow": null,
      "grid_area": null,
      "grid_auto_columns": null,
      "grid_auto_flow": null,
      "grid_auto_rows": null,
      "grid_column": null,
      "grid_gap": null,
      "grid_row": null,
      "grid_template_areas": null,
      "grid_template_columns": null,
      "grid_template_rows": null,
      "height": null,
      "justify_content": null,
      "justify_items": null,
      "left": null,
      "margin": null,
      "max_height": null,
      "max_width": null,
      "min_height": null,
      "min_width": null,
      "object_fit": null,
      "object_position": null,
      "order": null,
      "overflow": null,
      "overflow_x": null,
      "overflow_y": null,
      "padding": null,
      "right": null,
      "top": null,
      "visibility": null,
      "width": null
     }
    },
    "3ed1a469191a43e69a0588e0d545a873": {
     "model_module": "@jupyter-widgets/controls",
     "model_module_version": "1.5.0",
     "model_name": "DescriptionStyleModel",
     "state": {
      "_model_module": "@jupyter-widgets/controls",
      "_model_module_version": "1.5.0",
      "_model_name": "DescriptionStyleModel",
      "_view_count": null,
      "_view_module": "@jupyter-widgets/base",
      "_view_module_version": "1.2.0",
      "_view_name": "StyleView",
      "description_width": ""
     }
    },
    "41e074d515644932ab46a642caeb4592": {
     "model_module": "@jupyter-widgets/controls",
     "model_module_version": "1.5.0",
     "model_name": "DescriptionStyleModel",
     "state": {
      "_model_module": "@jupyter-widgets/controls",
      "_model_module_version": "1.5.0",
      "_model_name": "DescriptionStyleModel",
      "_view_count": null,
      "_view_module": "@jupyter-widgets/base",
      "_view_module_version": "1.2.0",
      "_view_name": "StyleView",
      "description_width": ""
     }
    },
    "426620ef651547cba3a4120ada893f52": {
     "model_module": "@jupyter-widgets/base",
     "model_module_version": "1.2.0",
     "model_name": "LayoutModel",
     "state": {
      "_model_module": "@jupyter-widgets/base",
      "_model_module_version": "1.2.0",
      "_model_name": "LayoutModel",
      "_view_count": null,
      "_view_module": "@jupyter-widgets/base",
      "_view_module_version": "1.2.0",
      "_view_name": "LayoutView",
      "align_content": null,
      "align_items": null,
      "align_self": null,
      "border": null,
      "bottom": null,
      "display": null,
      "flex": null,
      "flex_flow": null,
      "grid_area": null,
      "grid_auto_columns": null,
      "grid_auto_flow": null,
      "grid_auto_rows": null,
      "grid_column": null,
      "grid_gap": null,
      "grid_row": null,
      "grid_template_areas": null,
      "grid_template_columns": null,
      "grid_template_rows": null,
      "height": null,
      "justify_content": null,
      "justify_items": null,
      "left": null,
      "margin": null,
      "max_height": null,
      "max_width": null,
      "min_height": null,
      "min_width": null,
      "object_fit": null,
      "object_position": null,
      "order": null,
      "overflow": null,
      "overflow_x": null,
      "overflow_y": null,
      "padding": null,
      "right": null,
      "top": null,
      "visibility": null,
      "width": null
     }
    },
    "42be485590494413b153376757efeec6": {
     "model_module": "@jupyter-widgets/controls",
     "model_module_version": "1.5.0",
     "model_name": "HTMLModel",
     "state": {
      "_dom_classes": [],
      "_model_module": "@jupyter-widgets/controls",
      "_model_module_version": "1.5.0",
      "_model_name": "HTMLModel",
      "_view_count": null,
      "_view_module": "@jupyter-widgets/controls",
      "_view_module_version": "1.5.0",
      "_view_name": "HTMLView",
      "description": "",
      "description_tooltip": null,
      "layout": "IPY_MODEL_e957671e715048dea0dd00b43f42776e",
      "placeholder": "​",
      "style": "IPY_MODEL_2b95cf25cd60400e9d6608b47259580e",
      "value": " 630/630 [02:32&lt;00:00,  4.14it/s, loss=0.519, v_num=0]"
     }
    },
    "4376bb07e5c0450a92d2cd867c03ec80": {
     "model_module": "@jupyter-widgets/base",
     "model_module_version": "1.2.0",
     "model_name": "LayoutModel",
     "state": {
      "_model_module": "@jupyter-widgets/base",
      "_model_module_version": "1.2.0",
      "_model_name": "LayoutModel",
      "_view_count": null,
      "_view_module": "@jupyter-widgets/base",
      "_view_module_version": "1.2.0",
      "_view_name": "LayoutView",
      "align_content": null,
      "align_items": null,
      "align_self": null,
      "border": null,
      "bottom": null,
      "display": null,
      "flex": null,
      "flex_flow": null,
      "grid_area": null,
      "grid_auto_columns": null,
      "grid_auto_flow": null,
      "grid_auto_rows": null,
      "grid_column": null,
      "grid_gap": null,
      "grid_row": null,
      "grid_template_areas": null,
      "grid_template_columns": null,
      "grid_template_rows": null,
      "height": null,
      "justify_content": null,
      "justify_items": null,
      "left": null,
      "margin": null,
      "max_height": null,
      "max_width": null,
      "min_height": null,
      "min_width": null,
      "object_fit": null,
      "object_position": null,
      "order": null,
      "overflow": null,
      "overflow_x": null,
      "overflow_y": null,
      "padding": null,
      "right": null,
      "top": null,
      "visibility": null,
      "width": null
     }
    },
    "4833987b0a47424d94a6ee17323a6d1b": {
     "model_module": "@jupyter-widgets/base",
     "model_module_version": "1.2.0",
     "model_name": "LayoutModel",
     "state": {
      "_model_module": "@jupyter-widgets/base",
      "_model_module_version": "1.2.0",
      "_model_name": "LayoutModel",
      "_view_count": null,
      "_view_module": "@jupyter-widgets/base",
      "_view_module_version": "1.2.0",
      "_view_name": "LayoutView",
      "align_content": null,
      "align_items": null,
      "align_self": null,
      "border": null,
      "bottom": null,
      "display": null,
      "flex": "2",
      "flex_flow": null,
      "grid_area": null,
      "grid_auto_columns": null,
      "grid_auto_flow": null,
      "grid_auto_rows": null,
      "grid_column": null,
      "grid_gap": null,
      "grid_row": null,
      "grid_template_areas": null,
      "grid_template_columns": null,
      "grid_template_rows": null,
      "height": null,
      "justify_content": null,
      "justify_items": null,
      "left": null,
      "margin": null,
      "max_height": null,
      "max_width": null,
      "min_height": null,
      "min_width": null,
      "object_fit": null,
      "object_position": null,
      "order": null,
      "overflow": null,
      "overflow_x": null,
      "overflow_y": null,
      "padding": null,
      "right": null,
      "top": null,
      "visibility": null,
      "width": null
     }
    },
    "4d57825a780b40af9322d39a72ef5a3e": {
     "model_module": "@jupyter-widgets/controls",
     "model_module_version": "1.5.0",
     "model_name": "DescriptionStyleModel",
     "state": {
      "_model_module": "@jupyter-widgets/controls",
      "_model_module_version": "1.5.0",
      "_model_name": "DescriptionStyleModel",
      "_view_count": null,
      "_view_module": "@jupyter-widgets/base",
      "_view_module_version": "1.2.0",
      "_view_name": "StyleView",
      "description_width": ""
     }
    },
    "4deef91476ca45838dc8a57d4f49c873": {
     "model_module": "@jupyter-widgets/controls",
     "model_module_version": "1.5.0",
     "model_name": "HTMLModel",
     "state": {
      "_dom_classes": [],
      "_model_module": "@jupyter-widgets/controls",
      "_model_module_version": "1.5.0",
      "_model_name": "HTMLModel",
      "_view_count": null,
      "_view_module": "@jupyter-widgets/controls",
      "_view_module_version": "1.5.0",
      "_view_name": "HTMLView",
      "description": "",
      "description_tooltip": null,
      "layout": "IPY_MODEL_916de681c9884d0583afbce4515d16df",
      "placeholder": "​",
      "style": "IPY_MODEL_bdf8a7be4b074592a60e0c91b50c867b",
      "value": "Epoch 9: 100%"
     }
    },
    "4e12327ba0704f289ceb52116475b9b8": {
     "model_module": "@jupyter-widgets/base",
     "model_module_version": "1.2.0",
     "model_name": "LayoutModel",
     "state": {
      "_model_module": "@jupyter-widgets/base",
      "_model_module_version": "1.2.0",
      "_model_name": "LayoutModel",
      "_view_count": null,
      "_view_module": "@jupyter-widgets/base",
      "_view_module_version": "1.2.0",
      "_view_name": "LayoutView",
      "align_content": null,
      "align_items": null,
      "align_self": null,
      "border": null,
      "bottom": null,
      "display": null,
      "flex": null,
      "flex_flow": null,
      "grid_area": null,
      "grid_auto_columns": null,
      "grid_auto_flow": null,
      "grid_auto_rows": null,
      "grid_column": null,
      "grid_gap": null,
      "grid_row": null,
      "grid_template_areas": null,
      "grid_template_columns": null,
      "grid_template_rows": null,
      "height": null,
      "justify_content": null,
      "justify_items": null,
      "left": null,
      "margin": null,
      "max_height": null,
      "max_width": null,
      "min_height": null,
      "min_width": null,
      "object_fit": null,
      "object_position": null,
      "order": null,
      "overflow": null,
      "overflow_x": null,
      "overflow_y": null,
      "padding": null,
      "right": null,
      "top": null,
      "visibility": null,
      "width": null
     }
    },
    "51c3b291226f46c8b8437cd2052af461": {
     "model_module": "@jupyter-widgets/base",
     "model_module_version": "1.2.0",
     "model_name": "LayoutModel",
     "state": {
      "_model_module": "@jupyter-widgets/base",
      "_model_module_version": "1.2.0",
      "_model_name": "LayoutModel",
      "_view_count": null,
      "_view_module": "@jupyter-widgets/base",
      "_view_module_version": "1.2.0",
      "_view_name": "LayoutView",
      "align_content": null,
      "align_items": null,
      "align_self": null,
      "border": null,
      "bottom": null,
      "display": null,
      "flex": "2",
      "flex_flow": null,
      "grid_area": null,
      "grid_auto_columns": null,
      "grid_auto_flow": null,
      "grid_auto_rows": null,
      "grid_column": null,
      "grid_gap": null,
      "grid_row": null,
      "grid_template_areas": null,
      "grid_template_columns": null,
      "grid_template_rows": null,
      "height": null,
      "justify_content": null,
      "justify_items": null,
      "left": null,
      "margin": null,
      "max_height": null,
      "max_width": null,
      "min_height": null,
      "min_width": null,
      "object_fit": null,
      "object_position": null,
      "order": null,
      "overflow": null,
      "overflow_x": null,
      "overflow_y": null,
      "padding": null,
      "right": null,
      "top": null,
      "visibility": null,
      "width": null
     }
    },
    "578ff14de37842559dbd100fb2a8a878": {
     "model_module": "@jupyter-widgets/controls",
     "model_module_version": "1.5.0",
     "model_name": "ProgressStyleModel",
     "state": {
      "_model_module": "@jupyter-widgets/controls",
      "_model_module_version": "1.5.0",
      "_model_name": "ProgressStyleModel",
      "_view_count": null,
      "_view_module": "@jupyter-widgets/base",
      "_view_module_version": "1.2.0",
      "_view_name": "StyleView",
      "bar_color": null,
      "description_width": ""
     }
    },
    "58201c95799449d1be56721ba96dd7f1": {
     "model_module": "@jupyter-widgets/controls",
     "model_module_version": "1.5.0",
     "model_name": "HTMLModel",
     "state": {
      "_dom_classes": [],
      "_model_module": "@jupyter-widgets/controls",
      "_model_module_version": "1.5.0",
      "_model_name": "HTMLModel",
      "_view_count": null,
      "_view_module": "@jupyter-widgets/controls",
      "_view_module_version": "1.5.0",
      "_view_name": "HTMLView",
      "description": "",
      "description_tooltip": null,
      "layout": "IPY_MODEL_749e36f01a454a0dab5df08d5dbc3870",
      "placeholder": "​",
      "style": "IPY_MODEL_b5e9c588ed5847869457790ef11bd1a1",
      "value": "Validation DataLoader 0: 100%"
     }
    },
    "5c837483e5774616a2f4c277f8e08c6a": {
     "model_module": "@jupyter-widgets/controls",
     "model_module_version": "1.5.0",
     "model_name": "FloatProgressModel",
     "state": {
      "_dom_classes": [],
      "_model_module": "@jupyter-widgets/controls",
      "_model_module_version": "1.5.0",
      "_model_name": "FloatProgressModel",
      "_view_count": null,
      "_view_module": "@jupyter-widgets/controls",
      "_view_module_version": "1.5.0",
      "_view_name": "ProgressView",
      "bar_style": "",
      "description": "",
      "description_tooltip": null,
      "layout": "IPY_MODEL_51c3b291226f46c8b8437cd2052af461",
      "max": 168,
      "min": 0,
      "orientation": "horizontal",
      "style": "IPY_MODEL_fdafa902fb454b79b45da2994f48789b",
      "value": 168
     }
    },
    "5c8500d2aa304ccf964f500e1fec226f": {
     "model_module": "@jupyter-widgets/base",
     "model_module_version": "1.2.0",
     "model_name": "LayoutModel",
     "state": {
      "_model_module": "@jupyter-widgets/base",
      "_model_module_version": "1.2.0",
      "_model_name": "LayoutModel",
      "_view_count": null,
      "_view_module": "@jupyter-widgets/base",
      "_view_module_version": "1.2.0",
      "_view_name": "LayoutView",
      "align_content": null,
      "align_items": null,
      "align_self": null,
      "border": null,
      "bottom": null,
      "display": null,
      "flex": null,
      "flex_flow": null,
      "grid_area": null,
      "grid_auto_columns": null,
      "grid_auto_flow": null,
      "grid_auto_rows": null,
      "grid_column": null,
      "grid_gap": null,
      "grid_row": null,
      "grid_template_areas": null,
      "grid_template_columns": null,
      "grid_template_rows": null,
      "height": null,
      "justify_content": null,
      "justify_items": null,
      "left": null,
      "margin": null,
      "max_height": null,
      "max_width": null,
      "min_height": null,
      "min_width": null,
      "object_fit": null,
      "object_position": null,
      "order": null,
      "overflow": null,
      "overflow_x": null,
      "overflow_y": null,
      "padding": null,
      "right": null,
      "top": null,
      "visibility": null,
      "width": null
     }
    },
    "5d674ec8c6e5447cbd73db32539495ae": {
     "model_module": "@jupyter-widgets/controls",
     "model_module_version": "1.5.0",
     "model_name": "HBoxModel",
     "state": {
      "_dom_classes": [],
      "_model_module": "@jupyter-widgets/controls",
      "_model_module_version": "1.5.0",
      "_model_name": "HBoxModel",
      "_view_count": null,
      "_view_module": "@jupyter-widgets/controls",
      "_view_module_version": "1.5.0",
      "_view_name": "HBoxView",
      "box_style": "",
      "children": [
       "IPY_MODEL_c56ea69761f4440ca4751d8aef94215c",
       "IPY_MODEL_db0c6239320248fcb077080bba2b43ff",
       "IPY_MODEL_1b86a36e41e84046902fba0643b3693e"
      ],
      "layout": "IPY_MODEL_14ff761b04a643db806b6094758c74c5"
     }
    },
    "5e00c570c1d142f9a24e7dcde4f40b15": {
     "model_module": "@jupyter-widgets/controls",
     "model_module_version": "1.5.0",
     "model_name": "HTMLModel",
     "state": {
      "_dom_classes": [],
      "_model_module": "@jupyter-widgets/controls",
      "_model_module_version": "1.5.0",
      "_model_name": "HTMLModel",
      "_view_count": null,
      "_view_module": "@jupyter-widgets/controls",
      "_view_module_version": "1.5.0",
      "_view_name": "HTMLView",
      "description": "",
      "description_tooltip": null,
      "layout": "IPY_MODEL_0dea5b1b79ae435e9045c9ba24a408d8",
      "placeholder": "​",
      "style": "IPY_MODEL_be47524af9ad41f3bf5d8e8048a9423a",
      "value": " 168/168 [00:20&lt;00:00,  8.43it/s]"
     }
    },
    "5e6ef7a1b9444b0a93ca860c8eefecfd": {
     "model_module": "@jupyter-widgets/controls",
     "model_module_version": "1.5.0",
     "model_name": "HTMLModel",
     "state": {
      "_dom_classes": [],
      "_model_module": "@jupyter-widgets/controls",
      "_model_module_version": "1.5.0",
      "_model_name": "HTMLModel",
      "_view_count": null,
      "_view_module": "@jupyter-widgets/controls",
      "_view_module_version": "1.5.0",
      "_view_name": "HTMLView",
      "description": "",
      "description_tooltip": null,
      "layout": "IPY_MODEL_ae279fe6a9d74185a1a71397796f8e55",
      "placeholder": "​",
      "style": "IPY_MODEL_8ca4b41863414777afe43e27f23fc35b",
      "value": " 168/168 [00:19&lt;00:00,  8.70it/s]"
     }
    },
    "601f1d4b4c5b442cbab58aae8898b971": {
     "model_module": "@jupyter-widgets/controls",
     "model_module_version": "1.5.0",
     "model_name": "DescriptionStyleModel",
     "state": {
      "_model_module": "@jupyter-widgets/controls",
      "_model_module_version": "1.5.0",
      "_model_name": "DescriptionStyleModel",
      "_view_count": null,
      "_view_module": "@jupyter-widgets/base",
      "_view_module_version": "1.2.0",
      "_view_name": "StyleView",
      "description_width": ""
     }
    },
    "61521ed72f4d4ee8860c0239e4199d8e": {
     "model_module": "@jupyter-widgets/base",
     "model_module_version": "1.2.0",
     "model_name": "LayoutModel",
     "state": {
      "_model_module": "@jupyter-widgets/base",
      "_model_module_version": "1.2.0",
      "_model_name": "LayoutModel",
      "_view_count": null,
      "_view_module": "@jupyter-widgets/base",
      "_view_module_version": "1.2.0",
      "_view_name": "LayoutView",
      "align_content": null,
      "align_items": null,
      "align_self": null,
      "border": null,
      "bottom": null,
      "display": null,
      "flex": null,
      "flex_flow": null,
      "grid_area": null,
      "grid_auto_columns": null,
      "grid_auto_flow": null,
      "grid_auto_rows": null,
      "grid_column": null,
      "grid_gap": null,
      "grid_row": null,
      "grid_template_areas": null,
      "grid_template_columns": null,
      "grid_template_rows": null,
      "height": null,
      "justify_content": null,
      "justify_items": null,
      "left": null,
      "margin": null,
      "max_height": null,
      "max_width": null,
      "min_height": null,
      "min_width": null,
      "object_fit": null,
      "object_position": null,
      "order": null,
      "overflow": null,
      "overflow_x": null,
      "overflow_y": null,
      "padding": null,
      "right": null,
      "top": null,
      "visibility": null,
      "width": null
     }
    },
    "61c8122f1057445fbc8663e71fcf7062": {
     "model_module": "@jupyter-widgets/controls",
     "model_module_version": "1.5.0",
     "model_name": "FloatProgressModel",
     "state": {
      "_dom_classes": [],
      "_model_module": "@jupyter-widgets/controls",
      "_model_module_version": "1.5.0",
      "_model_name": "FloatProgressModel",
      "_view_count": null,
      "_view_module": "@jupyter-widgets/controls",
      "_view_module_version": "1.5.0",
      "_view_name": "ProgressView",
      "bar_style": "",
      "description": "",
      "description_tooltip": null,
      "layout": "IPY_MODEL_e32885b9c87541e28477612a3bcdae7d",
      "max": 168,
      "min": 0,
      "orientation": "horizontal",
      "style": "IPY_MODEL_ee3fc742dba9418088188e7f2b9a72ea",
      "value": 168
     }
    },
    "637a9cd370cc486b8bf325769cfe0119": {
     "model_module": "@jupyter-widgets/controls",
     "model_module_version": "1.5.0",
     "model_name": "HBoxModel",
     "state": {
      "_dom_classes": [],
      "_model_module": "@jupyter-widgets/controls",
      "_model_module_version": "1.5.0",
      "_model_name": "HBoxModel",
      "_view_count": null,
      "_view_module": "@jupyter-widgets/controls",
      "_view_module_version": "1.5.0",
      "_view_name": "HBoxView",
      "box_style": "",
      "children": [
       "IPY_MODEL_f76bf9adafb64a05bd9c05fcae9bcb40",
       "IPY_MODEL_8c2a08f6dc014549a1de254c396deb6e",
       "IPY_MODEL_fd51d63c6d09495ebd3f3376dab52846"
      ],
      "layout": "IPY_MODEL_c945be769b8142ef8593056f0bbeceb3"
     }
    },
    "657e6eecca444f1a831f9e27d8377a5e": {
     "model_module": "@jupyter-widgets/base",
     "model_module_version": "1.2.0",
     "model_name": "LayoutModel",
     "state": {
      "_model_module": "@jupyter-widgets/base",
      "_model_module_version": "1.2.0",
      "_model_name": "LayoutModel",
      "_view_count": null,
      "_view_module": "@jupyter-widgets/base",
      "_view_module_version": "1.2.0",
      "_view_name": "LayoutView",
      "align_content": null,
      "align_items": null,
      "align_self": null,
      "border": null,
      "bottom": null,
      "display": null,
      "flex": null,
      "flex_flow": null,
      "grid_area": null,
      "grid_auto_columns": null,
      "grid_auto_flow": null,
      "grid_auto_rows": null,
      "grid_column": null,
      "grid_gap": null,
      "grid_row": null,
      "grid_template_areas": null,
      "grid_template_columns": null,
      "grid_template_rows": null,
      "height": null,
      "justify_content": null,
      "justify_items": null,
      "left": null,
      "margin": null,
      "max_height": null,
      "max_width": null,
      "min_height": null,
      "min_width": null,
      "object_fit": null,
      "object_position": null,
      "order": null,
      "overflow": null,
      "overflow_x": null,
      "overflow_y": null,
      "padding": null,
      "right": null,
      "top": null,
      "visibility": null,
      "width": null
     }
    },
    "657fedd2d11640be9e4c5893b66fdb58": {
     "model_module": "@jupyter-widgets/controls",
     "model_module_version": "1.5.0",
     "model_name": "DescriptionStyleModel",
     "state": {
      "_model_module": "@jupyter-widgets/controls",
      "_model_module_version": "1.5.0",
      "_model_name": "DescriptionStyleModel",
      "_view_count": null,
      "_view_module": "@jupyter-widgets/base",
      "_view_module_version": "1.2.0",
      "_view_name": "StyleView",
      "description_width": ""
     }
    },
    "674d5e086a4741dfb572a04a05dea5aa": {
     "model_module": "@jupyter-widgets/controls",
     "model_module_version": "1.5.0",
     "model_name": "HTMLModel",
     "state": {
      "_dom_classes": [],
      "_model_module": "@jupyter-widgets/controls",
      "_model_module_version": "1.5.0",
      "_model_name": "HTMLModel",
      "_view_count": null,
      "_view_module": "@jupyter-widgets/controls",
      "_view_module_version": "1.5.0",
      "_view_name": "HTMLView",
      "description": "",
      "description_tooltip": null,
      "layout": "IPY_MODEL_d6397ae7bb584219bdf3a6f0ec97ec67",
      "placeholder": "​",
      "style": "IPY_MODEL_22afc7d9bae44b5985c941f6e1a0f087",
      "value": " 2/2 [00:00&lt;00:00,  2.31it/s]"
     }
    },
    "69f41e813db140109f0a071626731168": {
     "model_module": "@jupyter-widgets/controls",
     "model_module_version": "1.5.0",
     "model_name": "HTMLModel",
     "state": {
      "_dom_classes": [],
      "_model_module": "@jupyter-widgets/controls",
      "_model_module_version": "1.5.0",
      "_model_name": "HTMLModel",
      "_view_count": null,
      "_view_module": "@jupyter-widgets/controls",
      "_view_module_version": "1.5.0",
      "_view_name": "HTMLView",
      "description": "",
      "description_tooltip": null,
      "layout": "IPY_MODEL_5c8500d2aa304ccf964f500e1fec226f",
      "placeholder": "​",
      "style": "IPY_MODEL_d04b6aaf72b1470898bcb88b48b15e11",
      "value": "Sanity Checking DataLoader 0: 100%"
     }
    },
    "6bf42724e750477d951b62122acfcd97": {
     "model_module": "@jupyter-widgets/controls",
     "model_module_version": "1.5.0",
     "model_name": "HTMLModel",
     "state": {
      "_dom_classes": [],
      "_model_module": "@jupyter-widgets/controls",
      "_model_module_version": "1.5.0",
      "_model_name": "HTMLModel",
      "_view_count": null,
      "_view_module": "@jupyter-widgets/controls",
      "_view_module_version": "1.5.0",
      "_view_name": "HTMLView",
      "description": "",
      "description_tooltip": null,
      "layout": "IPY_MODEL_e97072b0d4e3411d940123ac1c572d27",
      "placeholder": "​",
      "style": "IPY_MODEL_89ac037c8b6d42808dce8cedbb956478",
      "value": " 168/168 [00:19&lt;00:00,  8.62it/s]"
     }
    },
    "6d9e509de81d4fc39b34e566abe2c8b7": {
     "model_module": "@jupyter-widgets/controls",
     "model_module_version": "1.5.0",
     "model_name": "HBoxModel",
     "state": {
      "_dom_classes": [],
      "_model_module": "@jupyter-widgets/controls",
      "_model_module_version": "1.5.0",
      "_model_name": "HBoxModel",
      "_view_count": null,
      "_view_module": "@jupyter-widgets/controls",
      "_view_module_version": "1.5.0",
      "_view_name": "HBoxView",
      "box_style": "",
      "children": [
       "IPY_MODEL_bbf47bb5d80a48e1bf2018bc7afa236c",
       "IPY_MODEL_92cd4065ad3f4590b8d9b51da109771a",
       "IPY_MODEL_5e6ef7a1b9444b0a93ca860c8eefecfd"
      ],
      "layout": "IPY_MODEL_1a1f31d4730b4f279946602124ea818c"
     }
    },
    "6dd8d6bec94a4cbcb5753f09c45db7b9": {
     "model_module": "@jupyter-widgets/controls",
     "model_module_version": "1.5.0",
     "model_name": "FloatProgressModel",
     "state": {
      "_dom_classes": [],
      "_model_module": "@jupyter-widgets/controls",
      "_model_module_version": "1.5.0",
      "_model_name": "FloatProgressModel",
      "_view_count": null,
      "_view_module": "@jupyter-widgets/controls",
      "_view_module_version": "1.5.0",
      "_view_name": "ProgressView",
      "bar_style": "success",
      "description": "",
      "description_tooltip": null,
      "layout": "IPY_MODEL_fe39639973bd4f3bacd0a4ca573603a0",
      "max": 168,
      "min": 0,
      "orientation": "horizontal",
      "style": "IPY_MODEL_fb8e3ac6fd09436381673613e2a64e42",
      "value": 168
     }
    },
    "6e76be0af06547e3bdac2cb888968429": {
     "model_module": "@jupyter-widgets/controls",
     "model_module_version": "1.5.0",
     "model_name": "ProgressStyleModel",
     "state": {
      "_model_module": "@jupyter-widgets/controls",
      "_model_module_version": "1.5.0",
      "_model_name": "ProgressStyleModel",
      "_view_count": null,
      "_view_module": "@jupyter-widgets/base",
      "_view_module_version": "1.2.0",
      "_view_name": "StyleView",
      "bar_color": null,
      "description_width": ""
     }
    },
    "6f9270bfffa245059fbb3bd63e4b3fbd": {
     "model_module": "@jupyter-widgets/base",
     "model_module_version": "1.2.0",
     "model_name": "LayoutModel",
     "state": {
      "_model_module": "@jupyter-widgets/base",
      "_model_module_version": "1.2.0",
      "_model_name": "LayoutModel",
      "_view_count": null,
      "_view_module": "@jupyter-widgets/base",
      "_view_module_version": "1.2.0",
      "_view_name": "LayoutView",
      "align_content": null,
      "align_items": null,
      "align_self": null,
      "border": null,
      "bottom": null,
      "display": "inline-flex",
      "flex": null,
      "flex_flow": "row wrap",
      "grid_area": null,
      "grid_auto_columns": null,
      "grid_auto_flow": null,
      "grid_auto_rows": null,
      "grid_column": null,
      "grid_gap": null,
      "grid_row": null,
      "grid_template_areas": null,
      "grid_template_columns": null,
      "grid_template_rows": null,
      "height": null,
      "justify_content": null,
      "justify_items": null,
      "left": null,
      "margin": null,
      "max_height": null,
      "max_width": null,
      "min_height": null,
      "min_width": null,
      "object_fit": null,
      "object_position": null,
      "order": null,
      "overflow": null,
      "overflow_x": null,
      "overflow_y": null,
      "padding": null,
      "right": null,
      "top": null,
      "visibility": null,
      "width": "100%"
     }
    },
    "72aa4cf49fa445e794c6ac74bc107faa": {
     "model_module": "@jupyter-widgets/controls",
     "model_module_version": "1.5.0",
     "model_name": "HTMLModel",
     "state": {
      "_dom_classes": [],
      "_model_module": "@jupyter-widgets/controls",
      "_model_module_version": "1.5.0",
      "_model_name": "HTMLModel",
      "_view_count": null,
      "_view_module": "@jupyter-widgets/controls",
      "_view_module_version": "1.5.0",
      "_view_name": "HTMLView",
      "description": "",
      "description_tooltip": null,
      "layout": "IPY_MODEL_0cc30e3ab0f14098beb53b8f021bf4a4",
      "placeholder": "​",
      "style": "IPY_MODEL_1577b7f5b83a4a2781d6d05ba6d3d7e6",
      "value": "Validation DataLoader 0: 100%"
     }
    },
    "73167fd4a84a4bf39293f1cdf2e57533": {
     "model_module": "@jupyter-widgets/controls",
     "model_module_version": "1.5.0",
     "model_name": "DescriptionStyleModel",
     "state": {
      "_model_module": "@jupyter-widgets/controls",
      "_model_module_version": "1.5.0",
      "_model_name": "DescriptionStyleModel",
      "_view_count": null,
      "_view_module": "@jupyter-widgets/base",
      "_view_module_version": "1.2.0",
      "_view_name": "StyleView",
      "description_width": ""
     }
    },
    "736e51da149c4b2cb089f15c5fbe7f81": {
     "model_module": "@jupyter-widgets/base",
     "model_module_version": "1.2.0",
     "model_name": "LayoutModel",
     "state": {
      "_model_module": "@jupyter-widgets/base",
      "_model_module_version": "1.2.0",
      "_model_name": "LayoutModel",
      "_view_count": null,
      "_view_module": "@jupyter-widgets/base",
      "_view_module_version": "1.2.0",
      "_view_name": "LayoutView",
      "align_content": null,
      "align_items": null,
      "align_self": null,
      "border": null,
      "bottom": null,
      "display": null,
      "flex": null,
      "flex_flow": null,
      "grid_area": null,
      "grid_auto_columns": null,
      "grid_auto_flow": null,
      "grid_auto_rows": null,
      "grid_column": null,
      "grid_gap": null,
      "grid_row": null,
      "grid_template_areas": null,
      "grid_template_columns": null,
      "grid_template_rows": null,
      "height": null,
      "justify_content": null,
      "justify_items": null,
      "left": null,
      "margin": null,
      "max_height": null,
      "max_width": null,
      "min_height": null,
      "min_width": null,
      "object_fit": null,
      "object_position": null,
      "order": null,
      "overflow": null,
      "overflow_x": null,
      "overflow_y": null,
      "padding": null,
      "right": null,
      "top": null,
      "visibility": null,
      "width": null
     }
    },
    "749e36f01a454a0dab5df08d5dbc3870": {
     "model_module": "@jupyter-widgets/base",
     "model_module_version": "1.2.0",
     "model_name": "LayoutModel",
     "state": {
      "_model_module": "@jupyter-widgets/base",
      "_model_module_version": "1.2.0",
      "_model_name": "LayoutModel",
      "_view_count": null,
      "_view_module": "@jupyter-widgets/base",
      "_view_module_version": "1.2.0",
      "_view_name": "LayoutView",
      "align_content": null,
      "align_items": null,
      "align_self": null,
      "border": null,
      "bottom": null,
      "display": null,
      "flex": null,
      "flex_flow": null,
      "grid_area": null,
      "grid_auto_columns": null,
      "grid_auto_flow": null,
      "grid_auto_rows": null,
      "grid_column": null,
      "grid_gap": null,
      "grid_row": null,
      "grid_template_areas": null,
      "grid_template_columns": null,
      "grid_template_rows": null,
      "height": null,
      "justify_content": null,
      "justify_items": null,
      "left": null,
      "margin": null,
      "max_height": null,
      "max_width": null,
      "min_height": null,
      "min_width": null,
      "object_fit": null,
      "object_position": null,
      "order": null,
      "overflow": null,
      "overflow_x": null,
      "overflow_y": null,
      "padding": null,
      "right": null,
      "top": null,
      "visibility": null,
      "width": null
     }
    },
    "7652cdf1a6f547d88531792f16950899": {
     "model_module": "@jupyter-widgets/controls",
     "model_module_version": "1.5.0",
     "model_name": "HTMLModel",
     "state": {
      "_dom_classes": [],
      "_model_module": "@jupyter-widgets/controls",
      "_model_module_version": "1.5.0",
      "_model_name": "HTMLModel",
      "_view_count": null,
      "_view_module": "@jupyter-widgets/controls",
      "_view_module_version": "1.5.0",
      "_view_name": "HTMLView",
      "description": "",
      "description_tooltip": null,
      "layout": "IPY_MODEL_657e6eecca444f1a831f9e27d8377a5e",
      "placeholder": "​",
      "style": "IPY_MODEL_73167fd4a84a4bf39293f1cdf2e57533",
      "value": " 168/168 [00:19&lt;00:00,  8.67it/s]"
     }
    },
    "7bb8758a67364112b509f720befd8298": {
     "model_module": "@jupyter-widgets/controls",
     "model_module_version": "1.5.0",
     "model_name": "FloatProgressModel",
     "state": {
      "_dom_classes": [],
      "_model_module": "@jupyter-widgets/controls",
      "_model_module_version": "1.5.0",
      "_model_name": "FloatProgressModel",
      "_view_count": null,
      "_view_module": "@jupyter-widgets/controls",
      "_view_module_version": "1.5.0",
      "_view_name": "ProgressView",
      "bar_style": "",
      "description": "",
      "description_tooltip": null,
      "layout": "IPY_MODEL_90b8ecd7bd984b67855be6c211860d0d",
      "max": 168,
      "min": 0,
      "orientation": "horizontal",
      "style": "IPY_MODEL_1b87cf549d3e461d8c284128ed96f004",
      "value": 168
     }
    },
    "7f04f94ec2e64084b79d4a7e68d5d502": {
     "model_module": "@jupyter-widgets/controls",
     "model_module_version": "1.5.0",
     "model_name": "DescriptionStyleModel",
     "state": {
      "_model_module": "@jupyter-widgets/controls",
      "_model_module_version": "1.5.0",
      "_model_name": "DescriptionStyleModel",
      "_view_count": null,
      "_view_module": "@jupyter-widgets/base",
      "_view_module_version": "1.2.0",
      "_view_name": "StyleView",
      "description_width": ""
     }
    },
    "7fbab74829c74bf8ba433860b057ee2d": {
     "model_module": "@jupyter-widgets/controls",
     "model_module_version": "1.5.0",
     "model_name": "FloatProgressModel",
     "state": {
      "_dom_classes": [],
      "_model_module": "@jupyter-widgets/controls",
      "_model_module_version": "1.5.0",
      "_model_name": "FloatProgressModel",
      "_view_count": null,
      "_view_module": "@jupyter-widgets/controls",
      "_view_module_version": "1.5.0",
      "_view_name": "ProgressView",
      "bar_style": "",
      "description": "",
      "description_tooltip": null,
      "layout": "IPY_MODEL_efe53bc74d124317b3976742a9567688",
      "max": 168,
      "min": 0,
      "orientation": "horizontal",
      "style": "IPY_MODEL_b053494d34534bf5b894c5303cd0c6dc",
      "value": 168
     }
    },
    "83657d18e05a4ba0a9399308ddca7c76": {
     "model_module": "@jupyter-widgets/controls",
     "model_module_version": "1.5.0",
     "model_name": "HTMLModel",
     "state": {
      "_dom_classes": [],
      "_model_module": "@jupyter-widgets/controls",
      "_model_module_version": "1.5.0",
      "_model_name": "HTMLModel",
      "_view_count": null,
      "_view_module": "@jupyter-widgets/controls",
      "_view_module_version": "1.5.0",
      "_view_name": "HTMLView",
      "description": "",
      "description_tooltip": null,
      "layout": "IPY_MODEL_4376bb07e5c0450a92d2cd867c03ec80",
      "placeholder": "​",
      "style": "IPY_MODEL_bedcc7d19bd14b46903d2803a27d7662",
      "value": "Validation DataLoader 0: 100%"
     }
    },
    "84b44c07430f4217a68b5e9c050ab491": {
     "model_module": "@jupyter-widgets/base",
     "model_module_version": "1.2.0",
     "model_name": "LayoutModel",
     "state": {
      "_model_module": "@jupyter-widgets/base",
      "_model_module_version": "1.2.0",
      "_model_name": "LayoutModel",
      "_view_count": null,
      "_view_module": "@jupyter-widgets/base",
      "_view_module_version": "1.2.0",
      "_view_name": "LayoutView",
      "align_content": null,
      "align_items": null,
      "align_self": null,
      "border": null,
      "bottom": null,
      "display": "inline-flex",
      "flex": null,
      "flex_flow": "row wrap",
      "grid_area": null,
      "grid_auto_columns": null,
      "grid_auto_flow": null,
      "grid_auto_rows": null,
      "grid_column": null,
      "grid_gap": null,
      "grid_row": null,
      "grid_template_areas": null,
      "grid_template_columns": null,
      "grid_template_rows": null,
      "height": null,
      "justify_content": null,
      "justify_items": null,
      "left": null,
      "margin": null,
      "max_height": null,
      "max_width": null,
      "min_height": null,
      "min_width": null,
      "object_fit": null,
      "object_position": null,
      "order": null,
      "overflow": null,
      "overflow_x": null,
      "overflow_y": null,
      "padding": null,
      "right": null,
      "top": null,
      "visibility": null,
      "width": "100%"
     }
    },
    "86f42e458b0b4c1c9c7a3c5f8bb51a93": {
     "model_module": "@jupyter-widgets/base",
     "model_module_version": "1.2.0",
     "model_name": "LayoutModel",
     "state": {
      "_model_module": "@jupyter-widgets/base",
      "_model_module_version": "1.2.0",
      "_model_name": "LayoutModel",
      "_view_count": null,
      "_view_module": "@jupyter-widgets/base",
      "_view_module_version": "1.2.0",
      "_view_name": "LayoutView",
      "align_content": null,
      "align_items": null,
      "align_self": null,
      "border": null,
      "bottom": null,
      "display": "inline-flex",
      "flex": null,
      "flex_flow": "row wrap",
      "grid_area": null,
      "grid_auto_columns": null,
      "grid_auto_flow": null,
      "grid_auto_rows": null,
      "grid_column": null,
      "grid_gap": null,
      "grid_row": null,
      "grid_template_areas": null,
      "grid_template_columns": null,
      "grid_template_rows": null,
      "height": null,
      "justify_content": null,
      "justify_items": null,
      "left": null,
      "margin": null,
      "max_height": null,
      "max_width": null,
      "min_height": null,
      "min_width": null,
      "object_fit": null,
      "object_position": null,
      "order": null,
      "overflow": null,
      "overflow_x": null,
      "overflow_y": null,
      "padding": null,
      "right": null,
      "top": null,
      "visibility": null,
      "width": "100%"
     }
    },
    "8941e0a87aff45cd9de8ceaa70ac0cb1": {
     "model_module": "@jupyter-widgets/base",
     "model_module_version": "1.2.0",
     "model_name": "LayoutModel",
     "state": {
      "_model_module": "@jupyter-widgets/base",
      "_model_module_version": "1.2.0",
      "_model_name": "LayoutModel",
      "_view_count": null,
      "_view_module": "@jupyter-widgets/base",
      "_view_module_version": "1.2.0",
      "_view_name": "LayoutView",
      "align_content": null,
      "align_items": null,
      "align_self": null,
      "border": null,
      "bottom": null,
      "display": null,
      "flex": "2",
      "flex_flow": null,
      "grid_area": null,
      "grid_auto_columns": null,
      "grid_auto_flow": null,
      "grid_auto_rows": null,
      "grid_column": null,
      "grid_gap": null,
      "grid_row": null,
      "grid_template_areas": null,
      "grid_template_columns": null,
      "grid_template_rows": null,
      "height": null,
      "justify_content": null,
      "justify_items": null,
      "left": null,
      "margin": null,
      "max_height": null,
      "max_width": null,
      "min_height": null,
      "min_width": null,
      "object_fit": null,
      "object_position": null,
      "order": null,
      "overflow": null,
      "overflow_x": null,
      "overflow_y": null,
      "padding": null,
      "right": null,
      "top": null,
      "visibility": null,
      "width": null
     }
    },
    "89ac037c8b6d42808dce8cedbb956478": {
     "model_module": "@jupyter-widgets/controls",
     "model_module_version": "1.5.0",
     "model_name": "DescriptionStyleModel",
     "state": {
      "_model_module": "@jupyter-widgets/controls",
      "_model_module_version": "1.5.0",
      "_model_name": "DescriptionStyleModel",
      "_view_count": null,
      "_view_module": "@jupyter-widgets/base",
      "_view_module_version": "1.2.0",
      "_view_name": "StyleView",
      "description_width": ""
     }
    },
    "89c37db9c1314d849e437aca623633fe": {
     "model_module": "@jupyter-widgets/base",
     "model_module_version": "1.2.0",
     "model_name": "LayoutModel",
     "state": {
      "_model_module": "@jupyter-widgets/base",
      "_model_module_version": "1.2.0",
      "_model_name": "LayoutModel",
      "_view_count": null,
      "_view_module": "@jupyter-widgets/base",
      "_view_module_version": "1.2.0",
      "_view_name": "LayoutView",
      "align_content": null,
      "align_items": null,
      "align_self": null,
      "border": null,
      "bottom": null,
      "display": "inline-flex",
      "flex": null,
      "flex_flow": "row wrap",
      "grid_area": null,
      "grid_auto_columns": null,
      "grid_auto_flow": null,
      "grid_auto_rows": null,
      "grid_column": null,
      "grid_gap": null,
      "grid_row": null,
      "grid_template_areas": null,
      "grid_template_columns": null,
      "grid_template_rows": null,
      "height": null,
      "justify_content": null,
      "justify_items": null,
      "left": null,
      "margin": null,
      "max_height": null,
      "max_width": null,
      "min_height": null,
      "min_width": null,
      "object_fit": null,
      "object_position": null,
      "order": null,
      "overflow": null,
      "overflow_x": null,
      "overflow_y": null,
      "padding": null,
      "right": null,
      "top": null,
      "visibility": null,
      "width": "100%"
     }
    },
    "8a07c0ed39614759a07e292a1a61dfaf": {
     "model_module": "@jupyter-widgets/controls",
     "model_module_version": "1.5.0",
     "model_name": "HBoxModel",
     "state": {
      "_dom_classes": [],
      "_model_module": "@jupyter-widgets/controls",
      "_model_module_version": "1.5.0",
      "_model_name": "HBoxModel",
      "_view_count": null,
      "_view_module": "@jupyter-widgets/controls",
      "_view_module_version": "1.5.0",
      "_view_name": "HBoxView",
      "box_style": "",
      "children": [
       "IPY_MODEL_72aa4cf49fa445e794c6ac74bc107faa",
       "IPY_MODEL_7bb8758a67364112b509f720befd8298",
       "IPY_MODEL_5e00c570c1d142f9a24e7dcde4f40b15"
      ],
      "layout": "IPY_MODEL_8cff5371c03b41ba9ac4704a1506c432"
     }
    },
    "8c2a08f6dc014549a1de254c396deb6e": {
     "model_module": "@jupyter-widgets/controls",
     "model_module_version": "1.5.0",
     "model_name": "FloatProgressModel",
     "state": {
      "_dom_classes": [],
      "_model_module": "@jupyter-widgets/controls",
      "_model_module_version": "1.5.0",
      "_model_name": "FloatProgressModel",
      "_view_count": null,
      "_view_module": "@jupyter-widgets/controls",
      "_view_module_version": "1.5.0",
      "_view_name": "ProgressView",
      "bar_style": "",
      "description": "",
      "description_tooltip": null,
      "layout": "IPY_MODEL_96e010dd3369477a8d305b13b6256671",
      "max": 168,
      "min": 0,
      "orientation": "horizontal",
      "style": "IPY_MODEL_3682857929294f14bd4eb8cce7d2aa0f",
      "value": 168
     }
    },
    "8ca4b41863414777afe43e27f23fc35b": {
     "model_module": "@jupyter-widgets/controls",
     "model_module_version": "1.5.0",
     "model_name": "DescriptionStyleModel",
     "state": {
      "_model_module": "@jupyter-widgets/controls",
      "_model_module_version": "1.5.0",
      "_model_name": "DescriptionStyleModel",
      "_view_count": null,
      "_view_module": "@jupyter-widgets/base",
      "_view_module_version": "1.2.0",
      "_view_name": "StyleView",
      "description_width": ""
     }
    },
    "8cff5371c03b41ba9ac4704a1506c432": {
     "model_module": "@jupyter-widgets/base",
     "model_module_version": "1.2.0",
     "model_name": "LayoutModel",
     "state": {
      "_model_module": "@jupyter-widgets/base",
      "_model_module_version": "1.2.0",
      "_model_name": "LayoutModel",
      "_view_count": null,
      "_view_module": "@jupyter-widgets/base",
      "_view_module_version": "1.2.0",
      "_view_name": "LayoutView",
      "align_content": null,
      "align_items": null,
      "align_self": null,
      "border": null,
      "bottom": null,
      "display": "inline-flex",
      "flex": null,
      "flex_flow": "row wrap",
      "grid_area": null,
      "grid_auto_columns": null,
      "grid_auto_flow": null,
      "grid_auto_rows": null,
      "grid_column": null,
      "grid_gap": null,
      "grid_row": null,
      "grid_template_areas": null,
      "grid_template_columns": null,
      "grid_template_rows": null,
      "height": null,
      "justify_content": null,
      "justify_items": null,
      "left": null,
      "margin": null,
      "max_height": null,
      "max_width": null,
      "min_height": null,
      "min_width": null,
      "object_fit": null,
      "object_position": null,
      "order": null,
      "overflow": null,
      "overflow_x": null,
      "overflow_y": null,
      "padding": null,
      "right": null,
      "top": null,
      "visibility": null,
      "width": "100%"
     }
    },
    "90b8ecd7bd984b67855be6c211860d0d": {
     "model_module": "@jupyter-widgets/base",
     "model_module_version": "1.2.0",
     "model_name": "LayoutModel",
     "state": {
      "_model_module": "@jupyter-widgets/base",
      "_model_module_version": "1.2.0",
      "_model_name": "LayoutModel",
      "_view_count": null,
      "_view_module": "@jupyter-widgets/base",
      "_view_module_version": "1.2.0",
      "_view_name": "LayoutView",
      "align_content": null,
      "align_items": null,
      "align_self": null,
      "border": null,
      "bottom": null,
      "display": null,
      "flex": "2",
      "flex_flow": null,
      "grid_area": null,
      "grid_auto_columns": null,
      "grid_auto_flow": null,
      "grid_auto_rows": null,
      "grid_column": null,
      "grid_gap": null,
      "grid_row": null,
      "grid_template_areas": null,
      "grid_template_columns": null,
      "grid_template_rows": null,
      "height": null,
      "justify_content": null,
      "justify_items": null,
      "left": null,
      "margin": null,
      "max_height": null,
      "max_width": null,
      "min_height": null,
      "min_width": null,
      "object_fit": null,
      "object_position": null,
      "order": null,
      "overflow": null,
      "overflow_x": null,
      "overflow_y": null,
      "padding": null,
      "right": null,
      "top": null,
      "visibility": null,
      "width": null
     }
    },
    "916de681c9884d0583afbce4515d16df": {
     "model_module": "@jupyter-widgets/base",
     "model_module_version": "1.2.0",
     "model_name": "LayoutModel",
     "state": {
      "_model_module": "@jupyter-widgets/base",
      "_model_module_version": "1.2.0",
      "_model_name": "LayoutModel",
      "_view_count": null,
      "_view_module": "@jupyter-widgets/base",
      "_view_module_version": "1.2.0",
      "_view_name": "LayoutView",
      "align_content": null,
      "align_items": null,
      "align_self": null,
      "border": null,
      "bottom": null,
      "display": null,
      "flex": null,
      "flex_flow": null,
      "grid_area": null,
      "grid_auto_columns": null,
      "grid_auto_flow": null,
      "grid_auto_rows": null,
      "grid_column": null,
      "grid_gap": null,
      "grid_row": null,
      "grid_template_areas": null,
      "grid_template_columns": null,
      "grid_template_rows": null,
      "height": null,
      "justify_content": null,
      "justify_items": null,
      "left": null,
      "margin": null,
      "max_height": null,
      "max_width": null,
      "min_height": null,
      "min_width": null,
      "object_fit": null,
      "object_position": null,
      "order": null,
      "overflow": null,
      "overflow_x": null,
      "overflow_y": null,
      "padding": null,
      "right": null,
      "top": null,
      "visibility": null,
      "width": null
     }
    },
    "92cd4065ad3f4590b8d9b51da109771a": {
     "model_module": "@jupyter-widgets/controls",
     "model_module_version": "1.5.0",
     "model_name": "FloatProgressModel",
     "state": {
      "_dom_classes": [],
      "_model_module": "@jupyter-widgets/controls",
      "_model_module_version": "1.5.0",
      "_model_name": "FloatProgressModel",
      "_view_count": null,
      "_view_module": "@jupyter-widgets/controls",
      "_view_module_version": "1.5.0",
      "_view_name": "ProgressView",
      "bar_style": "",
      "description": "",
      "description_tooltip": null,
      "layout": "IPY_MODEL_962eadea73b342ae87fb8f719b11b04d",
      "max": 168,
      "min": 0,
      "orientation": "horizontal",
      "style": "IPY_MODEL_6e76be0af06547e3bdac2cb888968429",
      "value": 168
     }
    },
    "92fa337ee5a946ed944e48300f2d007b": {
     "model_module": "@jupyter-widgets/controls",
     "model_module_version": "1.5.0",
     "model_name": "HBoxModel",
     "state": {
      "_dom_classes": [],
      "_model_module": "@jupyter-widgets/controls",
      "_model_module_version": "1.5.0",
      "_model_name": "HBoxModel",
      "_view_count": null,
      "_view_module": "@jupyter-widgets/controls",
      "_view_module_version": "1.5.0",
      "_view_name": "HBoxView",
      "box_style": "",
      "children": [
       "IPY_MODEL_83657d18e05a4ba0a9399308ddca7c76",
       "IPY_MODEL_d38d9c9f92384217a455dfd98326f2e3",
       "IPY_MODEL_7652cdf1a6f547d88531792f16950899"
      ],
      "layout": "IPY_MODEL_08b8fedf02e34456b8440587210bb67e"
     }
    },
    "9542b853917b4f59a217f4c6587e06be": {
     "model_module": "@jupyter-widgets/controls",
     "model_module_version": "1.5.0",
     "model_name": "ProgressStyleModel",
     "state": {
      "_model_module": "@jupyter-widgets/controls",
      "_model_module_version": "1.5.0",
      "_model_name": "ProgressStyleModel",
      "_view_count": null,
      "_view_module": "@jupyter-widgets/base",
      "_view_module_version": "1.2.0",
      "_view_name": "StyleView",
      "bar_color": null,
      "description_width": ""
     }
    },
    "962eadea73b342ae87fb8f719b11b04d": {
     "model_module": "@jupyter-widgets/base",
     "model_module_version": "1.2.0",
     "model_name": "LayoutModel",
     "state": {
      "_model_module": "@jupyter-widgets/base",
      "_model_module_version": "1.2.0",
      "_model_name": "LayoutModel",
      "_view_count": null,
      "_view_module": "@jupyter-widgets/base",
      "_view_module_version": "1.2.0",
      "_view_name": "LayoutView",
      "align_content": null,
      "align_items": null,
      "align_self": null,
      "border": null,
      "bottom": null,
      "display": null,
      "flex": "2",
      "flex_flow": null,
      "grid_area": null,
      "grid_auto_columns": null,
      "grid_auto_flow": null,
      "grid_auto_rows": null,
      "grid_column": null,
      "grid_gap": null,
      "grid_row": null,
      "grid_template_areas": null,
      "grid_template_columns": null,
      "grid_template_rows": null,
      "height": null,
      "justify_content": null,
      "justify_items": null,
      "left": null,
      "margin": null,
      "max_height": null,
      "max_width": null,
      "min_height": null,
      "min_width": null,
      "object_fit": null,
      "object_position": null,
      "order": null,
      "overflow": null,
      "overflow_x": null,
      "overflow_y": null,
      "padding": null,
      "right": null,
      "top": null,
      "visibility": null,
      "width": null
     }
    },
    "968d371fa9f84eb9acbc715d9fc90221": {
     "model_module": "@jupyter-widgets/controls",
     "model_module_version": "1.5.0",
     "model_name": "HTMLModel",
     "state": {
      "_dom_classes": [],
      "_model_module": "@jupyter-widgets/controls",
      "_model_module_version": "1.5.0",
      "_model_name": "HTMLModel",
      "_view_count": null,
      "_view_module": "@jupyter-widgets/controls",
      "_view_module_version": "1.5.0",
      "_view_name": "HTMLView",
      "description": "",
      "description_tooltip": null,
      "layout": "IPY_MODEL_a3e9f1670dfd4fc0b20f3ffc6ce20825",
      "placeholder": "​",
      "style": "IPY_MODEL_a5bfbcbd5028437c869bac08f8742a0e",
      "value": "Validation DataLoader 0: 100%"
     }
    },
    "96e010dd3369477a8d305b13b6256671": {
     "model_module": "@jupyter-widgets/base",
     "model_module_version": "1.2.0",
     "model_name": "LayoutModel",
     "state": {
      "_model_module": "@jupyter-widgets/base",
      "_model_module_version": "1.2.0",
      "_model_name": "LayoutModel",
      "_view_count": null,
      "_view_module": "@jupyter-widgets/base",
      "_view_module_version": "1.2.0",
      "_view_name": "LayoutView",
      "align_content": null,
      "align_items": null,
      "align_self": null,
      "border": null,
      "bottom": null,
      "display": null,
      "flex": "2",
      "flex_flow": null,
      "grid_area": null,
      "grid_auto_columns": null,
      "grid_auto_flow": null,
      "grid_auto_rows": null,
      "grid_column": null,
      "grid_gap": null,
      "grid_row": null,
      "grid_template_areas": null,
      "grid_template_columns": null,
      "grid_template_rows": null,
      "height": null,
      "justify_content": null,
      "justify_items": null,
      "left": null,
      "margin": null,
      "max_height": null,
      "max_width": null,
      "min_height": null,
      "min_width": null,
      "object_fit": null,
      "object_position": null,
      "order": null,
      "overflow": null,
      "overflow_x": null,
      "overflow_y": null,
      "padding": null,
      "right": null,
      "top": null,
      "visibility": null,
      "width": null
     }
    },
    "99c46812ffdd47e6ba138a88cffac47f": {
     "model_module": "@jupyter-widgets/base",
     "model_module_version": "1.2.0",
     "model_name": "LayoutModel",
     "state": {
      "_model_module": "@jupyter-widgets/base",
      "_model_module_version": "1.2.0",
      "_model_name": "LayoutModel",
      "_view_count": null,
      "_view_module": "@jupyter-widgets/base",
      "_view_module_version": "1.2.0",
      "_view_name": "LayoutView",
      "align_content": null,
      "align_items": null,
      "align_self": null,
      "border": null,
      "bottom": null,
      "display": null,
      "flex": null,
      "flex_flow": null,
      "grid_area": null,
      "grid_auto_columns": null,
      "grid_auto_flow": null,
      "grid_auto_rows": null,
      "grid_column": null,
      "grid_gap": null,
      "grid_row": null,
      "grid_template_areas": null,
      "grid_template_columns": null,
      "grid_template_rows": null,
      "height": null,
      "justify_content": null,
      "justify_items": null,
      "left": null,
      "margin": null,
      "max_height": null,
      "max_width": null,
      "min_height": null,
      "min_width": null,
      "object_fit": null,
      "object_position": null,
      "order": null,
      "overflow": null,
      "overflow_x": null,
      "overflow_y": null,
      "padding": null,
      "right": null,
      "top": null,
      "visibility": null,
      "width": null
     }
    },
    "9aa47c237a5f43d3b07013d567b84310": {
     "model_module": "@jupyter-widgets/controls",
     "model_module_version": "1.5.0",
     "model_name": "DescriptionStyleModel",
     "state": {
      "_model_module": "@jupyter-widgets/controls",
      "_model_module_version": "1.5.0",
      "_model_name": "DescriptionStyleModel",
      "_view_count": null,
      "_view_module": "@jupyter-widgets/base",
      "_view_module_version": "1.2.0",
      "_view_name": "StyleView",
      "description_width": ""
     }
    },
    "a0295c85e08c4629b31eb190cc529507": {
     "model_module": "@jupyter-widgets/base",
     "model_module_version": "1.2.0",
     "model_name": "LayoutModel",
     "state": {
      "_model_module": "@jupyter-widgets/base",
      "_model_module_version": "1.2.0",
      "_model_name": "LayoutModel",
      "_view_count": null,
      "_view_module": "@jupyter-widgets/base",
      "_view_module_version": "1.2.0",
      "_view_name": "LayoutView",
      "align_content": null,
      "align_items": null,
      "align_self": null,
      "border": null,
      "bottom": null,
      "display": null,
      "flex": null,
      "flex_flow": null,
      "grid_area": null,
      "grid_auto_columns": null,
      "grid_auto_flow": null,
      "grid_auto_rows": null,
      "grid_column": null,
      "grid_gap": null,
      "grid_row": null,
      "grid_template_areas": null,
      "grid_template_columns": null,
      "grid_template_rows": null,
      "height": null,
      "justify_content": null,
      "justify_items": null,
      "left": null,
      "margin": null,
      "max_height": null,
      "max_width": null,
      "min_height": null,
      "min_width": null,
      "object_fit": null,
      "object_position": null,
      "order": null,
      "overflow": null,
      "overflow_x": null,
      "overflow_y": null,
      "padding": null,
      "right": null,
      "top": null,
      "visibility": null,
      "width": null
     }
    },
    "a18046f63e9047eaa6c5a4bc4c5a3c72": {
     "model_module": "@jupyter-widgets/controls",
     "model_module_version": "1.5.0",
     "model_name": "DescriptionStyleModel",
     "state": {
      "_model_module": "@jupyter-widgets/controls",
      "_model_module_version": "1.5.0",
      "_model_name": "DescriptionStyleModel",
      "_view_count": null,
      "_view_module": "@jupyter-widgets/base",
      "_view_module_version": "1.2.0",
      "_view_name": "StyleView",
      "description_width": ""
     }
    },
    "a22e178693cd4fe4ab3b0cce3a1acb93": {
     "model_module": "@jupyter-widgets/controls",
     "model_module_version": "1.5.0",
     "model_name": "ProgressStyleModel",
     "state": {
      "_model_module": "@jupyter-widgets/controls",
      "_model_module_version": "1.5.0",
      "_model_name": "ProgressStyleModel",
      "_view_count": null,
      "_view_module": "@jupyter-widgets/base",
      "_view_module_version": "1.2.0",
      "_view_name": "StyleView",
      "bar_color": null,
      "description_width": ""
     }
    },
    "a3e9f1670dfd4fc0b20f3ffc6ce20825": {
     "model_module": "@jupyter-widgets/base",
     "model_module_version": "1.2.0",
     "model_name": "LayoutModel",
     "state": {
      "_model_module": "@jupyter-widgets/base",
      "_model_module_version": "1.2.0",
      "_model_name": "LayoutModel",
      "_view_count": null,
      "_view_module": "@jupyter-widgets/base",
      "_view_module_version": "1.2.0",
      "_view_name": "LayoutView",
      "align_content": null,
      "align_items": null,
      "align_self": null,
      "border": null,
      "bottom": null,
      "display": null,
      "flex": null,
      "flex_flow": null,
      "grid_area": null,
      "grid_auto_columns": null,
      "grid_auto_flow": null,
      "grid_auto_rows": null,
      "grid_column": null,
      "grid_gap": null,
      "grid_row": null,
      "grid_template_areas": null,
      "grid_template_columns": null,
      "grid_template_rows": null,
      "height": null,
      "justify_content": null,
      "justify_items": null,
      "left": null,
      "margin": null,
      "max_height": null,
      "max_width": null,
      "min_height": null,
      "min_width": null,
      "object_fit": null,
      "object_position": null,
      "order": null,
      "overflow": null,
      "overflow_x": null,
      "overflow_y": null,
      "padding": null,
      "right": null,
      "top": null,
      "visibility": null,
      "width": null
     }
    },
    "a5bfbcbd5028437c869bac08f8742a0e": {
     "model_module": "@jupyter-widgets/controls",
     "model_module_version": "1.5.0",
     "model_name": "DescriptionStyleModel",
     "state": {
      "_model_module": "@jupyter-widgets/controls",
      "_model_module_version": "1.5.0",
      "_model_name": "DescriptionStyleModel",
      "_view_count": null,
      "_view_module": "@jupyter-widgets/base",
      "_view_module_version": "1.2.0",
      "_view_name": "StyleView",
      "description_width": ""
     }
    },
    "a6060821418f4082b0c448cc709be8fd": {
     "model_module": "@jupyter-widgets/base",
     "model_module_version": "1.2.0",
     "model_name": "LayoutModel",
     "state": {
      "_model_module": "@jupyter-widgets/base",
      "_model_module_version": "1.2.0",
      "_model_name": "LayoutModel",
      "_view_count": null,
      "_view_module": "@jupyter-widgets/base",
      "_view_module_version": "1.2.0",
      "_view_name": "LayoutView",
      "align_content": null,
      "align_items": null,
      "align_self": null,
      "border": null,
      "bottom": null,
      "display": null,
      "flex": null,
      "flex_flow": null,
      "grid_area": null,
      "grid_auto_columns": null,
      "grid_auto_flow": null,
      "grid_auto_rows": null,
      "grid_column": null,
      "grid_gap": null,
      "grid_row": null,
      "grid_template_areas": null,
      "grid_template_columns": null,
      "grid_template_rows": null,
      "height": null,
      "justify_content": null,
      "justify_items": null,
      "left": null,
      "margin": null,
      "max_height": null,
      "max_width": null,
      "min_height": null,
      "min_width": null,
      "object_fit": null,
      "object_position": null,
      "order": null,
      "overflow": null,
      "overflow_x": null,
      "overflow_y": null,
      "padding": null,
      "right": null,
      "top": null,
      "visibility": null,
      "width": null
     }
    },
    "aae8c49a799d4d138884a5747ea6ea9d": {
     "model_module": "@jupyter-widgets/controls",
     "model_module_version": "1.5.0",
     "model_name": "HBoxModel",
     "state": {
      "_dom_classes": [],
      "_model_module": "@jupyter-widgets/controls",
      "_model_module_version": "1.5.0",
      "_model_name": "HBoxModel",
      "_view_count": null,
      "_view_module": "@jupyter-widgets/controls",
      "_view_module_version": "1.5.0",
      "_view_name": "HBoxView",
      "box_style": "",
      "children": [
       "IPY_MODEL_69f41e813db140109f0a071626731168",
       "IPY_MODEL_35e18e0429094d19953e7df707729314",
       "IPY_MODEL_674d5e086a4741dfb572a04a05dea5aa"
      ],
      "layout": "IPY_MODEL_e5469901f54c468abd1ffcd55b1acfa6"
     }
    },
    "ae279fe6a9d74185a1a71397796f8e55": {
     "model_module": "@jupyter-widgets/base",
     "model_module_version": "1.2.0",
     "model_name": "LayoutModel",
     "state": {
      "_model_module": "@jupyter-widgets/base",
      "_model_module_version": "1.2.0",
      "_model_name": "LayoutModel",
      "_view_count": null,
      "_view_module": "@jupyter-widgets/base",
      "_view_module_version": "1.2.0",
      "_view_name": "LayoutView",
      "align_content": null,
      "align_items": null,
      "align_self": null,
      "border": null,
      "bottom": null,
      "display": null,
      "flex": null,
      "flex_flow": null,
      "grid_area": null,
      "grid_auto_columns": null,
      "grid_auto_flow": null,
      "grid_auto_rows": null,
      "grid_column": null,
      "grid_gap": null,
      "grid_row": null,
      "grid_template_areas": null,
      "grid_template_columns": null,
      "grid_template_rows": null,
      "height": null,
      "justify_content": null,
      "justify_items": null,
      "left": null,
      "margin": null,
      "max_height": null,
      "max_width": null,
      "min_height": null,
      "min_width": null,
      "object_fit": null,
      "object_position": null,
      "order": null,
      "overflow": null,
      "overflow_x": null,
      "overflow_y": null,
      "padding": null,
      "right": null,
      "top": null,
      "visibility": null,
      "width": null
     }
    },
    "b053494d34534bf5b894c5303cd0c6dc": {
     "model_module": "@jupyter-widgets/controls",
     "model_module_version": "1.5.0",
     "model_name": "ProgressStyleModel",
     "state": {
      "_model_module": "@jupyter-widgets/controls",
      "_model_module_version": "1.5.0",
      "_model_name": "ProgressStyleModel",
      "_view_count": null,
      "_view_module": "@jupyter-widgets/base",
      "_view_module_version": "1.2.0",
      "_view_name": "StyleView",
      "bar_color": null,
      "description_width": ""
     }
    },
    "b1d8d95c9f214c68a4a6d1f898d8cf97": {
     "model_module": "@jupyter-widgets/base",
     "model_module_version": "1.2.0",
     "model_name": "LayoutModel",
     "state": {
      "_model_module": "@jupyter-widgets/base",
      "_model_module_version": "1.2.0",
      "_model_name": "LayoutModel",
      "_view_count": null,
      "_view_module": "@jupyter-widgets/base",
      "_view_module_version": "1.2.0",
      "_view_name": "LayoutView",
      "align_content": null,
      "align_items": null,
      "align_self": null,
      "border": null,
      "bottom": null,
      "display": null,
      "flex": "2",
      "flex_flow": null,
      "grid_area": null,
      "grid_auto_columns": null,
      "grid_auto_flow": null,
      "grid_auto_rows": null,
      "grid_column": null,
      "grid_gap": null,
      "grid_row": null,
      "grid_template_areas": null,
      "grid_template_columns": null,
      "grid_template_rows": null,
      "height": null,
      "justify_content": null,
      "justify_items": null,
      "left": null,
      "margin": null,
      "max_height": null,
      "max_width": null,
      "min_height": null,
      "min_width": null,
      "object_fit": null,
      "object_position": null,
      "order": null,
      "overflow": null,
      "overflow_x": null,
      "overflow_y": null,
      "padding": null,
      "right": null,
      "top": null,
      "visibility": null,
      "width": null
     }
    },
    "b5e9c588ed5847869457790ef11bd1a1": {
     "model_module": "@jupyter-widgets/controls",
     "model_module_version": "1.5.0",
     "model_name": "DescriptionStyleModel",
     "state": {
      "_model_module": "@jupyter-widgets/controls",
      "_model_module_version": "1.5.0",
      "_model_name": "DescriptionStyleModel",
      "_view_count": null,
      "_view_module": "@jupyter-widgets/base",
      "_view_module_version": "1.2.0",
      "_view_name": "StyleView",
      "description_width": ""
     }
    },
    "b6f7039596604cd5a0082c3d86f4d83e": {
     "model_module": "@jupyter-widgets/controls",
     "model_module_version": "1.5.0",
     "model_name": "HTMLModel",
     "state": {
      "_dom_classes": [],
      "_model_module": "@jupyter-widgets/controls",
      "_model_module_version": "1.5.0",
      "_model_name": "HTMLModel",
      "_view_count": null,
      "_view_module": "@jupyter-widgets/controls",
      "_view_module_version": "1.5.0",
      "_view_name": "HTMLView",
      "description": "",
      "description_tooltip": null,
      "layout": "IPY_MODEL_32e28933abde4eaf81068008ae78c89a",
      "placeholder": "​",
      "style": "IPY_MODEL_7f04f94ec2e64084b79d4a7e68d5d502",
      "value": "Validation DataLoader 0: 100%"
     }
    },
    "bbf47bb5d80a48e1bf2018bc7afa236c": {
     "model_module": "@jupyter-widgets/controls",
     "model_module_version": "1.5.0",
     "model_name": "HTMLModel",
     "state": {
      "_dom_classes": [],
      "_model_module": "@jupyter-widgets/controls",
      "_model_module_version": "1.5.0",
      "_model_name": "HTMLModel",
      "_view_count": null,
      "_view_module": "@jupyter-widgets/controls",
      "_view_module_version": "1.5.0",
      "_view_name": "HTMLView",
      "description": "",
      "description_tooltip": null,
      "layout": "IPY_MODEL_c3f344c05e344e2b96c48d7a6af5624e",
      "placeholder": "​",
      "style": "IPY_MODEL_9aa47c237a5f43d3b07013d567b84310",
      "value": "Validation DataLoader 0: 100%"
     }
    },
    "bdf8a7be4b074592a60e0c91b50c867b": {
     "model_module": "@jupyter-widgets/controls",
     "model_module_version": "1.5.0",
     "model_name": "DescriptionStyleModel",
     "state": {
      "_model_module": "@jupyter-widgets/controls",
      "_model_module_version": "1.5.0",
      "_model_name": "DescriptionStyleModel",
      "_view_count": null,
      "_view_module": "@jupyter-widgets/base",
      "_view_module_version": "1.2.0",
      "_view_name": "StyleView",
      "description_width": ""
     }
    },
    "be47524af9ad41f3bf5d8e8048a9423a": {
     "model_module": "@jupyter-widgets/controls",
     "model_module_version": "1.5.0",
     "model_name": "DescriptionStyleModel",
     "state": {
      "_model_module": "@jupyter-widgets/controls",
      "_model_module_version": "1.5.0",
      "_model_name": "DescriptionStyleModel",
      "_view_count": null,
      "_view_module": "@jupyter-widgets/base",
      "_view_module_version": "1.2.0",
      "_view_name": "StyleView",
      "description_width": ""
     }
    },
    "bedcc7d19bd14b46903d2803a27d7662": {
     "model_module": "@jupyter-widgets/controls",
     "model_module_version": "1.5.0",
     "model_name": "DescriptionStyleModel",
     "state": {
      "_model_module": "@jupyter-widgets/controls",
      "_model_module_version": "1.5.0",
      "_model_name": "DescriptionStyleModel",
      "_view_count": null,
      "_view_module": "@jupyter-widgets/base",
      "_view_module_version": "1.2.0",
      "_view_name": "StyleView",
      "description_width": ""
     }
    },
    "c389765d404344d18f564f0bf1c8ea72": {
     "model_module": "@jupyter-widgets/controls",
     "model_module_version": "1.5.0",
     "model_name": "DescriptionStyleModel",
     "state": {
      "_model_module": "@jupyter-widgets/controls",
      "_model_module_version": "1.5.0",
      "_model_name": "DescriptionStyleModel",
      "_view_count": null,
      "_view_module": "@jupyter-widgets/base",
      "_view_module_version": "1.2.0",
      "_view_name": "StyleView",
      "description_width": ""
     }
    },
    "c3f344c05e344e2b96c48d7a6af5624e": {
     "model_module": "@jupyter-widgets/base",
     "model_module_version": "1.2.0",
     "model_name": "LayoutModel",
     "state": {
      "_model_module": "@jupyter-widgets/base",
      "_model_module_version": "1.2.0",
      "_model_name": "LayoutModel",
      "_view_count": null,
      "_view_module": "@jupyter-widgets/base",
      "_view_module_version": "1.2.0",
      "_view_name": "LayoutView",
      "align_content": null,
      "align_items": null,
      "align_self": null,
      "border": null,
      "bottom": null,
      "display": null,
      "flex": null,
      "flex_flow": null,
      "grid_area": null,
      "grid_auto_columns": null,
      "grid_auto_flow": null,
      "grid_auto_rows": null,
      "grid_column": null,
      "grid_gap": null,
      "grid_row": null,
      "grid_template_areas": null,
      "grid_template_columns": null,
      "grid_template_rows": null,
      "height": null,
      "justify_content": null,
      "justify_items": null,
      "left": null,
      "margin": null,
      "max_height": null,
      "max_width": null,
      "min_height": null,
      "min_width": null,
      "object_fit": null,
      "object_position": null,
      "order": null,
      "overflow": null,
      "overflow_x": null,
      "overflow_y": null,
      "padding": null,
      "right": null,
      "top": null,
      "visibility": null,
      "width": null
     }
    },
    "c56ea69761f4440ca4751d8aef94215c": {
     "model_module": "@jupyter-widgets/controls",
     "model_module_version": "1.5.0",
     "model_name": "HTMLModel",
     "state": {
      "_dom_classes": [],
      "_model_module": "@jupyter-widgets/controls",
      "_model_module_version": "1.5.0",
      "_model_name": "HTMLModel",
      "_view_count": null,
      "_view_module": "@jupyter-widgets/controls",
      "_view_module_version": "1.5.0",
      "_view_name": "HTMLView",
      "description": "",
      "description_tooltip": null,
      "layout": "IPY_MODEL_0f2bdf56550e4d05878bc0d3509fd8d8",
      "placeholder": "​",
      "style": "IPY_MODEL_2c265cc3f6904e229608866ad0caad17",
      "value": "Validation DataLoader 0: 100%"
     }
    },
    "c66dfa1d75ee45f19e3504e604b64c33": {
     "model_module": "@jupyter-widgets/controls",
     "model_module_version": "1.5.0",
     "model_name": "HTMLModel",
     "state": {
      "_dom_classes": [],
      "_model_module": "@jupyter-widgets/controls",
      "_model_module_version": "1.5.0",
      "_model_name": "HTMLModel",
      "_view_count": null,
      "_view_module": "@jupyter-widgets/controls",
      "_view_module_version": "1.5.0",
      "_view_name": "HTMLView",
      "description": "",
      "description_tooltip": null,
      "layout": "IPY_MODEL_3c78b0bef53b407a99f16891a654cecb",
      "placeholder": "​",
      "style": "IPY_MODEL_a18046f63e9047eaa6c5a4bc4c5a3c72",
      "value": "Validation DataLoader 0: 100%"
     }
    },
    "c7c7d2dfbb584d669436ba6201ff693b": {
     "model_module": "@jupyter-widgets/controls",
     "model_module_version": "1.5.0",
     "model_name": "HBoxModel",
     "state": {
      "_dom_classes": [],
      "_model_module": "@jupyter-widgets/controls",
      "_model_module_version": "1.5.0",
      "_model_name": "HBoxModel",
      "_view_count": null,
      "_view_module": "@jupyter-widgets/controls",
      "_view_module_version": "1.5.0",
      "_view_name": "HBoxView",
      "box_style": "",
      "children": [
       "IPY_MODEL_30859fecc416472ebf78b7141318c78d",
       "IPY_MODEL_61c8122f1057445fbc8663e71fcf7062",
       "IPY_MODEL_28b982791d624906a8f39d4c913a6402"
      ],
      "layout": "IPY_MODEL_86f42e458b0b4c1c9c7a3c5f8bb51a93"
     }
    },
    "c8e6e91b20dd4dfabcba922f3627e84c": {
     "model_module": "@jupyter-widgets/controls",
     "model_module_version": "1.5.0",
     "model_name": "ProgressStyleModel",
     "state": {
      "_model_module": "@jupyter-widgets/controls",
      "_model_module_version": "1.5.0",
      "_model_name": "ProgressStyleModel",
      "_view_count": null,
      "_view_module": "@jupyter-widgets/base",
      "_view_module_version": "1.2.0",
      "_view_name": "StyleView",
      "bar_color": null,
      "description_width": ""
     }
    },
    "c945be769b8142ef8593056f0bbeceb3": {
     "model_module": "@jupyter-widgets/base",
     "model_module_version": "1.2.0",
     "model_name": "LayoutModel",
     "state": {
      "_model_module": "@jupyter-widgets/base",
      "_model_module_version": "1.2.0",
      "_model_name": "LayoutModel",
      "_view_count": null,
      "_view_module": "@jupyter-widgets/base",
      "_view_module_version": "1.2.0",
      "_view_name": "LayoutView",
      "align_content": null,
      "align_items": null,
      "align_self": null,
      "border": null,
      "bottom": null,
      "display": "inline-flex",
      "flex": null,
      "flex_flow": "row wrap",
      "grid_area": null,
      "grid_auto_columns": null,
      "grid_auto_flow": null,
      "grid_auto_rows": null,
      "grid_column": null,
      "grid_gap": null,
      "grid_row": null,
      "grid_template_areas": null,
      "grid_template_columns": null,
      "grid_template_rows": null,
      "height": null,
      "justify_content": null,
      "justify_items": null,
      "left": null,
      "margin": null,
      "max_height": null,
      "max_width": null,
      "min_height": null,
      "min_width": null,
      "object_fit": null,
      "object_position": null,
      "order": null,
      "overflow": null,
      "overflow_x": null,
      "overflow_y": null,
      "padding": null,
      "right": null,
      "top": null,
      "visibility": null,
      "width": "100%"
     }
    },
    "cc4880b06b224ff7bd0905a0fac5c470": {
     "model_module": "@jupyter-widgets/base",
     "model_module_version": "1.2.0",
     "model_name": "LayoutModel",
     "state": {
      "_model_module": "@jupyter-widgets/base",
      "_model_module_version": "1.2.0",
      "_model_name": "LayoutModel",
      "_view_count": null,
      "_view_module": "@jupyter-widgets/base",
      "_view_module_version": "1.2.0",
      "_view_name": "LayoutView",
      "align_content": null,
      "align_items": null,
      "align_self": null,
      "border": null,
      "bottom": null,
      "display": "inline-flex",
      "flex": null,
      "flex_flow": "row wrap",
      "grid_area": null,
      "grid_auto_columns": null,
      "grid_auto_flow": null,
      "grid_auto_rows": null,
      "grid_column": null,
      "grid_gap": null,
      "grid_row": null,
      "grid_template_areas": null,
      "grid_template_columns": null,
      "grid_template_rows": null,
      "height": null,
      "justify_content": null,
      "justify_items": null,
      "left": null,
      "margin": null,
      "max_height": null,
      "max_width": null,
      "min_height": null,
      "min_width": null,
      "object_fit": null,
      "object_position": null,
      "order": null,
      "overflow": null,
      "overflow_x": null,
      "overflow_y": null,
      "padding": null,
      "right": null,
      "top": null,
      "visibility": null,
      "width": "100%"
     }
    },
    "cc6b66b523e04e109fc363cc5efbef8b": {
     "model_module": "@jupyter-widgets/base",
     "model_module_version": "1.2.0",
     "model_name": "LayoutModel",
     "state": {
      "_model_module": "@jupyter-widgets/base",
      "_model_module_version": "1.2.0",
      "_model_name": "LayoutModel",
      "_view_count": null,
      "_view_module": "@jupyter-widgets/base",
      "_view_module_version": "1.2.0",
      "_view_name": "LayoutView",
      "align_content": null,
      "align_items": null,
      "align_self": null,
      "border": null,
      "bottom": null,
      "display": null,
      "flex": null,
      "flex_flow": null,
      "grid_area": null,
      "grid_auto_columns": null,
      "grid_auto_flow": null,
      "grid_auto_rows": null,
      "grid_column": null,
      "grid_gap": null,
      "grid_row": null,
      "grid_template_areas": null,
      "grid_template_columns": null,
      "grid_template_rows": null,
      "height": null,
      "justify_content": null,
      "justify_items": null,
      "left": null,
      "margin": null,
      "max_height": null,
      "max_width": null,
      "min_height": null,
      "min_width": null,
      "object_fit": null,
      "object_position": null,
      "order": null,
      "overflow": null,
      "overflow_x": null,
      "overflow_y": null,
      "padding": null,
      "right": null,
      "top": null,
      "visibility": null,
      "width": null
     }
    },
    "cf65533a885e4defa3de2b7ad84cb94c": {
     "model_module": "@jupyter-widgets/controls",
     "model_module_version": "1.5.0",
     "model_name": "HBoxModel",
     "state": {
      "_dom_classes": [],
      "_model_module": "@jupyter-widgets/controls",
      "_model_module_version": "1.5.0",
      "_model_name": "HBoxModel",
      "_view_count": null,
      "_view_module": "@jupyter-widgets/controls",
      "_view_module_version": "1.5.0",
      "_view_name": "HBoxView",
      "box_style": "",
      "children": [
       "IPY_MODEL_968d371fa9f84eb9acbc715d9fc90221",
       "IPY_MODEL_5c837483e5774616a2f4c277f8e08c6a",
       "IPY_MODEL_d5e5770492fa41aa800a3f00a3d8973a"
      ],
      "layout": "IPY_MODEL_f84182e8bb8c487facd788e635be9a52"
     }
    },
    "d04b6aaf72b1470898bcb88b48b15e11": {
     "model_module": "@jupyter-widgets/controls",
     "model_module_version": "1.5.0",
     "model_name": "DescriptionStyleModel",
     "state": {
      "_model_module": "@jupyter-widgets/controls",
      "_model_module_version": "1.5.0",
      "_model_name": "DescriptionStyleModel",
      "_view_count": null,
      "_view_module": "@jupyter-widgets/base",
      "_view_module_version": "1.2.0",
      "_view_name": "StyleView",
      "description_width": ""
     }
    },
    "d38d9c9f92384217a455dfd98326f2e3": {
     "model_module": "@jupyter-widgets/controls",
     "model_module_version": "1.5.0",
     "model_name": "FloatProgressModel",
     "state": {
      "_dom_classes": [],
      "_model_module": "@jupyter-widgets/controls",
      "_model_module_version": "1.5.0",
      "_model_name": "FloatProgressModel",
      "_view_count": null,
      "_view_module": "@jupyter-widgets/controls",
      "_view_module_version": "1.5.0",
      "_view_name": "ProgressView",
      "bar_style": "",
      "description": "",
      "description_tooltip": null,
      "layout": "IPY_MODEL_b1d8d95c9f214c68a4a6d1f898d8cf97",
      "max": 168,
      "min": 0,
      "orientation": "horizontal",
      "style": "IPY_MODEL_c8e6e91b20dd4dfabcba922f3627e84c",
      "value": 168
     }
    },
    "d5e5770492fa41aa800a3f00a3d8973a": {
     "model_module": "@jupyter-widgets/controls",
     "model_module_version": "1.5.0",
     "model_name": "HTMLModel",
     "state": {
      "_dom_classes": [],
      "_model_module": "@jupyter-widgets/controls",
      "_model_module_version": "1.5.0",
      "_model_name": "HTMLModel",
      "_view_count": null,
      "_view_module": "@jupyter-widgets/controls",
      "_view_module_version": "1.5.0",
      "_view_name": "HTMLView",
      "description": "",
      "description_tooltip": null,
      "layout": "IPY_MODEL_426620ef651547cba3a4120ada893f52",
      "placeholder": "​",
      "style": "IPY_MODEL_e723a3e7f4d04edaa6ddd2e3ed0c7448",
      "value": " 168/168 [00:20&lt;00:00,  8.46it/s]"
     }
    },
    "d6397ae7bb584219bdf3a6f0ec97ec67": {
     "model_module": "@jupyter-widgets/base",
     "model_module_version": "1.2.0",
     "model_name": "LayoutModel",
     "state": {
      "_model_module": "@jupyter-widgets/base",
      "_model_module_version": "1.2.0",
      "_model_name": "LayoutModel",
      "_view_count": null,
      "_view_module": "@jupyter-widgets/base",
      "_view_module_version": "1.2.0",
      "_view_name": "LayoutView",
      "align_content": null,
      "align_items": null,
      "align_self": null,
      "border": null,
      "bottom": null,
      "display": null,
      "flex": null,
      "flex_flow": null,
      "grid_area": null,
      "grid_auto_columns": null,
      "grid_auto_flow": null,
      "grid_auto_rows": null,
      "grid_column": null,
      "grid_gap": null,
      "grid_row": null,
      "grid_template_areas": null,
      "grid_template_columns": null,
      "grid_template_rows": null,
      "height": null,
      "justify_content": null,
      "justify_items": null,
      "left": null,
      "margin": null,
      "max_height": null,
      "max_width": null,
      "min_height": null,
      "min_width": null,
      "object_fit": null,
      "object_position": null,
      "order": null,
      "overflow": null,
      "overflow_x": null,
      "overflow_y": null,
      "padding": null,
      "right": null,
      "top": null,
      "visibility": null,
      "width": null
     }
    },
    "db0c6239320248fcb077080bba2b43ff": {
     "model_module": "@jupyter-widgets/controls",
     "model_module_version": "1.5.0",
     "model_name": "FloatProgressModel",
     "state": {
      "_dom_classes": [],
      "_model_module": "@jupyter-widgets/controls",
      "_model_module_version": "1.5.0",
      "_model_name": "FloatProgressModel",
      "_view_count": null,
      "_view_module": "@jupyter-widgets/controls",
      "_view_module_version": "1.5.0",
      "_view_name": "ProgressView",
      "bar_style": "",
      "description": "",
      "description_tooltip": null,
      "layout": "IPY_MODEL_dbc835631fc3428d96921313755f6cd4",
      "max": 168,
      "min": 0,
      "orientation": "horizontal",
      "style": "IPY_MODEL_578ff14de37842559dbd100fb2a8a878",
      "value": 168
     }
    },
    "dbc835631fc3428d96921313755f6cd4": {
     "model_module": "@jupyter-widgets/base",
     "model_module_version": "1.2.0",
     "model_name": "LayoutModel",
     "state": {
      "_model_module": "@jupyter-widgets/base",
      "_model_module_version": "1.2.0",
      "_model_name": "LayoutModel",
      "_view_count": null,
      "_view_module": "@jupyter-widgets/base",
      "_view_module_version": "1.2.0",
      "_view_name": "LayoutView",
      "align_content": null,
      "align_items": null,
      "align_self": null,
      "border": null,
      "bottom": null,
      "display": null,
      "flex": "2",
      "flex_flow": null,
      "grid_area": null,
      "grid_auto_columns": null,
      "grid_auto_flow": null,
      "grid_auto_rows": null,
      "grid_column": null,
      "grid_gap": null,
      "grid_row": null,
      "grid_template_areas": null,
      "grid_template_columns": null,
      "grid_template_rows": null,
      "height": null,
      "justify_content": null,
      "justify_items": null,
      "left": null,
      "margin": null,
      "max_height": null,
      "max_width": null,
      "min_height": null,
      "min_width": null,
      "object_fit": null,
      "object_position": null,
      "order": null,
      "overflow": null,
      "overflow_x": null,
      "overflow_y": null,
      "padding": null,
      "right": null,
      "top": null,
      "visibility": null,
      "width": null
     }
    },
    "df045d656e0846429159da25df9d2326": {
     "model_module": "@jupyter-widgets/controls",
     "model_module_version": "1.5.0",
     "model_name": "ProgressStyleModel",
     "state": {
      "_model_module": "@jupyter-widgets/controls",
      "_model_module_version": "1.5.0",
      "_model_name": "ProgressStyleModel",
      "_view_count": null,
      "_view_module": "@jupyter-widgets/base",
      "_view_module_version": "1.2.0",
      "_view_name": "StyleView",
      "bar_color": null,
      "description_width": ""
     }
    },
    "e144bf94a3b940938b8d46ebcf4f075e": {
     "model_module": "@jupyter-widgets/controls",
     "model_module_version": "1.5.0",
     "model_name": "FloatProgressModel",
     "state": {
      "_dom_classes": [],
      "_model_module": "@jupyter-widgets/controls",
      "_model_module_version": "1.5.0",
      "_model_name": "FloatProgressModel",
      "_view_count": null,
      "_view_module": "@jupyter-widgets/controls",
      "_view_module_version": "1.5.0",
      "_view_name": "ProgressView",
      "bar_style": "",
      "description": "",
      "description_tooltip": null,
      "layout": "IPY_MODEL_8941e0a87aff45cd9de8ceaa70ac0cb1",
      "max": 168,
      "min": 0,
      "orientation": "horizontal",
      "style": "IPY_MODEL_f47231c544ad4dd7bc15ac4983b7b621",
      "value": 168
     }
    },
    "e187f1f37e6c462395e93e21f1194a4b": {
     "model_module": "@jupyter-widgets/controls",
     "model_module_version": "1.5.0",
     "model_name": "HBoxModel",
     "state": {
      "_dom_classes": [],
      "_model_module": "@jupyter-widgets/controls",
      "_model_module_version": "1.5.0",
      "_model_name": "HBoxModel",
      "_view_count": null,
      "_view_module": "@jupyter-widgets/controls",
      "_view_module_version": "1.5.0",
      "_view_name": "HBoxView",
      "box_style": "",
      "children": [
       "IPY_MODEL_b6f7039596604cd5a0082c3d86f4d83e",
       "IPY_MODEL_7fbab74829c74bf8ba433860b057ee2d",
       "IPY_MODEL_6bf42724e750477d951b62122acfcd97"
      ],
      "layout": "IPY_MODEL_84b44c07430f4217a68b5e9c050ab491"
     }
    },
    "e32885b9c87541e28477612a3bcdae7d": {
     "model_module": "@jupyter-widgets/base",
     "model_module_version": "1.2.0",
     "model_name": "LayoutModel",
     "state": {
      "_model_module": "@jupyter-widgets/base",
      "_model_module_version": "1.2.0",
      "_model_name": "LayoutModel",
      "_view_count": null,
      "_view_module": "@jupyter-widgets/base",
      "_view_module_version": "1.2.0",
      "_view_name": "LayoutView",
      "align_content": null,
      "align_items": null,
      "align_self": null,
      "border": null,
      "bottom": null,
      "display": null,
      "flex": "2",
      "flex_flow": null,
      "grid_area": null,
      "grid_auto_columns": null,
      "grid_auto_flow": null,
      "grid_auto_rows": null,
      "grid_column": null,
      "grid_gap": null,
      "grid_row": null,
      "grid_template_areas": null,
      "grid_template_columns": null,
      "grid_template_rows": null,
      "height": null,
      "justify_content": null,
      "justify_items": null,
      "left": null,
      "margin": null,
      "max_height": null,
      "max_width": null,
      "min_height": null,
      "min_width": null,
      "object_fit": null,
      "object_position": null,
      "order": null,
      "overflow": null,
      "overflow_x": null,
      "overflow_y": null,
      "padding": null,
      "right": null,
      "top": null,
      "visibility": null,
      "width": null
     }
    },
    "e4dc8017e4744c228dad7929d3d6ff53": {
     "model_module": "@jupyter-widgets/base",
     "model_module_version": "1.2.0",
     "model_name": "LayoutModel",
     "state": {
      "_model_module": "@jupyter-widgets/base",
      "_model_module_version": "1.2.0",
      "_model_name": "LayoutModel",
      "_view_count": null,
      "_view_module": "@jupyter-widgets/base",
      "_view_module_version": "1.2.0",
      "_view_name": "LayoutView",
      "align_content": null,
      "align_items": null,
      "align_self": null,
      "border": null,
      "bottom": null,
      "display": null,
      "flex": "2",
      "flex_flow": null,
      "grid_area": null,
      "grid_auto_columns": null,
      "grid_auto_flow": null,
      "grid_auto_rows": null,
      "grid_column": null,
      "grid_gap": null,
      "grid_row": null,
      "grid_template_areas": null,
      "grid_template_columns": null,
      "grid_template_rows": null,
      "height": null,
      "justify_content": null,
      "justify_items": null,
      "left": null,
      "margin": null,
      "max_height": null,
      "max_width": null,
      "min_height": null,
      "min_width": null,
      "object_fit": null,
      "object_position": null,
      "order": null,
      "overflow": null,
      "overflow_x": null,
      "overflow_y": null,
      "padding": null,
      "right": null,
      "top": null,
      "visibility": null,
      "width": null
     }
    },
    "e5469901f54c468abd1ffcd55b1acfa6": {
     "model_module": "@jupyter-widgets/base",
     "model_module_version": "1.2.0",
     "model_name": "LayoutModel",
     "state": {
      "_model_module": "@jupyter-widgets/base",
      "_model_module_version": "1.2.0",
      "_model_name": "LayoutModel",
      "_view_count": null,
      "_view_module": "@jupyter-widgets/base",
      "_view_module_version": "1.2.0",
      "_view_name": "LayoutView",
      "align_content": null,
      "align_items": null,
      "align_self": null,
      "border": null,
      "bottom": null,
      "display": "inline-flex",
      "flex": null,
      "flex_flow": "row wrap",
      "grid_area": null,
      "grid_auto_columns": null,
      "grid_auto_flow": null,
      "grid_auto_rows": null,
      "grid_column": null,
      "grid_gap": null,
      "grid_row": null,
      "grid_template_areas": null,
      "grid_template_columns": null,
      "grid_template_rows": null,
      "height": null,
      "justify_content": null,
      "justify_items": null,
      "left": null,
      "margin": null,
      "max_height": null,
      "max_width": null,
      "min_height": null,
      "min_width": null,
      "object_fit": null,
      "object_position": null,
      "order": null,
      "overflow": null,
      "overflow_x": null,
      "overflow_y": null,
      "padding": null,
      "right": null,
      "top": null,
      "visibility": null,
      "width": "100%"
     }
    },
    "e6982fa32a2b40c28add8745cf464096": {
     "model_module": "@jupyter-widgets/controls",
     "model_module_version": "1.5.0",
     "model_name": "DescriptionStyleModel",
     "state": {
      "_model_module": "@jupyter-widgets/controls",
      "_model_module_version": "1.5.0",
      "_model_name": "DescriptionStyleModel",
      "_view_count": null,
      "_view_module": "@jupyter-widgets/base",
      "_view_module_version": "1.2.0",
      "_view_name": "StyleView",
      "description_width": ""
     }
    },
    "e723a3e7f4d04edaa6ddd2e3ed0c7448": {
     "model_module": "@jupyter-widgets/controls",
     "model_module_version": "1.5.0",
     "model_name": "DescriptionStyleModel",
     "state": {
      "_model_module": "@jupyter-widgets/controls",
      "_model_module_version": "1.5.0",
      "_model_name": "DescriptionStyleModel",
      "_view_count": null,
      "_view_module": "@jupyter-widgets/base",
      "_view_module_version": "1.2.0",
      "_view_name": "StyleView",
      "description_width": ""
     }
    },
    "e957671e715048dea0dd00b43f42776e": {
     "model_module": "@jupyter-widgets/base",
     "model_module_version": "1.2.0",
     "model_name": "LayoutModel",
     "state": {
      "_model_module": "@jupyter-widgets/base",
      "_model_module_version": "1.2.0",
      "_model_name": "LayoutModel",
      "_view_count": null,
      "_view_module": "@jupyter-widgets/base",
      "_view_module_version": "1.2.0",
      "_view_name": "LayoutView",
      "align_content": null,
      "align_items": null,
      "align_self": null,
      "border": null,
      "bottom": null,
      "display": null,
      "flex": null,
      "flex_flow": null,
      "grid_area": null,
      "grid_auto_columns": null,
      "grid_auto_flow": null,
      "grid_auto_rows": null,
      "grid_column": null,
      "grid_gap": null,
      "grid_row": null,
      "grid_template_areas": null,
      "grid_template_columns": null,
      "grid_template_rows": null,
      "height": null,
      "justify_content": null,
      "justify_items": null,
      "left": null,
      "margin": null,
      "max_height": null,
      "max_width": null,
      "min_height": null,
      "min_width": null,
      "object_fit": null,
      "object_position": null,
      "order": null,
      "overflow": null,
      "overflow_x": null,
      "overflow_y": null,
      "padding": null,
      "right": null,
      "top": null,
      "visibility": null,
      "width": null
     }
    },
    "e97072b0d4e3411d940123ac1c572d27": {
     "model_module": "@jupyter-widgets/base",
     "model_module_version": "1.2.0",
     "model_name": "LayoutModel",
     "state": {
      "_model_module": "@jupyter-widgets/base",
      "_model_module_version": "1.2.0",
      "_model_name": "LayoutModel",
      "_view_count": null,
      "_view_module": "@jupyter-widgets/base",
      "_view_module_version": "1.2.0",
      "_view_name": "LayoutView",
      "align_content": null,
      "align_items": null,
      "align_self": null,
      "border": null,
      "bottom": null,
      "display": null,
      "flex": null,
      "flex_flow": null,
      "grid_area": null,
      "grid_auto_columns": null,
      "grid_auto_flow": null,
      "grid_auto_rows": null,
      "grid_column": null,
      "grid_gap": null,
      "grid_row": null,
      "grid_template_areas": null,
      "grid_template_columns": null,
      "grid_template_rows": null,
      "height": null,
      "justify_content": null,
      "justify_items": null,
      "left": null,
      "margin": null,
      "max_height": null,
      "max_width": null,
      "min_height": null,
      "min_width": null,
      "object_fit": null,
      "object_position": null,
      "order": null,
      "overflow": null,
      "overflow_x": null,
      "overflow_y": null,
      "padding": null,
      "right": null,
      "top": null,
      "visibility": null,
      "width": null
     }
    },
    "eb9bda1f8f384304a40b2d8846a5c0c6": {
     "model_module": "@jupyter-widgets/controls",
     "model_module_version": "1.5.0",
     "model_name": "HBoxModel",
     "state": {
      "_dom_classes": [],
      "_model_module": "@jupyter-widgets/controls",
      "_model_module_version": "1.5.0",
      "_model_name": "HBoxModel",
      "_view_count": null,
      "_view_module": "@jupyter-widgets/controls",
      "_view_module_version": "1.5.0",
      "_view_name": "HBoxView",
      "box_style": "",
      "children": [
       "IPY_MODEL_58201c95799449d1be56721ba96dd7f1",
       "IPY_MODEL_6dd8d6bec94a4cbcb5753f09c45db7b9",
       "IPY_MODEL_294038300ae841609f63c955cf166353"
      ],
      "layout": "IPY_MODEL_3afaf559685d43ea9dfd69a7b50c107c"
     }
    },
    "ee3fc742dba9418088188e7f2b9a72ea": {
     "model_module": "@jupyter-widgets/controls",
     "model_module_version": "1.5.0",
     "model_name": "ProgressStyleModel",
     "state": {
      "_model_module": "@jupyter-widgets/controls",
      "_model_module_version": "1.5.0",
      "_model_name": "ProgressStyleModel",
      "_view_count": null,
      "_view_module": "@jupyter-widgets/base",
      "_view_module_version": "1.2.0",
      "_view_name": "StyleView",
      "bar_color": null,
      "description_width": ""
     }
    },
    "eec70702467745f3bbb6e3366501b381": {
     "model_module": "@jupyter-widgets/controls",
     "model_module_version": "1.5.0",
     "model_name": "HTMLModel",
     "state": {
      "_dom_classes": [],
      "_model_module": "@jupyter-widgets/controls",
      "_model_module_version": "1.5.0",
      "_model_name": "HTMLModel",
      "_view_count": null,
      "_view_module": "@jupyter-widgets/controls",
      "_view_module_version": "1.5.0",
      "_view_name": "HTMLView",
      "description": "",
      "description_tooltip": null,
      "layout": "IPY_MODEL_cc6b66b523e04e109fc363cc5efbef8b",
      "placeholder": "​",
      "style": "IPY_MODEL_2913777bc8b042a8922781d94aa159b6",
      "value": "Validation DataLoader 0: 100%"
     }
    },
    "efe53bc74d124317b3976742a9567688": {
     "model_module": "@jupyter-widgets/base",
     "model_module_version": "1.2.0",
     "model_name": "LayoutModel",
     "state": {
      "_model_module": "@jupyter-widgets/base",
      "_model_module_version": "1.2.0",
      "_model_name": "LayoutModel",
      "_view_count": null,
      "_view_module": "@jupyter-widgets/base",
      "_view_module_version": "1.2.0",
      "_view_name": "LayoutView",
      "align_content": null,
      "align_items": null,
      "align_self": null,
      "border": null,
      "bottom": null,
      "display": null,
      "flex": "2",
      "flex_flow": null,
      "grid_area": null,
      "grid_auto_columns": null,
      "grid_auto_flow": null,
      "grid_auto_rows": null,
      "grid_column": null,
      "grid_gap": null,
      "grid_row": null,
      "grid_template_areas": null,
      "grid_template_columns": null,
      "grid_template_rows": null,
      "height": null,
      "justify_content": null,
      "justify_items": null,
      "left": null,
      "margin": null,
      "max_height": null,
      "max_width": null,
      "min_height": null,
      "min_width": null,
      "object_fit": null,
      "object_position": null,
      "order": null,
      "overflow": null,
      "overflow_x": null,
      "overflow_y": null,
      "padding": null,
      "right": null,
      "top": null,
      "visibility": null,
      "width": null
     }
    },
    "f34e967bbcc24ba1a8773e208ca14821": {
     "model_module": "@jupyter-widgets/controls",
     "model_module_version": "1.5.0",
     "model_name": "HTMLModel",
     "state": {
      "_dom_classes": [],
      "_model_module": "@jupyter-widgets/controls",
      "_model_module_version": "1.5.0",
      "_model_name": "HTMLModel",
      "_view_count": null,
      "_view_module": "@jupyter-widgets/controls",
      "_view_module_version": "1.5.0",
      "_view_name": "HTMLView",
      "description": "",
      "description_tooltip": null,
      "layout": "IPY_MODEL_99c46812ffdd47e6ba138a88cffac47f",
      "placeholder": "​",
      "style": "IPY_MODEL_601f1d4b4c5b442cbab58aae8898b971",
      "value": " 168/168 [00:19&lt;00:00,  8.75it/s]"
     }
    },
    "f47231c544ad4dd7bc15ac4983b7b621": {
     "model_module": "@jupyter-widgets/controls",
     "model_module_version": "1.5.0",
     "model_name": "ProgressStyleModel",
     "state": {
      "_model_module": "@jupyter-widgets/controls",
      "_model_module_version": "1.5.0",
      "_model_name": "ProgressStyleModel",
      "_view_count": null,
      "_view_module": "@jupyter-widgets/base",
      "_view_module_version": "1.2.0",
      "_view_name": "StyleView",
      "bar_color": null,
      "description_width": ""
     }
    },
    "f6ccea68639642808f849dc1d167f30c": {
     "model_module": "@jupyter-widgets/controls",
     "model_module_version": "1.5.0",
     "model_name": "FloatProgressModel",
     "state": {
      "_dom_classes": [],
      "_model_module": "@jupyter-widgets/controls",
      "_model_module_version": "1.5.0",
      "_model_name": "FloatProgressModel",
      "_view_count": null,
      "_view_module": "@jupyter-widgets/controls",
      "_view_module_version": "1.5.0",
      "_view_name": "ProgressView",
      "bar_style": "",
      "description": "",
      "description_tooltip": null,
      "layout": "IPY_MODEL_4833987b0a47424d94a6ee17323a6d1b",
      "max": 168,
      "min": 0,
      "orientation": "horizontal",
      "style": "IPY_MODEL_9542b853917b4f59a217f4c6587e06be",
      "value": 168
     }
    },
    "f76bf9adafb64a05bd9c05fcae9bcb40": {
     "model_module": "@jupyter-widgets/controls",
     "model_module_version": "1.5.0",
     "model_name": "HTMLModel",
     "state": {
      "_dom_classes": [],
      "_model_module": "@jupyter-widgets/controls",
      "_model_module_version": "1.5.0",
      "_model_name": "HTMLModel",
      "_view_count": null,
      "_view_module": "@jupyter-widgets/controls",
      "_view_module_version": "1.5.0",
      "_view_name": "HTMLView",
      "description": "",
      "description_tooltip": null,
      "layout": "IPY_MODEL_61521ed72f4d4ee8860c0239e4199d8e",
      "placeholder": "​",
      "style": "IPY_MODEL_657fedd2d11640be9e4c5893b66fdb58",
      "value": "Validation DataLoader 0: 100%"
     }
    },
    "f84182e8bb8c487facd788e635be9a52": {
     "model_module": "@jupyter-widgets/base",
     "model_module_version": "1.2.0",
     "model_name": "LayoutModel",
     "state": {
      "_model_module": "@jupyter-widgets/base",
      "_model_module_version": "1.2.0",
      "_model_name": "LayoutModel",
      "_view_count": null,
      "_view_module": "@jupyter-widgets/base",
      "_view_module_version": "1.2.0",
      "_view_name": "LayoutView",
      "align_content": null,
      "align_items": null,
      "align_self": null,
      "border": null,
      "bottom": null,
      "display": "inline-flex",
      "flex": null,
      "flex_flow": "row wrap",
      "grid_area": null,
      "grid_auto_columns": null,
      "grid_auto_flow": null,
      "grid_auto_rows": null,
      "grid_column": null,
      "grid_gap": null,
      "grid_row": null,
      "grid_template_areas": null,
      "grid_template_columns": null,
      "grid_template_rows": null,
      "height": null,
      "justify_content": null,
      "justify_items": null,
      "left": null,
      "margin": null,
      "max_height": null,
      "max_width": null,
      "min_height": null,
      "min_width": null,
      "object_fit": null,
      "object_position": null,
      "order": null,
      "overflow": null,
      "overflow_x": null,
      "overflow_y": null,
      "padding": null,
      "right": null,
      "top": null,
      "visibility": null,
      "width": "100%"
     }
    },
    "fb8e3ac6fd09436381673613e2a64e42": {
     "model_module": "@jupyter-widgets/controls",
     "model_module_version": "1.5.0",
     "model_name": "ProgressStyleModel",
     "state": {
      "_model_module": "@jupyter-widgets/controls",
      "_model_module_version": "1.5.0",
      "_model_name": "ProgressStyleModel",
      "_view_count": null,
      "_view_module": "@jupyter-widgets/base",
      "_view_module_version": "1.2.0",
      "_view_name": "StyleView",
      "bar_color": null,
      "description_width": ""
     }
    },
    "fc8e66fb09db4975996780c5fdfaff7f": {
     "model_module": "@jupyter-widgets/controls",
     "model_module_version": "1.5.0",
     "model_name": "HBoxModel",
     "state": {
      "_dom_classes": [],
      "_model_module": "@jupyter-widgets/controls",
      "_model_module_version": "1.5.0",
      "_model_name": "HBoxModel",
      "_view_count": null,
      "_view_module": "@jupyter-widgets/controls",
      "_view_module_version": "1.5.0",
      "_view_name": "HBoxView",
      "box_style": "",
      "children": [
       "IPY_MODEL_4deef91476ca45838dc8a57d4f49c873",
       "IPY_MODEL_fecfdf0376b74dff8b41789ae056b9e2",
       "IPY_MODEL_42be485590494413b153376757efeec6"
      ],
      "layout": "IPY_MODEL_89c37db9c1314d849e437aca623633fe"
     }
    },
    "fd51d63c6d09495ebd3f3376dab52846": {
     "model_module": "@jupyter-widgets/controls",
     "model_module_version": "1.5.0",
     "model_name": "HTMLModel",
     "state": {
      "_dom_classes": [],
      "_model_module": "@jupyter-widgets/controls",
      "_model_module_version": "1.5.0",
      "_model_name": "HTMLModel",
      "_view_count": null,
      "_view_module": "@jupyter-widgets/controls",
      "_view_module_version": "1.5.0",
      "_view_name": "HTMLView",
      "description": "",
      "description_tooltip": null,
      "layout": "IPY_MODEL_736e51da149c4b2cb089f15c5fbe7f81",
      "placeholder": "​",
      "style": "IPY_MODEL_e6982fa32a2b40c28add8745cf464096",
      "value": " 168/168 [00:20&lt;00:00,  8.46it/s]"
     }
    },
    "fdafa902fb454b79b45da2994f48789b": {
     "model_module": "@jupyter-widgets/controls",
     "model_module_version": "1.5.0",
     "model_name": "ProgressStyleModel",
     "state": {
      "_model_module": "@jupyter-widgets/controls",
      "_model_module_version": "1.5.0",
      "_model_name": "ProgressStyleModel",
      "_view_count": null,
      "_view_module": "@jupyter-widgets/base",
      "_view_module_version": "1.2.0",
      "_view_name": "StyleView",
      "bar_color": null,
      "description_width": ""
     }
    },
    "fe39639973bd4f3bacd0a4ca573603a0": {
     "model_module": "@jupyter-widgets/base",
     "model_module_version": "1.2.0",
     "model_name": "LayoutModel",
     "state": {
      "_model_module": "@jupyter-widgets/base",
      "_model_module_version": "1.2.0",
      "_model_name": "LayoutModel",
      "_view_count": null,
      "_view_module": "@jupyter-widgets/base",
      "_view_module_version": "1.2.0",
      "_view_name": "LayoutView",
      "align_content": null,
      "align_items": null,
      "align_self": null,
      "border": null,
      "bottom": null,
      "display": null,
      "flex": "2",
      "flex_flow": null,
      "grid_area": null,
      "grid_auto_columns": null,
      "grid_auto_flow": null,
      "grid_auto_rows": null,
      "grid_column": null,
      "grid_gap": null,
      "grid_row": null,
      "grid_template_areas": null,
      "grid_template_columns": null,
      "grid_template_rows": null,
      "height": null,
      "justify_content": null,
      "justify_items": null,
      "left": null,
      "margin": null,
      "max_height": null,
      "max_width": null,
      "min_height": null,
      "min_width": null,
      "object_fit": null,
      "object_position": null,
      "order": null,
      "overflow": null,
      "overflow_x": null,
      "overflow_y": null,
      "padding": null,
      "right": null,
      "top": null,
      "visibility": null,
      "width": null
     }
    },
    "fecfdf0376b74dff8b41789ae056b9e2": {
     "model_module": "@jupyter-widgets/controls",
     "model_module_version": "1.5.0",
     "model_name": "FloatProgressModel",
     "state": {
      "_dom_classes": [],
      "_model_module": "@jupyter-widgets/controls",
      "_model_module_version": "1.5.0",
      "_model_name": "FloatProgressModel",
      "_view_count": null,
      "_view_module": "@jupyter-widgets/controls",
      "_view_module_version": "1.5.0",
      "_view_name": "ProgressView",
      "bar_style": "success",
      "description": "",
      "description_tooltip": null,
      "layout": "IPY_MODEL_e4dc8017e4744c228dad7929d3d6ff53",
      "max": 630,
      "min": 0,
      "orientation": "horizontal",
      "style": "IPY_MODEL_df045d656e0846429159da25df9d2326",
      "value": 630
     }
    }
   }
  }
 },
 "nbformat": 4,
 "nbformat_minor": 4
}
