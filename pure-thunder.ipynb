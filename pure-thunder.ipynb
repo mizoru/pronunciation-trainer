{
 "cells": [
  {
   "cell_type": "code",
   "execution_count": null,
   "id": "b53a7ba4-ea3c-4de4-b8e9-3308790329c2",
   "metadata": {},
   "outputs": [],
   "source": [
    "import thunder\n",
    "from thunder.callbacks import FinetuneEncoderDecoder\n",
    "from thunder.data.dataset import BaseSpeechDataset, AudioFileLoader\n",
    "from thunder.data.datamodule import BaseDataModule\n",
    "from typing import Any, List, Sequence, Tuple, Union\n",
    "import torch\n",
    "from torch import Tensor, nn\n",
    "from thunder.registry import load_pretrained\n",
    "from thunder.quartznet.compatibility import QuartznetCheckpoint\n",
    "from pathlib import Path\n",
    "from thunder.finetune import FinetuneCTCModule\n",
    "from thunder.blocks import conv1d_decoder\n",
    "import pytorch_lightning as pl\n",
    "from IPython.display import Audio"
   ]
  },
  {
   "cell_type": "code",
   "execution_count": null,
   "id": "23cae053-1870-4436-be1b-75418e2703f5",
   "metadata": {},
   "outputs": [],
   "source": [
    "class TimitDataset(BaseSpeechDataset):\n",
    "  def open_audio(self, item) -> Tuple[Tensor, int]:\n",
    "    return self.loader.open_audio(item.Path)\n",
    "  def open_text(self, item) -> str:\n",
    "    return item.Transcription\n",
    "  def get_item(self, index: int) -> Any:\n",
    "    return self.items.iloc[index]\n",
    "\n",
    "class TimtiDataModule(BaseDataModule):\n",
    "  def get_dataset(self, split):\n",
    "    if split != \"train\":\n",
    "      return TimitDataset(labels[labels[\"is_valid\"]])\n",
    "    else:\n",
    "      return TimitDataset(labels[labels[\"is_valid\"] == False])"
   ]
  },
  {
   "cell_type": "code",
   "execution_count": null,
   "id": "0f4466fc-5ea8-4782-b29e-bc560f5776d4",
   "metadata": {},
   "outputs": [],
   "source": [
    "labels = pd.read_csv('pronunciation-trainer/dataDS.csv')"
   ]
  },
  {
   "cell_type": "code",
   "execution_count": null,
   "id": "3a3a8dc9-3a83-468c-8784-46cc17836bc1",
   "metadata": {},
   "outputs": [],
   "source": [
    "whole = ''.join([t for t in labels.Transcription])\n",
    "tokens = list(set(whole))"
   ]
  },
  {
   "cell_type": "code",
   "execution_count": null,
   "id": "77ee6060-452b-4c59-a2e5-9c4eb8886d2d",
   "metadata": {},
   "outputs": [],
   "source": [
    "model = FinetuneCTCModule(QuartznetCheckpoint.QuartzNet15x5Base_En,\n",
    "                          decoder_class = conv1d_decoder, tokens = tokens)"
   ]
  },
  {
   "cell_type": "code",
   "execution_count": null,
   "id": "271788b8-5f67-4024-94b8-c60f44ecb786",
   "metadata": {},
   "outputs": [],
   "source": [
    "trainer = pl.Trainer(\n",
    "    gpus=-1, # Use all gpus\n",
    "    max_epochs=10,\n",
    "    callbacks=[FinetuneEncoderDecoder(unfreeze_encoder_at_epoch=1)],\n",
    ")"
   ]
  },
  {
   "cell_type": "code",
   "execution_count": null,
   "id": "95e63979-936d-40cc-8f7f-27cab247e2cb",
   "metadata": {},
   "outputs": [],
   "source": [
    "trainer.fit(model = model, datamodule=dm)"
   ]
  }
 ],
 "metadata": {
  "kernelspec": {
   "display_name": "default:Python",
   "language": "python",
   "name": "conda-env-default-py"
  },
  "language_info": {
   "codemirror_mode": {
    "name": "ipython",
    "version": 3
   },
   "file_extension": ".py",
   "mimetype": "text/x-python",
   "name": "python",
   "nbconvert_exporter": "python",
   "pygments_lexer": "ipython3",
   "version": "3.9.7"
  }
 },
 "nbformat": 4,
 "nbformat_minor": 5
}
