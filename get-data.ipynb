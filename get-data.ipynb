{
 "cells": [
  {
   "cell_type": "code",
   "execution_count": 2,
   "id": "598fcac8-144e-4365-9113-fc76b06bcef9",
   "metadata": {},
   "outputs": [],
   "source": [
    "from kaggle import api"
   ]
  },
  {
   "cell_type": "code",
   "execution_count": 4,
   "id": "c3c18d83-6e1b-498b-ad1b-2fe87445b6c2",
   "metadata": {},
   "outputs": [],
   "source": [
    "api.dataset_download_files('mfekadu/darpa-timit-acousticphonetic-continuous-speech')"
   ]
  },
  {
   "cell_type": "code",
   "execution_count": 1,
   "id": "7545e2c0-df80-4f84-8087-3b0fed712aa3",
   "metadata": {},
   "outputs": [],
   "source": [
    "import zipfile"
   ]
  },
  {
   "cell_type": "code",
   "execution_count": 13,
   "id": "f612be86-e5d1-4cb6-b625-f5cf46280a53",
   "metadata": {},
   "outputs": [],
   "source": [
    "archive = zipfile.ZipFile('darpa-timit-acousticphonetic-continuous-speech.zip')"
   ]
  },
  {
   "cell_type": "code",
   "execution_count": 14,
   "id": "b71ff552-1681-40d4-b60f-f0e1f6616d3f",
   "metadata": {},
   "outputs": [],
   "source": [
    "archive.extractall('data')"
   ]
  },
  {
   "cell_type": "code",
   "execution_count": null,
   "id": "60ebb8f8-b566-47d6-a8b8-ff65d0ccb160",
   "metadata": {},
   "outputs": [
    {
     "name": "stdout",
     "output_type": "stream",
     "text": [
      "--2022-05-11 21:36:44--  https://lingualibre.org/datasets/Q22-eng-English.zip\n",
      "Resolving lingualibre.org (lingualibre.org)... 152.228.161.167, 2001:41d0:304:100::4790\n",
      "Connecting to lingualibre.org (lingualibre.org)|152.228.161.167|:443... connected.\n",
      "HTTP request sent, awaiting response... 200 OK\n",
      "Length: 305389673 (291M) [application/zip]\n",
      "Saving to: 'Q22-eng-English.zip'\n",
      "\n",
      "Q22-eng-English.zip  80%[===============>    ] 233.66M  9.59MB/s    eta 7s     "
     ]
    }
   ],
   "source": [
    "!wget https://lingualibre.org/datasets/Q22-eng-English.zip"
   ]
  },
  {
   "cell_type": "code",
   "execution_count": null,
   "id": "1206dae5-84e9-409c-a86e-899c518fc3ca",
   "metadata": {},
   "outputs": [],
   "source": [
    "archive = zipfile.ZipFile('Q22-eng-English.zip')\n",
    "archive.extractall()"
   ]
  },
  {
   "cell_type": "code",
   "execution_count": null,
   "id": "1fa8bf98-e619-4d3a-91a5-4bc7f432360c",
   "metadata": {},
   "outputs": [],
   "source": []
  }
 ],
 "metadata": {
  "kernelspec": {
   "display_name": "default:Python",
   "language": "python",
   "name": "conda-env-default-py"
  },
  "language_info": {
   "codemirror_mode": {
    "name": "ipython",
    "version": 3
   },
   "file_extension": ".py",
   "mimetype": "text/x-python",
   "name": "python",
   "nbconvert_exporter": "python",
   "pygments_lexer": "ipython3",
   "version": "3.9.7"
  }
 },
 "nbformat": 4,
 "nbformat_minor": 5
}
