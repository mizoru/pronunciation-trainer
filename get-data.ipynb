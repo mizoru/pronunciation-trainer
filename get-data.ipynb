{
 "cells": [
  {
   "cell_type": "code",
   "execution_count": 2,
   "id": "598fcac8-144e-4365-9113-fc76b06bcef9",
   "metadata": {},
   "outputs": [],
   "source": [
    "from kaggle import api"
   ]
  },
  {
   "cell_type": "code",
   "execution_count": 4,
   "id": "c3c18d83-6e1b-498b-ad1b-2fe87445b6c2",
   "metadata": {},
   "outputs": [],
   "source": [
    "api.dataset_download_files('mfekadu/darpa-timit-acousticphonetic-continuous-speech')"
   ]
  },
  {
   "cell_type": "code",
   "execution_count": 2,
   "id": "7545e2c0-df80-4f84-8087-3b0fed712aa3",
   "metadata": {},
   "outputs": [],
   "source": [
    "import zipfile"
   ]
  },
  {
   "cell_type": "code",
   "execution_count": 13,
   "id": "f612be86-e5d1-4cb6-b625-f5cf46280a53",
   "metadata": {},
   "outputs": [],
   "source": [
    "archive = zipfile.ZipFile('darpa-timit-acousticphonetic-continuous-speech.zip')"
   ]
  },
  {
   "cell_type": "code",
   "execution_count": 14,
   "id": "b71ff552-1681-40d4-b60f-f0e1f6616d3f",
   "metadata": {},
   "outputs": [],
   "source": [
    "archive.extractall('data')"
   ]
  }
 ],
 "metadata": {
  "kernelspec": {
   "display_name": "default:Python",
   "language": "python",
   "name": "conda-env-default-py"
  },
  "language_info": {
   "codemirror_mode": {
    "name": "ipython",
    "version": 3
   },
   "file_extension": ".py",
   "mimetype": "text/x-python",
   "name": "python",
   "nbconvert_exporter": "python",
   "pygments_lexer": "ipython3",
   "version": "3.9.7"
  }
 },
 "nbformat": 4,
 "nbformat_minor": 5
}
